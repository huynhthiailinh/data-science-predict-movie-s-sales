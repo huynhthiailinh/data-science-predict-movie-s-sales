{
 "cells": [
  {
   "cell_type": "code",
   "execution_count": 1,
   "metadata": {},
   "outputs": [
    {
     "name": "stdout",
     "output_type": "stream",
     "text": [
      "Finish importing package\n"
     ]
    }
   ],
   "source": [
    "from selenium import webdriver\n",
    "from selenium.webdriver.common.keys import Keys\n",
    "from bs4 import BeautifulSoup\n",
    "import pandas as pd\n",
    "\n",
    "print('Finish importing package')\n",
    "\n",
    "driver = webdriver.Chrome()"
   ]
  },
  {
   "cell_type": "markdown",
   "metadata": {},
   "source": [
    "- Các hàm dùng để lấy các dữ liệu cần thiết."
   ]
  },
  {
   "cell_type": "code",
   "execution_count": 6,
   "metadata": {},
   "outputs": [],
   "source": [
    "def getName(hotel):\n",
    "  HOTEL_NAME = hotel.find('div', class_='fcab3ed991 a23c043802')\n",
    "  if(HOTEL_NAME == None):\n",
    "    return '-'\n",
    "  else:\n",
    "    return HOTEL_NAME.text\n",
    "\n",
    "def getRating(hotel):\n",
    "  HOTEL_RATING = hotel.find('div', class_='b5cd09854e d10a6220b4')\n",
    "  if(HOTEL_RATING == None):\n",
    "    return '-'\n",
    "  else:\n",
    "    return HOTEL_RATING.text\n",
    "\n",
    "def getReviews(hotel):\n",
    "  HOTEL_REVIEWS = hotel.find('div', class_='d8eab2cf7f c90c0a70d3 db63693c62')\n",
    "  if(HOTEL_REVIEWS == None):\n",
    "    return '-'\n",
    "  else:\n",
    "    # 99 reviews, 1 review, 34 external\n",
    "    return HOTEL_REVIEWS.text.replace(' reviews', '').replace(' review', '').replace(' external', '')\n",
    "\n",
    "def getLocation(hotel):\n",
    "  HOTEL_LOCATION = hotel.find('span', class_='f4bd0794db b4273d69aa')\n",
    "  if(HOTEL_LOCATION == None):\n",
    "    return '-'\n",
    "  else:\n",
    "    return HOTEL_LOCATION.text\n",
    "\n",
    "def getPrice(hotel):\n",
    "  HOTEL_PRICE = hotel.find('span', class_='fcab3ed991 bd73d13072')\n",
    "  if(HOTEL_PRICE == None):\n",
    "    return '-'\n",
    "  else:\n",
    "    # VND\\xa0500000\n",
    "    return HOTEL_PRICE.text.replace('VND\\xa0', '')"
   ]
  },
  {
   "cell_type": "markdown",
   "metadata": {},
   "source": [
    "- Crawl data từ Booking.com"
   ]
  },
  {
   "cell_type": "code",
   "execution_count": 7,
   "metadata": {},
   "outputs": [
    {
     "name": "stdout",
     "output_type": "stream",
     "text": [
      "1000\n"
     ]
    }
   ],
   "source": [
    "# data url\n",
    "URL_HCM = 'https://www.booking.com/searchresults.en-gb.html?ss=Ho+Chi+Minh+City&ssne=Ho+Chi+Minh+City&ssne_untouched=Ho+Chi+Minh+City&label=gen173nr-1FCAEoggI46AdIM1gEaPQBiAEBmAEJuAEZyAEM2AEB6AEB-AELiAIBqAIDuALWktKUBsACAdICJGFhZTc0NmNjLTk2ZGUtNDZkNi1iNTJhLWE3N2UzYmRlYTNjONgCBuACAQ&sid=4014c954f7c62c8adf4f7ab4f5a3445d&aid=304142&lang=en-gb&sb=1&src_elem=sb&src=searchresults&dest_id=-3730078&dest_type=city&checkin=2022-06-20&checkout=2022-06-21&group_adults=2&no_rooms=1&group_children=0&sb_travel_purpose=leisure'\n",
    "\n",
    "# 1 page has 25 hotel\n",
    "NUMBER_OF_PAGES = 40\n",
    "\n",
    "def crawlData():\n",
    "  res = []\n",
    "\n",
    "  for i in range(NUMBER_OF_PAGES):\n",
    "    offset = i*25\n",
    "    url = URL_HCM + '&offset=' + str(offset)\n",
    "    driver.get(url)\n",
    "    page_source = BeautifulSoup(driver.page_source)\n",
    "\n",
    "    hotels = page_source.find_all('div', class_='a826ba81c4 fe821aea6c fa2f36ad22 afd256fc79 d08f526e0d ed11e24d01 ef9845d4b3 da89aeb942')\n",
    "\n",
    "    # In dữ liệu ra console và đưa dữ liệu vào các mảng\n",
    "    for hotel in hotels:\n",
    "      hotel_name = getName(hotel)\n",
    "      hotel_price = getPrice(hotel)\n",
    "      hotel_rating = getRating(hotel)\n",
    "      hotel_review = getReviews(hotel)\n",
    "      hotel_locate = getLocation(hotel)\n",
    "      \n",
    "      res.append([hotel_name, hotel_price, hotel_rating, hotel_review, hotel_locate])\n",
    "  return res\n",
    "hotels_data = crawlData()\n",
    "print(len(hotels_data))"
   ]
  },
  {
   "cell_type": "markdown",
   "metadata": {},
   "source": [
    "- Export to csv file"
   ]
  },
  {
   "cell_type": "code",
   "execution_count": 8,
   "metadata": {},
   "outputs": [],
   "source": [
    "pd.DataFrame(hotels_data).to_csv('raw data.csv', header = ['Name', 'Price', 'Rating', 'Reviews', 'Location'])"
   ]
  }
 ],
 "metadata": {
  "interpreter": {
   "hash": "916dbcbb3f70747c44a77c7bcd40155683ae19c65e1c03b4aa3499c5328201f1"
  },
  "kernelspec": {
   "display_name": "Python 3.10.4 64-bit",
   "language": "python",
   "name": "python3"
  },
  "language_info": {
   "codemirror_mode": {
    "name": "ipython",
    "version": 3
   },
   "file_extension": ".py",
   "mimetype": "text/x-python",
   "name": "python",
   "nbconvert_exporter": "python",
   "pygments_lexer": "ipython3",
   "version": "3.10.4"
  },
  "orig_nbformat": 4
 },
 "nbformat": 4,
 "nbformat_minor": 2
}
