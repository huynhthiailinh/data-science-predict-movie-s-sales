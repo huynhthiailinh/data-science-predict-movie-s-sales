{
 "cells": [
  {
   "cell_type": "markdown",
   "metadata": {},
   "source": [
    "Cào dữ liệu từ trang https://games-stats.com/steam/"
   ]
  },
  {
   "cell_type": "markdown",
   "metadata": {},
   "source": [
    "Sử dụng thư viện Beautisoup và request phục vụ cho việc cào dữ liệu"
   ]
  },
  {
   "cell_type": "code",
   "execution_count": null,
   "metadata": {},
   "outputs": [],
   "source": [
    "import requests\n",
    "from bs4 import BeautifulSoup\n",
    "import csv\n",
    "link_base = 'https://games-stats.com/steam/?page='\n",
    "list_link = []\n",
    "csv_list = []\n",
    "fields = ['Name', 'Pulisher', 'Price', 'Net Revenue', 'Platform', 'Genres']\n",
    "count = 0\n",
    "for i in range(1, 60):\n",
    "    item = link_base + str(i)\n",
    "    list_link.append(item)\n",
    "\n",
    "for i in range(len(list_link)):\n",
    "    link = list_link[i]\n",
    "    r = requests.get(link)\n",
    "    soup = BeautifulSoup(r.text, 'html.parser')\n",
    "    data = soup.find_all('tbody')\n",
    "    tr_data = data[0].find_all(\"tr\")\n",
    "    for i in tr_data[:]:\n",
    "        try:\n",
    "            tdlist = i.find_all(\"td\")\n",
    "            str0 = tdlist[0].find('a')['href']\n",
    "            link = 'https://games-stats.com' + str0\n",
    "            r = requests.get(link)\n",
    "            soup = BeautifulSoup(r.text, 'html.parser')\n",
    "            data_detail = soup.find_all('div', {\"class\": \"col-lg-5\"})\n",
    "            p_data = data_detail[0].find_all('p')\n",
    "            str1 = tdlist[1].text\n",
    "            str1 = str1.replace('\\n', '')\n",
    "            str1 = str1.replace('Steam', '')\n",
    "            str1 = str1.replace('Publisher:', ',')\n",
    "            str1 = str1.replace('Developer:', ',')\n",
    "            str1 = \" \".join(str1.split())\n",
    "            str1 = str1.split(' , ')\n",
    "            str1.pop()\n",
    "            str2 = tdlist[3].text\n",
    "            str2 = str2.replace('\\n', '')\n",
    "            str2 = str2.replace(' ', '')\n",
    "            if len(str2) >= 7:\n",
    "                str2 = str2[:6]\n",
    "            str1 = str1 + str2.split(',')\n",
    "\n",
    "            str6 = tdlist[8].text\n",
    "            str6 = str6.replace('\\n', '')\n",
    "            str1 = str1 + str6.split('_')\n",
    "\n",
    "            str7 = p_data[3].text\n",
    "            str7 = str7.replace('\\n', '')\n",
    "            str7 = str7.replace('Platforms:', '')\n",
    "            str7 = \" \".join(str7.split())\n",
    "            str1 = str1 + str7.split(',')\n",
    "\n",
    "            str8 = p_data[12].text\n",
    "            str8 = str8.replace('Genres: ', '')\n",
    "            str8 = str8.replace(' ', '')\n",
    "            str1 = str1 + str8.split(' ')\n",
    "            if len(str1) == 6:\n",
    "                csv_list.append(str1)\n",
    "                count = count+1\n",
    "                print(count)\n",
    "        except:\n",
    "            continue\n",
    "with open('raw_daTa.csv', 'w', encoding=\"utf-8\") as f:\n",
    "\n",
    "    # using csv.writer method from CSV package\n",
    "    write = csv.writer(f)\n",
    "\n",
    "    write.writerow(fields)\n",
    "    write.writerows(csv_list)\n"
   ]
  }
 ],
 "metadata": {
  "language_info": {
   "name": "python"
  },
  "orig_nbformat": 4
 },
 "nbformat": 4,
 "nbformat_minor": 2
}
