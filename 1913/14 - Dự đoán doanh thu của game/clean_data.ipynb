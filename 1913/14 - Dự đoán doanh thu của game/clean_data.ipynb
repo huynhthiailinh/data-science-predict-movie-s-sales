{
 "cells": [
  {
   "cell_type": "markdown",
   "metadata": {},
   "source": [
    "# Cài thư viện cho chương trình "
   ]
  },
  {
   "cell_type": "code",
   "execution_count": 18,
   "metadata": {},
   "outputs": [],
   "source": [
    "import pandas as pd"
   ]
  },
  {
   "cell_type": "markdown",
   "metadata": {},
   "source": [
    "# Lấy dữ liệu \n",
    "- Lấy dữ liệu từ thư mục raw.csv"
   ]
  },
  {
   "cell_type": "code",
   "execution_count": 19,
   "metadata": {},
   "outputs": [
    {
     "data": {
      "text/html": [
       "<div>\n",
       "<style scoped>\n",
       "    .dataframe tbody tr th:only-of-type {\n",
       "        vertical-align: middle;\n",
       "    }\n",
       "\n",
       "    .dataframe tbody tr th {\n",
       "        vertical-align: top;\n",
       "    }\n",
       "\n",
       "    .dataframe thead th {\n",
       "        text-align: right;\n",
       "    }\n",
       "</style>\n",
       "<table border=\"1\" class=\"dataframe\">\n",
       "  <thead>\n",
       "    <tr style=\"text-align: right;\">\n",
       "      <th></th>\n",
       "      <th>Name</th>\n",
       "      <th>Pulisher</th>\n",
       "      <th>Price</th>\n",
       "      <th>Net Revenue</th>\n",
       "      <th>Platform</th>\n",
       "      <th>Genres</th>\n",
       "    </tr>\n",
       "  </thead>\n",
       "  <tbody>\n",
       "    <tr>\n",
       "      <th>0</th>\n",
       "      <td>Grand Theft Auto V</td>\n",
       "      <td>Rockstar Games</td>\n",
       "      <td>$29.99</td>\n",
       "      <td>~$700 million</td>\n",
       "      <td>Windows</td>\n",
       "      <td>Action,Adventure</td>\n",
       "    </tr>\n",
       "    <tr>\n",
       "      <th>1</th>\n",
       "      <td>Cyberpunk 2077</td>\n",
       "      <td>CD PROJEKT RED</td>\n",
       "      <td>$59.99</td>\n",
       "      <td>~$490 million</td>\n",
       "      <td>Windows</td>\n",
       "      <td>RPG</td>\n",
       "    </tr>\n",
       "    <tr>\n",
       "      <th>2</th>\n",
       "      <td>Rust</td>\n",
       "      <td>Facepunch Studios</td>\n",
       "      <td>$39.99</td>\n",
       "      <td>~$490 million</td>\n",
       "      <td>Windows Mac</td>\n",
       "      <td>Action,Adventure,Indie,MassivelyMultiplayer,RPG</td>\n",
       "    </tr>\n",
       "    <tr>\n",
       "      <th>3</th>\n",
       "      <td>The Witcher® 3: Wild Hunt</td>\n",
       "      <td>CD PROJEKT RED</td>\n",
       "      <td>$39.99</td>\n",
       "      <td>~$430 million</td>\n",
       "      <td>Windows</td>\n",
       "      <td>RPG</td>\n",
       "    </tr>\n",
       "    <tr>\n",
       "      <th>4</th>\n",
       "      <td>Tom Clancy's Rainbow Six® Siege</td>\n",
       "      <td>Ubisoft</td>\n",
       "      <td>$19.99</td>\n",
       "      <td>~$340 million</td>\n",
       "      <td>Windows</td>\n",
       "      <td>Action</td>\n",
       "    </tr>\n",
       "  </tbody>\n",
       "</table>\n",
       "</div>"
      ],
      "text/plain": [
       "                              Name           Pulisher   Price    Net Revenue  \\\n",
       "0               Grand Theft Auto V     Rockstar Games  $29.99  ~$700 million   \n",
       "1                   Cyberpunk 2077     CD PROJEKT RED  $59.99  ~$490 million   \n",
       "2                             Rust  Facepunch Studios  $39.99  ~$490 million   \n",
       "3        The Witcher® 3: Wild Hunt     CD PROJEKT RED  $39.99  ~$430 million   \n",
       "4  Tom Clancy's Rainbow Six® Siege            Ubisoft  $19.99  ~$340 million   \n",
       "\n",
       "      Platform                                           Genres  \n",
       "0      Windows                                 Action,Adventure  \n",
       "1      Windows                                              RPG  \n",
       "2  Windows Mac  Action,Adventure,Indie,MassivelyMultiplayer,RPG  \n",
       "3      Windows                                              RPG  \n",
       "4      Windows                                           Action  "
      ]
     },
     "execution_count": 19,
     "metadata": {},
     "output_type": "execute_result"
    }
   ],
   "source": [
    "data = pd.read_csv('./raw_data.csv')\n",
    "data.head()"
   ]
  },
  {
   "cell_type": "code",
   "execution_count": 20,
   "metadata": {},
   "outputs": [
    {
     "data": {
      "text/plain": [
       "(1427, 6)"
      ]
     },
     "execution_count": 20,
     "metadata": {},
     "output_type": "execute_result"
    }
   ],
   "source": [
    "data.shape"
   ]
  },
  {
   "cell_type": "markdown",
   "metadata": {},
   "source": [
    "# Xử lý dữ liệu"
   ]
  },
  {
   "cell_type": "markdown",
   "metadata": {},
   "source": [
    "Kiểm tra có dữ liệu null hay không"
   ]
  },
  {
   "cell_type": "code",
   "execution_count": 21,
   "metadata": {},
   "outputs": [
    {
     "data": {
      "text/plain": [
       "Name            0\n",
       "Pulisher        0\n",
       "Price           0\n",
       "Net Revenue     0\n",
       "Platform       30\n",
       "Genres          2\n",
       "dtype: int64"
      ]
     },
     "execution_count": 21,
     "metadata": {},
     "output_type": "execute_result"
    }
   ],
   "source": [
    "data.isnull().sum()"
   ]
  },
  {
   "cell_type": "markdown",
   "metadata": {},
   "source": [
    "Bởi vì dữ liệu trống ít nên sẽ bỏ đi "
   ]
  },
  {
   "cell_type": "code",
   "execution_count": 22,
   "metadata": {},
   "outputs": [
    {
     "data": {
      "text/plain": [
       "Name           0\n",
       "Pulisher       0\n",
       "Price          0\n",
       "Net Revenue    0\n",
       "Platform       0\n",
       "Genres         0\n",
       "dtype: int64"
      ]
     },
     "execution_count": 22,
     "metadata": {},
     "output_type": "execute_result"
    }
   ],
   "source": [
    "data = data.dropna()\n",
    "data.isnull().sum()"
   ]
  },
  {
   "cell_type": "markdown",
   "metadata": {},
   "source": [
    "Lọc ký tự không phải số ra khỏi trường Net Revenue"
   ]
  },
  {
   "cell_type": "code",
   "execution_count": 23,
   "metadata": {},
   "outputs": [
    {
     "name": "stdout",
     "output_type": "stream",
     "text": [
      "0       700\n",
      "1       490\n",
      "2       490\n",
      "3       430\n",
      "4       340\n",
      "       ... \n",
      "1422      1\n",
      "1423      1\n",
      "1424      1\n",
      "1425      1\n",
      "1426      1\n",
      "Name: Net Revenue, Length: 1395, dtype: object\n"
     ]
    }
   ],
   "source": [
    "\n",
    "data['Net Revenue'] = data['Net Revenue'].map(lambda x: x.lstrip('~$').rstrip(''))\n",
    "data['Net Revenue'] = data['Net Revenue'].map(lambda x: x.replace(' million',''))\n",
    "print(data[\"Net Revenue\"])"
   ]
  },
  {
   "cell_type": "markdown",
   "metadata": {},
   "source": [
    "Lọc ký tự không phải số ra khỏi trường Price"
   ]
  },
  {
   "cell_type": "code",
   "execution_count": 24,
   "metadata": {},
   "outputs": [
    {
     "name": "stdout",
     "output_type": "stream",
     "text": [
      "0       29.99\n",
      "1       59.99\n",
      "2       39.99\n",
      "3       39.99\n",
      "4       19.99\n",
      "        ...  \n",
      "1422     9.99\n",
      "1423    24.99\n",
      "1424    19.99\n",
      "1425    24.99\n",
      "1426    34.99\n",
      "Name: Price, Length: 1395, dtype: object\n"
     ]
    }
   ],
   "source": [
    "data['Price'] = data['Price'].map(lambda x: x.lstrip('$').rstrip(''))\n",
    "print(data[\"Price\"])"
   ]
  },
  {
   "cell_type": "markdown",
   "metadata": {},
   "source": [
    "Vẫn còn một vài cell chưa được xử lý"
   ]
  },
  {
   "cell_type": "code",
   "execution_count": 25,
   "metadata": {},
   "outputs": [
    {
     "data": {
      "text/plain": [
       "Name           Saints Row: The Third\n",
       "Pulisher                 Deep Silver\n",
       "Price                          9.99$\n",
       "Net Revenue                      8.6\n",
       "Platform               Windows Linux\n",
       "Genres                        Action\n",
       "Name: 354, dtype: object"
      ]
     },
     "execution_count": 25,
     "metadata": {},
     "output_type": "execute_result"
    }
   ],
   "source": [
    "data.loc[354]"
   ]
  },
  {
   "cell_type": "markdown",
   "metadata": {},
   "source": [
    "drop các row mà biến Price vẫn còn ký tự không phải số"
   ]
  },
  {
   "cell_type": "code",
   "execution_count": 26,
   "metadata": {},
   "outputs": [],
   "source": [
    "data = data[pd.to_numeric(data['Price'], errors='coerce').notnull()]"
   ]
  },
  {
   "cell_type": "markdown",
   "metadata": {},
   "source": [
    "Một vài trường trong dữ liệu có dạng categorical.Mô hình linear-regression trong thư viện này chỉ xử lý với dữ liệu số thực do đó chúng ta cần chuyển các thuộc tính trên về dạng số thực tương ứng. Sử dụng  __skearn.preprocessing__ để chuyển dữ liệu dạng categorical về số thực"
   ]
  },
  {
   "cell_type": "code",
   "execution_count": 27,
   "metadata": {},
   "outputs": [
    {
     "data": {
      "text/html": [
       "<div>\n",
       "<style scoped>\n",
       "    .dataframe tbody tr th:only-of-type {\n",
       "        vertical-align: middle;\n",
       "    }\n",
       "\n",
       "    .dataframe tbody tr th {\n",
       "        vertical-align: top;\n",
       "    }\n",
       "\n",
       "    .dataframe thead th {\n",
       "        text-align: right;\n",
       "    }\n",
       "</style>\n",
       "<table border=\"1\" class=\"dataframe\">\n",
       "  <thead>\n",
       "    <tr style=\"text-align: right;\">\n",
       "      <th></th>\n",
       "      <th>Name</th>\n",
       "      <th>Pulisher</th>\n",
       "      <th>Price</th>\n",
       "      <th>Net Revenue</th>\n",
       "      <th>Platform</th>\n",
       "      <th>Genres</th>\n",
       "    </tr>\n",
       "  </thead>\n",
       "  <tbody>\n",
       "    <tr>\n",
       "      <th>0</th>\n",
       "      <td>Grand Theft Auto V</td>\n",
       "      <td>Rockstar Games</td>\n",
       "      <td>29.99</td>\n",
       "      <td>700</td>\n",
       "      <td>Windows</td>\n",
       "      <td>Action,Adventure</td>\n",
       "    </tr>\n",
       "    <tr>\n",
       "      <th>1</th>\n",
       "      <td>Cyberpunk 2077</td>\n",
       "      <td>CD PROJEKT RED</td>\n",
       "      <td>59.99</td>\n",
       "      <td>490</td>\n",
       "      <td>Windows</td>\n",
       "      <td>RPG</td>\n",
       "    </tr>\n",
       "    <tr>\n",
       "      <th>2</th>\n",
       "      <td>Rust</td>\n",
       "      <td>Facepunch Studios</td>\n",
       "      <td>39.99</td>\n",
       "      <td>490</td>\n",
       "      <td>Windows Mac</td>\n",
       "      <td>Action,Adventure,Indie,MassivelyMultiplayer,RPG</td>\n",
       "    </tr>\n",
       "    <tr>\n",
       "      <th>3</th>\n",
       "      <td>The Witcher® 3: Wild Hunt</td>\n",
       "      <td>CD PROJEKT RED</td>\n",
       "      <td>39.99</td>\n",
       "      <td>430</td>\n",
       "      <td>Windows</td>\n",
       "      <td>RPG</td>\n",
       "    </tr>\n",
       "    <tr>\n",
       "      <th>4</th>\n",
       "      <td>Tom Clancy's Rainbow Six® Siege</td>\n",
       "      <td>Ubisoft</td>\n",
       "      <td>19.99</td>\n",
       "      <td>340</td>\n",
       "      <td>Windows</td>\n",
       "      <td>Action</td>\n",
       "    </tr>\n",
       "  </tbody>\n",
       "</table>\n",
       "</div>"
      ],
      "text/plain": [
       "                              Name           Pulisher  Price Net Revenue  \\\n",
       "0               Grand Theft Auto V     Rockstar Games  29.99         700   \n",
       "1                   Cyberpunk 2077     CD PROJEKT RED  59.99         490   \n",
       "2                             Rust  Facepunch Studios  39.99         490   \n",
       "3        The Witcher® 3: Wild Hunt     CD PROJEKT RED  39.99         430   \n",
       "4  Tom Clancy's Rainbow Six® Siege            Ubisoft  19.99         340   \n",
       "\n",
       "      Platform                                           Genres  \n",
       "0      Windows                                 Action,Adventure  \n",
       "1      Windows                                              RPG  \n",
       "2  Windows Mac  Action,Adventure,Indie,MassivelyMultiplayer,RPG  \n",
       "3      Windows                                              RPG  \n",
       "4      Windows                                           Action  "
      ]
     },
     "execution_count": 27,
     "metadata": {},
     "output_type": "execute_result"
    }
   ],
   "source": [
    "data.head()"
   ]
  },
  {
   "cell_type": "code",
   "execution_count": 28,
   "metadata": {},
   "outputs": [
    {
     "name": "stdout",
     "output_type": "stream",
     "text": [
      "                              Name Pulisher  Price Net Revenue Platform Genres\n",
      "0               Grand Theft Auto V      422  29.99         700        0      1\n",
      "1                   Cyberpunk 2077       91  59.99         490        0    207\n",
      "2                             Rust      188  39.99         490        3     36\n",
      "3        The Witcher® 3: Wild Hunt       91  39.99         430        0    207\n",
      "4  Tom Clancy's Rainbow Six® Siege      549  19.99         340        0      0\n"
     ]
    }
   ],
   "source": [
    "data_clean = data[['Name', 'Pulisher', 'Price', 'Net Revenue', 'Platform', 'Genres']].values\n",
    "from sklearn import preprocessing\n",
    "le_pub = preprocessing.LabelEncoder()\n",
    "le_pub.fit(data.Pulisher.unique().tolist())\n",
    "data_clean[:,1] = le_pub.transform(data_clean[:,1]) \n",
    "\n",
    "\n",
    "le_Genres = preprocessing.LabelEncoder()\n",
    "le_Genres.fit(data.Genres.unique().tolist())\n",
    "data_clean[:,5] = le_Genres.transform(data_clean[:,5])\n",
    "\n",
    "\n",
    "le_Platform = preprocessing.LabelEncoder()\n",
    "le_Platform.fit(data.Platform.unique().tolist())\n",
    "data_clean[:,4]  = le_Platform.transform(data_clean[:,4])\n",
    "\n",
    "clean_df = pd.DataFrame(data_clean, columns=['Name', 'Pulisher', 'Price', 'Net Revenue', 'Platform', 'Genres'])\n",
    "view_df = clean_df.copy()\n",
    "view_df[\"Platform_text\"] = data[\"Platform\"]\n",
    "view_df[\"Genres_text\"] = data[\"Genres\"]\n",
    "view_df[\"Pulisher_text\"] = data[\"Pulisher\"]\n",
    "print(clean_df.head())"
   ]
  },
  {
   "cell_type": "markdown",
   "metadata": {},
   "source": [
    "# Chuyển dữ liệu clean sang file csv"
   ]
  },
  {
   "cell_type": "code",
   "execution_count": 29,
   "metadata": {},
   "outputs": [],
   "source": [
    "\n",
    "view_df.to_csv(\"view.csv\", index=False)\n",
    "clean_df.to_csv(\"clean_data.csv\", index=False)"
   ]
  }
 ],
 "metadata": {
  "kernelspec": {
   "display_name": "Python 3.10.3 64-bit",
   "language": "python",
   "name": "python3"
  },
  "language_info": {
   "codemirror_mode": {
    "name": "ipython",
    "version": 3
   },
   "file_extension": ".py",
   "mimetype": "text/x-python",
   "name": "python",
   "nbconvert_exporter": "python",
   "pygments_lexer": "ipython3",
   "version": "3.10.3"
  },
  "orig_nbformat": 4,
  "vscode": {
   "interpreter": {
    "hash": "4ef8f1cd53d8f0dc1cce38a291be0447252696fa78e421d58e9ac951f2f5a763"
   }
  }
 },
 "nbformat": 4,
 "nbformat_minor": 2
}
