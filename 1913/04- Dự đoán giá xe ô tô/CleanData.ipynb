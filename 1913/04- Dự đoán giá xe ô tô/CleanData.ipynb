{
 "cells": [
  {
   "cell_type": "code",
   "execution_count": 1177,
   "metadata": {},
   "outputs": [],
   "source": [
    "import seaborn as sns\n",
    "import matplotlib.pyplot as plt\n",
    "import pandas as pd\n",
    "import numpy as np\n",
    "from sklearn.preprocessing import MinMaxScaler , RobustScaler\n",
    "from sklearn.model_selection import train_test_split\n",
    "from sklearn.preprocessing import LabelEncoder\n",
    "import warnings\n",
    "warnings.filterwarnings(\"ignore\")"
   ]
  },
  {
   "cell_type": "code",
   "execution_count": 1178,
   "metadata": {},
   "outputs": [
    {
     "name": "stdout",
     "output_type": "stream",
     "text": [
      "(5980, 14)\n"
     ]
    }
   ],
   "source": [
    "data = pd.read_csv('raw_data.csv')\n",
    "data.head()\n",
    "print(data.shape)"
   ]
  },
  {
   "cell_type": "code",
   "execution_count": 1179,
   "metadata": {},
   "outputs": [],
   "source": [
    "sns.set_theme()"
   ]
  },
  {
   "cell_type": "code",
   "execution_count": 1180,
   "metadata": {},
   "outputs": [
    {
     "name": "stdout",
     "output_type": "stream",
     "text": [
      "<class 'pandas.core.frame.DataFrame'>\n",
      "RangeIndex: 5980 entries, 0 to 5979\n",
      "Data columns (total 14 columns):\n",
      " #   Column         Non-Null Count  Dtype \n",
      "---  ------         --------------  ----- \n",
      " 0   id             5980 non-null   object\n",
      " 1   car            5980 non-null   object\n",
      " 2   price          5980 non-null   int64 \n",
      " 3    origin        5980 non-null   object\n",
      " 4   condition      5980 non-null   object\n",
      " 5   carType        5980 non-null   object\n",
      " 6   km             5980 non-null   object\n",
      " 7   carColor       5980 non-null   object\n",
      " 8   interiorColor  5980 non-null   object\n",
      " 9   carDoor        5980 non-null   object\n",
      " 10  carSeat        5980 non-null   object\n",
      " 11  engine         5980 non-null   object\n",
      " 12  gear           5980 non-null   object\n",
      " 13  wheelDrive     5980 non-null   object\n",
      "dtypes: int64(1), object(13)\n",
      "memory usage: 654.2+ KB\n"
     ]
    }
   ],
   "source": [
    "data.info()"
   ]
  },
  {
   "cell_type": "code",
   "execution_count": 1181,
   "metadata": {},
   "outputs": [
    {
     "data": {
      "text/html": [
       "<div>\n",
       "<style scoped>\n",
       "    .dataframe tbody tr th:only-of-type {\n",
       "        vertical-align: middle;\n",
       "    }\n",
       "\n",
       "    .dataframe tbody tr th {\n",
       "        vertical-align: top;\n",
       "    }\n",
       "\n",
       "    .dataframe thead th {\n",
       "        text-align: right;\n",
       "    }\n",
       "</style>\n",
       "<table border=\"1\" class=\"dataframe\">\n",
       "  <thead>\n",
       "    <tr style=\"text-align: right;\">\n",
       "      <th></th>\n",
       "      <th>id</th>\n",
       "      <th>car</th>\n",
       "      <th>price</th>\n",
       "      <th>origin</th>\n",
       "      <th>condition</th>\n",
       "      <th>carType</th>\n",
       "      <th>km</th>\n",
       "      <th>carColor</th>\n",
       "      <th>interiorColor</th>\n",
       "      <th>carDoor</th>\n",
       "      <th>carSeat</th>\n",
       "      <th>engine</th>\n",
       "      <th>gear</th>\n",
       "      <th>wheelDrive</th>\n",
       "    </tr>\n",
       "  </thead>\n",
       "  <tbody>\n",
       "    <tr>\n",
       "      <th>0</th>\n",
       "      <td>Mã: 4367562</td>\n",
       "      <td>Lexus RX 200t - 2016</td>\n",
       "      <td>2490000000</td>\n",
       "      <td>Nhập khẩu</td>\n",
       "      <td>Xe đã dùng</td>\n",
       "      <td>SUV</td>\n",
       "      <td>40,000 Km</td>\n",
       "      <td>Đỏ</td>\n",
       "      <td>Nâu</td>\n",
       "      <td>5 cửa</td>\n",
       "      <td>5 chỗ</td>\n",
       "      <td>Xăng2.0L</td>\n",
       "      <td>Số tự động</td>\n",
       "      <td>AWD - 4 bánh toàn thời gian</td>\n",
       "    </tr>\n",
       "    <tr>\n",
       "      <th>1</th>\n",
       "      <td>Mã: 4394448</td>\n",
       "      <td>Ford Ranger Wildtrak 3.2L 4x4 AT - 2017</td>\n",
       "      <td>825000000</td>\n",
       "      <td>Nhập khẩu</td>\n",
       "      <td>Xe đã dùng</td>\n",
       "      <td>Bán tải / Pickup</td>\n",
       "      <td>0 Km</td>\n",
       "      <td>Đồng</td>\n",
       "      <td>Nâu</td>\n",
       "      <td>4 cửa</td>\n",
       "      <td>5 chỗ</td>\n",
       "      <td>Dầu3.2L</td>\n",
       "      <td>Số tự động</td>\n",
       "      <td>4WD - Dẫn động 4 bánh</td>\n",
       "    </tr>\n",
       "    <tr>\n",
       "      <th>2</th>\n",
       "      <td>Mã: 4415173</td>\n",
       "      <td>Ford Ranger XLS 2.2L 4x2 MT - 2022</td>\n",
       "      <td>619000000</td>\n",
       "      <td>Lắp ráp trong nước</td>\n",
       "      <td>Xe mới</td>\n",
       "      <td>Bán tải / Pickup</td>\n",
       "      <td>0 Km</td>\n",
       "      <td>Trắng</td>\n",
       "      <td>Đen</td>\n",
       "      <td>4 cửa</td>\n",
       "      <td>5 chỗ</td>\n",
       "      <td>Dầu2.2L</td>\n",
       "      <td>Số tay</td>\n",
       "      <td>RFD - Dẫn động cầu sau</td>\n",
       "    </tr>\n",
       "    <tr>\n",
       "      <th>3</th>\n",
       "      <td>Mã: 4304737</td>\n",
       "      <td>Mercedes Benz E class E250 - 2017</td>\n",
       "      <td>1660000000</td>\n",
       "      <td>Lắp ráp trong nước</td>\n",
       "      <td>Xe đã dùng</td>\n",
       "      <td>Sedan</td>\n",
       "      <td>48,000 Km</td>\n",
       "      <td>Đen</td>\n",
       "      <td>Đen</td>\n",
       "      <td>4 cửa</td>\n",
       "      <td>5 chỗ</td>\n",
       "      <td>Xăng2.0L</td>\n",
       "      <td>Số tự động</td>\n",
       "      <td>RFD - Dẫn động cầu sau</td>\n",
       "    </tr>\n",
       "    <tr>\n",
       "      <th>4</th>\n",
       "      <td>Mã: 3993944</td>\n",
       "      <td>Hyundai Accent 1.4 AT - 2021</td>\n",
       "      <td>500000000</td>\n",
       "      <td>Lắp ráp trong nước</td>\n",
       "      <td>Xe mới</td>\n",
       "      <td>Sedan</td>\n",
       "      <td>0 Km</td>\n",
       "      <td>Trắng</td>\n",
       "      <td>-</td>\n",
       "      <td>4 cửa</td>\n",
       "      <td>5 chỗ</td>\n",
       "      <td>Xăng1.4L</td>\n",
       "      <td>Số tự động</td>\n",
       "      <td>FWD - Dẫn động cầu trước</td>\n",
       "    </tr>\n",
       "  </tbody>\n",
       "</table>\n",
       "</div>"
      ],
      "text/plain": [
       "            id                                      car       price  \\\n",
       "0  Mã: 4367562                     Lexus RX 200t - 2016  2490000000   \n",
       "1  Mã: 4394448  Ford Ranger Wildtrak 3.2L 4x4 AT - 2017   825000000   \n",
       "2  Mã: 4415173       Ford Ranger XLS 2.2L 4x2 MT - 2022   619000000   \n",
       "3  Mã: 4304737        Mercedes Benz E class E250 - 2017  1660000000   \n",
       "4  Mã: 3993944             Hyundai Accent 1.4 AT - 2021   500000000   \n",
       "\n",
       "               origin   condition             carType         km carColor  \\\n",
       "0           Nhập khẩu  Xe đã dùng                 SUV  40,000 Km       Đỏ   \n",
       "1           Nhập khẩu  Xe đã dùng  Bán tải / Pickup       0 Km     Đồng   \n",
       "2  Lắp ráp trong nước      Xe mới  Bán tải / Pickup       0 Km    Trắng   \n",
       "3  Lắp ráp trong nước  Xe đã dùng               Sedan  48,000 Km      Đen   \n",
       "4  Lắp ráp trong nước      Xe mới               Sedan       0 Km    Trắng   \n",
       "\n",
       "  interiorColor carDoor carSeat    engine        gear  \\\n",
       "0           Nâu   5 cửa   5 chỗ  Xăng2.0L  Số tự động   \n",
       "1           Nâu   4 cửa   5 chỗ   Dầu3.2L  Số tự động   \n",
       "2           Đen   4 cửa   5 chỗ   Dầu2.2L      Số tay   \n",
       "3           Đen   4 cửa   5 chỗ  Xăng2.0L  Số tự động   \n",
       "4             -   4 cửa   5 chỗ  Xăng1.4L  Số tự động   \n",
       "\n",
       "                    wheelDrive  \n",
       "0  AWD - 4 bánh toàn thời gian  \n",
       "1        4WD - Dẫn động 4 bánh  \n",
       "2       RFD - Dẫn động cầu sau  \n",
       "3       RFD - Dẫn động cầu sau  \n",
       "4     FWD - Dẫn động cầu trước  "
      ]
     },
     "execution_count": 1181,
     "metadata": {},
     "output_type": "execute_result"
    }
   ],
   "source": [
    "data.head()"
   ]
  },
  {
   "cell_type": "markdown",
   "metadata": {},
   "source": [
    "Dataset gồm có 14 cột:\n",
    "\n",
    "- id: Mã xe                                 \n",
    "- car: Tên xe                              \n",
    "- price: Giá tiền\n",
    "- origin: Nguồn gốc     \n",
    "- condition: Tình trạng xe                   \n",
    "- carType: Các loại xe                       \n",
    "- km: Số Km đã đi được                     \n",
    "- carColor: Màu xe                         \n",
    "- interiorColor: Màu nội thất \n",
    "- carDoor: Số cửa\n",
    "- carSeat: Số chỗ ngồi\n",
    "- engine: Động cơ\n",
    "- gear: Hộp số\n",
    "- wheelDrive: Hệ dẫn động\n"
   ]
  },
  {
   "cell_type": "markdown",
   "metadata": {},
   "source": [
    "## Loại bỏ các giá trị id bị trùng lặp :\n"
   ]
  },
  {
   "cell_type": "code",
   "execution_count": 1182,
   "metadata": {},
   "outputs": [
    {
     "data": {
      "text/html": [
       "<div>\n",
       "<style scoped>\n",
       "    .dataframe tbody tr th:only-of-type {\n",
       "        vertical-align: middle;\n",
       "    }\n",
       "\n",
       "    .dataframe tbody tr th {\n",
       "        vertical-align: top;\n",
       "    }\n",
       "\n",
       "    .dataframe thead th {\n",
       "        text-align: right;\n",
       "    }\n",
       "</style>\n",
       "<table border=\"1\" class=\"dataframe\">\n",
       "  <thead>\n",
       "    <tr style=\"text-align: right;\">\n",
       "      <th></th>\n",
       "      <th>id</th>\n",
       "      <th>car</th>\n",
       "      <th>price</th>\n",
       "      <th>origin</th>\n",
       "      <th>condition</th>\n",
       "      <th>carType</th>\n",
       "      <th>km</th>\n",
       "      <th>carColor</th>\n",
       "      <th>interiorColor</th>\n",
       "      <th>carDoor</th>\n",
       "      <th>carSeat</th>\n",
       "      <th>engine</th>\n",
       "      <th>gear</th>\n",
       "      <th>wheelDrive</th>\n",
       "    </tr>\n",
       "  </thead>\n",
       "  <tbody>\n",
       "    <tr>\n",
       "      <th>0</th>\n",
       "      <td>4367562</td>\n",
       "      <td>Lexus RX 200t - 2016</td>\n",
       "      <td>2490000000</td>\n",
       "      <td>Nhập khẩu</td>\n",
       "      <td>Xe đã dùng</td>\n",
       "      <td>SUV</td>\n",
       "      <td>40,000 Km</td>\n",
       "      <td>Đỏ</td>\n",
       "      <td>Nâu</td>\n",
       "      <td>5 cửa</td>\n",
       "      <td>5 chỗ</td>\n",
       "      <td>Xăng2.0L</td>\n",
       "      <td>Số tự động</td>\n",
       "      <td>AWD - 4 bánh toàn thời gian</td>\n",
       "    </tr>\n",
       "    <tr>\n",
       "      <th>1</th>\n",
       "      <td>4394448</td>\n",
       "      <td>Ford Ranger Wildtrak 3.2L 4x4 AT - 2017</td>\n",
       "      <td>825000000</td>\n",
       "      <td>Nhập khẩu</td>\n",
       "      <td>Xe đã dùng</td>\n",
       "      <td>Bán tải / Pickup</td>\n",
       "      <td>0 Km</td>\n",
       "      <td>Đồng</td>\n",
       "      <td>Nâu</td>\n",
       "      <td>4 cửa</td>\n",
       "      <td>5 chỗ</td>\n",
       "      <td>Dầu3.2L</td>\n",
       "      <td>Số tự động</td>\n",
       "      <td>4WD - Dẫn động 4 bánh</td>\n",
       "    </tr>\n",
       "    <tr>\n",
       "      <th>2</th>\n",
       "      <td>4415173</td>\n",
       "      <td>Ford Ranger XLS 2.2L 4x2 MT - 2022</td>\n",
       "      <td>619000000</td>\n",
       "      <td>Lắp ráp trong nước</td>\n",
       "      <td>Xe mới</td>\n",
       "      <td>Bán tải / Pickup</td>\n",
       "      <td>0 Km</td>\n",
       "      <td>Trắng</td>\n",
       "      <td>Đen</td>\n",
       "      <td>4 cửa</td>\n",
       "      <td>5 chỗ</td>\n",
       "      <td>Dầu2.2L</td>\n",
       "      <td>Số tay</td>\n",
       "      <td>RFD - Dẫn động cầu sau</td>\n",
       "    </tr>\n",
       "    <tr>\n",
       "      <th>3</th>\n",
       "      <td>4304737</td>\n",
       "      <td>Mercedes Benz E class E250 - 2017</td>\n",
       "      <td>1660000000</td>\n",
       "      <td>Lắp ráp trong nước</td>\n",
       "      <td>Xe đã dùng</td>\n",
       "      <td>Sedan</td>\n",
       "      <td>48,000 Km</td>\n",
       "      <td>Đen</td>\n",
       "      <td>Đen</td>\n",
       "      <td>4 cửa</td>\n",
       "      <td>5 chỗ</td>\n",
       "      <td>Xăng2.0L</td>\n",
       "      <td>Số tự động</td>\n",
       "      <td>RFD - Dẫn động cầu sau</td>\n",
       "    </tr>\n",
       "    <tr>\n",
       "      <th>4</th>\n",
       "      <td>3993944</td>\n",
       "      <td>Hyundai Accent 1.4 AT - 2021</td>\n",
       "      <td>500000000</td>\n",
       "      <td>Lắp ráp trong nước</td>\n",
       "      <td>Xe mới</td>\n",
       "      <td>Sedan</td>\n",
       "      <td>0 Km</td>\n",
       "      <td>Trắng</td>\n",
       "      <td>-</td>\n",
       "      <td>4 cửa</td>\n",
       "      <td>5 chỗ</td>\n",
       "      <td>Xăng1.4L</td>\n",
       "      <td>Số tự động</td>\n",
       "      <td>FWD - Dẫn động cầu trước</td>\n",
       "    </tr>\n",
       "    <tr>\n",
       "      <th>...</th>\n",
       "      <td>...</td>\n",
       "      <td>...</td>\n",
       "      <td>...</td>\n",
       "      <td>...</td>\n",
       "      <td>...</td>\n",
       "      <td>...</td>\n",
       "      <td>...</td>\n",
       "      <td>...</td>\n",
       "      <td>...</td>\n",
       "      <td>...</td>\n",
       "      <td>...</td>\n",
       "      <td>...</td>\n",
       "      <td>...</td>\n",
       "      <td>...</td>\n",
       "    </tr>\n",
       "    <tr>\n",
       "      <th>5975</th>\n",
       "      <td>4386544</td>\n",
       "      <td>Mitsubishi Xpander 1.5 AT - 2021</td>\n",
       "      <td>626000000</td>\n",
       "      <td>Nhập khẩu</td>\n",
       "      <td>Xe đã dùng</td>\n",
       "      <td>SUV</td>\n",
       "      <td>20,000 Km</td>\n",
       "      <td>Đen</td>\n",
       "      <td>Đen</td>\n",
       "      <td>5 cửa</td>\n",
       "      <td>7 chỗ</td>\n",
       "      <td>Xăng1.5L</td>\n",
       "      <td>Số tự động</td>\n",
       "      <td>FWD - Dẫn động cầu trước</td>\n",
       "    </tr>\n",
       "    <tr>\n",
       "      <th>5976</th>\n",
       "      <td>4422588</td>\n",
       "      <td>Lexus RX 300 - 2020</td>\n",
       "      <td>3330000000</td>\n",
       "      <td>Nhập khẩu</td>\n",
       "      <td>Xe đã dùng</td>\n",
       "      <td>SUV</td>\n",
       "      <td>0 Km</td>\n",
       "      <td>Cát</td>\n",
       "      <td>Kem</td>\n",
       "      <td>5 cửa</td>\n",
       "      <td>5 chỗ</td>\n",
       "      <td>Xăng2.0L</td>\n",
       "      <td>Số tự động</td>\n",
       "      <td>AWD - 4 bánh toàn thời gian</td>\n",
       "    </tr>\n",
       "    <tr>\n",
       "      <th>5977</th>\n",
       "      <td>4425601</td>\n",
       "      <td>Mini Cooper S 5Dr - 2018</td>\n",
       "      <td>1650000000</td>\n",
       "      <td>Nhập khẩu</td>\n",
       "      <td>Xe đã dùng</td>\n",
       "      <td>Hatchback</td>\n",
       "      <td>35,791 Km</td>\n",
       "      <td>Xanh</td>\n",
       "      <td>Vàng</td>\n",
       "      <td>5 cửa</td>\n",
       "      <td>5 chỗ</td>\n",
       "      <td>Xăng2.0L</td>\n",
       "      <td>Số tự động</td>\n",
       "      <td>FWD - Dẫn động cầu trước</td>\n",
       "    </tr>\n",
       "    <tr>\n",
       "      <th>5978</th>\n",
       "      <td>4331780</td>\n",
       "      <td>Toyota Vios 1.5E - 2009</td>\n",
       "      <td>240000000</td>\n",
       "      <td>Lắp ráp trong nước</td>\n",
       "      <td>Xe đã dùng</td>\n",
       "      <td>Sedan</td>\n",
       "      <td>0 Km</td>\n",
       "      <td>Bạc</td>\n",
       "      <td>-</td>\n",
       "      <td>4 cửa</td>\n",
       "      <td>5 chỗ</td>\n",
       "      <td>Xăng1.5L</td>\n",
       "      <td>Số tay</td>\n",
       "      <td>FWD - Dẫn động cầu trước</td>\n",
       "    </tr>\n",
       "    <tr>\n",
       "      <th>5979</th>\n",
       "      <td>4416315</td>\n",
       "      <td>Toyota Corolla Cross 1.8V - 2022</td>\n",
       "      <td>846000000</td>\n",
       "      <td>Nhập khẩu</td>\n",
       "      <td>Xe mới</td>\n",
       "      <td>SUV</td>\n",
       "      <td>0 Km</td>\n",
       "      <td>Trắng</td>\n",
       "      <td>Nâu</td>\n",
       "      <td>5 cửa</td>\n",
       "      <td>5 chỗ</td>\n",
       "      <td>Xăng1.8L</td>\n",
       "      <td>Số tự động</td>\n",
       "      <td>FWD - Dẫn động cầu trước</td>\n",
       "    </tr>\n",
       "  </tbody>\n",
       "</table>\n",
       "<p>5560 rows × 14 columns</p>\n",
       "</div>"
      ],
      "text/plain": [
       "           id                                      car       price  \\\n",
       "0     4367562                     Lexus RX 200t - 2016  2490000000   \n",
       "1     4394448  Ford Ranger Wildtrak 3.2L 4x4 AT - 2017   825000000   \n",
       "2     4415173       Ford Ranger XLS 2.2L 4x2 MT - 2022   619000000   \n",
       "3     4304737        Mercedes Benz E class E250 - 2017  1660000000   \n",
       "4     3993944             Hyundai Accent 1.4 AT - 2021   500000000   \n",
       "...       ...                                      ...         ...   \n",
       "5975  4386544         Mitsubishi Xpander 1.5 AT - 2021   626000000   \n",
       "5976  4422588                      Lexus RX 300 - 2020  3330000000   \n",
       "5977  4425601                 Mini Cooper S 5Dr - 2018  1650000000   \n",
       "5978  4331780                  Toyota Vios 1.5E - 2009   240000000   \n",
       "5979  4416315         Toyota Corolla Cross 1.8V - 2022   846000000   \n",
       "\n",
       "                  origin   condition             carType         km carColor  \\\n",
       "0              Nhập khẩu  Xe đã dùng                 SUV  40,000 Km       Đỏ   \n",
       "1              Nhập khẩu  Xe đã dùng  Bán tải / Pickup       0 Km     Đồng   \n",
       "2     Lắp ráp trong nước      Xe mới  Bán tải / Pickup       0 Km    Trắng   \n",
       "3     Lắp ráp trong nước  Xe đã dùng               Sedan  48,000 Km      Đen   \n",
       "4     Lắp ráp trong nước      Xe mới               Sedan       0 Km    Trắng   \n",
       "...                  ...         ...                 ...        ...      ...   \n",
       "5975           Nhập khẩu  Xe đã dùng                 SUV  20,000 Km      Đen   \n",
       "5976           Nhập khẩu  Xe đã dùng                 SUV       0 Km      Cát   \n",
       "5977           Nhập khẩu  Xe đã dùng           Hatchback  35,791 Km     Xanh   \n",
       "5978  Lắp ráp trong nước  Xe đã dùng               Sedan       0 Km      Bạc   \n",
       "5979           Nhập khẩu      Xe mới                 SUV       0 Km    Trắng   \n",
       "\n",
       "     interiorColor carDoor carSeat    engine        gear  \\\n",
       "0              Nâu   5 cửa   5 chỗ  Xăng2.0L  Số tự động   \n",
       "1              Nâu   4 cửa   5 chỗ   Dầu3.2L  Số tự động   \n",
       "2              Đen   4 cửa   5 chỗ   Dầu2.2L      Số tay   \n",
       "3              Đen   4 cửa   5 chỗ  Xăng2.0L  Số tự động   \n",
       "4                -   4 cửa   5 chỗ  Xăng1.4L  Số tự động   \n",
       "...            ...     ...     ...       ...         ...   \n",
       "5975           Đen   5 cửa   7 chỗ  Xăng1.5L  Số tự động   \n",
       "5976           Kem   5 cửa   5 chỗ  Xăng2.0L  Số tự động   \n",
       "5977          Vàng   5 cửa   5 chỗ  Xăng2.0L  Số tự động   \n",
       "5978             -   4 cửa   5 chỗ  Xăng1.5L      Số tay   \n",
       "5979           Nâu   5 cửa   5 chỗ  Xăng1.8L  Số tự động   \n",
       "\n",
       "                       wheelDrive  \n",
       "0     AWD - 4 bánh toàn thời gian  \n",
       "1           4WD - Dẫn động 4 bánh  \n",
       "2          RFD - Dẫn động cầu sau  \n",
       "3          RFD - Dẫn động cầu sau  \n",
       "4        FWD - Dẫn động cầu trước  \n",
       "...                           ...  \n",
       "5975     FWD - Dẫn động cầu trước  \n",
       "5976  AWD - 4 bánh toàn thời gian  \n",
       "5977     FWD - Dẫn động cầu trước  \n",
       "5978     FWD - Dẫn động cầu trước  \n",
       "5979     FWD - Dẫn động cầu trước  \n",
       "\n",
       "[5560 rows x 14 columns]"
      ]
     },
     "execution_count": 1182,
     "metadata": {},
     "output_type": "execute_result"
    }
   ],
   "source": [
    "data['id'] = data['id'].apply(lambda x : x.strip(' Mã: ').replace(' ', ''))\n",
    "data=data.drop_duplicates(['id'])\n",
    "data"
   ]
  },
  {
   "cell_type": "markdown",
   "metadata": {},
   "source": [
    "## Xử lí các cột dữ liệu\n"
   ]
  },
  {
   "cell_type": "code",
   "execution_count": 1183,
   "metadata": {},
   "outputs": [],
   "source": [
    "# Chuyển dữ liệu giá về đơn vị triệu\n",
    "data['price'] = data['price']/1000000\n",
    "# Xử lí km\n",
    "data['km'] = data['km'].apply(lambda x : x.replace(' Km','').strip('').replace(',',''))\n",
    "# Xử lí số cửa xe\n",
    "data['carDoor'] = data['carDoor'].apply(lambda x : x.replace(' cửa',''))\n",
    "# Xử lí số chỗ ngồi\n",
    "data['carSeat'] = data['carSeat'].apply(lambda x : x.replace(' chỗ',''))\n",
    "# Xử lí wheelDrive\n",
    "data['wheelDrive'] = data['wheelDrive'].apply(lambda x : x.replace(' - ',','))\n",
    "\n",
    "\n"
   ]
  },
  {
   "cell_type": "markdown",
   "metadata": {},
   "source": [
    "### Thêm 2 cột carMaker (Hãng sản xuất) và yearsManufacturing (Năm phát hành) từ cột car"
   ]
  },
  {
   "cell_type": "code",
   "execution_count": 1184,
   "metadata": {},
   "outputs": [],
   "source": [
    "def toCarMaker(Car):\n",
    "    if(Car[0] == \"Rolls\") or (Car[0] == \"Mini\"):\n",
    "        return str(Car[0])+\" \"+str(Car[1])\n",
    "    else:\n",
    "        return str(Car[0])\n",
    "def toyearsManufacturing(year):\n",
    "    return str(year[len(year)-1])\n",
    "data['carMaker'] = data['car'].apply(lambda x : x.strip().split())\n",
    "data['yearsManufacturing'] = data['carMaker'].apply(toyearsManufacturing)\n",
    "\n",
    "data['carMaker'] = data['carMaker'].apply(toCarMaker)"
   ]
  },
  {
   "cell_type": "markdown",
   "metadata": {},
   "source": [
    "### Tách engine thành 2 cột carEngine và capacity "
   ]
  },
  {
   "cell_type": "code",
   "execution_count": 1185,
   "metadata": {},
   "outputs": [],
   "source": [
    "def convertCapacity(capacity):\n",
    "    if(capacity > 100):\n",
    "        return capacity/100\n",
    "    else:\n",
    "        return capacity/10\n",
    "\n",
    "# Xử lí chuyển dữ liệu trong engine về loại động cơ\n",
    "data['capacity']=data['engine'].str.replace(r'\\D+','')\n",
    "# data['capacity'] = data['capacity'].apply(lambda x: ','.join(map(str, x)))\n",
    "data['capacity'] = data['capacity'].apply(lambda x : pd.to_numeric(x))\n",
    "data['capacity']=data['capacity'].apply(convertCapacity)\n",
    "\n",
    "\n",
    "data['carEngine'] = data['engine'].str.replace(r'\\d+','')\n",
    "data['carEngine'] = data['carEngine'].apply(lambda x : x.replace('.L',''))\n"
   ]
  },
  {
   "cell_type": "markdown",
   "metadata": {},
   "source": [
    "### Kiểm tra loại giá trị có trong từng cột"
   ]
  },
  {
   "cell_type": "code",
   "execution_count": 1186,
   "metadata": {},
   "outputs": [
    {
     "name": "stdout",
     "output_type": "stream",
     "text": [
      " origin ['Nhập khẩu' 'Lắp ráp trong nước']\n",
      "condition ['Xe đã dùng' 'Xe mới']\n",
      "carType ['SUV' 'Bán tải / Pickup' 'Sedan' 'Truck' 'Crossover' 'Hatchback'\n",
      " 'Van/Minivan' 'Convertible/Cabriolet' 'Coupe']\n",
      "carColor ['Đỏ' 'Đồng' 'Trắng' 'Đen' 'Xanh' 'Xám' 'Bạc' 'Cam' 'Kem' 'Vàng' 'Nâu'\n",
      " 'Cát' 'Ghi' 'Nhiều màu' '-' 'Màu khác' 'Hồng' 'Tím']\n",
      "interiorColor ['Nâu' 'Đen' '-' 'Xám' 'Ghi' 'Kem' 'Màu khác' 'Nhiều màu' 'Đồng' 'Trắng'\n",
      " 'Bạc' 'Vàng' 'Đỏ' 'Cát' 'Xanh' 'Cam' 'Hồng']\n",
      "carDoor ['5' '4' '2' '3' '0' '6' '1']\n",
      "carSeat ['5' '7' '4' '2' '3' '8' '29' '10' '16' '0' '6' '9' '47' '34' '1' '17'\n",
      " '15']\n",
      "engine ['Xăng2.0L' 'Dầu3.2L' 'Dầu2.2L' 'Xăng1.4L' 'Xăng1.3L' 'Xăng3.0L' 'Dầu2.4L'\n",
      " 'Dầu2.0L' 'Dầu1.9L' 'Xăng2.5L' 'Xăng6.6L' 'Xăng1.5L' 'Xăng1.0L' 'Xăng'\n",
      " 'Dầu2.5L' 'Dầu' 'Xăng3.2L' 'Xăng5.0L' 'Xăng2.7L' 'Xăng1.8L' 'Xăng1.2L'\n",
      " 'Xăng3.5L' 'Xăng1.6L' 'Xăng2.4L' 'Xăng4.8L' 'Hybrid1.8L' 'Hybrid3.5L'\n",
      " 'Xăng4.6L' 'Dầu3.0L' 'Xăng4.0L' 'Xăng1.1L' 'Điện0.2L' 'Xăng1.25L'\n",
      " 'Xăng4.7L' 'Xăng5.5L' 'Xăng2.3L' 'Xăng5.6L' 'Hybrid2.5L' 'Xăng5.7L'\n",
      " 'Dầu2.8L' 'Xăng6.8L' 'Xăng2.2L' 'Xăng3.6L' 'Xăng2.9L' 'Hybrid' 'Xăng6.0L'\n",
      " 'Dầu2.3L' 'Xăng0.8L' 'Điện' 'Xăng3.7L' 'Xăng3.4L' '-' 'Xăng6.7L'\n",
      " 'Dầu4.2L' 'Dầu4.5L' 'Xăng2.6L' 'Hybrid2.0L' 'Xăng4.4L' 'Điện0.1L'\n",
      " 'Dầu2.1L' 'Xăng4.2L' 'Xăng0.9L' 'Xăng3.3L' 'Dầu11.1L' 'Loạikhác'\n",
      " 'Xăng3.8L' 'Dầu1.7L' 'Xăng4.5L' 'Hybrid1.5L']\n",
      "gear ['Số tự động' 'Số tay' '-' 'Số hỗn hợp']\n",
      "wheelDrive ['AWD,4 bánh toàn thời gian' '4WD,Dẫn động 4 bánh' 'RFD,Dẫn động cầu sau'\n",
      " 'FWD,Dẫn động cầu trước' '-' '4WD hoặc AWD']\n",
      "carMaker ['Lexus' 'Ford' 'Mercedes' 'Hyundai' 'LandRover' 'VinFast' 'Toyota'\n",
      " 'Isuzu' 'Rolls Royce' 'Suzuki' 'BMW' 'Mazda' 'Honda' 'Kia' 'Nissan'\n",
      " 'Acura' 'Mitsubishi' 'Audi' 'Chevrolet' 'Volvo' 'Porsche' 'Peugeot'\n",
      " 'Bentley' 'Volkswagen' 'Infiniti' 'Daewoo' 'Mini Cooper' 'Luxgen' 'Aston'\n",
      " 'MG' 'Subaru' 'Baic' 'Jaguar' 'Maserati' 'Ssangyong' 'Thaco' 'Cadillac'\n",
      " 'Mini One' 'Fiat' 'Vinamotor' 'Veam' 'Jeep' 'Lincoln' 'Lamborghini'\n",
      " 'Renault' 'Haima' 'Zotye' 'Daihatsu' 'Dongfeng']\n",
      "yearsManufacturing ['2016' '2017' '2022' '2021' '2020' '2015' '2018' '2007' '2019' '2014'\n",
      " '2013' '2009' '2011' '2008' '2012' '2005' '2010' '2006' '2001' '2003'\n",
      " '2004' '2000' '1996' '1999' '2002' 'MT' '1995' '1998' 'AT' '1990']\n",
      "capacity [2.   3.2  2.2  1.4  1.3  3.   2.4  1.9  2.5  6.6  1.5  1.    nan 5.\n",
      " 2.7  1.8  1.2  3.5  1.6  4.8  4.6  4.   1.1  0.2  1.25 4.7  5.5  2.3\n",
      " 5.6  5.7  2.8  6.8  3.6  2.9  6.   0.8  3.7  3.4  6.7  4.2  4.5  2.6\n",
      " 4.4  0.1  2.1  0.9  3.3  1.11 3.8  1.7 ]\n",
      "carEngine ['Xăng' 'Dầu' 'Hybrid' 'Điện' '-' 'Loạikhác']\n"
     ]
    }
   ],
   "source": [
    "feature_list = [feature for feature in data.columns if  feature!='car'and feature!='km'and feature!='id'and feature!='price']\n",
    "for feature in feature_list:\n",
    "    print(feature, data[feature].unique())"
   ]
  },
  {
   "cell_type": "markdown",
   "metadata": {},
   "source": [
    "## Chuyển các giá trị trống '-' hoặc giá trị lỗi về NaN "
   ]
  },
  {
   "cell_type": "markdown",
   "metadata": {},
   "source": [
    "### Chuyển '-' về NaN\n"
   ]
  },
  {
   "cell_type": "code",
   "execution_count": 1187,
   "metadata": {},
   "outputs": [],
   "source": [
    "data = data.replace('-', np.NaN, regex=True)\n",
    "data[\"carSeat\"] = data[\"carSeat\"].astype(int)"
   ]
  },
  {
   "cell_type": "markdown",
   "metadata": {},
   "source": [
    "### Chuyển các giá trị lỗi về NaN"
   ]
  },
  {
   "cell_type": "code",
   "execution_count": 1188,
   "metadata": {},
   "outputs": [],
   "source": [
    "data['carDoor'] =data['carDoor'].replace(0, np.NaN, regex=True)\n",
    "data['carSeat'] =data['carSeat'].replace(0, np.NaN, regex=True)\n",
    "data['capacity'] =data['capacity'].replace(0, np.NaN, regex=True)\n",
    "data['yearsManufacturing'] =data['yearsManufacturing'].replace('AT', np.NaN, regex=True)\n",
    "data['yearsManufacturing'] =data['yearsManufacturing'].replace('AT', np.NaN, regex=True).replace( 'MT',np.NaN, regex=True)"
   ]
  },
  {
   "cell_type": "markdown",
   "metadata": {},
   "source": [
    "## Loại bỏ các cột không cần thiết"
   ]
  },
  {
   "cell_type": "code",
   "execution_count": 1189,
   "metadata": {},
   "outputs": [],
   "source": [
    "data = data.drop(['id'], axis=1)\n",
    "data = data.drop(['car'], axis=1)\n",
    "data = data.drop(['engine'], axis=1)"
   ]
  },
  {
   "cell_type": "markdown",
   "metadata": {},
   "source": [
    "# Xử lí dữ liệu trống"
   ]
  },
  {
   "cell_type": "code",
   "execution_count": 1190,
   "metadata": {},
   "outputs": [
    {
     "data": {
      "text/plain": [
       "price                   0\n",
       " origin                 0\n",
       "condition               0\n",
       "carType                 0\n",
       "km                      0\n",
       "carColor                4\n",
       "interiorColor         290\n",
       "carDoor                 0\n",
       "carSeat                14\n",
       "gear                    5\n",
       "wheelDrive             20\n",
       "carMaker                0\n",
       "yearsManufacturing      3\n",
       "capacity              242\n",
       "carEngine               6\n",
       "dtype: int64"
      ]
     },
     "execution_count": 1190,
     "metadata": {},
     "output_type": "execute_result"
    }
   ],
   "source": [
    "data.isnull().sum()"
   ]
  },
  {
   "cell_type": "markdown",
   "metadata": {},
   "source": [
    "## Hàm thay thế dữ liệu trống bằng giá trị random"
   ]
  },
  {
   "cell_type": "code",
   "execution_count": 1191,
   "metadata": {},
   "outputs": [],
   "source": [
    "def random(data):\n",
    "    random_samples = data.dropna().sample(n=data.isnull().sum(),random_state=0)\n",
    "    random_samples.index = data[data.isnull()].index\n",
    "    data.update(random_samples)\n",
    "    return(data)\n"
   ]
  },
  {
   "cell_type": "markdown",
   "metadata": {},
   "source": [
    "## Thay thế giá trị ngẫu nhiên vào dữ liệu trống tại các cột"
   ]
  },
  {
   "cell_type": "code",
   "execution_count": 1192,
   "metadata": {},
   "outputs": [],
   "source": [
    "data['gear']=random(data['gear'])\n",
    "data['wheelDrive']=random(data['wheelDrive'])\n",
    "data['carDoor']=random(data['carDoor'])\n",
    "data['carEngine']=random(data['carEngine'])\n",
    "data['capacity']=random(data['capacity'])\n",
    "data['carColor']=random(data['carColor'])\n",
    "data['carSeat']=random(data['carSeat'])\n",
    "data['interiorColor']=random(data['interiorColor'])\n",
    "data['yearsManufacturing']=random(data['yearsManufacturing'])"
   ]
  },
  {
   "cell_type": "markdown",
   "metadata": {},
   "source": [
    "# EDA"
   ]
  },
  {
   "cell_type": "markdown",
   "metadata": {},
   "source": [
    "### Chuyển các giá trị sang kiểu số"
   ]
  },
  {
   "cell_type": "code",
   "execution_count": 1193,
   "metadata": {},
   "outputs": [],
   "source": [
    "data['yearsManufacturing']=(data['yearsManufacturing']).astype(int)\n",
    "data['km']=data['km'].astype(int)\n",
    "data[\"carDoor\"] = data[\"carDoor\"].astype(int)\n",
    "data[\"carSeat\"] = data[\"carSeat\"].astype(int)\n",
    "data[\"price\"] = data[\"price\"].astype(int)\n"
   ]
  },
  {
   "cell_type": "markdown",
   "metadata": {},
   "source": [
    "### Khảo sát tỉ lệ tình trạng xe"
   ]
  },
  {
   "cell_type": "code",
   "execution_count": 1194,
   "metadata": {},
   "outputs": [
    {
     "data": {
      "text/plain": [
       "<AxesSubplot:title={'center':'Distribution'}, ylabel='condition'>"
      ]
     },
     "execution_count": 1194,
     "metadata": {},
     "output_type": "execute_result"
    },
    {
     "data": {
      "image/png": "[encoded data removed]",
      "text/plain": [
       "<Figure size 500x500 with 1 Axes>"
      ]
     },
     "metadata": {},
     "output_type": "display_data"
    }
   ],
   "source": [
    "plt.figure(1, figsize=(5,5), dpi = 100)\n",
    "plt.title(\"Distribution\")\n",
    "data['condition'].value_counts().plot.pie(autopct=\"%1.1f%%\")"
   ]
  },
  {
   "cell_type": "markdown",
   "metadata": {},
   "source": [
    "* Biểu đồ tròn thể hiện tỉ lệ của xe đã dùng và xe mới có trong dataset\n",
    "* Lượng xe đã dùng chênh lệch lớn so với xe mới\n",
    "* Nhìn chung trang web chủ yếu là nơi mua bán các dòng xe đã qua sử dụng  "
   ]
  },
  {
   "cell_type": "markdown",
   "metadata": {},
   "source": [
    "### Khảo sát giá xe đăng bán tại trang web"
   ]
  },
  {
   "cell_type": "code",
   "execution_count": 1195,
   "metadata": {},
   "outputs": [
    {
     "data": {
      "text/plain": [
       "<AxesSubplot:xlabel='price', ylabel='Count'>"
      ]
     },
     "execution_count": 1195,
     "metadata": {},
     "output_type": "execute_result"
    },
    {
     "data": {
      "image/png": "[encoded data removed]",
      "text/plain": [
       "<Figure size 1080x576 with 1 Axes>"
      ]
     },
     "metadata": {},
     "output_type": "display_data"
    }
   ],
   "source": [
    "fig, ax = plt.subplots()\n",
    "fig.set_size_inches(15, 8)\n",
    "sns.histplot(data['price'],kde=True)"
   ]
  },
  {
   "cell_type": "markdown",
   "metadata": {},
   "source": [
    "* Đồ thị cột thể hiện giá tiền của tất cả xe được đăng bán \n",
    "* Các xe được đăng bán tại trang web có giá thành tập trung trong khoảng < 5 tỷ\n",
    "* Giá xe phổ biến nhất là từ 0.5 - 2 tỷ  "
   ]
  },
  {
   "cell_type": "markdown",
   "metadata": {},
   "source": [
    "### Khảo sát giá trung bình của từng hãng, loại xe\n"
   ]
  },
  {
   "cell_type": "code",
   "execution_count": 1196,
   "metadata": {},
   "outputs": [
    {
     "data": {
      "image/png": "[encoded data removed]",
      "text/plain": [
       "<Figure size 1080x432 with 1 Axes>"
      ]
     },
     "metadata": {},
     "output_type": "display_data"
    },
    {
     "data": {
      "image/png": "[encoded data removed]",
      "text/plain": [
       "<Figure size 1080x432 with 1 Axes>"
      ]
     },
     "metadata": {},
     "output_type": "display_data"
    }
   ],
   "source": [
    "\n",
    "df = pd.DataFrame(data.groupby(['carMaker'])['price'].mean().sort_values(ascending = False))\n",
    "df.plot.bar(figsize=(15,6))\n",
    "plt.title('carMaker Car vs Average price')\n",
    "plt.show()\n",
    "\n",
    "df = pd.DataFrame(data.groupby(['carType'])['price'].mean().sort_values(ascending = False))\n",
    "df.plot.bar(figsize=(15,6))\n",
    "plt.title('carType vs Average price')\n",
    "plt.show()"
   ]
  },
  {
   "cell_type": "markdown",
   "metadata": {},
   "source": [
    "* Đồ thị cột thể hiện mức giá trung bình theo từng hãng , loại xe. \n",
    "* Các hãng xe cao cấp như Roll Royce, Lambor, Burnley,.. có mức giá trung bình cao hơn hẳn so với các hãng khác. \n",
    "* Dòng xe coupe là dòng xe có giá trị đắt đỏ nhất"
   ]
  },
  {
   "cell_type": "markdown",
   "metadata": {},
   "source": [
    "### Tương quan giữa giá tiền với dung tích động cơ và năm sản xuất "
   ]
  },
  {
   "cell_type": "code",
   "execution_count": 1197,
   "metadata": {},
   "outputs": [
    {
     "data": {
      "image/png": "[encoded data removed]",
      "text/plain": [
       "<Figure size 1440x2160 with 2 Axes>"
      ]
     },
     "metadata": {},
     "output_type": "display_data"
    }
   ],
   "source": [
    "def scatter(x,fig):\n",
    "    plt.subplot(2,2,fig)\n",
    "    plt.scatter(data[x],data['price'])\n",
    "    plt.title(x+' vs price')\n",
    "    plt.ylabel('price')\n",
    "    plt.xlabel(x)\n",
    "\n",
    "plt.figure(figsize=(20,30))\n",
    "\n",
    "scatter('capacity', 1)\n",
    "scatter('yearsManufacturing', 2)"
   ]
  },
  {
   "cell_type": "markdown",
   "metadata": {},
   "source": [
    "* Đồ thị phân tán thể hiện tương quan giữa giá tiền với các đặc trưng. \n",
    "* Giá bán của xe có xu hướng ngày càng tăng qua các năm\n",
    "* Các dòng xe có mức giá phổ thông (< 3 tỷ) có dung tích của động cơ tập trung nhiều trong khoảng từ 1-3L \n"
   ]
  },
  {
   "cell_type": "code",
   "execution_count": 1203,
   "metadata": {},
   "outputs": [],
   "source": [
    "data.to_csv('data_clean.csv', index=False)"
   ]
  }
 ],
 "metadata": {
  "kernelspec": {
   "display_name": "Python 3.10.0 64-bit",
   "language": "python",
   "name": "python3"
  },
  "language_info": {
   "codemirror_mode": {
    "name": "ipython",
    "version": 3
   },
   "file_extension": ".py",
   "mimetype": "text/x-python",
   "name": "python",
   "nbconvert_exporter": "python",
   "pygments_lexer": "ipython3",
   "version": "3.10.0"
  },
  "orig_nbformat": 4,
  "vscode": {
   "interpreter": {
    "hash": "7de1969bfdfaac630cc6ddc79437c3430948ff1e773af0e7e3cc05d670e425c4"
   }
  }
 },
 "nbformat": 4,
 "nbformat_minor": 2
}
