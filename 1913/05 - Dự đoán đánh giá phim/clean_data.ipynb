{
 "cells": [
  {
   "cell_type": "code",
   "execution_count": 229,
   "metadata": {},
   "outputs": [],
   "source": [
    "# Import các thư viện\n",
    "import warnings\n",
    "warnings.filterwarnings('ignore')\n",
    "import numpy as np\n",
    "import pandas as pd\n",
    "import seaborn as sns\n",
    "import matplotlib.pyplot as plt\n",
    "from sklearn.model_selection import train_test_split\n",
    "from sklearn.linear_model import LinearRegression\n",
    "from sklearn.preprocessing import LabelEncoder\n",
    "from sklearn.preprocessing import MultiLabelBinarizer\n",
    "from sklearn.metrics import mean_squared_error, r2_score\n",
    "import scipy.stats as stat\n",
    "from sklearn.model_selection import KFold"
   ]
  },
  {
   "cell_type": "markdown",
   "metadata": {},
   "source": [
    "# **Làm sạch dữ liệu**"
   ]
  },
  {
   "cell_type": "code",
   "execution_count": 230,
   "metadata": {},
   "outputs": [],
   "source": [
    "df = pd.read_csv(\"./raw_data.csv\", encoding=\"utf-8\")\n",
    "df = df.drop([\"Reelgood_Rating\",\"Unnamed: 0\"], axis=1)"
   ]
  },
  {
   "cell_type": "code",
   "execution_count": 231,
   "metadata": {},
   "outputs": [
    {
     "name": "stdout",
     "output_type": "stream",
     "text": [
      "\n",
      "Số lượng đặc trưng là: 13 \n",
      "\n",
      "Số lượng đặc trưng là dữ liệu số học là : 2 \n",
      " Index(['IMDB_Rating', 'Year'], dtype='object') \n",
      "\n",
      "Số lượng đặc trưng là dữ liệu phân loại là: 11 \n",
      " Index(['Title', 'Genres', 'Tags', 'Country', 'Source', 'Rated', 'Duration',\n",
      "       'Description', 'Director', 'Employees', 'User_Votes'],\n",
      "      dtype='object') \n"
     ]
    }
   ],
   "source": [
    "# Đặc trưng của dataset\n",
    "print(\"\\nSố lượng đặc trưng là: {0} \".format(len(df.columns)))\n",
    "\n",
    "# Đặc trưng số học\n",
    "numeric = df.dtypes[df.dtypes != 'object'].index\n",
    "data_numeric = df[numeric]\n",
    "print(\"\\nSố lượng đặc trưng là dữ liệu số học là : {0} \\n {1} \".format(len(numeric),numeric))\n",
    "\n",
    "# Đặc trưng phân loại\n",
    "category = df.dtypes[df.dtypes == 'object'].index\n",
    "data_category = df[category]\n",
    "print(\"\\nSố lượng đặc trưng là dữ liệu phân loại là: {0} \\n {1} \".format(len(category),category))"
   ]
  },
  {
   "cell_type": "code",
   "execution_count": 232,
   "metadata": {},
   "outputs": [],
   "source": [
    "def missing (df):\n",
    "    missing_number = df.isna().sum().sort_values(ascending=False)\n",
    "    missing_percent = (df.isna().sum()*100/df.isna().count()).sort_values(ascending=False)\n",
    "    missing_values = pd.concat([missing_number, missing_percent], axis=1, keys=['Missing_Number', 'Missing_Percent'])\n",
    "    return missing_values"
   ]
  },
  {
   "cell_type": "code",
   "execution_count": 233,
   "metadata": {},
   "outputs": [
    {
     "data": {
      "text/html": [
       "<div>\n",
       "<style scoped>\n",
       "    .dataframe tbody tr th:only-of-type {\n",
       "        vertical-align: middle;\n",
       "    }\n",
       "\n",
       "    .dataframe tbody tr th {\n",
       "        vertical-align: top;\n",
       "    }\n",
       "\n",
       "    .dataframe thead th {\n",
       "        text-align: right;\n",
       "    }\n",
       "</style>\n",
       "<table border=\"1\" class=\"dataframe\">\n",
       "  <thead>\n",
       "    <tr style=\"text-align: right;\">\n",
       "      <th></th>\n",
       "      <th>Missing_Number</th>\n",
       "      <th>Missing_Percent</th>\n",
       "    </tr>\n",
       "  </thead>\n",
       "  <tbody>\n",
       "    <tr>\n",
       "      <th>Rated</th>\n",
       "      <td>2599</td>\n",
       "      <td>58.338945</td>\n",
       "    </tr>\n",
       "    <tr>\n",
       "      <th>Source</th>\n",
       "      <td>1652</td>\n",
       "      <td>37.081930</td>\n",
       "    </tr>\n",
       "    <tr>\n",
       "      <th>Country</th>\n",
       "      <td>1630</td>\n",
       "      <td>36.588103</td>\n",
       "    </tr>\n",
       "    <tr>\n",
       "      <th>Director</th>\n",
       "      <td>907</td>\n",
       "      <td>20.359147</td>\n",
       "    </tr>\n",
       "    <tr>\n",
       "      <th>Duration</th>\n",
       "      <td>131</td>\n",
       "      <td>2.940516</td>\n",
       "    </tr>\n",
       "    <tr>\n",
       "      <th>User_Votes</th>\n",
       "      <td>59</td>\n",
       "      <td>1.324355</td>\n",
       "    </tr>\n",
       "    <tr>\n",
       "      <th>Employees</th>\n",
       "      <td>0</td>\n",
       "      <td>0.000000</td>\n",
       "    </tr>\n",
       "    <tr>\n",
       "      <th>Description</th>\n",
       "      <td>0</td>\n",
       "      <td>0.000000</td>\n",
       "    </tr>\n",
       "    <tr>\n",
       "      <th>Tags</th>\n",
       "      <td>0</td>\n",
       "      <td>0.000000</td>\n",
       "    </tr>\n",
       "    <tr>\n",
       "      <th>Year</th>\n",
       "      <td>0</td>\n",
       "      <td>0.000000</td>\n",
       "    </tr>\n",
       "    <tr>\n",
       "      <th>Genres</th>\n",
       "      <td>0</td>\n",
       "      <td>0.000000</td>\n",
       "    </tr>\n",
       "    <tr>\n",
       "      <th>IMDB_Rating</th>\n",
       "      <td>0</td>\n",
       "      <td>0.000000</td>\n",
       "    </tr>\n",
       "    <tr>\n",
       "      <th>Title</th>\n",
       "      <td>0</td>\n",
       "      <td>0.000000</td>\n",
       "    </tr>\n",
       "  </tbody>\n",
       "</table>\n",
       "</div>"
      ],
      "text/plain": [
       "             Missing_Number  Missing_Percent\n",
       "Rated                  2599        58.338945\n",
       "Source                 1652        37.081930\n",
       "Country                1630        36.588103\n",
       "Director                907        20.359147\n",
       "Duration                131         2.940516\n",
       "User_Votes               59         1.324355\n",
       "Employees                 0         0.000000\n",
       "Description               0         0.000000\n",
       "Tags                      0         0.000000\n",
       "Year                      0         0.000000\n",
       "Genres                    0         0.000000\n",
       "IMDB_Rating               0         0.000000\n",
       "Title                     0         0.000000"
      ]
     },
     "execution_count": 233,
     "metadata": {},
     "output_type": "execute_result"
    }
   ],
   "source": [
    "missing(df)"
   ]
  },
  {
   "cell_type": "code",
   "execution_count": 234,
   "metadata": {},
   "outputs": [
    {
     "data": {
      "text/html": [
       "<div>\n",
       "<style scoped>\n",
       "    .dataframe tbody tr th:only-of-type {\n",
       "        vertical-align: middle;\n",
       "    }\n",
       "\n",
       "    .dataframe tbody tr th {\n",
       "        vertical-align: top;\n",
       "    }\n",
       "\n",
       "    .dataframe thead th {\n",
       "        text-align: right;\n",
       "    }\n",
       "</style>\n",
       "<table border=\"1\" class=\"dataframe\">\n",
       "  <thead>\n",
       "    <tr style=\"text-align: right;\">\n",
       "      <th></th>\n",
       "      <th>Title</th>\n",
       "      <th>IMDB_Rating</th>\n",
       "      <th>Genres</th>\n",
       "      <th>Year</th>\n",
       "      <th>Tags</th>\n",
       "      <th>Country</th>\n",
       "      <th>Source</th>\n",
       "      <th>Rated</th>\n",
       "      <th>Duration</th>\n",
       "      <th>Description</th>\n",
       "      <th>Director</th>\n",
       "      <th>Employees</th>\n",
       "      <th>User_Votes</th>\n",
       "    </tr>\n",
       "  </thead>\n",
       "  <tbody>\n",
       "    <tr>\n",
       "      <th>0</th>\n",
       "      <td>The Lost City</td>\n",
       "      <td>6.2</td>\n",
       "      <td>['Romance', 'Action &amp; Adventure']</td>\n",
       "      <td>2022</td>\n",
       "      <td>[]</td>\n",
       "      <td>America</td>\n",
       "      <td>Epix</td>\n",
       "      <td>13+ (PG-13)</td>\n",
       "      <td>PT1H52M</td>\n",
       "      <td>Follows a reclusive romance novelist who was s...</td>\n",
       "      <td>Aaron Nee</td>\n",
       "      <td>['Adam Nee', 'Sandra Bullock', 'Channing Tatum...</td>\n",
       "      <td>48,599 votes</td>\n",
       "    </tr>\n",
       "    <tr>\n",
       "      <th>1</th>\n",
       "      <td>Chip 'n Dale: Rescue Rangers</td>\n",
       "      <td>7.2</td>\n",
       "      <td>['Action &amp; Adventure', 'Animation']</td>\n",
       "      <td>2022</td>\n",
       "      <td>[]</td>\n",
       "      <td>NaN</td>\n",
       "      <td>Disney+</td>\n",
       "      <td>7+ (PG)</td>\n",
       "      <td>PT1H39M</td>\n",
       "      <td>Thirty years after their popular television sh...</td>\n",
       "      <td>NaN</td>\n",
       "      <td>[]</td>\n",
       "      <td>13,451 votes</td>\n",
       "    </tr>\n",
       "    <tr>\n",
       "      <th>2</th>\n",
       "      <td>Uncharted</td>\n",
       "      <td>6.4</td>\n",
       "      <td>['Drama', 'Action &amp; Adventure']</td>\n",
       "      <td>2022</td>\n",
       "      <td>['Video Games']</td>\n",
       "      <td>America</td>\n",
       "      <td>NaN</td>\n",
       "      <td>13+ (PG-13)</td>\n",
       "      <td>PT1H56M</td>\n",
       "      <td>A young street-smart, Nathan Drake and his wis...</td>\n",
       "      <td>Ruben Fleischer</td>\n",
       "      <td>['Tom Holland', 'Mark Wahlberg', 'Antonio Band...</td>\n",
       "      <td>118,363 votes</td>\n",
       "    </tr>\n",
       "    <tr>\n",
       "      <th>3</th>\n",
       "      <td>Spider-Man: No Way Home</td>\n",
       "      <td>8.3</td>\n",
       "      <td>['Comedy', 'Drama']</td>\n",
       "      <td>2021</td>\n",
       "      <td>['Teen', 'Superhero', 'Supernatural']</td>\n",
       "      <td>America</td>\n",
       "      <td>NaN</td>\n",
       "      <td>13+ (PG-13)</td>\n",
       "      <td>PT2H28M</td>\n",
       "      <td>Peter Parker is unmasked and no longer able to...</td>\n",
       "      <td>Jon Watts</td>\n",
       "      <td>['Tom Holland', 'Zendaya', 'Benedict Cumberbat...</td>\n",
       "      <td>638,869 votes</td>\n",
       "    </tr>\n",
       "    <tr>\n",
       "      <th>4</th>\n",
       "      <td>Top Gun</td>\n",
       "      <td>6.9</td>\n",
       "      <td>['Romance', 'Action &amp; Adventure']</td>\n",
       "      <td>1986</td>\n",
       "      <td>['Military', 'Feel-good']</td>\n",
       "      <td>America</td>\n",
       "      <td>Paramount+</td>\n",
       "      <td>13+ (PG-13)</td>\n",
       "      <td>PT1H50M</td>\n",
       "      <td>A heart-pounding combination of action, music ...</td>\n",
       "      <td>Tony Scott</td>\n",
       "      <td>['Tom Cruise', 'Kelly McGillis', 'Val Kilmer',...</td>\n",
       "      <td>337,760 votes</td>\n",
       "    </tr>\n",
       "  </tbody>\n",
       "</table>\n",
       "</div>"
      ],
      "text/plain": [
       "                          Title  IMDB_Rating  \\\n",
       "0                 The Lost City          6.2   \n",
       "1  Chip 'n Dale: Rescue Rangers          7.2   \n",
       "2                     Uncharted          6.4   \n",
       "3       Spider-Man: No Way Home          8.3   \n",
       "4                       Top Gun          6.9   \n",
       "\n",
       "                                Genres  Year  \\\n",
       "0    ['Romance', 'Action & Adventure']  2022   \n",
       "1  ['Action & Adventure', 'Animation']  2022   \n",
       "2      ['Drama', 'Action & Adventure']  2022   \n",
       "3                  ['Comedy', 'Drama']  2021   \n",
       "4    ['Romance', 'Action & Adventure']  1986   \n",
       "\n",
       "                                    Tags  Country      Source        Rated  \\\n",
       "0                                     []  America        Epix  13+ (PG-13)   \n",
       "1                                     []      NaN     Disney+      7+ (PG)   \n",
       "2                        ['Video Games']  America         NaN  13+ (PG-13)   \n",
       "3  ['Teen', 'Superhero', 'Supernatural']  America         NaN  13+ (PG-13)   \n",
       "4              ['Military', 'Feel-good']  America  Paramount+  13+ (PG-13)   \n",
       "\n",
       "  Duration                                        Description  \\\n",
       "0  PT1H52M  Follows a reclusive romance novelist who was s...   \n",
       "1  PT1H39M  Thirty years after their popular television sh...   \n",
       "2  PT1H56M  A young street-smart, Nathan Drake and his wis...   \n",
       "3  PT2H28M  Peter Parker is unmasked and no longer able to...   \n",
       "4  PT1H50M  A heart-pounding combination of action, music ...   \n",
       "\n",
       "          Director                                          Employees  \\\n",
       "0        Aaron Nee  ['Adam Nee', 'Sandra Bullock', 'Channing Tatum...   \n",
       "1              NaN                                                 []   \n",
       "2  Ruben Fleischer  ['Tom Holland', 'Mark Wahlberg', 'Antonio Band...   \n",
       "3        Jon Watts  ['Tom Holland', 'Zendaya', 'Benedict Cumberbat...   \n",
       "4       Tony Scott  ['Tom Cruise', 'Kelly McGillis', 'Val Kilmer',...   \n",
       "\n",
       "      User_Votes  \n",
       "0   48,599 votes  \n",
       "1   13,451 votes  \n",
       "2  118,363 votes  \n",
       "3  638,869 votes  \n",
       "4  337,760 votes  "
      ]
     },
     "execution_count": 234,
     "metadata": {},
     "output_type": "execute_result"
    }
   ],
   "source": [
    "df.head()"
   ]
  },
  {
   "cell_type": "code",
   "execution_count": 235,
   "metadata": {},
   "outputs": [],
   "source": [
    "# Chuyển đổi user_votes sang số\n",
    "df[\"User_Votes\"] = df[\"User_Votes\"].astype(str)\n",
    "df['User_Votes'] = df['User_Votes'].apply(lambda x: int(x.replace(\",\", \"\").split(\" \")[0].strip()) if 'nan' not in x else 0)"
   ]
  },
  {
   "cell_type": "code",
   "execution_count": 236,
   "metadata": {},
   "outputs": [],
   "source": [
    "# Chuyển đổi duration sang số\n",
    "df[\"Duration\"] = df[\"Duration\"].astype(str)\n",
    "def convert_to_minutes(str_duration): \n",
    "    if str_duration != 'nan':\n",
    "        str_duration = str_duration[2:].replace(\"M\", \"\")\n",
    "        if \"H\" in str_duration:\n",
    "            arr_time = str_duration.split(\"H\")\n",
    "            return int(arr_time[0]) * 60 + int(arr_time[1])\n",
    "        else:\n",
    "            return int(str_duration)\n",
    "    else: return 0\n",
    "df['Duration'] = df['Duration'].apply(lambda x: convert_to_minutes(x))"
   ]
  },
  {
   "cell_type": "code",
   "execution_count": 237,
   "metadata": {},
   "outputs": [
    {
     "name": "stdout",
     "output_type": "stream",
     "text": [
      "['America' 'Other Country' 'United Kingdom' 'Canada' 'France' 'India']\n"
     ]
    }
   ],
   "source": [
    "# Xử lý biến trống Country\n",
    "# Nhóm các quốc gia chiếm tỉ lệ thấp nhất -> Other Country\n",
    "# Giữ lại 5 quốc gia chiếm tỉ lệ cao (America, United Kingdom, Canada, India, France)\n",
    "for i in range(len(df['Country'])):\n",
    "\tif df.iloc[i,5] != 'America' and df.iloc[i,5] != 'United Kingdom' and df.iloc[i,5] != 'Canada' and df.iloc[i,5] != 'India' and df.iloc[i,5] != 'France':\n",
    "\t\tdf.iloc[i,5] = 'Other Country'\n",
    "\telse:\n",
    "\t\tdf.iloc[i,5] = df.iloc[i,5]\n",
    "df['Country'].fillna('Other Country', inplace=True) # fillna \n",
    "print(df['Country'].unique())"
   ]
  },
  {
   "cell_type": "code",
   "execution_count": 238,
   "metadata": {},
   "outputs": [],
   "source": [
    "def bar_plot_data(df: dict, field: str, subtitle: str, figsize=(15, 8), top_filter=15):\n",
    "    fig, ax1 = plt.subplots(figsize=figsize, dpi=100)\n",
    "    \n",
    "    for spline in ['top', 'right', 'left']:\n",
    "        ax1.spines[spline].set_visible(False)\n",
    "          \n",
    "    df_filter = df[field].value_counts().rename_axis(field).reset_index(name='counts')\n",
    "    if top_filter:\n",
    "        df_filter = df_filter.head(top_filter)\n",
    "    sns.barplot(data=df_filter, palette='cool', x='counts', y=field)\n",
    "    ax1.tick_params(axis='both', which='both', labelsize=12, bottom=True, left=False)\n",
    "    ax1.set_xlabel(f'count', fontsize=13, color = '#333F4B')\n",
    "    ax1.set_ylabel(f'{field}', fontsize=13, color = '#333F4B')\n",
    "\n",
    "    plt.plot(color=\"white\", lw=3)\n",
    "    fig.suptitle(subtitle, fontsize=18)\n",
    "    plt.show()"
   ]
  },
  {
   "cell_type": "code",
   "execution_count": 239,
   "metadata": {},
   "outputs": [
    {
     "data": {
      "image/png": "[encoded data removed]",
      "text/plain": [
       "<Figure size 1500x800 with 1 Axes>"
      ]
     },
     "metadata": {
      "needs_background": "light"
     },
     "output_type": "display_data"
    }
   ],
   "source": [
    "bar_plot_data(df, \"Country\", \"Top 5 Country of the movie\")"
   ]
  },
  {
   "cell_type": "markdown",
   "metadata": {},
   "source": [
    "\tNhận xét : \n",
    "- Sau khi rút gọn còn lại 5 quốc gia phổ biến nhất thì lượng phim của nước Mỹ (America) vẫn chiếm tỷ lệ cao nhất , thấp nhất là Pháp(France).\n",
    "- Điều này cho thấy Mỹ là quốc gia có nền điện ảnh lớn nhất toàn cầu."
   ]
  },
  {
   "cell_type": "code",
   "execution_count": 240,
   "metadata": {},
   "outputs": [],
   "source": [
    "# Xử lý biến trống Source\n",
    "# Giữ lại Source phim của top 5 quốc gia đã được chọn\n",
    "for i in range(len(df['Source'])):\n",
    "\tif df.iloc[i,5] != 'America' and df.iloc[i,5] != 'United Kingdom' and df.iloc[i,5] != 'Canada' and df.iloc[i,5] != 'India' and df.iloc[i,5] != 'France':\n",
    "\t\tdf.iloc[i,6] = 'Other Source'\n",
    "\telse:\n",
    "\t\tdf.iloc[i,6] = df.iloc[i,6]\n",
    "df['Source'].fillna('Other Source', inplace=True) # fillna"
   ]
  },
  {
   "cell_type": "code",
   "execution_count": 241,
   "metadata": {},
   "outputs": [
    {
     "name": "stdout",
     "output_type": "stream",
     "text": [
      "['Young Adults' 'Kids' 'Adults' 'General']\n"
     ]
    }
   ],
   "source": [
    "# Xử lý biến trống Rated\n",
    "for i in range(len(df['Rated'])):\n",
    "\tif df.iloc[i,7] == '18+ (R)':\n",
    "\t\tdf.iloc[i,7] = 'Adults'\n",
    "\tif df.iloc[i,7] == '16+' or df.iloc[i,7] == '13+ (PG-13)':\n",
    "\t\tdf.iloc[i,7] = 'Young Adults'\n",
    "\tif df.iloc[i,7] == '7+ (PG)':\n",
    "\t\tdf.iloc[i,7] = 'Kids'\n",
    "\tif df.iloc[i,7] == 'All (G)':\n",
    "\t\tdf.iloc[i,7] = 'General'\n",
    "df['Rated'].fillna('General', inplace=True) #fillna\n",
    "print(df['Rated'].unique())"
   ]
  },
  {
   "cell_type": "code",
   "execution_count": 242,
   "metadata": {},
   "outputs": [
    {
     "data": {
      "text/plain": [
       "<AxesSubplot:xlabel='Country', ylabel='Rated'>"
      ]
     },
     "execution_count": 242,
     "metadata": {},
     "output_type": "execute_result"
    },
    {
     "data": {
      "image/png": "[encoded data removed]",
      "text/plain": [
       "<Figure size 1500x750 with 1 Axes>"
      ]
     },
     "metadata": {
      "needs_background": "light"
     },
     "output_type": "display_data"
    }
   ],
   "source": [
    "dataframe = pd.DataFrame(df, columns=['Country', 'Rated'])\n",
    "dataframe = dataframe.groupby('Country')['Rated'].sum().sort_values(ascending=False).reset_index()[:10]\n",
    "data =  dataframe['Country']\n",
    "df_heatmap = df.loc[df['Country'].isin(data)]\n",
    "df_heatmap = pd.crosstab(df_heatmap['Country'], df_heatmap['Rated'] , normalize='index').T\n",
    "fig, ax = plt.subplots(1, 1, figsize=(10, 5), dpi=150)\n",
    "\n",
    "country_list = ['India', 'United Kingdom', 'Canada', 'France', 'America']\n",
    "rate_list = ['Kids', 'Adults', 'Young Adults']\n",
    "sns.heatmap(df_heatmap, annot=True, fmt='1.0%', cmap='YlGnBu', cbar=False, xticklabels=country_list, yticklabels=rate_list)"
   ]
  },
  {
   "cell_type": "markdown",
   "metadata": {},
   "source": [
    "\tNhận xét:\n",
    "- Độ tuổi xem phim nhiều nhất rơi vào độ tuổi thanh niên , trên 18 tuổi (Adults) . Chiếm tỉ lệ cao nhất là nước Mỹ (quốc gia sản xuất phim nhiều nhất thế giới) . Thấp nhất là Ấn Độ.\n",
    "- Độ tuổi trẻ em chiếm lượt xem nhiều đứng thứ hai.\n",
    "- Cuối cùng tuổi vị thành nên (Young Adults) là độ tuổi chiếm lượt xem ít nhất.\n",
    "\n",
    "=> Các nhân tố trên cho thấy rằng , việc đánh giá phim hay hoặc không hay , phổ biến hay không thì độ tuổi cũng là yếu tố có sự ảnh hưởng."
   ]
  },
  {
   "cell_type": "code",
   "execution_count": 243,
   "metadata": {},
   "outputs": [],
   "source": [
    "# Xử lý biến trống Director\n",
    "for i in range(len(df['Director'])):\n",
    "\tif df.iloc[i,5] != 'America' and df.iloc[i,5] != 'United Kingdom' and df.iloc[i,5] != 'Canada' and df.iloc[i,5] != 'India' and df.iloc[i,5] != 'France':\n",
    "\t\tdf.iloc[i,10] = 'Other Director'\n",
    "\telse:\n",
    "\t\tdf.iloc[i,10] = df.iloc[i,10]\n",
    "df['Director'].fillna('Other Director', inplace=True) #fillna"
   ]
  },
  {
   "cell_type": "code",
   "execution_count": 244,
   "metadata": {},
   "outputs": [
    {
     "data": {
      "text/html": [
       "<div>\n",
       "<style scoped>\n",
       "    .dataframe tbody tr th:only-of-type {\n",
       "        vertical-align: middle;\n",
       "    }\n",
       "\n",
       "    .dataframe tbody tr th {\n",
       "        vertical-align: top;\n",
       "    }\n",
       "\n",
       "    .dataframe thead th {\n",
       "        text-align: right;\n",
       "    }\n",
       "</style>\n",
       "<table border=\"1\" class=\"dataframe\">\n",
       "  <thead>\n",
       "    <tr style=\"text-align: right;\">\n",
       "      <th></th>\n",
       "      <th>Missing_Number</th>\n",
       "      <th>Missing_Percent</th>\n",
       "    </tr>\n",
       "  </thead>\n",
       "  <tbody>\n",
       "    <tr>\n",
       "      <th>User_Votes</th>\n",
       "      <td>0</td>\n",
       "      <td>0.0</td>\n",
       "    </tr>\n",
       "    <tr>\n",
       "      <th>Employees</th>\n",
       "      <td>0</td>\n",
       "      <td>0.0</td>\n",
       "    </tr>\n",
       "    <tr>\n",
       "      <th>Director</th>\n",
       "      <td>0</td>\n",
       "      <td>0.0</td>\n",
       "    </tr>\n",
       "    <tr>\n",
       "      <th>Description</th>\n",
       "      <td>0</td>\n",
       "      <td>0.0</td>\n",
       "    </tr>\n",
       "    <tr>\n",
       "      <th>Duration</th>\n",
       "      <td>0</td>\n",
       "      <td>0.0</td>\n",
       "    </tr>\n",
       "    <tr>\n",
       "      <th>Rated</th>\n",
       "      <td>0</td>\n",
       "      <td>0.0</td>\n",
       "    </tr>\n",
       "    <tr>\n",
       "      <th>Source</th>\n",
       "      <td>0</td>\n",
       "      <td>0.0</td>\n",
       "    </tr>\n",
       "    <tr>\n",
       "      <th>Country</th>\n",
       "      <td>0</td>\n",
       "      <td>0.0</td>\n",
       "    </tr>\n",
       "    <tr>\n",
       "      <th>Tags</th>\n",
       "      <td>0</td>\n",
       "      <td>0.0</td>\n",
       "    </tr>\n",
       "    <tr>\n",
       "      <th>Year</th>\n",
       "      <td>0</td>\n",
       "      <td>0.0</td>\n",
       "    </tr>\n",
       "    <tr>\n",
       "      <th>Genres</th>\n",
       "      <td>0</td>\n",
       "      <td>0.0</td>\n",
       "    </tr>\n",
       "    <tr>\n",
       "      <th>IMDB_Rating</th>\n",
       "      <td>0</td>\n",
       "      <td>0.0</td>\n",
       "    </tr>\n",
       "    <tr>\n",
       "      <th>Title</th>\n",
       "      <td>0</td>\n",
       "      <td>0.0</td>\n",
       "    </tr>\n",
       "  </tbody>\n",
       "</table>\n",
       "</div>"
      ],
      "text/plain": [
       "             Missing_Number  Missing_Percent\n",
       "User_Votes                0              0.0\n",
       "Employees                 0              0.0\n",
       "Director                  0              0.0\n",
       "Description               0              0.0\n",
       "Duration                  0              0.0\n",
       "Rated                     0              0.0\n",
       "Source                    0              0.0\n",
       "Country                   0              0.0\n",
       "Tags                      0              0.0\n",
       "Year                      0              0.0\n",
       "Genres                    0              0.0\n",
       "IMDB_Rating               0              0.0\n",
       "Title                     0              0.0"
      ]
     },
     "execution_count": 244,
     "metadata": {},
     "output_type": "execute_result"
    }
   ],
   "source": [
    "# Kết quả sau khi fill dữ liệu trống\n",
    "missing(df)"
   ]
  },
  {
   "cell_type": "code",
   "execution_count": 245,
   "metadata": {},
   "outputs": [],
   "source": [
    "df.to_csv('clean_data.csv')"
   ]
  },
  {
   "cell_type": "code",
   "execution_count": 246,
   "metadata": {},
   "outputs": [
    {
     "name": "stdout",
     "output_type": "stream",
     "text": [
      "Trước khi chuyển đổi:\n",
      "0    Young Adults\n",
      "1            Kids\n",
      "2    Young Adults\n",
      "3    Young Adults\n",
      "4    Young Adults\n",
      "Name: Rated, dtype: object\n",
      "Sau khi chuyển đổi:\n",
      "0    3\n",
      "1    2\n",
      "2    3\n",
      "3    3\n",
      "4    3\n",
      "Name: Rated, dtype: int32\n"
     ]
    }
   ],
   "source": [
    "# Label encoding\n",
    "lb = LabelEncoder()\n",
    "list_feature =['Country', 'Source', 'Rated']\n",
    "print(\"Trước khi chuyển đổi:\\n{0}\".format(df['Rated'].head()))\n",
    "for item in list_feature:\n",
    "    lbe = LabelEncoder() \n",
    "    ds = df[item].values.tolist()\n",
    "    lbe.fit(ds) \n",
    "    df[item] = lbe.transform(ds)\n",
    "print(\"Sau khi chuyển đổi:\\n{0}\".format(df['Rated'].head()))"
   ]
  },
  {
   "cell_type": "code",
   "execution_count": 247,
   "metadata": {},
   "outputs": [],
   "source": [
    "# Phân tách cột có kiểu object\n",
    "\n",
    "mlb = MultiLabelBinarizer()\n",
    "\n",
    "df[\"Genres\"] = df[\"Genres\"].apply(lambda x: x.replace(\"'\", \"\") if \"'\" in x else x)\n",
    "df[\"Tags\"] = df[\"Tags\"].apply(lambda x: x.replace(\"'\", \"\") if \"'\" in x else x)\n",
    "df[\"Employees\"] = df[\"Employees\"].apply(lambda x: x.replace(\"'\", \"\") if \"'\" in x else x)\n",
    "\n",
    "df[\"Genres\"] = df[\"Genres\"].apply(lambda x: x.replace(\"[\", \"\") if \"[\" in x else x)\n",
    "df[\"Tags\"] = df[\"Tags\"].apply(lambda x: x.replace(\"[\", \"\") if \"[\" in x else x)\n",
    "df[\"Employees\"] = df[\"Employees\"].apply(lambda x: x.replace(\"[\", \"\") if \"[\" in x else x)\n",
    "\n",
    "df[\"Genres\"] = df[\"Genres\"].apply(lambda x: x.replace(\"]\", \"\") if \"]\" in x else x)\n",
    "df[\"Tags\"] = df[\"Tags\"].apply(lambda x: x.replace(\"]\", \"\") if \"]\" in x else x)\n",
    "df[\"Employees\"] = df[\"Employees\"].apply(lambda x: x.replace(\"]\", \"\") if \"]\" in x else x)\n",
    "\n",
    "df[\"Genres\"] = df[\"Genres\"].apply(lambda x: x + 'empty' if not x else x)\n",
    "df[\"Tags\"] = df[\"Tags\"].apply(lambda x: x + 'empty' if not x else x)\n",
    "df[\"Employees\"] = df[\"Employees\"].apply(lambda x: x + 'empty' if not x else x)\n",
    "\n",
    "# Phân tách genres\n",
    "df = df.join(\n",
    "            pd.DataFrame(\n",
    "                mlb.fit_transform(df['Genres'].str.split(', ')),\n",
    "                index=df.index,\n",
    "                columns=\"Genre_\" + mlb.classes_))\n",
    "# Phân tách tag \n",
    "df = df.join(\n",
    "            pd.DataFrame(\n",
    "                mlb.fit_transform(df.pop('Tags').str.split(', ')),\n",
    "                index=df.index,\n",
    "                columns=\"Tag_\" + mlb.classes_))"
   ]
  },
  {
   "cell_type": "code",
   "execution_count": 248,
   "metadata": {},
   "outputs": [
    {
     "data": {
      "text/html": [
       "<div>\n",
       "<style scoped>\n",
       "    .dataframe tbody tr th:only-of-type {\n",
       "        vertical-align: middle;\n",
       "    }\n",
       "\n",
       "    .dataframe tbody tr th {\n",
       "        vertical-align: top;\n",
       "    }\n",
       "\n",
       "    .dataframe thead th {\n",
       "        text-align: right;\n",
       "    }\n",
       "</style>\n",
       "<table border=\"1\" class=\"dataframe\">\n",
       "  <thead>\n",
       "    <tr style=\"text-align: right;\">\n",
       "      <th></th>\n",
       "      <th>Title</th>\n",
       "      <th>IMDB_Rating</th>\n",
       "      <th>Genres</th>\n",
       "      <th>Year</th>\n",
       "      <th>Country</th>\n",
       "      <th>Source</th>\n",
       "      <th>Rated</th>\n",
       "      <th>Duration</th>\n",
       "      <th>Description</th>\n",
       "      <th>Director</th>\n",
       "      <th>...</th>\n",
       "      <th>Tag_Time Travel</th>\n",
       "      <th>Tag_Toy</th>\n",
       "      <th>Tag_Twins</th>\n",
       "      <th>Tag_Vampire</th>\n",
       "      <th>Tag_Video Games</th>\n",
       "      <th>Tag_War</th>\n",
       "      <th>Tag_World War II</th>\n",
       "      <th>Tag_Wrestling</th>\n",
       "      <th>Tag_Zombie</th>\n",
       "      <th>Tag_empty</th>\n",
       "    </tr>\n",
       "  </thead>\n",
       "  <tbody>\n",
       "    <tr>\n",
       "      <th>0</th>\n",
       "      <td>The Lost City</td>\n",
       "      <td>6.2</td>\n",
       "      <td>Romance, Action &amp; Adventure</td>\n",
       "      <td>2022</td>\n",
       "      <td>0</td>\n",
       "      <td>5</td>\n",
       "      <td>3</td>\n",
       "      <td>112</td>\n",
       "      <td>Follows a reclusive romance novelist who was s...</td>\n",
       "      <td>Aaron Nee</td>\n",
       "      <td>...</td>\n",
       "      <td>0</td>\n",
       "      <td>0</td>\n",
       "      <td>0</td>\n",
       "      <td>0</td>\n",
       "      <td>0</td>\n",
       "      <td>0</td>\n",
       "      <td>0</td>\n",
       "      <td>0</td>\n",
       "      <td>0</td>\n",
       "      <td>1</td>\n",
       "    </tr>\n",
       "    <tr>\n",
       "      <th>1</th>\n",
       "      <td>Chip 'n Dale: Rescue Rangers</td>\n",
       "      <td>7.2</td>\n",
       "      <td>Action &amp; Adventure, Animation</td>\n",
       "      <td>2022</td>\n",
       "      <td>4</td>\n",
       "      <td>20</td>\n",
       "      <td>2</td>\n",
       "      <td>99</td>\n",
       "      <td>Thirty years after their popular television sh...</td>\n",
       "      <td>Other Director</td>\n",
       "      <td>...</td>\n",
       "      <td>0</td>\n",
       "      <td>0</td>\n",
       "      <td>0</td>\n",
       "      <td>0</td>\n",
       "      <td>0</td>\n",
       "      <td>0</td>\n",
       "      <td>0</td>\n",
       "      <td>0</td>\n",
       "      <td>0</td>\n",
       "      <td>1</td>\n",
       "    </tr>\n",
       "    <tr>\n",
       "      <th>2</th>\n",
       "      <td>Uncharted</td>\n",
       "      <td>6.4</td>\n",
       "      <td>Drama, Action &amp; Adventure</td>\n",
       "      <td>2022</td>\n",
       "      <td>0</td>\n",
       "      <td>20</td>\n",
       "      <td>3</td>\n",
       "      <td>116</td>\n",
       "      <td>A young street-smart, Nathan Drake and his wis...</td>\n",
       "      <td>Ruben Fleischer</td>\n",
       "      <td>...</td>\n",
       "      <td>0</td>\n",
       "      <td>0</td>\n",
       "      <td>0</td>\n",
       "      <td>0</td>\n",
       "      <td>1</td>\n",
       "      <td>0</td>\n",
       "      <td>0</td>\n",
       "      <td>0</td>\n",
       "      <td>0</td>\n",
       "      <td>0</td>\n",
       "    </tr>\n",
       "    <tr>\n",
       "      <th>3</th>\n",
       "      <td>Spider-Man: No Way Home</td>\n",
       "      <td>8.3</td>\n",
       "      <td>Comedy, Drama</td>\n",
       "      <td>2021</td>\n",
       "      <td>0</td>\n",
       "      <td>20</td>\n",
       "      <td>3</td>\n",
       "      <td>148</td>\n",
       "      <td>Peter Parker is unmasked and no longer able to...</td>\n",
       "      <td>Jon Watts</td>\n",
       "      <td>...</td>\n",
       "      <td>0</td>\n",
       "      <td>0</td>\n",
       "      <td>0</td>\n",
       "      <td>0</td>\n",
       "      <td>0</td>\n",
       "      <td>0</td>\n",
       "      <td>0</td>\n",
       "      <td>0</td>\n",
       "      <td>0</td>\n",
       "      <td>0</td>\n",
       "    </tr>\n",
       "    <tr>\n",
       "      <th>4</th>\n",
       "      <td>Top Gun</td>\n",
       "      <td>6.9</td>\n",
       "      <td>Romance, Action &amp; Adventure</td>\n",
       "      <td>1986</td>\n",
       "      <td>0</td>\n",
       "      <td>21</td>\n",
       "      <td>3</td>\n",
       "      <td>110</td>\n",
       "      <td>A heart-pounding combination of action, music ...</td>\n",
       "      <td>Tony Scott</td>\n",
       "      <td>...</td>\n",
       "      <td>0</td>\n",
       "      <td>0</td>\n",
       "      <td>0</td>\n",
       "      <td>0</td>\n",
       "      <td>0</td>\n",
       "      <td>0</td>\n",
       "      <td>0</td>\n",
       "      <td>0</td>\n",
       "      <td>0</td>\n",
       "      <td>0</td>\n",
       "    </tr>\n",
       "  </tbody>\n",
       "</table>\n",
       "<p>5 rows × 130 columns</p>\n",
       "</div>"
      ],
      "text/plain": [
       "                          Title  IMDB_Rating                         Genres  \\\n",
       "0                 The Lost City          6.2    Romance, Action & Adventure   \n",
       "1  Chip 'n Dale: Rescue Rangers          7.2  Action & Adventure, Animation   \n",
       "2                     Uncharted          6.4      Drama, Action & Adventure   \n",
       "3       Spider-Man: No Way Home          8.3                  Comedy, Drama   \n",
       "4                       Top Gun          6.9    Romance, Action & Adventure   \n",
       "\n",
       "   Year  Country  Source  Rated  Duration  \\\n",
       "0  2022        0       5      3       112   \n",
       "1  2022        4      20      2        99   \n",
       "2  2022        0      20      3       116   \n",
       "3  2021        0      20      3       148   \n",
       "4  1986        0      21      3       110   \n",
       "\n",
       "                                         Description         Director  ...  \\\n",
       "0  Follows a reclusive romance novelist who was s...        Aaron Nee  ...   \n",
       "1  Thirty years after their popular television sh...   Other Director  ...   \n",
       "2  A young street-smart, Nathan Drake and his wis...  Ruben Fleischer  ...   \n",
       "3  Peter Parker is unmasked and no longer able to...        Jon Watts  ...   \n",
       "4  A heart-pounding combination of action, music ...       Tony Scott  ...   \n",
       "\n",
       "  Tag_Time Travel  Tag_Toy  Tag_Twins  Tag_Vampire  Tag_Video Games  Tag_War  \\\n",
       "0               0        0          0            0                0        0   \n",
       "1               0        0          0            0                0        0   \n",
       "2               0        0          0            0                1        0   \n",
       "3               0        0          0            0                0        0   \n",
       "4               0        0          0            0                0        0   \n",
       "\n",
       "   Tag_World War II  Tag_Wrestling  Tag_Zombie  Tag_empty  \n",
       "0                 0              0           0          1  \n",
       "1                 0              0           0          1  \n",
       "2                 0              0           0          0  \n",
       "3                 0              0           0          0  \n",
       "4                 0              0           0          0  \n",
       "\n",
       "[5 rows x 130 columns]"
      ]
     },
     "execution_count": 248,
     "metadata": {},
     "output_type": "execute_result"
    }
   ],
   "source": [
    "df.head()"
   ]
  },
  {
   "cell_type": "code",
   "execution_count": 249,
   "metadata": {},
   "outputs": [
    {
     "data": {
      "text/plain": [
       "<AxesSubplot:>"
      ]
     },
     "execution_count": 249,
     "metadata": {},
     "output_type": "execute_result"
    },
    {
     "data": {
      "image/png": "[encoded data removed]",
      "text/plain": [
       "<Figure size 1440x720 with 2 Axes>"
      ]
     },
     "metadata": {
      "needs_background": "light"
     },
     "output_type": "display_data"
    }
   ],
   "source": [
    "fig, ax = plt.subplots(figsize = (20,10))\n",
    "data_heatmap = df[['IMDB_Rating', 'Year', 'User_Votes', 'Duration','Country','Source','Rated','Genre_Documentary']].corr()\n",
    "# data_heatmap = df.drop(['Genres', 'Title', 'Description', 'Director','Employees'], axis=1).corr()\n",
    "sns.heatmap(data_heatmap,center=0, annot=True,cmap='YlGnBu')"
   ]
  },
  {
   "cell_type": "markdown",
   "metadata": {},
   "source": [
    "\tNhận xét: \n",
    "- Sau khi làm sạch dữ liệu thì tương quan giữa các đặc trưng với IMDB_Rating vẫn khá thấp.\n",
    "- User_Votes và Genre_Documentary có độ tương quan tốt nhất với IMDB_Rating."
   ]
  },
  {
   "cell_type": "code",
   "execution_count": 250,
   "metadata": {},
   "outputs": [
    {
     "data": {
      "text/html": [
       "<div>\n",
       "<style scoped>\n",
       "    .dataframe tbody tr th:only-of-type {\n",
       "        vertical-align: middle;\n",
       "    }\n",
       "\n",
       "    .dataframe tbody tr th {\n",
       "        vertical-align: top;\n",
       "    }\n",
       "\n",
       "    .dataframe thead th {\n",
       "        text-align: right;\n",
       "    }\n",
       "</style>\n",
       "<table border=\"1\" class=\"dataframe\">\n",
       "  <thead>\n",
       "    <tr style=\"text-align: right;\">\n",
       "      <th></th>\n",
       "      <th>Đặc trưng có mối tương quan cao</th>\n",
       "    </tr>\n",
       "  </thead>\n",
       "  <tbody>\n",
       "    <tr>\n",
       "      <th>0</th>\n",
       "      <td>IMDB_Rating</td>\n",
       "    </tr>\n",
       "    <tr>\n",
       "      <th>1</th>\n",
       "      <td>User_Votes</td>\n",
       "    </tr>\n",
       "    <tr>\n",
       "      <th>2</th>\n",
       "      <td>Genre_Documentary</td>\n",
       "    </tr>\n",
       "    <tr>\n",
       "      <th>3</th>\n",
       "      <td>Duration</td>\n",
       "    </tr>\n",
       "    <tr>\n",
       "      <th>4</th>\n",
       "      <td>Rated</td>\n",
       "    </tr>\n",
       "  </tbody>\n",
       "</table>\n",
       "</div>"
      ],
      "text/plain": [
       "  Đặc trưng có mối tương quan cao\n",
       "0                     IMDB_Rating\n",
       "1                      User_Votes\n",
       "2               Genre_Documentary\n",
       "3                        Duration\n",
       "4                           Rated"
      ]
     },
     "execution_count": 250,
     "metadata": {},
     "output_type": "execute_result"
    }
   ],
   "source": [
    "k = 5\n",
    "cols = data_heatmap.nlargest(k, 'IMDB_Rating')['IMDB_Rating'].index\n",
    "most_corr = pd.DataFrame(cols)\n",
    "most_corr.columns = ['Đặc trưng có mối tương quan cao']\n",
    "most_corr"
   ]
  },
  {
   "cell_type": "code",
   "execution_count": 251,
   "metadata": {},
   "outputs": [],
   "source": [
    "def plot_data(df,feature):\n",
    "\tplt.figure(figsize=(10,6))\n",
    "\tplt.subplot(1,2,1)\n",
    "\tdf[feature].hist() # histogram\n",
    "\tplt.subplot(1,2,2)\n",
    "\tstat.probplot(df[feature],dist='norm',plot=plt)# prob plot\n",
    "\tplt.show()"
   ]
  },
  {
   "cell_type": "code",
   "execution_count": 252,
   "metadata": {},
   "outputs": [
    {
     "data": {
      "image/png": "[encoded data removed]",
      "text/plain": [
       "<Figure size 720x432 with 2 Axes>"
      ]
     },
     "metadata": {
      "needs_background": "light"
     },
     "output_type": "display_data"
    }
   ],
   "source": [
    "plot_data(df,'Duration')"
   ]
  },
  {
   "cell_type": "markdown",
   "metadata": {},
   "source": [
    "\tDuration phân bố chuẩn"
   ]
  },
  {
   "cell_type": "code",
   "execution_count": 253,
   "metadata": {},
   "outputs": [
    {
     "data": {
      "text/plain": [
       "count    4455.000000\n",
       "mean        6.326487\n",
       "std         1.347395\n",
       "min         1.200000\n",
       "25%         5.500000\n",
       "50%         6.500000\n",
       "75%         7.300000\n",
       "max        10.000000\n",
       "Name: IMDB_Rating, dtype: float64"
      ]
     },
     "execution_count": 253,
     "metadata": {},
     "output_type": "execute_result"
    }
   ],
   "source": [
    "# Đặc trưng IMDB_Rating được dùng để dự đoán\n",
    "df['IMDB_Rating'].describe()"
   ]
  },
  {
   "cell_type": "code",
   "execution_count": 254,
   "metadata": {},
   "outputs": [
    {
     "data": {
      "text/plain": [
       "<AxesSubplot:xlabel='IMDB_Rating', ylabel='Count'>"
      ]
     },
     "execution_count": 254,
     "metadata": {},
     "output_type": "execute_result"
    },
    {
     "data": {
      "image/png": "[encoded data removed]",
      "text/plain": [
       "<Figure size 1080x576 with 1 Axes>"
      ]
     },
     "metadata": {
      "needs_background": "light"
     },
     "output_type": "display_data"
    }
   ],
   "source": [
    "# Đặc trưng dùng để dự đoán\n",
    "fig, ax = plt.subplots(figsize = (15,8))\n",
    "sns.histplot(df['IMDB_Rating'],kde=True)"
   ]
  },
  {
   "cell_type": "code",
   "execution_count": 255,
   "metadata": {},
   "outputs": [],
   "source": [
    "X = df.drop(['Genres','Title','Description','Director','Employees','IMDB_Rating'] , axis = 1)\n",
    "y = df['IMDB_Rating'] # Target variable"
   ]
  },
  {
   "cell_type": "code",
   "execution_count": 256,
   "metadata": {},
   "outputs": [],
   "source": [
    "X_train, X_test, y_train, y_test = train_test_split(X, y, test_size=0.3, random_state=42) # 70% training và 30% test"
   ]
  },
  {
   "cell_type": "code",
   "execution_count": 257,
   "metadata": {},
   "outputs": [],
   "source": [
    "X_train.to_csv('X_train.csv')\n",
    "X_test.to_csv('X_test.csv')\n",
    "y_test.to_csv('y_test.csv')\n",
    "y_train.to_csv('y_train.csv')"
   ]
  }
 ],
 "metadata": {
  "kernelspec": {
   "display_name": "Python 3.7.0 64-bit",
   "language": "python",
   "name": "python3"
  },
  "language_info": {
   "codemirror_mode": {
    "name": "ipython",
    "version": 3
   },
   "file_extension": ".py",
   "mimetype": "text/x-python",
   "name": "python",
   "nbconvert_exporter": "python",
   "pygments_lexer": "ipython3",
   "version": "3.7.0"
  },
  "orig_nbformat": 4,
  "vscode": {
   "interpreter": {
    "hash": "69aa3ff50fa730e7dd55677d5bf0877374a07602bea33ba8d28450eb030e234a"
   }
  }
 },
 "nbformat": 4,
 "nbformat_minor": 2
}
