{
 "cells": [
  {
   "cell_type": "markdown",
   "metadata": {},
   "source": [
    "# DỰ ĐOÁN GIÁ SÁCH"
   ]
  },
  {
   "cell_type": "markdown",
   "metadata": {},
   "source": [
    "# Giới thiệu\n",
    "Bài toán dự đoán là một bài toán điển hình và thông qua đó, người ta có thể dự đoán được những kết quả mà ta quan tâm dựa trên những dữ liệu đã được khảo sát. Hôm nay, nhóm chúng em sẽ trình bày về cách crawl data các thông tin cần thiết khi dự đoán giá sách"
   ]
  },
  {
   "cell_type": "markdown",
   "metadata": {},
   "source": [
    "# Nguồn tài liệu\n",
    "`https://tiki.vn/`"
   ]
  },
  {
   "cell_type": "markdown",
   "metadata": {},
   "source": [
    "Thêm thư viện"
   ]
  },
  {
   "cell_type": "code",
   "execution_count": null,
   "metadata": {},
   "outputs": [],
   "source": [
    "from selenium import webdriver\n",
    "from time import sleep\n",
    "import pandas as pd"
   ]
  },
  {
   "cell_type": "markdown",
   "metadata": {},
   "source": [
    "Cài đặt webdriver và trình duyệt Chrome\n",
    "\n",
    "`https://sites.google.com/a/chromium.org/chromedriver/`"
   ]
  },
  {
   "cell_type": "code",
   "execution_count": null,
   "metadata": {},
   "outputs": [],
   "source": [
    "# Thiet lap Wendriver cho trinh duyet Chrome\n",
    "browser = webdriver.Chrome(executable_path=\"chromedriver.exe\")"
   ]
  },
  {
   "cell_type": "code",
   "execution_count": 3,
   "metadata": {},
   "outputs": [],
   "source": [
    "list_NXB = []\n",
    "list_size = []\n",
    "list_type_convert = []\n",
    "list_num_page = []\n",
    "list_title = []\n",
    "list_sub_cate = []\n",
    "list_cate = []\n",
    "list_auth = []\n",
    "list_seller_name = []\n",
    "list_current_price = []\n",
    "list_origin_price = []\n",
    "list_rv_rating = []\n",
    "list_sales = []"
   ]
  },
  {
   "cell_type": "markdown",
   "metadata": {},
   "source": [
    "Truy cập vào đường link muốn crawl"
   ]
  },
  {
   "cell_type": "code",
   "execution_count": 4,
   "metadata": {},
   "outputs": [],
   "source": [
    "url = \"https://tiki.vn/sach-van-hoa-dia-ly-du-lich/c857?page=1\"\n",
    "browser.get(url)"
   ]
  },
  {
   "cell_type": "markdown",
   "metadata": {},
   "source": [
    "Lấy tất cả những item sách hiện có trên trang web"
   ]
  },
  {
   "cell_type": "code",
   "execution_count": null,
   "metadata": {},
   "outputs": [],
   "source": [
    "books = browser.find_elements_by_class_name('product-item')\n",
    "\n",
    "arr_books = []\n",
    "for book in books:\n",
    "    link = book.get_attribute('href')       # Lay thuoc tinh href cua item sach\n",
    "    arr_books.append(link)"
   ]
  },
  {
   "cell_type": "markdown",
   "metadata": {},
   "source": [
    "Khởi tạo biến book lưu giá trị của sách"
   ]
  },
  {
   "cell_type": "code",
   "execution_count": 30,
   "metadata": {},
   "outputs": [],
   "source": [
    "book = {\n",
    "    'title': '',\n",
    "    'sub-category': '',\n",
    "    'category': '',\n",
    "    'author': '',\n",
    "    'seller-name': '',\n",
    "    'current-price': '',\n",
    "    'origin-price': '',\n",
    "    'review-rating': '',\n",
    "    'sales': '',\n",
    "    'NXB': '',\n",
    "    'size': '',\n",
    "    'type_convert': '',\n",
    "    'num_page': ''\n",
    "}"
   ]
  },
  {
   "cell_type": "markdown",
   "metadata": {},
   "source": [
    "Lặp qua các url để truy cập vào trang web muốn crawl dữ liệu"
   ]
  },
  {
   "cell_type": "code",
   "execution_count": null,
   "metadata": {},
   "outputs": [],
   "source": [
    "for i in arr_books:\n",
    "    browser.get(i)      # Truy cap vao tung duong link sach trong mang arr_books\n",
    "    try:\n",
    "        cates = browser.find_elements_by_class_name('breadcrumb-item')      # Lay cac category cua sach\n",
    "        cates = [str(i.text) for i in cates]\n",
    "\n",
    "        details = browser.find_elements_by_class_name('group')      # Lay thong tin chi tiet\n",
    "        details = [str(i.text) for i in details][0].split('\\n')\n",
    "        \n",
    "        show_link = browser.find_element_by_class_name('number')    # click de xem danh gia\n",
    "        show_link.click()\n",
    "\n",
    "        for i in details:\n",
    "            if \"Nhà xuất bản\" in i:\n",
    "                book['NXB'] = i.replace(\"Nhà xuất bản\", \"\")\n",
    "                continue\n",
    "\n",
    "            if \"Công ty phát hành\" in i:\n",
    "                book['NXB'] = i\n",
    "                continue\n",
    "\n",
    "            if \"Kích thước\" in i:\n",
    "                book['size'] = i.replace(\"Kích thước\", \"\")\n",
    "                continue\n",
    "\n",
    "            if \"Loại bìa\" in i:\n",
    "                book['type_convert'] = i.replace(\"Loại bìa\", \"\")\n",
    "                continue\n",
    "\n",
    "            if \"Số trang\" in i:\n",
    "                book['num_page'] = i.replace(\"Số trang\", \"\")\n",
    "                continue\n",
    "\n",
    "        book['title'] = browser.find_element_by_class_name(\"title\").text    # Tra ve vao thuoc tinh title\n",
    "        book['sub-category'] = cates[len(cates) - 2]\n",
    "        book['category'] = cates[len(cates) - 3]\n",
    "        book['author'] = browser.find_element_by_class_name('brand-and-author').text[9:]  # Tra ve thuoc tinh tac gia\n",
    "        book['seller-name'] = browser.find_element_by_class_name('seller-name').text    # Tra ve thuoc tinh ten nguoi ban\n",
    "        book['origin-price'] = browser.find_element_by_class_name(\"product-price__current-price\").text # Tra ve thuoc tinh gia goc\n",
    "        book['current-price'] = browser.find_element_by_class_name('product-price__list-price').text   # Tra ve thuoc tinh gia duoc sale\n",
    "        book['review-rating'] = browser.find_element_by_class_name('review-rating__point').text     # Tra ve thuoc tinh luot danh gia\n",
    "        book['sales'] = browser.find_element_by_class_name('below-title').text.split('\\n')[1][7:] # Tra ve thuoc tinh so luot ban\n",
    "\n",
    "    except Exception as e:\n",
    "        print(e)\n",
    "        continue\n",
    "    \n",
    "    # Gan vao mang cac gia tri cua thuoc tinh de chen vao excel\n",
    "    list_title.append(book['title'])\n",
    "    list_sub_cate.append(book['sub-category'])\n",
    "    list_cate.append(book['category'])\n",
    "    list_auth.append(book['author'])\n",
    "    list_seller_name.append(book['seller-name'])\n",
    "    list_current_price.append(book['current-price'])\n",
    "    list_origin_price.append(book['origin-price'])\n",
    "    list_rv_rating.append(book['review-rating'])\n",
    "    list_sales.append(book['sales'])\n",
    "    list_NXB.append(book['NXB'])\n",
    "    list_size.append(book['size'])\n",
    "    list_type_convert.append(book['type_convert'])\n",
    "    list_num_page.append(book['num_page'])\n",
    "    break"
   ]
  },
  {
   "cell_type": "code",
   "execution_count": 32,
   "metadata": {},
   "outputs": [
    {
     "name": "stdout",
     "output_type": "stream",
     "text": [
      "{'title': 'Sách - Lão Tử Đạo Đức kinh - Nguyễn Hiến Lê ( Tuyển Tập Bách Gia Tranh Minh)', 'sub-category': 'Sách Danh Nhân', 'category': 'Sách Văn Hóa - Địa Lý - Du Lịch', 'author': 'Nguyễn Hiến Lê', 'seller-name': 'NVP', 'current-price': '159.000 ₫', 'origin-price': '99.000 ₫', 'review-rating': '4.8', 'sales': '24', 'NXB': ' Nhà Xuất Bản Hồng Đức', 'size': '', 'type_convert': ' Bìa mềm', 'num_page': ' 296'}\n"
     ]
    }
   ],
   "source": [
    "print(book)"
   ]
  },
  {
   "cell_type": "code",
   "execution_count": 35,
   "metadata": {},
   "outputs": [],
   "source": [
    "# Doc cac gia tri vao cac cot trong bang excel\n",
    "data = pd.DataFrame({\n",
    "    'title': list_title,\n",
    "    'sub-category': list_sub_cate,\n",
    "    'category': list_cate,\n",
    "    'author': list_auth,\n",
    "    'seller-name': list_seller_name,\n",
    "    'current-price': list_current_price,\n",
    "    'origin-price': list_origin_price,\n",
    "    'review-rating': list_rv_rating,\n",
    "    'sales': list_sales,\n",
    "    'NXB': list_NXB,\n",
    "    'size': list_size,\n",
    "    'type_convert': list_type_convert,\n",
    "    'num_page': list_num_page\n",
    "})\n",
    "data.to_excel('data.xlsx', sheet_name='sheet1', index=False)"
   ]
  },
  {
   "cell_type": "code",
   "execution_count": 41,
   "metadata": {},
   "outputs": [
    {
     "name": "stdout",
     "output_type": "stream",
     "text": [
      "                                               title    sub-category  \\\n",
      "0  Sách - Lão Tử Đạo Đức kinh - Nguyễn Hiến Lê ( ...  Sách Danh Nhân   \n",
      "\n",
      "                          category          author seller-name current-price  \\\n",
      "0  Sách Văn Hóa - Địa Lý - Du Lịch  Nguyễn Hiến Lê         NVP     159.000 ₫   \n",
      "\n",
      "  origin-price  review-rating  sales                     NXB  size  \\\n",
      "0     99.000 ₫            4.8     24   Nhà Xuất Bản Hồng Đức   NaN   \n",
      "\n",
      "  type_convert  num_page  \n",
      "0      Bìa mềm       296  \n"
     ]
    }
   ],
   "source": [
    "import pandas as pd\n",
    "\n",
    "df_data = pd.read_excel('data.xlsx')\n",
    "print(df_data)"
   ]
  },
  {
   "cell_type": "markdown",
   "metadata": {},
   "source": [
    "Dong trinh duyet"
   ]
  },
  {
   "cell_type": "code",
   "execution_count": 23,
   "metadata": {},
   "outputs": [],
   "source": [
    "browser.close()"
   ]
  }
 ],
 "metadata": {
  "kernelspec": {
   "display_name": "Python 3.7.5 64-bit",
   "language": "python",
   "name": "python3"
  },
  "language_info": {
   "codemirror_mode": {
    "name": "ipython",
    "version": 3
   },
   "file_extension": ".py",
   "mimetype": "text/x-python",
   "name": "python",
   "nbconvert_exporter": "python",
   "pygments_lexer": "ipython3",
   "version": "3.7.5"
  },
  "orig_nbformat": 4,
  "vscode": {
   "interpreter": {
    "hash": "fdb543c4eaccb2c43ef1f99da41737654f0c8d7aa960b0cd65bcf594bfbe5a9e"
   }
  }
 },
 "nbformat": 4,
 "nbformat_minor": 2
}
