{
 "cells": [
  {
   "cell_type": "markdown",
   "metadata": {},
   "source": [
    "# DỰ ĐOÁN GIÁ XE\n",
    "\n",
    "Đỗ Nguyên Ánh\t\n",
    "- Thu thập dữ liệu ( crawl) \n",
    "- Thống kê tổng quan về tập dữ liệu và xuất ra các thống kê mô tả trực quan về các đặc trưng\n",
    "\n",
    "Nguyễn Trung Hiếu\t\n",
    "- Lựa chọn đặc trưng, làm sạch và chuẩn hóa dữ liệu, giảm chiều dữ liệu, … \n",
    "- Trực quan hoá\n",
    "\n",
    "Trương Công Thái\t\n",
    "- Mô hình hóa dữ liệu\n",
    "- Đánh giá và kết luận mô hình\n"
   ]
  },
  {
   "cell_type": "markdown",
   "metadata": {},
   "source": [
    "# Import library"
   ]
  },
  {
   "cell_type": "markdown",
   "metadata": {},
   "source": [
    "link website: https://bonbanh.com/"
   ]
  },
  {
   "cell_type": "code",
   "execution_count": 350,
   "metadata": {},
   "outputs": [],
   "source": [
    "import requests\n",
    "from bs4 import BeautifulSoup\n",
    "import matplotlib.pyplot as plt\n",
    "import seaborn as sns\n",
    "import pandas as pd\n",
    "import numpy as np\n"
   ]
  },
  {
   "cell_type": "markdown",
   "metadata": {},
   "source": [
    "# Crawling data from website "
   ]
  },
  {
   "cell_type": "code",
   "execution_count": 351,
   "metadata": {},
   "outputs": [],
   "source": [
    "\n",
    "link_base = \"https://bonbanh.com/oto/page,\"\n",
    "list_link = []\n",
    "\n",
    "with open(\"craw_data.csv\", \"w\", encoding='utf_8') as file:\n",
    "    # Ghi tiêu đề cho file csv\n",
    "    file.write(\"Id,Year,New Or Old,Name,Address,Production Origin,Color,Fuel,Car Gearbox,Used (kilomet),Price\\n\")\n",
    "    # Tạo link truy cập\n",
    "    for index in range(1,500):\n",
    "        item = link_base + str(index)\n",
    "        list_link.append(item)\n",
    "\n",
    "    # Kiểm tra xem bạn có phải là robot không\n",
    "    headers = {'User-Agent': 'Mozilla/5.0 (Macintosh; Intel Mac OS X 10_10_1) AppleWebKit/537.36 (KHTML, like Gecko) Chrome/39.0.2171.95 Safari/537.36'}\n",
    "    data = []\n",
    "    for i in range(len(list_link)):\n",
    "\n",
    "        link = list_link[i]\n",
    "        # Sau khi đã có link thì mình sẽ requests về cái trang web đó   \n",
    "        response = requests.get(link, headers=headers) \n",
    "        # Xử lý file html khi đã lấy từ website về\n",
    "        soup = BeautifulSoup(response.text, 'html.parser')       \n",
    "        data = soup.find('div', attrs={'class':'g-box-content'}).find_all('a', attrs={'itemprop':'url'})\n",
    "        #lấy thông tin \n",
    "        for j in range(1,20):\n",
    "            try:\n",
    "                # Lấy dữ liệu từ các thẻ div chứa dữ liệu cần lấy bằng cách cắt chuỗi từ các thuộc tính text trong thẻ\n",
    "                new_or_old = data[j].find_all('div')[0].text[:-5]\n",
    "\n",
    "                year = data[j].find_all('div')[0].text[-5:] \n",
    "            \n",
    "                name = data[j].find_all('div')[1].text[:-6]\n",
    "\n",
    "                price = data[j].find_all('div')[2].text\n",
    "\n",
    "                address = data[j].find_all('div')[3].text\n",
    "\n",
    "                id = data[j].find_all('div')[4].text[6:]\n",
    "\n",
    "                production_origin = data[j].find_all('div')[5].text.split('...')[0][2:].split(', ')[0]\n",
    "\n",
    "                color = data[j].find_all('div')[5].text.split('...')[0][2:].split(', ')[1]\n",
    "\n",
    "                fuel = data[j].find_all('div')[5].text.split('...')[0][2:].split(', ')[2]\n",
    "\n",
    "                car_gearbox = data[j].find_all('div')[5].text.split('...')[0][2:].split(', ')[3]\n",
    "\n",
    "                if(data[j].find_all('div')[0].text[:-5].strip() == 'Xe cũ'):\n",
    "\n",
    "                    used = data[j].find_all('div')[5].text.split('...')[0][2:].split(', ')[4].replace(',','').split(' ')[2]\n",
    "                else:\n",
    "                    used = \"0\"\n",
    "            except:\n",
    "                break\n",
    "            # Mỗi lần lấy được dữ liệu sẽ được lưu vào biến srt1\n",
    "            srt1 = f\"{str(id.strip())},{str(year.strip())},{str(new_or_old.strip())},\\\"{str(name.strip())}\\\",{str(address.strip())},{str(production_origin.strip())},{str(color.strip())},\\\"{str(fuel.strip())}\\\",{str(car_gearbox.strip())},{str(used.strip())},{str(price.strip())}\\n\"\n",
    "            # Ghi str1 vào file craw_data.csv\n",
    "            file.write(srt1)\n",
    "file.close()\n",
    "\n"
   ]
  },
  {
   "cell_type": "markdown",
   "metadata": {},
   "source": [
    "# Read file"
   ]
  },
  {
   "cell_type": "code",
   "execution_count": 352,
   "metadata": {},
   "outputs": [
    {
     "data": {
      "text/html": [
       "<div>\n",
       "<style scoped>\n",
       "    .dataframe tbody tr th:only-of-type {\n",
       "        vertical-align: middle;\n",
       "    }\n",
       "\n",
       "    .dataframe tbody tr th {\n",
       "        vertical-align: top;\n",
       "    }\n",
       "\n",
       "    .dataframe thead th {\n",
       "        text-align: right;\n",
       "    }\n",
       "</style>\n",
       "<table border=\"1\" class=\"dataframe\">\n",
       "  <thead>\n",
       "    <tr style=\"text-align: right;\">\n",
       "      <th></th>\n",
       "      <th>Id</th>\n",
       "      <th>Year</th>\n",
       "      <th>New Or Old</th>\n",
       "      <th>Name</th>\n",
       "      <th>Address</th>\n",
       "      <th>Production Origin</th>\n",
       "      <th>Color</th>\n",
       "      <th>Fuel</th>\n",
       "      <th>Car Gearbox</th>\n",
       "      <th>Used (kilomet)</th>\n",
       "      <th>Price</th>\n",
       "    </tr>\n",
       "  </thead>\n",
       "  <tbody>\n",
       "    <tr>\n",
       "      <th>0</th>\n",
       "      <td>4132061</td>\n",
       "      <td>2022</td>\n",
       "      <td>Xe mới</td>\n",
       "      <td>Mercedes Benz GLE Class GLE 450 4Matic</td>\n",
       "      <td>Hà Nội</td>\n",
       "      <td>Xe nhập khẩu</td>\n",
       "      <td>màu đỏ</td>\n",
       "      <td>máy xăng 3.0 L</td>\n",
       "      <td>số tự động</td>\n",
       "      <td>0</td>\n",
       "      <td>4 Tỷ 359 Triệu</td>\n",
       "    </tr>\n",
       "    <tr>\n",
       "      <th>1</th>\n",
       "      <td>3864921</td>\n",
       "      <td>2022</td>\n",
       "      <td>Xe mới</td>\n",
       "      <td>Mercedes Benz GLC 300 4Matic</td>\n",
       "      <td>Hà Nội</td>\n",
       "      <td>Xe lắp ráp trong nước</td>\n",
       "      <td>màu đỏ</td>\n",
       "      <td>máy xăng 2.0 L</td>\n",
       "      <td>số tự động</td>\n",
       "      <td>0</td>\n",
       "      <td>2 Tỷ 398 Triệu</td>\n",
       "    </tr>\n",
       "    <tr>\n",
       "      <th>2</th>\n",
       "      <td>4147049</td>\n",
       "      <td>2022</td>\n",
       "      <td>Xe mới</td>\n",
       "      <td>Mercedes Benz GLC 300 4Matic</td>\n",
       "      <td>Hà Nội</td>\n",
       "      <td>Xe lắp ráp trong nước</td>\n",
       "      <td>màu đen</td>\n",
       "      <td>máy xăng 2.0 L</td>\n",
       "      <td>số tự động</td>\n",
       "      <td>0</td>\n",
       "      <td>2 Tỷ 398 Triệu</td>\n",
       "    </tr>\n",
       "    <tr>\n",
       "      <th>3</th>\n",
       "      <td>4248075</td>\n",
       "      <td>2019</td>\n",
       "      <td>Xe cũ</td>\n",
       "      <td>Lexus RX 300</td>\n",
       "      <td>Hà Nội</td>\n",
       "      <td>Xe nhập khẩu</td>\n",
       "      <td>màu đen</td>\n",
       "      <td>máy xăng 2.0 L</td>\n",
       "      <td>số tự động</td>\n",
       "      <td>10000</td>\n",
       "      <td>3 Tỷ 80 Triệu</td>\n",
       "    </tr>\n",
       "    <tr>\n",
       "      <th>4</th>\n",
       "      <td>4294679</td>\n",
       "      <td>2022</td>\n",
       "      <td>Xe mới</td>\n",
       "      <td>Toyota Veloz Cross Top 1.5 CVT</td>\n",
       "      <td>Hà Nội</td>\n",
       "      <td>Xe nhập khẩu</td>\n",
       "      <td>màu trắng</td>\n",
       "      <td>máy xăng 1.5 L</td>\n",
       "      <td>số tự động</td>\n",
       "      <td>0</td>\n",
       "      <td>688 Triệu</td>\n",
       "    </tr>\n",
       "  </tbody>\n",
       "</table>\n",
       "</div>"
      ],
      "text/plain": [
       "        Id  Year New Or Old                                    Name Address  \\\n",
       "0  4132061  2022     Xe mới  Mercedes Benz GLE Class GLE 450 4Matic  Hà Nội   \n",
       "1  3864921  2022     Xe mới            Mercedes Benz GLC 300 4Matic  Hà Nội   \n",
       "2  4147049  2022     Xe mới            Mercedes Benz GLC 300 4Matic  Hà Nội   \n",
       "3  4248075  2019      Xe cũ                            Lexus RX 300  Hà Nội   \n",
       "4  4294679  2022     Xe mới          Toyota Veloz Cross Top 1.5 CVT  Hà Nội   \n",
       "\n",
       "       Production Origin      Color            Fuel Car Gearbox  \\\n",
       "0           Xe nhập khẩu     màu đỏ  máy xăng 3.0 L  số tự động   \n",
       "1  Xe lắp ráp trong nước     màu đỏ  máy xăng 2.0 L  số tự động   \n",
       "2  Xe lắp ráp trong nước    màu đen  máy xăng 2.0 L  số tự động   \n",
       "3           Xe nhập khẩu    màu đen  máy xăng 2.0 L  số tự động   \n",
       "4           Xe nhập khẩu  màu trắng  máy xăng 1.5 L  số tự động   \n",
       "\n",
       "   Used (kilomet)           Price  \n",
       "0               0  4 Tỷ 359 Triệu  \n",
       "1               0  2 Tỷ 398 Triệu  \n",
       "2               0  2 Tỷ 398 Triệu  \n",
       "3           10000   3 Tỷ 80 Triệu  \n",
       "4               0       688 Triệu  "
      ]
     },
     "execution_count": 352,
     "metadata": {},
     "output_type": "execute_result"
    }
   ],
   "source": [
    "\n",
    "\n",
    "df = pd.read_csv('craw_data.csv',sep=',', engine='python',encoding='utf_8')\n",
    "df.head()\n"
   ]
  },
  {
   "cell_type": "code",
   "execution_count": 353,
   "metadata": {},
   "outputs": [
    {
     "name": "stdout",
     "output_type": "stream",
     "text": [
      "<class 'pandas.core.frame.DataFrame'>\n",
      "RangeIndex: 3640 entries, 0 to 3639\n",
      "Data columns (total 11 columns):\n",
      " #   Column             Non-Null Count  Dtype \n",
      "---  ------             --------------  ----- \n",
      " 0   Id                 3640 non-null   int64 \n",
      " 1   Year               3640 non-null   int64 \n",
      " 2   New Or Old         3640 non-null   object\n",
      " 3   Name               3640 non-null   object\n",
      " 4   Address            3640 non-null   object\n",
      " 5   Production Origin  3640 non-null   object\n",
      " 6   Color              3640 non-null   object\n",
      " 7   Fuel               3640 non-null   object\n",
      " 8   Car Gearbox        3640 non-null   object\n",
      " 9   Used (kilomet)     3640 non-null   int64 \n",
      " 10  Price              3640 non-null   object\n",
      "dtypes: int64(3), object(8)\n",
      "memory usage: 312.9+ KB\n"
     ]
    }
   ],
   "source": [
    "df.info()\n"
   ]
  },
  {
   "cell_type": "code",
   "execution_count": 354,
   "metadata": {},
   "outputs": [
    {
     "data": {
      "text/html": [
       "<div>\n",
       "<style scoped>\n",
       "    .dataframe tbody tr th:only-of-type {\n",
       "        vertical-align: middle;\n",
       "    }\n",
       "\n",
       "    .dataframe tbody tr th {\n",
       "        vertical-align: top;\n",
       "    }\n",
       "\n",
       "    .dataframe thead th {\n",
       "        text-align: right;\n",
       "    }\n",
       "</style>\n",
       "<table border=\"1\" class=\"dataframe\">\n",
       "  <thead>\n",
       "    <tr style=\"text-align: right;\">\n",
       "      <th></th>\n",
       "      <th>Id</th>\n",
       "      <th>Year</th>\n",
       "      <th>Used (kilomet)</th>\n",
       "    </tr>\n",
       "  </thead>\n",
       "  <tbody>\n",
       "    <tr>\n",
       "      <th>count</th>\n",
       "      <td>3.640000e+03</td>\n",
       "      <td>3640.000000</td>\n",
       "      <td>3.640000e+03</td>\n",
       "    </tr>\n",
       "    <tr>\n",
       "      <th>mean</th>\n",
       "      <td>4.153745e+06</td>\n",
       "      <td>2018.516209</td>\n",
       "      <td>3.074837e+04</td>\n",
       "    </tr>\n",
       "    <tr>\n",
       "      <th>std</th>\n",
       "      <td>4.565672e+05</td>\n",
       "      <td>4.462141</td>\n",
       "      <td>5.824055e+04</td>\n",
       "    </tr>\n",
       "    <tr>\n",
       "      <th>min</th>\n",
       "      <td>5.598400e+04</td>\n",
       "      <td>1990.000000</td>\n",
       "      <td>0.000000e+00</td>\n",
       "    </tr>\n",
       "    <tr>\n",
       "      <th>25%</th>\n",
       "      <td>4.151636e+06</td>\n",
       "      <td>2016.000000</td>\n",
       "      <td>0.000000e+00</td>\n",
       "    </tr>\n",
       "    <tr>\n",
       "      <th>50%</th>\n",
       "      <td>4.311742e+06</td>\n",
       "      <td>2020.000000</td>\n",
       "      <td>1.000000e+04</td>\n",
       "    </tr>\n",
       "    <tr>\n",
       "      <th>75%</th>\n",
       "      <td>4.378078e+06</td>\n",
       "      <td>2022.000000</td>\n",
       "      <td>5.000000e+04</td>\n",
       "    </tr>\n",
       "    <tr>\n",
       "      <th>max</th>\n",
       "      <td>4.411163e+06</td>\n",
       "      <td>2022.000000</td>\n",
       "      <td>1.502479e+06</td>\n",
       "    </tr>\n",
       "  </tbody>\n",
       "</table>\n",
       "</div>"
      ],
      "text/plain": [
       "                 Id         Year  Used (kilomet)\n",
       "count  3.640000e+03  3640.000000    3.640000e+03\n",
       "mean   4.153745e+06  2018.516209    3.074837e+04\n",
       "std    4.565672e+05     4.462141    5.824055e+04\n",
       "min    5.598400e+04  1990.000000    0.000000e+00\n",
       "25%    4.151636e+06  2016.000000    0.000000e+00\n",
       "50%    4.311742e+06  2020.000000    1.000000e+04\n",
       "75%    4.378078e+06  2022.000000    5.000000e+04\n",
       "max    4.411163e+06  2022.000000    1.502479e+06"
      ]
     },
     "execution_count": 354,
     "metadata": {},
     "output_type": "execute_result"
    }
   ],
   "source": [
    "df.describe()"
   ]
  },
  {
   "cell_type": "markdown",
   "metadata": {},
   "source": [
    "# DATA PROCESSING"
   ]
  },
  {
   "cell_type": "markdown",
   "metadata": {},
   "source": [
    "# Data cleaning"
   ]
  },
  {
   "cell_type": "code",
   "execution_count": 355,
   "metadata": {},
   "outputs": [
    {
     "name": "stdout",
     "output_type": "stream",
     "text": [
      "{'máy xăng 4.6 L', 'xe hybrid 2.0 L', 'xe hybrid', 'máy xăng 4.5 L', 'máy xăng 6.8 L', 'xe điện 0.1 L', 'máy xăng 6.0 L', 'máy xăng 3.2 L', 'máy xăng 6.7 L', 'máy xăng 1.2 L', 'máy xăng 1.4 L', 'máy xăng 3.8 L', 'xe hybrid 1.8 L', 'máy xăng 4.7 L', 'máy xăng 6.6 L', 'xe hybrid 3.5 L', 'máy xăng 5.6 L', 'máy dầu 2.1 L', 'máy xăng 1.3 L', 'máy xăng 6.2 L', 'máy xăng 0.8 L', 'máy xăng 4.2 L', 'máy dầu 3.2 L', 'xe điện 0.2 L', 'máy xăng 2.4 L', 'máy xăng 4.0 L', 'máy xăng 4.8 L', 'máy xăng 3.4 L', 'máy dầu 3.0 L', 'máy xăng 1.1 L', 'máy xăng 0.9 L', 'máy xăng 3.3 L', 'máy xăng 2.3 L', 'máy xăng 5.4 L', 'máy xăng 3.0 L', 'máy dầu 2.5 L', 'máy xăng 2.6 L', 'máy xăng 2.7 L', 'máy dầu 2.0 L', 'máy xăng 2.9 L', 'máy xăng 2.2 L', 'xe hybrid 3.0 L', 'máy dầu 2.4 L', 'máy xăng 3.6 L', 'máy xăng 5.5 L', 'xe hybrid 2.5 L', 'máy xăng 5.7 L', 'máy dầu 2.8 L', 'máy dầu 2.2 L', 'máy dầu 7.8 L', 'máy xăng 1.6 L', 'máy xăng 5.0 L', 'máy xăng', 'máy dầu 1.7 L', 'máy dầu 11.1 L', 'máy xăng 2.5 L', 'máy dầu 1.9 L', 'máy xăng 2.0 L', 'máy xăng 1.5 L', 'xe điện', 'máy xăng 1.0 L', 'máy xăng 1.25 L', 'máy xăng 1.8 L', 'máy xăng 3.7 L', 'máy xăng 3.5 L', 'máy dầu'}\n"
     ]
    }
   ],
   "source": [
    "print(set(df['Fuel']))"
   ]
  },
  {
   "cell_type": "markdown",
   "metadata": {},
   "source": [
    "Kiểm tra len(df['Fuel'][i].split(' ')[:])"
   ]
  },
  {
   "cell_type": "code",
   "execution_count": 356,
   "metadata": {},
   "outputs": [
    {
     "name": "stdout",
     "output_type": "stream",
     "text": [
      "{2, 4}\n"
     ]
    }
   ],
   "source": [
    "list_check = []\n",
    "for i in range (df.shape[0]):\n",
    "    list_check.append((len(df['Fuel'][i].split(' ')[:])))\n",
    "\n",
    "print(set(list_check))"
   ]
  },
  {
   "cell_type": "markdown",
   "metadata": {},
   "source": [
    "Có nhiều dữ liệu khác nhau có thể được mở rộng từ các cột hiện tại, nên ta sẽ mở rộng chúng"
   ]
  },
  {
   "cell_type": "code",
   "execution_count": 357,
   "metadata": {},
   "outputs": [],
   "source": [
    "for i in range(df.shape[0]):\n",
    "    #tách company từ cột Name\n",
    "    df.at[i, 'Company'] = df['Name'][i].split(' ')[0]\n",
    "\n",
    "    #tách Fuel Type và Machine Capacity (L)\n",
    "    df.at[i, 'Fuel Type'] = df['Fuel'][i].split(' ')[0] + ' ' + df['Fuel'][i].split(' ')[1]\n",
    "    if(len(df['Fuel'][i].split(' ')[:]) == 4):\n",
    "        df.at[i, 'Machine Capacity (L)'] = df['Fuel'][i].split(' ')[2]\n",
    "    elif(len(df['Fuel'][i].split(' ')[:]) == 2):\n",
    "        df.at[i, 'Machine Capacity (L)'] = None\n",
    "    \n"
   ]
  },
  {
   "cell_type": "code",
   "execution_count": 358,
   "metadata": {},
   "outputs": [],
   "source": [
    "# convert\n",
    "df['Machine Capacity (L)'] = df['Machine Capacity (L)'].astype(float)"
   ]
  },
  {
   "cell_type": "code",
   "execution_count": 359,
   "metadata": {},
   "outputs": [
    {
     "name": "stdout",
     "output_type": "stream",
     "text": [
      "{0.8, 1.5, 2.0, 3.0, 1.25, 2.4, 1.2, 1.6, 1.8, 1.3, 1.4, 2.9, 3.5, 5.7, 2.5, 1.0, nan, nan, nan, 11.1, nan, nan, 4.0, 4.5, nan, 5.0, 5.5, nan, 6.0, nan, nan, nan, nan, nan, 1.9, nan, 3.4, nan, nan, nan, nan, nan, nan, 0.2, nan, nan, nan, nan, nan, nan, 5.4, nan, nan, nan, nan, nan, nan, 2.3, 2.8, 3.8, 3.3, 4.8, 6.8, 7.8, nan, nan, nan, nan, 0.9, nan, nan, nan, nan, nan, nan, 1.7, nan, 0.1, nan, 2.2, 2.7, 3.2, 3.7, 4.7, 4.2, nan, 6.7, 6.2, nan, nan, nan, nan, 4.6, 5.6, 6.6, nan, nan, 1.1, nan, nan, nan, 2.1, 2.6, nan, nan, nan, 3.6, nan, nan, nan, nan, nan, nan, nan, nan, nan, nan, nan, nan, nan, nan, nan, nan, nan, nan, nan, nan, nan, nan, nan, nan, nan}\n"
     ]
    }
   ],
   "source": [
    "print(set(df['Machine Capacity (L)']))"
   ]
  },
  {
   "cell_type": "markdown",
   "metadata": {},
   "source": [
    "# Missing data"
   ]
  },
  {
   "cell_type": "code",
   "execution_count": 360,
   "metadata": {},
   "outputs": [
    {
     "data": {
      "text/plain": [
       "Id                       0\n",
       "Year                     0\n",
       "New Or Old               0\n",
       "Name                     0\n",
       "Address                  0\n",
       "Production Origin        0\n",
       "Color                    0\n",
       "Fuel                     0\n",
       "Car Gearbox              0\n",
       "Used (kilomet)           0\n",
       "Price                    0\n",
       "Company                  0\n",
       "Fuel Type                0\n",
       "Machine Capacity (L)    81\n",
       "dtype: int64"
      ]
     },
     "execution_count": 360,
     "metadata": {},
     "output_type": "execute_result"
    }
   ],
   "source": [
    "df.isnull().sum()"
   ]
  },
  {
   "cell_type": "markdown",
   "metadata": {},
   "source": [
    "Xử lý dữ liệu trống bằng phương pháp thay thế bằng giá trị ngẫu nhiên\n",
    "- Kỹ thuật này cũng giả định rằng dữ liệu trống hoàn toàn ngẫu nhiên\n",
    "- Thay thế dữ liệu trống bằng các giá trị ngẫu nhiên của cột tương ứng\n",
    "- Dùng hàm dropna() của đối tượng DataFrame để bỏ qua các NaN values"
   ]
  },
  {
   "cell_type": "code",
   "execution_count": 361,
   "metadata": {},
   "outputs": [
    {
     "data": {
      "text/plain": [
       "1811    2.0\n",
       "Name: Machine Capacity (L), dtype: float64"
      ]
     },
     "execution_count": 361,
     "metadata": {},
     "output_type": "execute_result"
    }
   ],
   "source": [
    "# xử lý các NaN trong cột Machine Capacity (L)\n",
    "df['Machine Capacity (L)'].isnull().sum()\n",
    "# lấy ngẫu nhiên từ cột Machine Capacity (L) một giá trị khác NaN,\n",
    "# kết quả sẽ ko lặp lại sau mỗi lần thực hiện lệnh\n",
    "df['Machine Capacity (L)'].dropna().sample()"
   ]
  },
  {
   "cell_type": "code",
   "execution_count": 362,
   "metadata": {},
   "outputs": [
    {
     "data": {
      "text/plain": [
       "2643    1.6\n",
       "1490    2.0\n",
       "583     2.0\n",
       "117     2.2\n",
       "2222    2.0\n",
       "       ... \n",
       "1031    2.0\n",
       "832     2.2\n",
       "409     2.3\n",
       "3495    1.5\n",
       "1019    2.0\n",
       "Name: Machine Capacity (L), Length: 81, dtype: float64"
      ]
     },
     "execution_count": 362,
     "metadata": {},
     "output_type": "execute_result"
    }
   ],
   "source": [
    "random_samples = df['Machine Capacity (L)'].dropna().sample(n=df['Machine Capacity (L)'].isnull()\n",
    ".sum(),random_state=0)\n",
    "random_samples"
   ]
  },
  {
   "cell_type": "markdown",
   "metadata": {},
   "source": [
    "Chỉ số của các hàng bị trống dữ liệu "
   ]
  },
  {
   "cell_type": "code",
   "execution_count": 363,
   "metadata": {},
   "outputs": [
    {
     "data": {
      "text/plain": [
       "Int64Index([ 220,  221,  244,  262,  281,  313,  339,  346,  368,  373,  375,\n",
       "             647,  701,  745,  767,  891,  944, 1083, 1129, 1160, 1231, 1283,\n",
       "            1340, 1414, 1417, 1443, 1520, 1599, 1601, 1609, 1617, 1790, 1822,\n",
       "            1846, 1860, 1981, 1987, 2034, 2128, 2130, 2214, 2251, 2252, 2305,\n",
       "            2331, 2333, 2360, 2383, 2400, 2444, 2492, 2502, 2524, 2547, 2589,\n",
       "            2685, 2767, 2771, 2834, 2850, 2910, 2973, 2977, 3023, 3066, 3147,\n",
       "            3168, 3170, 3256, 3258, 3260, 3284, 3291, 3292, 3295, 3303, 3442,\n",
       "            3502, 3560, 3597, 3604],\n",
       "           dtype='int64')"
      ]
     },
     "execution_count": 363,
     "metadata": {},
     "output_type": "execute_result"
    }
   ],
   "source": [
    "\n",
    "df[df['Machine Capacity (L)'].isnull()].index"
   ]
  },
  {
   "cell_type": "markdown",
   "metadata": {},
   "source": [
    "Gán lại index cho series ngẫu nhiên vừa tạo"
   ]
  },
  {
   "cell_type": "code",
   "execution_count": 364,
   "metadata": {},
   "outputs": [],
   "source": [
    "\n",
    "random_samples.index = df[df['Machine Capacity (L)'].isnull()].index"
   ]
  },
  {
   "cell_type": "markdown",
   "metadata": {},
   "source": [
    "Thay thế dữ liệu trống bằng các giá trị ngẫu nhiên của cột"
   ]
  },
  {
   "cell_type": "code",
   "execution_count": 365,
   "metadata": {},
   "outputs": [
    {
     "data": {
      "text/html": [
       "<div>\n",
       "<style scoped>\n",
       "    .dataframe tbody tr th:only-of-type {\n",
       "        vertical-align: middle;\n",
       "    }\n",
       "\n",
       "    .dataframe tbody tr th {\n",
       "        vertical-align: top;\n",
       "    }\n",
       "\n",
       "    .dataframe thead th {\n",
       "        text-align: right;\n",
       "    }\n",
       "</style>\n",
       "<table border=\"1\" class=\"dataframe\">\n",
       "  <thead>\n",
       "    <tr style=\"text-align: right;\">\n",
       "      <th></th>\n",
       "      <th>Id</th>\n",
       "      <th>Year</th>\n",
       "      <th>New Or Old</th>\n",
       "      <th>Name</th>\n",
       "      <th>Address</th>\n",
       "      <th>Production Origin</th>\n",
       "      <th>Color</th>\n",
       "      <th>Fuel</th>\n",
       "      <th>Car Gearbox</th>\n",
       "      <th>Used (kilomet)</th>\n",
       "      <th>Price</th>\n",
       "      <th>Company</th>\n",
       "      <th>Fuel Type</th>\n",
       "      <th>Machine Capacity (L)</th>\n",
       "      <th>Machine Capacity (L) Random</th>\n",
       "    </tr>\n",
       "  </thead>\n",
       "  <tbody>\n",
       "    <tr>\n",
       "      <th>3635</th>\n",
       "      <td>3298640</td>\n",
       "      <td>2022</td>\n",
       "      <td>Xe mới</td>\n",
       "      <td>Suzuki Super Carry Truck 1.0 MT</td>\n",
       "      <td>Hà Nội</td>\n",
       "      <td>Xe lắp ráp trong nước</td>\n",
       "      <td>màu xanh</td>\n",
       "      <td>máy xăng 1.0 L</td>\n",
       "      <td>số tay</td>\n",
       "      <td>0</td>\n",
       "      <td>238 Triệu</td>\n",
       "      <td>Suzuki</td>\n",
       "      <td>máy xăng</td>\n",
       "      <td>1.0</td>\n",
       "      <td>1.0</td>\n",
       "    </tr>\n",
       "    <tr>\n",
       "      <th>3636</th>\n",
       "      <td>4184814</td>\n",
       "      <td>2016</td>\n",
       "      <td>Xe cũ</td>\n",
       "      <td>Porsche Cayenne S</td>\n",
       "      <td>Hà Nội</td>\n",
       "      <td>Xe nhập khẩu</td>\n",
       "      <td>màu nâu</td>\n",
       "      <td>máy xăng 3.6 L</td>\n",
       "      <td>số tự động</td>\n",
       "      <td>52000</td>\n",
       "      <td>4 Tỷ 150 Triệu</td>\n",
       "      <td>Porsche</td>\n",
       "      <td>máy xăng</td>\n",
       "      <td>3.6</td>\n",
       "      <td>3.6</td>\n",
       "    </tr>\n",
       "    <tr>\n",
       "      <th>3637</th>\n",
       "      <td>3394496</td>\n",
       "      <td>2022</td>\n",
       "      <td>Xe mới</td>\n",
       "      <td>Suzuki Ertiga Sport 1.5 AT</td>\n",
       "      <td>Hưng Yên</td>\n",
       "      <td>Xe nhập khẩu</td>\n",
       "      <td>màu trắng</td>\n",
       "      <td>máy xăng 1.5 L</td>\n",
       "      <td>số tự động</td>\n",
       "      <td>0</td>\n",
       "      <td>558 Triệu</td>\n",
       "      <td>Suzuki</td>\n",
       "      <td>máy xăng</td>\n",
       "      <td>1.5</td>\n",
       "      <td>1.5</td>\n",
       "    </tr>\n",
       "    <tr>\n",
       "      <th>3638</th>\n",
       "      <td>4376164</td>\n",
       "      <td>2019</td>\n",
       "      <td>Xe cũ</td>\n",
       "      <td>Toyota Yaris 1.5G</td>\n",
       "      <td>Hà Nội</td>\n",
       "      <td>Xe nhập khẩu</td>\n",
       "      <td>màu đỏ</td>\n",
       "      <td>máy xăng 1.5 L</td>\n",
       "      <td>số tự động</td>\n",
       "      <td>46000</td>\n",
       "      <td>610 Triệu</td>\n",
       "      <td>Toyota</td>\n",
       "      <td>máy xăng</td>\n",
       "      <td>1.5</td>\n",
       "      <td>1.5</td>\n",
       "    </tr>\n",
       "    <tr>\n",
       "      <th>3639</th>\n",
       "      <td>3281968</td>\n",
       "      <td>2022</td>\n",
       "      <td>Xe mới</td>\n",
       "      <td>VinFast Lux A 2.0 Cao cấp</td>\n",
       "      <td>Hà Nội</td>\n",
       "      <td>Xe lắp ráp trong nước</td>\n",
       "      <td>màu nâu</td>\n",
       "      <td>máy xăng 2.0 L</td>\n",
       "      <td>số tự động</td>\n",
       "      <td>0</td>\n",
       "      <td>944 Triệu</td>\n",
       "      <td>VinFast</td>\n",
       "      <td>máy xăng</td>\n",
       "      <td>2.0</td>\n",
       "      <td>2.0</td>\n",
       "    </tr>\n",
       "  </tbody>\n",
       "</table>\n",
       "</div>"
      ],
      "text/plain": [
       "           Id  Year New Or Old                             Name   Address  \\\n",
       "3635  3298640  2022     Xe mới  Suzuki Super Carry Truck 1.0 MT    Hà Nội   \n",
       "3636  4184814  2016      Xe cũ                Porsche Cayenne S    Hà Nội   \n",
       "3637  3394496  2022     Xe mới       Suzuki Ertiga Sport 1.5 AT  Hưng Yên   \n",
       "3638  4376164  2019      Xe cũ                Toyota Yaris 1.5G    Hà Nội   \n",
       "3639  3281968  2022     Xe mới        VinFast Lux A 2.0 Cao cấp    Hà Nội   \n",
       "\n",
       "          Production Origin      Color            Fuel Car Gearbox  \\\n",
       "3635  Xe lắp ráp trong nước   màu xanh  máy xăng 1.0 L      số tay   \n",
       "3636           Xe nhập khẩu    màu nâu  máy xăng 3.6 L  số tự động   \n",
       "3637           Xe nhập khẩu  màu trắng  máy xăng 1.5 L  số tự động   \n",
       "3638           Xe nhập khẩu     màu đỏ  máy xăng 1.5 L  số tự động   \n",
       "3639  Xe lắp ráp trong nước    màu nâu  máy xăng 2.0 L  số tự động   \n",
       "\n",
       "      Used (kilomet)           Price  Company Fuel Type  Machine Capacity (L)  \\\n",
       "3635               0       238 Triệu   Suzuki  máy xăng                   1.0   \n",
       "3636           52000  4 Tỷ 150 Triệu  Porsche  máy xăng                   3.6   \n",
       "3637               0       558 Triệu   Suzuki  máy xăng                   1.5   \n",
       "3638           46000       610 Triệu   Toyota  máy xăng                   1.5   \n",
       "3639               0       944 Triệu  VinFast  máy xăng                   2.0   \n",
       "\n",
       "      Machine Capacity (L) Random  \n",
       "3635                          1.0  \n",
       "3636                          3.6  \n",
       "3637                          1.5  \n",
       "3638                          1.5  \n",
       "3639                          2.0  "
      ]
     },
     "execution_count": 365,
     "metadata": {},
     "output_type": "execute_result"
    }
   ],
   "source": [
    "\n",
    "df['Machine Capacity (L) Random']=df['Machine Capacity (L)']\n",
    "df.loc[df['Machine Capacity (L)'].isnull(), 'Machine Capacity (L) Random']=random_samples\n",
    "df.tail()"
   ]
  },
  {
   "cell_type": "markdown",
   "metadata": {},
   "source": [
    "Vẽ hàm mật độ xác suất của cột Machine Capacity (L) trước và sau khi điền"
   ]
  },
  {
   "cell_type": "code",
   "execution_count": 366,
   "metadata": {},
   "outputs": [
    {
     "data": {
      "text/plain": [
       "<matplotlib.legend.Legend at 0x1832e6f1930>"
      ]
     },
     "execution_count": 366,
     "metadata": {},
     "output_type": "execute_result"
    },
    {
     "data": {
      "image/png": "[encoded data removed]",
      "text/plain": [
       "<Figure size 432x288 with 1 Axes>"
      ]
     },
     "metadata": {
      "needs_background": "light"
     },
     "output_type": "display_data"
    }
   ],
   "source": [
    "\n",
    "\n",
    "fig = plt.figure()\n",
    "ax = fig.add_subplot(111)\n",
    "df['Machine Capacity (L)'].plot(kind='kde', ax=ax, color='blue')\n",
    "df['Machine Capacity (L) Random'].plot(kind='kde', ax=ax, color='green')\n",
    "lines, labels = ax.get_legend_handles_labels()\n",
    "ax.legend(lines, labels, loc='best')"
   ]
  },
  {
   "cell_type": "markdown",
   "metadata": {},
   "source": [
    "Xóa các cột ban đầu mà không ảnh hưởng"
   ]
  },
  {
   "cell_type": "code",
   "execution_count": 367,
   "metadata": {},
   "outputs": [],
   "source": [
    "df.drop([\"Name\"],axis=1,inplace=True)\n",
    "df.drop([\"Id\"],axis=1,inplace=True)\n",
    "df.drop([\"Fuel\"],axis=1,inplace=True)\n",
    "df.drop([\"Machine Capacity (L)\"],axis=1,inplace=True)"
   ]
  },
  {
   "cell_type": "markdown",
   "metadata": {},
   "source": [
    "Chuyển cột 'Price' về cuối df"
   ]
  },
  {
   "cell_type": "code",
   "execution_count": 368,
   "metadata": {},
   "outputs": [],
   "source": [
    "moving_column = df.pop('Price')\n",
    "df.insert(10,'Price',moving_column)"
   ]
  },
  {
   "cell_type": "code",
   "execution_count": 369,
   "metadata": {},
   "outputs": [
    {
     "data": {
      "text/html": [
       "<div>\n",
       "<style scoped>\n",
       "    .dataframe tbody tr th:only-of-type {\n",
       "        vertical-align: middle;\n",
       "    }\n",
       "\n",
       "    .dataframe tbody tr th {\n",
       "        vertical-align: top;\n",
       "    }\n",
       "\n",
       "    .dataframe thead th {\n",
       "        text-align: right;\n",
       "    }\n",
       "</style>\n",
       "<table border=\"1\" class=\"dataframe\">\n",
       "  <thead>\n",
       "    <tr style=\"text-align: right;\">\n",
       "      <th></th>\n",
       "      <th>Year</th>\n",
       "      <th>New Or Old</th>\n",
       "      <th>Address</th>\n",
       "      <th>Production Origin</th>\n",
       "      <th>Color</th>\n",
       "      <th>Car Gearbox</th>\n",
       "      <th>Used (kilomet)</th>\n",
       "      <th>Company</th>\n",
       "      <th>Fuel Type</th>\n",
       "      <th>Machine Capacity (L) Random</th>\n",
       "      <th>Price</th>\n",
       "    </tr>\n",
       "  </thead>\n",
       "  <tbody>\n",
       "    <tr>\n",
       "      <th>0</th>\n",
       "      <td>2022</td>\n",
       "      <td>Xe mới</td>\n",
       "      <td>Hà Nội</td>\n",
       "      <td>Xe nhập khẩu</td>\n",
       "      <td>màu đỏ</td>\n",
       "      <td>số tự động</td>\n",
       "      <td>0</td>\n",
       "      <td>Mercedes</td>\n",
       "      <td>máy xăng</td>\n",
       "      <td>3.0</td>\n",
       "      <td>4 Tỷ 359 Triệu</td>\n",
       "    </tr>\n",
       "    <tr>\n",
       "      <th>1</th>\n",
       "      <td>2022</td>\n",
       "      <td>Xe mới</td>\n",
       "      <td>Hà Nội</td>\n",
       "      <td>Xe lắp ráp trong nước</td>\n",
       "      <td>màu đỏ</td>\n",
       "      <td>số tự động</td>\n",
       "      <td>0</td>\n",
       "      <td>Mercedes</td>\n",
       "      <td>máy xăng</td>\n",
       "      <td>2.0</td>\n",
       "      <td>2 Tỷ 398 Triệu</td>\n",
       "    </tr>\n",
       "    <tr>\n",
       "      <th>2</th>\n",
       "      <td>2022</td>\n",
       "      <td>Xe mới</td>\n",
       "      <td>Hà Nội</td>\n",
       "      <td>Xe lắp ráp trong nước</td>\n",
       "      <td>màu đen</td>\n",
       "      <td>số tự động</td>\n",
       "      <td>0</td>\n",
       "      <td>Mercedes</td>\n",
       "      <td>máy xăng</td>\n",
       "      <td>2.0</td>\n",
       "      <td>2 Tỷ 398 Triệu</td>\n",
       "    </tr>\n",
       "    <tr>\n",
       "      <th>3</th>\n",
       "      <td>2019</td>\n",
       "      <td>Xe cũ</td>\n",
       "      <td>Hà Nội</td>\n",
       "      <td>Xe nhập khẩu</td>\n",
       "      <td>màu đen</td>\n",
       "      <td>số tự động</td>\n",
       "      <td>10000</td>\n",
       "      <td>Lexus</td>\n",
       "      <td>máy xăng</td>\n",
       "      <td>2.0</td>\n",
       "      <td>3 Tỷ 80 Triệu</td>\n",
       "    </tr>\n",
       "    <tr>\n",
       "      <th>4</th>\n",
       "      <td>2022</td>\n",
       "      <td>Xe mới</td>\n",
       "      <td>Hà Nội</td>\n",
       "      <td>Xe nhập khẩu</td>\n",
       "      <td>màu trắng</td>\n",
       "      <td>số tự động</td>\n",
       "      <td>0</td>\n",
       "      <td>Toyota</td>\n",
       "      <td>máy xăng</td>\n",
       "      <td>1.5</td>\n",
       "      <td>688 Triệu</td>\n",
       "    </tr>\n",
       "  </tbody>\n",
       "</table>\n",
       "</div>"
      ],
      "text/plain": [
       "   Year New Or Old Address      Production Origin      Color Car Gearbox  \\\n",
       "0  2022     Xe mới  Hà Nội           Xe nhập khẩu     màu đỏ  số tự động   \n",
       "1  2022     Xe mới  Hà Nội  Xe lắp ráp trong nước     màu đỏ  số tự động   \n",
       "2  2022     Xe mới  Hà Nội  Xe lắp ráp trong nước    màu đen  số tự động   \n",
       "3  2019      Xe cũ  Hà Nội           Xe nhập khẩu    màu đen  số tự động   \n",
       "4  2022     Xe mới  Hà Nội           Xe nhập khẩu  màu trắng  số tự động   \n",
       "\n",
       "   Used (kilomet)   Company Fuel Type  Machine Capacity (L) Random  \\\n",
       "0               0  Mercedes  máy xăng                          3.0   \n",
       "1               0  Mercedes  máy xăng                          2.0   \n",
       "2               0  Mercedes  máy xăng                          2.0   \n",
       "3           10000     Lexus  máy xăng                          2.0   \n",
       "4               0    Toyota  máy xăng                          1.5   \n",
       "\n",
       "            Price  \n",
       "0  4 Tỷ 359 Triệu  \n",
       "1  2 Tỷ 398 Triệu  \n",
       "2  2 Tỷ 398 Triệu  \n",
       "3   3 Tỷ 80 Triệu  \n",
       "4       688 Triệu  "
      ]
     },
     "execution_count": 369,
     "metadata": {},
     "output_type": "execute_result"
    }
   ],
   "source": [
    "df.head()"
   ]
  },
  {
   "cell_type": "markdown",
   "metadata": {},
   "source": [
    "Ghi lại file clean data"
   ]
  },
  {
   "cell_type": "code",
   "execution_count": 370,
   "metadata": {},
   "outputs": [],
   "source": [
    "with open(\"clean_data.csv\", \"w\", encoding='utf_8') as file:\n",
    "    file.write(\"Year,New Or Old,Address,Production Origin,Color,Car Gearbox,Used (kilomet),Company,Fuel Type,Machine Capacity (L) Random,Price\\n\")\n",
    "    for i in range(df.shape[0]):\n",
    "        srt2 = f\"{str(df['Year'][i])}, {str(df['New Or Old'][i])}, {str(df['Address'][i])}, {str(df['Production Origin'][i])}, {str(df['Color'][i])}, {str(df['Car Gearbox'][i])}, {str(df['Used (kilomet)'][i])}, {str(df['Company'][i])}, {str(df['Fuel Type'][i])}, {str(df['Machine Capacity (L) Random'][i])}, {str(df['Price'][i])}\\n\"\n",
    "        file.write(srt2)\n",
    "file.close()"
   ]
  },
  {
   "cell_type": "markdown",
   "metadata": {},
   "source": [
    "Encoding for 'Price' column"
   ]
  },
  {
   "cell_type": "code",
   "execution_count": 371,
   "metadata": {},
   "outputs": [],
   "source": [
    "for i in range (df.shape[0]):\n",
    "    result = 0.0\n",
    "    list_temp = df['Price'][i].split(' ')[:]\n",
    "\n",
    "    for j in range(len(list_temp)):\n",
    "        \n",
    "        if(list_temp[j] == 'Tỷ'): # 4 Tỷ 359 Triệu , 688 Triệu\t\n",
    "            base1 = 1000000000.0\n",
    "            temp_result = pd.to_numeric(list_temp[j-1], downcast='integer') * base1\n",
    "            result = result + temp_result\n",
    "        if (list_temp[j] == 'Triệu'):\n",
    "            base2 = 1000000.0\n",
    "            temp_result = pd.to_numeric(list_temp[j-1], downcast='integer') * base2\n",
    "            result = result + temp_result\n",
    "    \n",
    "    df.at[i, 'Price'] = result\n",
    "\n",
    "\n",
    "df['Price'] = pd.to_numeric(df['Price'], downcast='float')\n",
    "\n"
   ]
  },
  {
   "cell_type": "code",
   "execution_count": 372,
   "metadata": {},
   "outputs": [
    {
     "data": {
      "text/html": [
       "<div>\n",
       "<style scoped>\n",
       "    .dataframe tbody tr th:only-of-type {\n",
       "        vertical-align: middle;\n",
       "    }\n",
       "\n",
       "    .dataframe tbody tr th {\n",
       "        vertical-align: top;\n",
       "    }\n",
       "\n",
       "    .dataframe thead th {\n",
       "        text-align: right;\n",
       "    }\n",
       "</style>\n",
       "<table border=\"1\" class=\"dataframe\">\n",
       "  <thead>\n",
       "    <tr style=\"text-align: right;\">\n",
       "      <th></th>\n",
       "      <th>Year</th>\n",
       "      <th>New Or Old</th>\n",
       "      <th>Address</th>\n",
       "      <th>Production Origin</th>\n",
       "      <th>Color</th>\n",
       "      <th>Car Gearbox</th>\n",
       "      <th>Used (kilomet)</th>\n",
       "      <th>Company</th>\n",
       "      <th>Fuel Type</th>\n",
       "      <th>Machine Capacity (L) Random</th>\n",
       "      <th>Price</th>\n",
       "    </tr>\n",
       "  </thead>\n",
       "  <tbody>\n",
       "    <tr>\n",
       "      <th>0</th>\n",
       "      <td>2022</td>\n",
       "      <td>Xe mới</td>\n",
       "      <td>Hà Nội</td>\n",
       "      <td>Xe nhập khẩu</td>\n",
       "      <td>màu đỏ</td>\n",
       "      <td>số tự động</td>\n",
       "      <td>0</td>\n",
       "      <td>Mercedes</td>\n",
       "      <td>máy xăng</td>\n",
       "      <td>3.0</td>\n",
       "      <td>4.359000e+09</td>\n",
       "    </tr>\n",
       "    <tr>\n",
       "      <th>1</th>\n",
       "      <td>2022</td>\n",
       "      <td>Xe mới</td>\n",
       "      <td>Hà Nội</td>\n",
       "      <td>Xe lắp ráp trong nước</td>\n",
       "      <td>màu đỏ</td>\n",
       "      <td>số tự động</td>\n",
       "      <td>0</td>\n",
       "      <td>Mercedes</td>\n",
       "      <td>máy xăng</td>\n",
       "      <td>2.0</td>\n",
       "      <td>2.398000e+09</td>\n",
       "    </tr>\n",
       "    <tr>\n",
       "      <th>2</th>\n",
       "      <td>2022</td>\n",
       "      <td>Xe mới</td>\n",
       "      <td>Hà Nội</td>\n",
       "      <td>Xe lắp ráp trong nước</td>\n",
       "      <td>màu đen</td>\n",
       "      <td>số tự động</td>\n",
       "      <td>0</td>\n",
       "      <td>Mercedes</td>\n",
       "      <td>máy xăng</td>\n",
       "      <td>2.0</td>\n",
       "      <td>2.398000e+09</td>\n",
       "    </tr>\n",
       "    <tr>\n",
       "      <th>3</th>\n",
       "      <td>2019</td>\n",
       "      <td>Xe cũ</td>\n",
       "      <td>Hà Nội</td>\n",
       "      <td>Xe nhập khẩu</td>\n",
       "      <td>màu đen</td>\n",
       "      <td>số tự động</td>\n",
       "      <td>10000</td>\n",
       "      <td>Lexus</td>\n",
       "      <td>máy xăng</td>\n",
       "      <td>2.0</td>\n",
       "      <td>3.080000e+09</td>\n",
       "    </tr>\n",
       "    <tr>\n",
       "      <th>4</th>\n",
       "      <td>2022</td>\n",
       "      <td>Xe mới</td>\n",
       "      <td>Hà Nội</td>\n",
       "      <td>Xe nhập khẩu</td>\n",
       "      <td>màu trắng</td>\n",
       "      <td>số tự động</td>\n",
       "      <td>0</td>\n",
       "      <td>Toyota</td>\n",
       "      <td>máy xăng</td>\n",
       "      <td>1.5</td>\n",
       "      <td>6.880000e+08</td>\n",
       "    </tr>\n",
       "  </tbody>\n",
       "</table>\n",
       "</div>"
      ],
      "text/plain": [
       "   Year New Or Old Address      Production Origin      Color Car Gearbox  \\\n",
       "0  2022     Xe mới  Hà Nội           Xe nhập khẩu     màu đỏ  số tự động   \n",
       "1  2022     Xe mới  Hà Nội  Xe lắp ráp trong nước     màu đỏ  số tự động   \n",
       "2  2022     Xe mới  Hà Nội  Xe lắp ráp trong nước    màu đen  số tự động   \n",
       "3  2019      Xe cũ  Hà Nội           Xe nhập khẩu    màu đen  số tự động   \n",
       "4  2022     Xe mới  Hà Nội           Xe nhập khẩu  màu trắng  số tự động   \n",
       "\n",
       "   Used (kilomet)   Company Fuel Type  Machine Capacity (L) Random  \\\n",
       "0               0  Mercedes  máy xăng                          3.0   \n",
       "1               0  Mercedes  máy xăng                          2.0   \n",
       "2               0  Mercedes  máy xăng                          2.0   \n",
       "3           10000     Lexus  máy xăng                          2.0   \n",
       "4               0    Toyota  máy xăng                          1.5   \n",
       "\n",
       "          Price  \n",
       "0  4.359000e+09  \n",
       "1  2.398000e+09  \n",
       "2  2.398000e+09  \n",
       "3  3.080000e+09  \n",
       "4  6.880000e+08  "
      ]
     },
     "execution_count": 372,
     "metadata": {},
     "output_type": "execute_result"
    }
   ],
   "source": [
    "df.head()"
   ]
  },
  {
   "cell_type": "markdown",
   "metadata": {},
   "source": [
    "Data Visualization"
   ]
  },
  {
   "cell_type": "markdown",
   "metadata": {},
   "source": [
    "Trực quan sự phân bố giá trị của cột 'Price'"
   ]
  },
  {
   "cell_type": "code",
   "execution_count": 373,
   "metadata": {},
   "outputs": [
    {
     "name": "stderr",
     "output_type": "stream",
     "text": [
      "C:\\Users\\dongu\\AppData\\Roaming\\Python\\Python310\\site-packages\\seaborn\\distributions.py:2619: FutureWarning: `distplot` is a deprecated function and will be removed in a future version. Please adapt your code to use either `displot` (a figure-level function with similar flexibility) or `histplot` (an axes-level function for histograms).\n",
      "  warnings.warn(msg, FutureWarning)\n"
     ]
    },
    {
     "data": {
      "text/plain": [
       "(63000000.0, 41990000000.0)"
      ]
     },
     "execution_count": 373,
     "metadata": {},
     "output_type": "execute_result"
    },
    {
     "data": {
      "image/png": "[encoded data removed]",
      "text/plain": [
       "<Figure size 576x720 with 1 Axes>"
      ]
     },
     "metadata": {
      "needs_background": "light"
     },
     "output_type": "display_data"
    }
   ],
   "source": [
    "f, ax = plt.subplots(figsize=(8,10))\n",
    "sns.distplot(df['Price'])\n",
    "plt.xlim([6.300000e+07,4.199000e+10])"
   ]
  },
  {
   "cell_type": "markdown",
   "metadata": {},
   "source": [
    "New Or Old"
   ]
  },
  {
   "cell_type": "code",
   "execution_count": 374,
   "metadata": {},
   "outputs": [
    {
     "name": "stdout",
     "output_type": "stream",
     "text": [
      "{'Xe cũ <', 'Xe mới', 'Xe cũ'}\n"
     ]
    }
   ],
   "source": [
    "print(set(df['New Or Old']))"
   ]
  },
  {
   "cell_type": "code",
   "execution_count": 375,
   "metadata": {},
   "outputs": [
    {
     "name": "stderr",
     "output_type": "stream",
     "text": [
      "C:\\Users\\dongu\\AppData\\Local\\Temp\\ipykernel_364\\3490621823.py:3: SettingWithCopyWarning: \n",
      "A value is trying to be set on a copy of a slice from a DataFrame\n",
      "\n",
      "See the caveats in the documentation: https://pandas.pydata.org/pandas-docs/stable/user_guide/indexing.html#returning-a-view-versus-a-copy\n",
      "  df['New Or Old'][i] = df['New Or Old'][i].replace('Xe cũ <', 'Xe cũ')\n"
     ]
    }
   ],
   "source": [
    "for i in range(df.shape[0]):\n",
    "    if(df['New Or Old'][i] == 'Xe cũ <'):\n",
    "        df['New Or Old'][i] = df['New Or Old'][i].replace('Xe cũ <', 'Xe cũ')"
   ]
  },
  {
   "cell_type": "code",
   "execution_count": 376,
   "metadata": {},
   "outputs": [
    {
     "data": {
      "image/png": "[encoded data removed]",
      "text/plain": [
       "<Figure size 864x576 with 1 Axes>"
      ]
     },
     "metadata": {
      "needs_background": "light"
     },
     "output_type": "display_data"
    }
   ],
   "source": [
    "var = 'New Or Old'\n",
    "data = pd.concat([df['Price'], df[var]], axis=1)\n",
    "f, ax = plt.subplots(figsize=(12, 8))\n",
    "fig = sns.boxplot(x=var, y=\"Price\", data=data)\n",
    "fig.axis(ymin=6.300000e+07, ymax=4.199000e+10);"
   ]
  },
  {
   "cell_type": "markdown",
   "metadata": {},
   "source": [
    "Production Origin"
   ]
  },
  {
   "cell_type": "code",
   "execution_count": 377,
   "metadata": {},
   "outputs": [
    {
     "name": "stdout",
     "output_type": "stream",
     "text": [
      "{'Xe lắp ráp trong nước', 'Xe nhập khẩu'}\n"
     ]
    }
   ],
   "source": [
    "print(set(df['Production Origin']))"
   ]
  },
  {
   "cell_type": "code",
   "execution_count": 378,
   "metadata": {},
   "outputs": [
    {
     "data": {
      "image/png": "[encoded data removed]",
      "text/plain": [
       "<Figure size 864x576 with 1 Axes>"
      ]
     },
     "metadata": {
      "needs_background": "light"
     },
     "output_type": "display_data"
    }
   ],
   "source": [
    "var = 'Production Origin'\n",
    "data = pd.concat([df['Price'], df[var]], axis=1)\n",
    "f, ax = plt.subplots(figsize=(12, 8))\n",
    "fig = sns.boxplot(x=var, y=\"Price\", data=data)\n",
    "fig.axis(ymin=6.300000e+07, ymax=4.199000e+10);"
   ]
  },
  {
   "cell_type": "markdown",
   "metadata": {},
   "source": [
    "Car Gearbox"
   ]
  },
  {
   "cell_type": "code",
   "execution_count": 379,
   "metadata": {},
   "outputs": [
    {
     "name": "stdout",
     "output_type": "stream",
     "text": [
      "{'số tự động', 'số tay'}\n"
     ]
    }
   ],
   "source": [
    "print(set(df['Car Gearbox']))"
   ]
  },
  {
   "cell_type": "code",
   "execution_count": 380,
   "metadata": {},
   "outputs": [
    {
     "data": {
      "image/png": "[encoded data removed]",
      "text/plain": [
       "<Figure size 864x576 with 1 Axes>"
      ]
     },
     "metadata": {
      "needs_background": "light"
     },
     "output_type": "display_data"
    }
   ],
   "source": [
    "var = 'Car Gearbox'\n",
    "data = pd.concat([df['Price'], df[var]], axis=1)\n",
    "f, ax = plt.subplots(figsize=(12, 8))\n",
    "fig = sns.boxplot(x=var, y=\"Price\", data=data)\n",
    "fig.axis(ymin=6.300000e+07, ymax=4.199000e+10);"
   ]
  },
  {
   "cell_type": "markdown",
   "metadata": {},
   "source": [
    "Year"
   ]
  },
  {
   "cell_type": "code",
   "execution_count": 381,
   "metadata": {},
   "outputs": [
    {
     "data": {
      "image/png": "[encoded data removed]",
      "text/plain": [
       "<Figure size 432x288 with 1 Axes>"
      ]
     },
     "metadata": {
      "needs_background": "light"
     },
     "output_type": "display_data"
    }
   ],
   "source": [
    "# groupby giá trị của cột 'Price' theo 'Year' \n",
    "sales_value = df.groupby('Year').sum()['Price']\n",
    "years = list(set(df['Year']))\n",
    "plt.bar(x=years, height=sales_value)\n",
    "plt.xticks(years, rotation= 60, size=8)\n",
    "plt.xlabel('Year')\n",
    "plt.ylabel('Sales in VND')\n",
    "plt.show()\n",
    "# Điều ở trên chưa chính xác khi mà có thể có các loại xe có giá trị đắt đỏ. "
   ]
  },
  {
   "cell_type": "markdown",
   "metadata": {},
   "source": [
    "Address"
   ]
  },
  {
   "cell_type": "code",
   "execution_count": 382,
   "metadata": {},
   "outputs": [
    {
     "data": {
      "text/plain": [
       "<Figure size 1440x720 with 0 Axes>"
      ]
     },
     "metadata": {},
     "output_type": "display_data"
    },
    {
     "data": {
      "image/png": "[encoded data removed]",
      "text/plain": [
       "<Figure size 1152x576 with 1 Axes>"
      ]
     },
     "metadata": {
      "needs_background": "light"
     },
     "output_type": "display_data"
    }
   ],
   "source": [
    "var = \"Address\"\n",
    "plt.figure(figsize=(20, 10))\n",
    "sns.catplot(x=var, kind=\"count\", palette=\"ch:.25\", height=8, aspect=2, data=df)\n",
    "plt.xticks(rotation=90);"
   ]
  },
  {
   "cell_type": "markdown",
   "metadata": {},
   "source": [
    "Color"
   ]
  },
  {
   "cell_type": "code",
   "execution_count": 383,
   "metadata": {},
   "outputs": [
    {
     "data": {
      "image/png": "[encoded data removed]",
      "text/plain": [
       "<Figure size 864x576 with 1 Axes>"
      ]
     },
     "metadata": {
      "needs_background": "light"
     },
     "output_type": "display_data"
    }
   ],
   "source": [
    "var = 'Color'\n",
    "data = pd.concat([df['Price'], df[var]], axis=1)\n",
    "f, ax = plt.subplots(figsize=(12, 8))\n",
    "fig = sns.boxplot(x=var, y=\"Price\", data=data)\n",
    "fig.axis(ymin=6.300000e+07, ymax=4.199000e+10);"
   ]
  },
  {
   "cell_type": "markdown",
   "metadata": {},
   "source": [
    "Company"
   ]
  },
  {
   "cell_type": "code",
   "execution_count": 384,
   "metadata": {},
   "outputs": [
    {
     "data": {
      "image/png": "[encoded data removed]",
      "text/plain": [
       "<Figure size 432x288 with 1 Axes>"
      ]
     },
     "metadata": {
      "needs_background": "light"
     },
     "output_type": "display_data"
    }
   ],
   "source": [
    "sales_value = df.groupby('Company').sum()['Price']\n",
    "Company = list(set(df['Company']))\n",
    "plt.bar(x=Company, height=sales_value)\n",
    "plt.xticks(Company, rotation= 65, size=6)\n",
    "plt.xlabel('Company')\n",
    "plt.ylabel('Sales in VND')\n",
    "plt.show()"
   ]
  },
  {
   "cell_type": "markdown",
   "metadata": {},
   "source": [
    "Used (kilomet)"
   ]
  },
  {
   "cell_type": "code",
   "execution_count": 385,
   "metadata": {},
   "outputs": [
    {
     "data": {
      "text/plain": [
       "Text(0.5, 1.0, 'Giá bán tương ứng theo số kilomet đã chạy')"
      ]
     },
     "execution_count": 385,
     "metadata": {},
     "output_type": "execute_result"
    },
    {
     "data": {
      "image/png": "[encoded data removed]",
      "text/plain": [
       "<Figure size 1152x576 with 1 Axes>"
      ]
     },
     "metadata": {
      "needs_background": "light"
     },
     "output_type": "display_data"
    }
   ],
   "source": [
    "\n",
    "x = df['Used (kilomet)'].values\n",
    "y = df['Price'].values\n",
    "\n",
    "plt.figure(figsize=(16, 8))\n",
    "plt.scatter(x, y, color='green', )\n",
    "plt.xlabel('Used (kilomet)', fontsize=16)\n",
    "plt.ylabel('Price (VND)', fontsize=16)\n",
    "plt.title(\"Giá bán tương ứng theo số kilomet đã chạy\", fontsize=18)"
   ]
  },
  {
   "cell_type": "markdown",
   "metadata": {},
   "source": [
    "Fuel Type"
   ]
  },
  {
   "cell_type": "code",
   "execution_count": 386,
   "metadata": {},
   "outputs": [
    {
     "data": {
      "image/png": "[encoded data removed]",
      "text/plain": [
       "<Figure size 864x576 with 1 Axes>"
      ]
     },
     "metadata": {
      "needs_background": "light"
     },
     "output_type": "display_data"
    }
   ],
   "source": [
    "var = 'Fuel Type'\n",
    "data = pd.concat([df['Price'], df[var]], axis=1)\n",
    "f, ax = plt.subplots(figsize=(12, 8))\n",
    "fig = sns.boxplot(x=var, y=\"Price\", data=data)\n",
    "fig.axis(ymin=6.300000e+07, ymax=4.199000e+10);"
   ]
  },
  {
   "cell_type": "markdown",
   "metadata": {},
   "source": [
    "Machine Capacity (L)"
   ]
  },
  {
   "cell_type": "code",
   "execution_count": 387,
   "metadata": {},
   "outputs": [
    {
     "data": {
      "text/plain": [
       "Text(0.5, 1.0, 'Giá bán tương ứng theo số dung tích xe')"
      ]
     },
     "execution_count": 387,
     "metadata": {},
     "output_type": "execute_result"
    },
    {
     "data": {
      "image/png": "[encoded data removed]",
      "text/plain": [
       "<Figure size 1152x576 with 1 Axes>"
      ]
     },
     "metadata": {
      "needs_background": "light"
     },
     "output_type": "display_data"
    }
   ],
   "source": [
    "x = df['Machine Capacity (L) Random'].values\n",
    "y = df['Price'].values\n",
    "\n",
    "plt.figure(figsize=(16, 8))\n",
    "plt.scatter(x, y, color='green', )\n",
    "plt.xlabel('Machine Capacity (L) Random)', fontsize=16)\n",
    "plt.ylabel('Price (VND)', fontsize=16)\n",
    "plt.title(\"Giá bán tương ứng theo số dung tích xe\", fontsize=18)"
   ]
  },
  {
   "cell_type": "markdown",
   "metadata": {},
   "source": [
    "Do không tìm ra được quy luật tiềm ẩn trong cột Machine Capacity(L) và cột Address nên em drop các cột này đi"
   ]
  },
  {
   "cell_type": "code",
   "execution_count": 388,
   "metadata": {},
   "outputs": [
    {
     "data": {
      "text/html": [
       "<div>\n",
       "<style scoped>\n",
       "    .dataframe tbody tr th:only-of-type {\n",
       "        vertical-align: middle;\n",
       "    }\n",
       "\n",
       "    .dataframe tbody tr th {\n",
       "        vertical-align: top;\n",
       "    }\n",
       "\n",
       "    .dataframe thead th {\n",
       "        text-align: right;\n",
       "    }\n",
       "</style>\n",
       "<table border=\"1\" class=\"dataframe\">\n",
       "  <thead>\n",
       "    <tr style=\"text-align: right;\">\n",
       "      <th></th>\n",
       "      <th>Year</th>\n",
       "      <th>New Or Old</th>\n",
       "      <th>Production Origin</th>\n",
       "      <th>Color</th>\n",
       "      <th>Car Gearbox</th>\n",
       "      <th>Used (kilomet)</th>\n",
       "      <th>Company</th>\n",
       "      <th>Fuel Type</th>\n",
       "      <th>Price</th>\n",
       "    </tr>\n",
       "  </thead>\n",
       "  <tbody>\n",
       "    <tr>\n",
       "      <th>0</th>\n",
       "      <td>2022</td>\n",
       "      <td>Xe mới</td>\n",
       "      <td>Xe nhập khẩu</td>\n",
       "      <td>màu đỏ</td>\n",
       "      <td>số tự động</td>\n",
       "      <td>0</td>\n",
       "      <td>Mercedes</td>\n",
       "      <td>máy xăng</td>\n",
       "      <td>4.359000e+09</td>\n",
       "    </tr>\n",
       "    <tr>\n",
       "      <th>1</th>\n",
       "      <td>2022</td>\n",
       "      <td>Xe mới</td>\n",
       "      <td>Xe lắp ráp trong nước</td>\n",
       "      <td>màu đỏ</td>\n",
       "      <td>số tự động</td>\n",
       "      <td>0</td>\n",
       "      <td>Mercedes</td>\n",
       "      <td>máy xăng</td>\n",
       "      <td>2.398000e+09</td>\n",
       "    </tr>\n",
       "    <tr>\n",
       "      <th>2</th>\n",
       "      <td>2022</td>\n",
       "      <td>Xe mới</td>\n",
       "      <td>Xe lắp ráp trong nước</td>\n",
       "      <td>màu đen</td>\n",
       "      <td>số tự động</td>\n",
       "      <td>0</td>\n",
       "      <td>Mercedes</td>\n",
       "      <td>máy xăng</td>\n",
       "      <td>2.398000e+09</td>\n",
       "    </tr>\n",
       "    <tr>\n",
       "      <th>3</th>\n",
       "      <td>2019</td>\n",
       "      <td>Xe cũ</td>\n",
       "      <td>Xe nhập khẩu</td>\n",
       "      <td>màu đen</td>\n",
       "      <td>số tự động</td>\n",
       "      <td>10000</td>\n",
       "      <td>Lexus</td>\n",
       "      <td>máy xăng</td>\n",
       "      <td>3.080000e+09</td>\n",
       "    </tr>\n",
       "    <tr>\n",
       "      <th>4</th>\n",
       "      <td>2022</td>\n",
       "      <td>Xe mới</td>\n",
       "      <td>Xe nhập khẩu</td>\n",
       "      <td>màu trắng</td>\n",
       "      <td>số tự động</td>\n",
       "      <td>0</td>\n",
       "      <td>Toyota</td>\n",
       "      <td>máy xăng</td>\n",
       "      <td>6.880000e+08</td>\n",
       "    </tr>\n",
       "  </tbody>\n",
       "</table>\n",
       "</div>"
      ],
      "text/plain": [
       "   Year New Or Old      Production Origin      Color Car Gearbox  \\\n",
       "0  2022     Xe mới           Xe nhập khẩu     màu đỏ  số tự động   \n",
       "1  2022     Xe mới  Xe lắp ráp trong nước     màu đỏ  số tự động   \n",
       "2  2022     Xe mới  Xe lắp ráp trong nước    màu đen  số tự động   \n",
       "3  2019      Xe cũ           Xe nhập khẩu    màu đen  số tự động   \n",
       "4  2022     Xe mới           Xe nhập khẩu  màu trắng  số tự động   \n",
       "\n",
       "   Used (kilomet)   Company Fuel Type         Price  \n",
       "0               0  Mercedes  máy xăng  4.359000e+09  \n",
       "1               0  Mercedes  máy xăng  2.398000e+09  \n",
       "2               0  Mercedes  máy xăng  2.398000e+09  \n",
       "3           10000     Lexus  máy xăng  3.080000e+09  \n",
       "4               0    Toyota  máy xăng  6.880000e+08  "
      ]
     },
     "execution_count": 388,
     "metadata": {},
     "output_type": "execute_result"
    }
   ],
   "source": [
    "df.drop([\"Machine Capacity (L) Random\"],axis=1,inplace=True)\n",
    "df.drop([\"Address\"],axis=1,inplace=True)\n",
    "df.head()"
   ]
  },
  {
   "cell_type": "markdown",
   "metadata": {},
   "source": [
    "# Feature Engineering"
   ]
  },
  {
   "cell_type": "markdown",
   "metadata": {},
   "source": [
    "# Encoding"
   ]
  },
  {
   "cell_type": "markdown",
   "metadata": {},
   "source": [
    "Encoding for 'New or Old' column"
   ]
  },
  {
   "cell_type": "code",
   "execution_count": 416,
   "metadata": {},
   "outputs": [
    {
     "name": "stdout",
     "output_type": "stream",
     "text": [
      "{0, 1}\n"
     ]
    }
   ],
   "source": [
    "\n",
    "for i in range(df.shape[0]):\n",
    "    if(df['New Or Old'][i] == 'Xe cũ <'):\n",
    "        df['New Or Old'][i] = df['New Or Old'][i].replace('Xe cũ <', '0')\n",
    "    elif (df['New Or Old'][i] == 'Xe cũ'):\n",
    "        df['New Or Old'][i] = df['New Or Old'][i].replace('Xe cũ', '0')\n",
    "    elif (df['New Or Old'][i] == 'Xe mới'):\n",
    "        df['New Or Old'][i] = df['New Or Old'][i].replace('Xe mới', '1')\n",
    "\n",
    "df['New Or Old'] = pd.to_numeric(df['New Or Old'], downcast='integer')\n",
    "\n",
    "print(set(df['New Or Old']));\n",
    "\n"
   ]
  },
  {
   "cell_type": "markdown",
   "metadata": {},
   "source": [
    "Encoding for Production Origin column"
   ]
  },
  {
   "cell_type": "code",
   "execution_count": 390,
   "metadata": {},
   "outputs": [
    {
     "name": "stdout",
     "output_type": "stream",
     "text": [
      "{'Xe lắp ráp trong nước', 'Xe nhập khẩu'}\n"
     ]
    }
   ],
   "source": [
    "print(set(df['Production Origin']))"
   ]
  },
  {
   "cell_type": "code",
   "execution_count": 414,
   "metadata": {},
   "outputs": [
    {
     "name": "stdout",
     "output_type": "stream",
     "text": [
      "{0, 1}\n"
     ]
    }
   ],
   "source": [
    "for i in range(df.shape[0]):\n",
    "    if(df['Production Origin'][i] == 'Xe nhập khẩu'):\n",
    "        df['Production Origin'][i] = df['Production Origin'][i].replace('Xe nhập khẩu', '0')\n",
    "    elif (df['Production Origin'][i] == 'Xe lắp ráp trong nước'):\n",
    "        df['Production Origin'][i] = df['Production Origin'][i].replace('Xe lắp ráp trong nước', '1')\n",
    "\n",
    "df['Production Origin'] = pd.to_numeric(df['Production Origin'], downcast='integer')\n",
    "\n",
    "print(set(df['Production Origin']));"
   ]
  },
  {
   "cell_type": "code",
   "execution_count": 417,
   "metadata": {},
   "outputs": [
    {
     "data": {
      "text/html": [
       "<div>\n",
       "<style scoped>\n",
       "    .dataframe tbody tr th:only-of-type {\n",
       "        vertical-align: middle;\n",
       "    }\n",
       "\n",
       "    .dataframe tbody tr th {\n",
       "        vertical-align: top;\n",
       "    }\n",
       "\n",
       "    .dataframe thead th {\n",
       "        text-align: right;\n",
       "    }\n",
       "</style>\n",
       "<table border=\"1\" class=\"dataframe\">\n",
       "  <thead>\n",
       "    <tr style=\"text-align: right;\">\n",
       "      <th></th>\n",
       "      <th>Year</th>\n",
       "      <th>New Or Old</th>\n",
       "      <th>Production Origin</th>\n",
       "      <th>Color</th>\n",
       "      <th>Car Gearbox</th>\n",
       "      <th>Used (kilomet)</th>\n",
       "      <th>Company</th>\n",
       "      <th>Fuel Type</th>\n",
       "      <th>Price</th>\n",
       "    </tr>\n",
       "  </thead>\n",
       "  <tbody>\n",
       "    <tr>\n",
       "      <th>0</th>\n",
       "      <td>2022</td>\n",
       "      <td>1</td>\n",
       "      <td>0</td>\n",
       "      <td>màu đỏ</td>\n",
       "      <td>1</td>\n",
       "      <td>0</td>\n",
       "      <td>Mercedes</td>\n",
       "      <td>máy xăng</td>\n",
       "      <td>4.359000e+09</td>\n",
       "    </tr>\n",
       "    <tr>\n",
       "      <th>1</th>\n",
       "      <td>2022</td>\n",
       "      <td>1</td>\n",
       "      <td>1</td>\n",
       "      <td>màu đỏ</td>\n",
       "      <td>1</td>\n",
       "      <td>0</td>\n",
       "      <td>Mercedes</td>\n",
       "      <td>máy xăng</td>\n",
       "      <td>2.398000e+09</td>\n",
       "    </tr>\n",
       "    <tr>\n",
       "      <th>2</th>\n",
       "      <td>2022</td>\n",
       "      <td>1</td>\n",
       "      <td>1</td>\n",
       "      <td>màu đen</td>\n",
       "      <td>1</td>\n",
       "      <td>0</td>\n",
       "      <td>Mercedes</td>\n",
       "      <td>máy xăng</td>\n",
       "      <td>2.398000e+09</td>\n",
       "    </tr>\n",
       "    <tr>\n",
       "      <th>3</th>\n",
       "      <td>2019</td>\n",
       "      <td>0</td>\n",
       "      <td>0</td>\n",
       "      <td>màu đen</td>\n",
       "      <td>1</td>\n",
       "      <td>10000</td>\n",
       "      <td>Lexus</td>\n",
       "      <td>máy xăng</td>\n",
       "      <td>3.080000e+09</td>\n",
       "    </tr>\n",
       "    <tr>\n",
       "      <th>4</th>\n",
       "      <td>2022</td>\n",
       "      <td>1</td>\n",
       "      <td>0</td>\n",
       "      <td>màu trắng</td>\n",
       "      <td>1</td>\n",
       "      <td>0</td>\n",
       "      <td>Toyota</td>\n",
       "      <td>máy xăng</td>\n",
       "      <td>6.880000e+08</td>\n",
       "    </tr>\n",
       "  </tbody>\n",
       "</table>\n",
       "</div>"
      ],
      "text/plain": [
       "   Year  New Or Old  Production Origin      Color  Car Gearbox  \\\n",
       "0  2022           1                  0     màu đỏ            1   \n",
       "1  2022           1                  1     màu đỏ            1   \n",
       "2  2022           1                  1    màu đen            1   \n",
       "3  2019           0                  0    màu đen            1   \n",
       "4  2022           1                  0  màu trắng            1   \n",
       "\n",
       "   Used (kilomet)   Company Fuel Type         Price  \n",
       "0               0  Mercedes  máy xăng  4.359000e+09  \n",
       "1               0  Mercedes  máy xăng  2.398000e+09  \n",
       "2               0  Mercedes  máy xăng  2.398000e+09  \n",
       "3           10000     Lexus  máy xăng  3.080000e+09  \n",
       "4               0    Toyota  máy xăng  6.880000e+08  "
      ]
     },
     "execution_count": 417,
     "metadata": {},
     "output_type": "execute_result"
    }
   ],
   "source": [
    "df.head()"
   ]
  },
  {
   "cell_type": "markdown",
   "metadata": {},
   "source": [
    "Encoding for Car Gearbox column"
   ]
  },
  {
   "cell_type": "code",
   "execution_count": 392,
   "metadata": {},
   "outputs": [
    {
     "name": "stdout",
     "output_type": "stream",
     "text": [
      "{'số tự động', 'số tay'}\n"
     ]
    }
   ],
   "source": [
    "print(set(df['Car Gearbox']))"
   ]
  },
  {
   "cell_type": "code",
   "execution_count": 415,
   "metadata": {},
   "outputs": [
    {
     "name": "stdout",
     "output_type": "stream",
     "text": [
      "{0, 1}\n"
     ]
    }
   ],
   "source": [
    "for i in range(df.shape[0]):\n",
    "    if(df['Car Gearbox'][i] == 'số tự động'):\n",
    "        df['Car Gearbox'][i] = df['Car Gearbox'][i].replace('số tự động', '1')\n",
    "    elif (df['Car Gearbox'][i] == 'số tay'):\n",
    "        df['Car Gearbox'][i] = df['Car Gearbox'][i].replace('số tay', '0')\n",
    "\n",
    "df['Car Gearbox'] = pd.to_numeric(df['Car Gearbox'], downcast='integer')\n",
    "\n",
    "print(set(df['Car Gearbox']));"
   ]
  },
  {
   "cell_type": "code",
   "execution_count": 394,
   "metadata": {},
   "outputs": [
    {
     "data": {
      "text/html": [
       "<div>\n",
       "<style scoped>\n",
       "    .dataframe tbody tr th:only-of-type {\n",
       "        vertical-align: middle;\n",
       "    }\n",
       "\n",
       "    .dataframe tbody tr th {\n",
       "        vertical-align: top;\n",
       "    }\n",
       "\n",
       "    .dataframe thead th {\n",
       "        text-align: right;\n",
       "    }\n",
       "</style>\n",
       "<table border=\"1\" class=\"dataframe\">\n",
       "  <thead>\n",
       "    <tr style=\"text-align: right;\">\n",
       "      <th></th>\n",
       "      <th>Year</th>\n",
       "      <th>New Or Old</th>\n",
       "      <th>Production Origin</th>\n",
       "      <th>Color</th>\n",
       "      <th>Car Gearbox</th>\n",
       "      <th>Used (kilomet)</th>\n",
       "      <th>Company</th>\n",
       "      <th>Fuel Type</th>\n",
       "      <th>Price</th>\n",
       "    </tr>\n",
       "  </thead>\n",
       "  <tbody>\n",
       "    <tr>\n",
       "      <th>0</th>\n",
       "      <td>2022</td>\n",
       "      <td>1</td>\n",
       "      <td>0</td>\n",
       "      <td>màu đỏ</td>\n",
       "      <td>1</td>\n",
       "      <td>0</td>\n",
       "      <td>Mercedes</td>\n",
       "      <td>máy xăng</td>\n",
       "      <td>4.359000e+09</td>\n",
       "    </tr>\n",
       "    <tr>\n",
       "      <th>1</th>\n",
       "      <td>2022</td>\n",
       "      <td>1</td>\n",
       "      <td>1</td>\n",
       "      <td>màu đỏ</td>\n",
       "      <td>1</td>\n",
       "      <td>0</td>\n",
       "      <td>Mercedes</td>\n",
       "      <td>máy xăng</td>\n",
       "      <td>2.398000e+09</td>\n",
       "    </tr>\n",
       "    <tr>\n",
       "      <th>2</th>\n",
       "      <td>2022</td>\n",
       "      <td>1</td>\n",
       "      <td>1</td>\n",
       "      <td>màu đen</td>\n",
       "      <td>1</td>\n",
       "      <td>0</td>\n",
       "      <td>Mercedes</td>\n",
       "      <td>máy xăng</td>\n",
       "      <td>2.398000e+09</td>\n",
       "    </tr>\n",
       "    <tr>\n",
       "      <th>3</th>\n",
       "      <td>2019</td>\n",
       "      <td>0</td>\n",
       "      <td>0</td>\n",
       "      <td>màu đen</td>\n",
       "      <td>1</td>\n",
       "      <td>10000</td>\n",
       "      <td>Lexus</td>\n",
       "      <td>máy xăng</td>\n",
       "      <td>3.080000e+09</td>\n",
       "    </tr>\n",
       "    <tr>\n",
       "      <th>4</th>\n",
       "      <td>2022</td>\n",
       "      <td>1</td>\n",
       "      <td>0</td>\n",
       "      <td>màu trắng</td>\n",
       "      <td>1</td>\n",
       "      <td>0</td>\n",
       "      <td>Toyota</td>\n",
       "      <td>máy xăng</td>\n",
       "      <td>6.880000e+08</td>\n",
       "    </tr>\n",
       "  </tbody>\n",
       "</table>\n",
       "</div>"
      ],
      "text/plain": [
       "   Year  New Or Old  Production Origin      Color  Car Gearbox  \\\n",
       "0  2022           1                  0     màu đỏ            1   \n",
       "1  2022           1                  1     màu đỏ            1   \n",
       "2  2022           1                  1    màu đen            1   \n",
       "3  2019           0                  0    màu đen            1   \n",
       "4  2022           1                  0  màu trắng            1   \n",
       "\n",
       "   Used (kilomet)   Company Fuel Type         Price  \n",
       "0               0  Mercedes  máy xăng  4.359000e+09  \n",
       "1               0  Mercedes  máy xăng  2.398000e+09  \n",
       "2               0  Mercedes  máy xăng  2.398000e+09  \n",
       "3           10000     Lexus  máy xăng  3.080000e+09  \n",
       "4               0    Toyota  máy xăng  6.880000e+08  "
      ]
     },
     "execution_count": 394,
     "metadata": {},
     "output_type": "execute_result"
    }
   ],
   "source": [
    "df.head()"
   ]
  },
  {
   "cell_type": "markdown",
   "metadata": {},
   "source": [
    "One-hot-encoding"
   ]
  },
  {
   "cell_type": "code",
   "execution_count": 395,
   "metadata": {},
   "outputs": [],
   "source": [
    "var = 'Color'\n",
    "Color = df[[var]]\n",
    "Color = pd.get_dummies(Color,drop_first=True)\n",
    "var = 'Company'\n",
    "Company = df[[var]]\n",
    "Company = pd.get_dummies(Company,drop_first=True)\n",
    "var = 'Fuel Type'\n",
    "Fuel_t = df[[var]]\n",
    "Fuel_t = pd.get_dummies(Fuel_t,drop_first=True)\n"
   ]
  },
  {
   "cell_type": "code",
   "execution_count": 396,
   "metadata": {},
   "outputs": [
    {
     "data": {
      "text/html": [
       "<div>\n",
       "<style scoped>\n",
       "    .dataframe tbody tr th:only-of-type {\n",
       "        vertical-align: middle;\n",
       "    }\n",
       "\n",
       "    .dataframe tbody tr th {\n",
       "        vertical-align: top;\n",
       "    }\n",
       "\n",
       "    .dataframe thead th {\n",
       "        text-align: right;\n",
       "    }\n",
       "</style>\n",
       "<table border=\"1\" class=\"dataframe\">\n",
       "  <thead>\n",
       "    <tr style=\"text-align: right;\">\n",
       "      <th></th>\n",
       "      <th>Year</th>\n",
       "      <th>New Or Old</th>\n",
       "      <th>Production Origin</th>\n",
       "      <th>Car Gearbox</th>\n",
       "      <th>Used (kilomet)</th>\n",
       "      <th>Price</th>\n",
       "      <th>Color_màu cam</th>\n",
       "      <th>Color_màu cát</th>\n",
       "      <th>Color_màu ghi</th>\n",
       "      <th>Color_màu hồng</th>\n",
       "      <th>...</th>\n",
       "      <th>Company_Suzuki</th>\n",
       "      <th>Company_Thaco</th>\n",
       "      <th>Company_Toyota</th>\n",
       "      <th>Company_VinFast</th>\n",
       "      <th>Company_Volkswagen</th>\n",
       "      <th>Company_Volvo</th>\n",
       "      <th>Company_Zotye</th>\n",
       "      <th>Fuel Type_máy xăng</th>\n",
       "      <th>Fuel Type_xe hybrid</th>\n",
       "      <th>Fuel Type_xe điện</th>\n",
       "    </tr>\n",
       "  </thead>\n",
       "  <tbody>\n",
       "    <tr>\n",
       "      <th>0</th>\n",
       "      <td>2022</td>\n",
       "      <td>1</td>\n",
       "      <td>0</td>\n",
       "      <td>1</td>\n",
       "      <td>0</td>\n",
       "      <td>4.359000e+09</td>\n",
       "      <td>0</td>\n",
       "      <td>0</td>\n",
       "      <td>0</td>\n",
       "      <td>0</td>\n",
       "      <td>...</td>\n",
       "      <td>0</td>\n",
       "      <td>0</td>\n",
       "      <td>0</td>\n",
       "      <td>0</td>\n",
       "      <td>0</td>\n",
       "      <td>0</td>\n",
       "      <td>0</td>\n",
       "      <td>1</td>\n",
       "      <td>0</td>\n",
       "      <td>0</td>\n",
       "    </tr>\n",
       "    <tr>\n",
       "      <th>1</th>\n",
       "      <td>2022</td>\n",
       "      <td>1</td>\n",
       "      <td>1</td>\n",
       "      <td>1</td>\n",
       "      <td>0</td>\n",
       "      <td>2.398000e+09</td>\n",
       "      <td>0</td>\n",
       "      <td>0</td>\n",
       "      <td>0</td>\n",
       "      <td>0</td>\n",
       "      <td>...</td>\n",
       "      <td>0</td>\n",
       "      <td>0</td>\n",
       "      <td>0</td>\n",
       "      <td>0</td>\n",
       "      <td>0</td>\n",
       "      <td>0</td>\n",
       "      <td>0</td>\n",
       "      <td>1</td>\n",
       "      <td>0</td>\n",
       "      <td>0</td>\n",
       "    </tr>\n",
       "    <tr>\n",
       "      <th>2</th>\n",
       "      <td>2022</td>\n",
       "      <td>1</td>\n",
       "      <td>1</td>\n",
       "      <td>1</td>\n",
       "      <td>0</td>\n",
       "      <td>2.398000e+09</td>\n",
       "      <td>0</td>\n",
       "      <td>0</td>\n",
       "      <td>0</td>\n",
       "      <td>0</td>\n",
       "      <td>...</td>\n",
       "      <td>0</td>\n",
       "      <td>0</td>\n",
       "      <td>0</td>\n",
       "      <td>0</td>\n",
       "      <td>0</td>\n",
       "      <td>0</td>\n",
       "      <td>0</td>\n",
       "      <td>1</td>\n",
       "      <td>0</td>\n",
       "      <td>0</td>\n",
       "    </tr>\n",
       "    <tr>\n",
       "      <th>3</th>\n",
       "      <td>2019</td>\n",
       "      <td>0</td>\n",
       "      <td>0</td>\n",
       "      <td>1</td>\n",
       "      <td>10000</td>\n",
       "      <td>3.080000e+09</td>\n",
       "      <td>0</td>\n",
       "      <td>0</td>\n",
       "      <td>0</td>\n",
       "      <td>0</td>\n",
       "      <td>...</td>\n",
       "      <td>0</td>\n",
       "      <td>0</td>\n",
       "      <td>0</td>\n",
       "      <td>0</td>\n",
       "      <td>0</td>\n",
       "      <td>0</td>\n",
       "      <td>0</td>\n",
       "      <td>1</td>\n",
       "      <td>0</td>\n",
       "      <td>0</td>\n",
       "    </tr>\n",
       "    <tr>\n",
       "      <th>4</th>\n",
       "      <td>2022</td>\n",
       "      <td>1</td>\n",
       "      <td>0</td>\n",
       "      <td>1</td>\n",
       "      <td>0</td>\n",
       "      <td>6.880000e+08</td>\n",
       "      <td>0</td>\n",
       "      <td>0</td>\n",
       "      <td>0</td>\n",
       "      <td>0</td>\n",
       "      <td>...</td>\n",
       "      <td>0</td>\n",
       "      <td>0</td>\n",
       "      <td>1</td>\n",
       "      <td>0</td>\n",
       "      <td>0</td>\n",
       "      <td>0</td>\n",
       "      <td>0</td>\n",
       "      <td>1</td>\n",
       "      <td>0</td>\n",
       "      <td>0</td>\n",
       "    </tr>\n",
       "  </tbody>\n",
       "</table>\n",
       "<p>5 rows × 67 columns</p>\n",
       "</div>"
      ],
      "text/plain": [
       "   Year  New Or Old  Production Origin  Car Gearbox  Used (kilomet)  \\\n",
       "0  2022           1                  0            1               0   \n",
       "1  2022           1                  1            1               0   \n",
       "2  2022           1                  1            1               0   \n",
       "3  2019           0                  0            1           10000   \n",
       "4  2022           1                  0            1               0   \n",
       "\n",
       "          Price  Color_màu cam  Color_màu cát  Color_màu ghi  Color_màu hồng  \\\n",
       "0  4.359000e+09              0              0              0               0   \n",
       "1  2.398000e+09              0              0              0               0   \n",
       "2  2.398000e+09              0              0              0               0   \n",
       "3  3.080000e+09              0              0              0               0   \n",
       "4  6.880000e+08              0              0              0               0   \n",
       "\n",
       "   ...  Company_Suzuki  Company_Thaco  Company_Toyota  Company_VinFast  \\\n",
       "0  ...               0              0               0                0   \n",
       "1  ...               0              0               0                0   \n",
       "2  ...               0              0               0                0   \n",
       "3  ...               0              0               0                0   \n",
       "4  ...               0              0               1                0   \n",
       "\n",
       "   Company_Volkswagen  Company_Volvo  Company_Zotye  Fuel Type_máy xăng  \\\n",
       "0                   0              0              0                   1   \n",
       "1                   0              0              0                   1   \n",
       "2                   0              0              0                   1   \n",
       "3                   0              0              0                   1   \n",
       "4                   0              0              0                   1   \n",
       "\n",
       "   Fuel Type_xe hybrid  Fuel Type_xe điện  \n",
       "0                    0                  0  \n",
       "1                    0                  0  \n",
       "2                    0                  0  \n",
       "3                    0                  0  \n",
       "4                    0                  0  \n",
       "\n",
       "[5 rows x 67 columns]"
      ]
     },
     "execution_count": 396,
     "metadata": {},
     "output_type": "execute_result"
    }
   ],
   "source": [
    "data= pd.concat([df,Color,Company,Fuel_t],axis=1)\n",
    "data.drop([\"Color\"],axis=1,inplace=True)\n",
    "data.drop([\"Company\"],axis=1,inplace=True)\n",
    "data.drop([\"Fuel Type\"],axis=1,inplace=True)\n",
    "data.head()"
   ]
  },
  {
   "cell_type": "markdown",
   "metadata": {},
   "source": [
    "# Outliers"
   ]
  },
  {
   "cell_type": "markdown",
   "metadata": {},
   "source": [
    "Used (kilomet)"
   ]
  },
  {
   "cell_type": "code",
   "execution_count": 397,
   "metadata": {},
   "outputs": [
    {
     "data": {
      "text/plain": [
       "Text(0, 0.5, 'No of passenger')"
      ]
     },
     "execution_count": 397,
     "metadata": {},
     "output_type": "execute_result"
    },
    {
     "data": {
      "image/png": "[encoded data removed]",
      "text/plain": [
       "<Figure size 432x288 with 1 Axes>"
      ]
     },
     "metadata": {
      "needs_background": "light"
     },
     "output_type": "display_data"
    }
   ],
   "source": [
    "figure=data['Used (kilomet)'].hist(bins=150)\n",
    "figure.set_title('Used (kilomet)')\n",
    "figure.set_xlabel('Used (kilomet)')\n",
    "figure.set_ylabel('No of passenger')"
   ]
  },
  {
   "cell_type": "code",
   "execution_count": 398,
   "metadata": {},
   "outputs": [
    {
     "data": {
      "text/plain": [
       "<AxesSubplot:>"
      ]
     },
     "execution_count": 398,
     "metadata": {},
     "output_type": "execute_result"
    },
    {
     "data": {
      "image/png": "[encoded data removed]",
      "text/plain": [
       "<Figure size 432x288 with 1 Axes>"
      ]
     },
     "metadata": {
      "needs_background": "light"
     },
     "output_type": "display_data"
    }
   ],
   "source": [
    "data.boxplot(column=\"Used (kilomet)\")"
   ]
  },
  {
   "cell_type": "markdown",
   "metadata": {},
   "source": [
    "Price"
   ]
  },
  {
   "cell_type": "code",
   "execution_count": 399,
   "metadata": {},
   "outputs": [
    {
     "data": {
      "text/plain": [
       "Text(0, 0.5, 'No of passenger')"
      ]
     },
     "execution_count": 399,
     "metadata": {},
     "output_type": "execute_result"
    },
    {
     "data": {
      "image/png": "[encoded data removed]",
      "text/plain": [
       "<Figure size 432x288 with 1 Axes>"
      ]
     },
     "metadata": {
      "needs_background": "light"
     },
     "output_type": "display_data"
    }
   ],
   "source": [
    "figure=data['Price'].hist(bins=150)\n",
    "figure.set_title('Price')\n",
    "figure.set_xlabel('Price')\n",
    "figure.set_ylabel('No of passenger')"
   ]
  },
  {
   "cell_type": "code",
   "execution_count": 400,
   "metadata": {},
   "outputs": [
    {
     "data": {
      "text/plain": [
       "<AxesSubplot:>"
      ]
     },
     "execution_count": 400,
     "metadata": {},
     "output_type": "execute_result"
    },
    {
     "data": {
      "image/png": "[encoded data removed]",
      "text/plain": [
       "<Figure size 432x288 with 1 Axes>"
      ]
     },
     "metadata": {
      "needs_background": "light"
     },
     "output_type": "display_data"
    }
   ],
   "source": [
    "data.boxplot(column=\"Price\")"
   ]
  },
  {
   "cell_type": "code",
   "execution_count": 401,
   "metadata": {},
   "outputs": [],
   "source": [
    "def outliers(data):\n",
    "    # Star is skewed to the left\n",
    "    q3_1 , q1_1 = np.percentile(data['Used (kilomet)'], [75,25])\n",
    "    IQR_1 = q3_1 - q1_1\n",
    "    upper_Used = q3_1 + 1.5 * IQR_1\n",
    "    lower_Used = q1_1 - 1.5 * IQR_1\n",
    "    data.loc[data['Used (kilomet)'] >= upper_Used, 'Used (kilomet)'] = round(lower_Used)\n",
    "\n",
    "    # Fork is skewed to the left\n",
    "    q3_2 , q1_2 = np.percentile(data['Price'], [75,25])\n",
    "    IQR_2 = q3_2 - q1_2\n",
    "    upper_Price = q3_2 + 1.5 * IQR_2\n",
    "    lower_Price = q1_2 - 1.5 * IQR_2\n",
    "    data.loc[data['Price'] >= upper_Price, 'Price'] = round(lower_Price)\n",
    "    return data"
   ]
  },
  {
   "cell_type": "code",
   "execution_count": 402,
   "metadata": {},
   "outputs": [
    {
     "data": {
      "text/plain": [
       "Text(0, 0.5, 'No of passenger')"
      ]
     },
     "execution_count": 402,
     "metadata": {},
     "output_type": "execute_result"
    },
    {
     "data": {
      "image/png": "[encoded data removed]",
      "text/plain": [
       "<Figure size 432x288 with 1 Axes>"
      ]
     },
     "metadata": {
      "needs_background": "light"
     },
     "output_type": "display_data"
    }
   ],
   "source": [
    "figure=data['Used (kilomet)'].hist(bins=300)\n",
    "figure.set_title('Used (kilomet)')\n",
    "figure.set_xlabel('Used (kilomet)')\n",
    "figure.set_ylabel('No of passenger')"
   ]
  },
  {
   "cell_type": "code",
   "execution_count": 403,
   "metadata": {},
   "outputs": [
    {
     "data": {
      "text/plain": [
       "Text(0, 0.5, 'No of passenger')"
      ]
     },
     "execution_count": 403,
     "metadata": {},
     "output_type": "execute_result"
    },
    {
     "data": {
      "image/png": "[encoded data removed]",
      "text/plain": [
       "<Figure size 432x288 with 1 Axes>"
      ]
     },
     "metadata": {
      "needs_background": "light"
     },
     "output_type": "display_data"
    }
   ],
   "source": [
    "figure=data['Price'].hist(bins=300)\n",
    "figure.set_title('Price')\n",
    "figure.set_xlabel('Price')\n",
    "figure.set_ylabel('No of passenger')"
   ]
  },
  {
   "cell_type": "markdown",
   "metadata": {},
   "source": [
    "# Feature Transformation"
   ]
  },
  {
   "cell_type": "markdown",
   "metadata": {},
   "source": [
    "Min-Max Scaling"
   ]
  },
  {
   "cell_type": "markdown",
   "metadata": {},
   "source": [
    "Min Max Scaling scales the values between 0 to 1: X_scaled = (X - X.min / (X.max - X.min)"
   ]
  },
  {
   "cell_type": "code",
   "execution_count": 404,
   "metadata": {},
   "outputs": [
    {
     "data": {
      "text/html": [
       "<div>\n",
       "<style scoped>\n",
       "    .dataframe tbody tr th:only-of-type {\n",
       "        vertical-align: middle;\n",
       "    }\n",
       "\n",
       "    .dataframe tbody tr th {\n",
       "        vertical-align: top;\n",
       "    }\n",
       "\n",
       "    .dataframe thead th {\n",
       "        text-align: right;\n",
       "    }\n",
       "</style>\n",
       "<table border=\"1\" class=\"dataframe\">\n",
       "  <thead>\n",
       "    <tr style=\"text-align: right;\">\n",
       "      <th></th>\n",
       "      <th>Year</th>\n",
       "      <th>New Or Old</th>\n",
       "      <th>Production Origin</th>\n",
       "      <th>Car Gearbox</th>\n",
       "      <th>Used (kilomet)</th>\n",
       "      <th>Price</th>\n",
       "      <th>Color_màu cam</th>\n",
       "      <th>Color_màu cát</th>\n",
       "      <th>Color_màu ghi</th>\n",
       "      <th>Color_màu hồng</th>\n",
       "      <th>...</th>\n",
       "      <th>Company_Suzuki</th>\n",
       "      <th>Company_Thaco</th>\n",
       "      <th>Company_Toyota</th>\n",
       "      <th>Company_VinFast</th>\n",
       "      <th>Company_Volkswagen</th>\n",
       "      <th>Company_Volvo</th>\n",
       "      <th>Company_Zotye</th>\n",
       "      <th>Fuel Type_máy xăng</th>\n",
       "      <th>Fuel Type_xe hybrid</th>\n",
       "      <th>Fuel Type_xe điện</th>\n",
       "    </tr>\n",
       "  </thead>\n",
       "  <tbody>\n",
       "    <tr>\n",
       "      <th>0</th>\n",
       "      <td>1.00000</td>\n",
       "      <td>1.0</td>\n",
       "      <td>0.0</td>\n",
       "      <td>1.0</td>\n",
       "      <td>0.000000</td>\n",
       "      <td>0.102464</td>\n",
       "      <td>0.0</td>\n",
       "      <td>0.0</td>\n",
       "      <td>0.0</td>\n",
       "      <td>0.0</td>\n",
       "      <td>...</td>\n",
       "      <td>0.0</td>\n",
       "      <td>0.0</td>\n",
       "      <td>0.0</td>\n",
       "      <td>0.0</td>\n",
       "      <td>0.0</td>\n",
       "      <td>0.0</td>\n",
       "      <td>0.0</td>\n",
       "      <td>1.0</td>\n",
       "      <td>0.0</td>\n",
       "      <td>0.0</td>\n",
       "    </tr>\n",
       "    <tr>\n",
       "      <th>1</th>\n",
       "      <td>1.00000</td>\n",
       "      <td>1.0</td>\n",
       "      <td>1.0</td>\n",
       "      <td>1.0</td>\n",
       "      <td>0.000000</td>\n",
       "      <td>0.055692</td>\n",
       "      <td>0.0</td>\n",
       "      <td>0.0</td>\n",
       "      <td>0.0</td>\n",
       "      <td>0.0</td>\n",
       "      <td>...</td>\n",
       "      <td>0.0</td>\n",
       "      <td>0.0</td>\n",
       "      <td>0.0</td>\n",
       "      <td>0.0</td>\n",
       "      <td>0.0</td>\n",
       "      <td>0.0</td>\n",
       "      <td>0.0</td>\n",
       "      <td>1.0</td>\n",
       "      <td>0.0</td>\n",
       "      <td>0.0</td>\n",
       "    </tr>\n",
       "    <tr>\n",
       "      <th>2</th>\n",
       "      <td>1.00000</td>\n",
       "      <td>1.0</td>\n",
       "      <td>1.0</td>\n",
       "      <td>1.0</td>\n",
       "      <td>0.000000</td>\n",
       "      <td>0.055692</td>\n",
       "      <td>0.0</td>\n",
       "      <td>0.0</td>\n",
       "      <td>0.0</td>\n",
       "      <td>0.0</td>\n",
       "      <td>...</td>\n",
       "      <td>0.0</td>\n",
       "      <td>0.0</td>\n",
       "      <td>0.0</td>\n",
       "      <td>0.0</td>\n",
       "      <td>0.0</td>\n",
       "      <td>0.0</td>\n",
       "      <td>0.0</td>\n",
       "      <td>1.0</td>\n",
       "      <td>0.0</td>\n",
       "      <td>0.0</td>\n",
       "    </tr>\n",
       "    <tr>\n",
       "      <th>3</th>\n",
       "      <td>0.90625</td>\n",
       "      <td>0.0</td>\n",
       "      <td>0.0</td>\n",
       "      <td>1.0</td>\n",
       "      <td>0.006656</td>\n",
       "      <td>0.071958</td>\n",
       "      <td>0.0</td>\n",
       "      <td>0.0</td>\n",
       "      <td>0.0</td>\n",
       "      <td>0.0</td>\n",
       "      <td>...</td>\n",
       "      <td>0.0</td>\n",
       "      <td>0.0</td>\n",
       "      <td>0.0</td>\n",
       "      <td>0.0</td>\n",
       "      <td>0.0</td>\n",
       "      <td>0.0</td>\n",
       "      <td>0.0</td>\n",
       "      <td>1.0</td>\n",
       "      <td>0.0</td>\n",
       "      <td>0.0</td>\n",
       "    </tr>\n",
       "    <tr>\n",
       "      <th>4</th>\n",
       "      <td>1.00000</td>\n",
       "      <td>1.0</td>\n",
       "      <td>0.0</td>\n",
       "      <td>1.0</td>\n",
       "      <td>0.000000</td>\n",
       "      <td>0.014907</td>\n",
       "      <td>0.0</td>\n",
       "      <td>0.0</td>\n",
       "      <td>0.0</td>\n",
       "      <td>0.0</td>\n",
       "      <td>...</td>\n",
       "      <td>0.0</td>\n",
       "      <td>0.0</td>\n",
       "      <td>1.0</td>\n",
       "      <td>0.0</td>\n",
       "      <td>0.0</td>\n",
       "      <td>0.0</td>\n",
       "      <td>0.0</td>\n",
       "      <td>1.0</td>\n",
       "      <td>0.0</td>\n",
       "      <td>0.0</td>\n",
       "    </tr>\n",
       "  </tbody>\n",
       "</table>\n",
       "<p>5 rows × 67 columns</p>\n",
       "</div>"
      ],
      "text/plain": [
       "      Year  New Or Old  Production Origin  Car Gearbox  Used (kilomet)  \\\n",
       "0  1.00000         1.0                0.0          1.0        0.000000   \n",
       "1  1.00000         1.0                1.0          1.0        0.000000   \n",
       "2  1.00000         1.0                1.0          1.0        0.000000   \n",
       "3  0.90625         0.0                0.0          1.0        0.006656   \n",
       "4  1.00000         1.0                0.0          1.0        0.000000   \n",
       "\n",
       "      Price  Color_màu cam  Color_màu cát  Color_màu ghi  Color_màu hồng  ...  \\\n",
       "0  0.102464            0.0            0.0            0.0             0.0  ...   \n",
       "1  0.055692            0.0            0.0            0.0             0.0  ...   \n",
       "2  0.055692            0.0            0.0            0.0             0.0  ...   \n",
       "3  0.071958            0.0            0.0            0.0             0.0  ...   \n",
       "4  0.014907            0.0            0.0            0.0             0.0  ...   \n",
       "\n",
       "   Company_Suzuki  Company_Thaco  Company_Toyota  Company_VinFast  \\\n",
       "0             0.0            0.0             0.0              0.0   \n",
       "1             0.0            0.0             0.0              0.0   \n",
       "2             0.0            0.0             0.0              0.0   \n",
       "3             0.0            0.0             0.0              0.0   \n",
       "4             0.0            0.0             1.0              0.0   \n",
       "\n",
       "   Company_Volkswagen  Company_Volvo  Company_Zotye  Fuel Type_máy xăng  \\\n",
       "0                 0.0            0.0            0.0                 1.0   \n",
       "1                 0.0            0.0            0.0                 1.0   \n",
       "2                 0.0            0.0            0.0                 1.0   \n",
       "3                 0.0            0.0            0.0                 1.0   \n",
       "4                 0.0            0.0            0.0                 1.0   \n",
       "\n",
       "   Fuel Type_xe hybrid  Fuel Type_xe điện  \n",
       "0                  0.0                0.0  \n",
       "1                  0.0                0.0  \n",
       "2                  0.0                0.0  \n",
       "3                  0.0                0.0  \n",
       "4                  0.0                0.0  \n",
       "\n",
       "[5 rows x 67 columns]"
      ]
     },
     "execution_count": 404,
     "metadata": {},
     "output_type": "execute_result"
    }
   ],
   "source": [
    "from sklearn.preprocessing import MinMaxScaler\n",
    "min_max=MinMaxScaler()\n",
    "final_data=pd.DataFrame(min_max.fit_transform(data),columns=data.columns)\n",
    "final_data.head()"
   ]
  },
  {
   "cell_type": "markdown",
   "metadata": {},
   "source": [
    "Ma trận tương quan"
   ]
  },
  {
   "cell_type": "code",
   "execution_count": 405,
   "metadata": {},
   "outputs": [
    {
     "data": {
      "image/png": "[encoded data removed]",
      "text/plain": [
       "<Figure size 1296x1296 with 2 Axes>"
      ]
     },
     "metadata": {
      "needs_background": "light"
     },
     "output_type": "display_data"
    }
   ],
   "source": [
    "plt.figure(figsize=(18,18))\n",
    "sns.heatmap(final_data.corr(),annot=False,cmap=plt.cm.Reds)\n",
    "plt.show()"
   ]
  },
  {
   "cell_type": "markdown",
   "metadata": {},
   "source": [
    "# Final Features Selection"
   ]
  },
  {
   "cell_type": "code",
   "execution_count": 406,
   "metadata": {},
   "outputs": [
    {
     "data": {
      "text/plain": [
       "Index(['Year', 'New Or Old', 'Production Origin', 'Car Gearbox',\n",
       "       'Used (kilomet)', 'Price', 'Color_màu cam', 'Color_màu cát',\n",
       "       'Color_màu ghi', 'Color_màu hồng', 'Color_màu kem', 'Color_màu nâu',\n",
       "       'Color_màu trắng', 'Color_màu tím', 'Color_màu vàng', 'Color_màu xanh',\n",
       "       'Color_màu xám', 'Color_màu đen', 'Color_màu đỏ', 'Color_màu đồng',\n",
       "       'Company_Aston', 'Company_Audi', 'Company_BMW', 'Company_Bentley',\n",
       "       'Company_Cadillac', 'Company_Chevrolet', 'Company_Chrysler',\n",
       "       'Company_Daewoo', 'Company_Daihatsu', 'Company_Fiat', 'Company_Ford',\n",
       "       'Company_Honda', 'Company_Hongqi', 'Company_Hyundai',\n",
       "       'Company_Infiniti', 'Company_Isuzu', 'Company_Jaguar', 'Company_Jeep',\n",
       "       'Company_Kia', 'Company_Lamborghini', 'Company_LandRover',\n",
       "       'Company_Lexus', 'Company_Lincoln', 'Company_MG', 'Company_Maserati',\n",
       "       'Company_Mazda', 'Company_Mercedes', 'Company_Mini',\n",
       "       'Company_Mitsubishi', 'Company_Nissan', 'Company_Peugeot',\n",
       "       'Company_Porsche', 'Company_RAM', 'Company_Renault', 'Company_Rolls',\n",
       "       'Company_Ssangyong', 'Company_Subaru', 'Company_Suzuki',\n",
       "       'Company_Thaco', 'Company_Toyota', 'Company_VinFast',\n",
       "       'Company_Volkswagen', 'Company_Volvo', 'Company_Zotye',\n",
       "       'Fuel Type_máy xăng', 'Fuel Type_xe hybrid', 'Fuel Type_xe điện'],\n",
       "      dtype='object')"
      ]
     },
     "execution_count": 406,
     "metadata": {},
     "output_type": "execute_result"
    }
   ],
   "source": [
    "final_data.columns"
   ]
  },
  {
   "cell_type": "code",
   "execution_count": 407,
   "metadata": {},
   "outputs": [
    {
     "data": {
      "text/plain": [
       "(3640, 66)"
      ]
     },
     "execution_count": 407,
     "metadata": {},
     "output_type": "execute_result"
    }
   ],
   "source": [
    "X = final_data.loc[:,['Year', 'New Or Old', 'Production Origin', 'Car Gearbox',\n",
    "       'Used (kilomet)', 'Color_màu cam', 'Color_màu cát',\n",
    "       'Color_màu ghi', 'Color_màu hồng', 'Color_màu kem', 'Color_màu nâu',\n",
    "       'Color_màu trắng', 'Color_màu tím', 'Color_màu vàng', 'Color_màu xanh',\n",
    "       'Color_màu xám', 'Color_màu đen', 'Color_màu đỏ', 'Color_màu đồng',\n",
    "       'Company_Aston', 'Company_Audi', 'Company_BMW', 'Company_Bentley',\n",
    "       'Company_Cadillac', 'Company_Chevrolet', 'Company_Chrysler',\n",
    "       'Company_Daewoo', 'Company_Daihatsu', 'Company_Fiat', 'Company_Ford',\n",
    "       'Company_Honda', 'Company_Hongqi', 'Company_Hyundai',\n",
    "       'Company_Infiniti', 'Company_Isuzu', 'Company_Jaguar', 'Company_Jeep',\n",
    "       'Company_Kia', 'Company_Lamborghini', 'Company_LandRover',\n",
    "       'Company_Lexus', 'Company_Lincoln', 'Company_MG', 'Company_Maserati',\n",
    "       'Company_Mazda', 'Company_Mercedes', 'Company_Mini',\n",
    "       'Company_Mitsubishi', 'Company_Nissan', 'Company_Peugeot',\n",
    "       'Company_Porsche', 'Company_RAM', 'Company_Renault', 'Company_Rolls',\n",
    "       'Company_Ssangyong', 'Company_Subaru', 'Company_Suzuki',\n",
    "       'Company_Thaco', 'Company_Toyota', 'Company_VinFast',\n",
    "       'Company_Volkswagen', 'Company_Volvo', 'Company_Zotye',\n",
    "       'Fuel Type_máy xăng', 'Fuel Type_xe hybrid', 'Fuel Type_xe điện']]\n",
    "X.shape"
   ]
  },
  {
   "cell_type": "code",
   "execution_count": 408,
   "metadata": {},
   "outputs": [
    {
     "data": {
      "text/html": [
       "<div>\n",
       "<style scoped>\n",
       "    .dataframe tbody tr th:only-of-type {\n",
       "        vertical-align: middle;\n",
       "    }\n",
       "\n",
       "    .dataframe tbody tr th {\n",
       "        vertical-align: top;\n",
       "    }\n",
       "\n",
       "    .dataframe thead th {\n",
       "        text-align: right;\n",
       "    }\n",
       "</style>\n",
       "<table border=\"1\" class=\"dataframe\">\n",
       "  <thead>\n",
       "    <tr style=\"text-align: right;\">\n",
       "      <th></th>\n",
       "      <th>Price</th>\n",
       "    </tr>\n",
       "  </thead>\n",
       "  <tbody>\n",
       "    <tr>\n",
       "      <th>0</th>\n",
       "      <td>0.102464</td>\n",
       "    </tr>\n",
       "    <tr>\n",
       "      <th>1</th>\n",
       "      <td>0.055692</td>\n",
       "    </tr>\n",
       "    <tr>\n",
       "      <th>2</th>\n",
       "      <td>0.055692</td>\n",
       "    </tr>\n",
       "    <tr>\n",
       "      <th>3</th>\n",
       "      <td>0.071958</td>\n",
       "    </tr>\n",
       "    <tr>\n",
       "      <th>4</th>\n",
       "      <td>0.014907</td>\n",
       "    </tr>\n",
       "  </tbody>\n",
       "</table>\n",
       "</div>"
      ],
      "text/plain": [
       "      Price\n",
       "0  0.102464\n",
       "1  0.055692\n",
       "2  0.055692\n",
       "3  0.071958\n",
       "4  0.014907"
      ]
     },
     "execution_count": 408,
     "metadata": {},
     "output_type": "execute_result"
    }
   ],
   "source": [
    "y = final_data.loc[:,['Price']]\n",
    "y.head()"
   ]
  },
  {
   "cell_type": "markdown",
   "metadata": {},
   "source": [
    "# Build it (Model)"
   ]
  },
  {
   "cell_type": "code",
   "execution_count": 409,
   "metadata": {},
   "outputs": [],
   "source": [
    "from sklearn.model_selection import train_test_split\n",
    "X_train, X_test, y_train, y_test = train_test_split(X, y, test_size = 0.1, random_state = 25)"
   ]
  },
  {
   "cell_type": "markdown",
   "metadata": {},
   "source": [
    "Linear Regression"
   ]
  },
  {
   "cell_type": "code",
   "execution_count": 410,
   "metadata": {},
   "outputs": [
    {
     "name": "stdout",
     "output_type": "stream",
     "text": [
      "Accuracy on Traing set:  0.65904026415604\n",
      "Accuracy on Testing set:  0.7080980881758261\n"
     ]
    }
   ],
   "source": [
    "from sklearn.linear_model import LinearRegression\n",
    "linear_reg = LinearRegression()\n",
    "linear_reg.fit(X_train, y_train)\n",
    "y_pred1= linear_reg.predict(X_test)\n",
    "print(\"Accuracy on Traing set: \",linear_reg.score(X_train,y_train))\n",
    "print(\"Accuracy on Testing set: \",linear_reg.score(X_test,y_test))"
   ]
  },
  {
   "cell_type": "markdown",
   "metadata": {},
   "source": [
    "Random Forest Regressor"
   ]
  },
  {
   "cell_type": "code",
   "execution_count": 411,
   "metadata": {},
   "outputs": [
    {
     "name": "stderr",
     "output_type": "stream",
     "text": [
      "C:\\Users\\dongu\\AppData\\Local\\Temp\\ipykernel_364\\3914061150.py:3: DataConversionWarning: A column-vector y was passed when a 1d array was expected. Please change the shape of y to (n_samples,), for example using ravel().\n",
      "  rf_reg.fit(X_train, y_train)\n"
     ]
    },
    {
     "name": "stdout",
     "output_type": "stream",
     "text": [
      "Accuracy on Traing set:  0.9090933226285877\n",
      "Accuracy on Testing set:  0.7637465862692677\n"
     ]
    }
   ],
   "source": [
    "from sklearn.ensemble import RandomForestRegressor\n",
    "rf_reg = RandomForestRegressor()\n",
    "rf_reg.fit(X_train, y_train)\n",
    "y_pred2= rf_reg.predict(X_test)\n",
    "print(\"Accuracy on Traing set: \",rf_reg.score(X_train,y_train))\n",
    "print(\"Accuracy on Testing set: \",rf_reg.score(X_test,y_test))"
   ]
  },
  {
   "cell_type": "markdown",
   "metadata": {},
   "source": [
    "# Đánh giá mô hình\n",
    "MAE,MSE"
   ]
  },
  {
   "cell_type": "markdown",
   "metadata": {},
   "source": [
    "Linear Regression"
   ]
  },
  {
   "cell_type": "code",
   "execution_count": 412,
   "metadata": {},
   "outputs": [
    {
     "name": "stdout",
     "output_type": "stream",
     "text": [
      "\t\tError Table\n",
      "Mean Absolute Error      :  0.017121724990811892\n",
      "Mean Squared  Error      :  0.0008567843225076812\n"
     ]
    }
   ],
   "source": [
    "from sklearn import metrics\n",
    "from sklearn.metrics import mean_squared_error, mean_absolute_error\n",
    "\n",
    "print(\"\\t\\tError Table\")\n",
    "print('Mean Absolute Error      : ', metrics.mean_absolute_error(y_test, y_pred1))\n",
    "print('Mean Squared  Error      : ', metrics.mean_squared_error(y_test, y_pred1))"
   ]
  },
  {
   "cell_type": "markdown",
   "metadata": {},
   "source": [
    "Random Forest Regressor"
   ]
  },
  {
   "cell_type": "code",
   "execution_count": 413,
   "metadata": {},
   "outputs": [
    {
     "name": "stdout",
     "output_type": "stream",
     "text": [
      "\t\tError Table\n",
      "Mean Absolute Error      :  0.01123236510338611\n",
      "Mean Squared  Error      :  0.0006934460269836746\n"
     ]
    }
   ],
   "source": [
    "print(\"\\t\\tError Table\")\n",
    "print('Mean Absolute Error      : ', metrics.mean_absolute_error(y_test, y_pred2))\n",
    "print('Mean Squared  Error      : ', metrics.mean_squared_error(y_test, y_pred2))"
   ]
  }
 ],
 "metadata": {
  "interpreter": {
   "hash": "26de051ba29f2982a8de78e945f0abaf191376122a1563185a90213a26c5da77"
  },
  "kernelspec": {
   "display_name": "Python 3.10.4 64-bit",
   "language": "python",
   "name": "python3"
  },
  "language_info": {
   "codemirror_mode": {
    "name": "ipython",
    "version": 3
   },
   "file_extension": ".py",
   "mimetype": "text/x-python",
   "name": "python",
   "nbconvert_exporter": "python",
   "pygments_lexer": "ipython3",
   "version": "3.10.4"
  },
  "orig_nbformat": 4
 },
 "nbformat": 4,
 "nbformat_minor": 2
}
