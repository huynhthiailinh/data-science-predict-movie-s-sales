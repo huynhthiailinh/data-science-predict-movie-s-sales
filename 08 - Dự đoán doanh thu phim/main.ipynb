{
  "cells": [
    {
      "cell_type": "markdown",
      "metadata": {
        "id": "7Cc0dzqUFX5S"
      },
      "source": [
        "**Link to datasource:** https://raw.githubusercontent.com/huynhthiailinh/data/main/movie-detail.csv"
      ]
    },
    {
      "cell_type": "markdown",
      "metadata": {
        "id": "GPieGNr3Q73w"
      },
      "source": [
        "# Prediction of movies's gross\n",
        "\n",
        "\n",
        "*   **Problem**: study to build a system that can make accurate prediction about the gross for a movie when it has just been launched, using some descriptions about the movie.\n",
        "*   **Input**: the budget of film\n",
        "*   **Output**: gross for that movie\n",
        "*   **Method** to be used: Linear Regression, Support Vector Regression\n",
        "*   **Dataset**: a set of budget and gross of movies. The data will be collected from the-numbers.com. \n",
        "\n",
        "\n",
        "\n"
      ]
    },
    {
      "cell_type": "code",
      "execution_count": 665,
      "metadata": {
        "id": "3K966rYxE8Z8"
      },
      "outputs": [],
      "source": [
        "import pandas as pd\n",
        "import numpy as np\n",
        "\n",
        "import matplotlib.pyplot as plt\n",
        "import seaborn as sns\n",
        "from sklearn.svm import SVR\n",
        "import collections\n",
        "from collections import OrderedDict\n",
        "from sklearn.model_selection import train_test_split\n",
        "from sklearn.linear_model import LinearRegression\n",
        "from sklearn.metrics import mean_absolute_error as MAE\n",
        "from sklearn.metrics import mean_squared_error as MSE\n",
        "from sklearn.metrics import r2_score as R2\n",
        "\n",
        "sns.set_theme(style=\"darkgrid\")"
      ]
    },
    {
      "cell_type": "code",
      "execution_count": 666,
      "metadata": {
        "colab": {
          "base_uri": "https://localhost:8080/",
          "height": 354
        },
        "id": "46X8mSuVFxF2",
        "outputId": "6c058d19-797c-4b56-dc78-87d938aa2781"
      },
      "outputs": [
        {
          "data": {
            "text/html": [
              "<div>\n",
              "<style scoped>\n",
              "    .dataframe tbody tr th:only-of-type {\n",
              "        vertical-align: middle;\n",
              "    }\n",
              "\n",
              "    .dataframe tbody tr th {\n",
              "        vertical-align: top;\n",
              "    }\n",
              "\n",
              "    .dataframe thead th {\n",
              "        text-align: right;\n",
              "    }\n",
              "</style>\n",
              "<table border=\"1\" class=\"dataframe\">\n",
              "  <thead>\n",
              "    <tr style=\"text-align: right;\">\n",
              "      <th></th>\n",
              "      <th>Unnamed: 0</th>\n",
              "      <th>ReleaseDate</th>\n",
              "      <th>Movie</th>\n",
              "      <th>RunningTime</th>\n",
              "      <th>Source</th>\n",
              "      <th>Genre</th>\n",
              "      <th>ProductionMethod</th>\n",
              "      <th>CreativeType</th>\n",
              "      <th>ProductionCompanies</th>\n",
              "      <th>ProductionCountries</th>\n",
              "      <th>Languages</th>\n",
              "      <th>ProductionBudget</th>\n",
              "      <th>DomesticGross</th>\n",
              "      <th>WorldwideGross</th>\n",
              "    </tr>\n",
              "  </thead>\n",
              "  <tbody>\n",
              "    <tr>\n",
              "      <th>0</th>\n",
              "      <td>1</td>\n",
              "      <td>Apr 23 2019</td>\n",
              "      <td>Avengers: Endgame</td>\n",
              "      <td>181 minutes</td>\n",
              "      <td>Based on Comic/Graphic Novel</td>\n",
              "      <td>Action</td>\n",
              "      <td>Animation/Live Action</td>\n",
              "      <td>Super Hero</td>\n",
              "      <td>Marvel Studios</td>\n",
              "      <td>United States</td>\n",
              "      <td>English</td>\n",
              "      <td>400000000</td>\n",
              "      <td>858373000</td>\n",
              "      <td>2797800564</td>\n",
              "    </tr>\n",
              "    <tr>\n",
              "      <th>1</th>\n",
              "      <td>2</td>\n",
              "      <td>May 20 2011</td>\n",
              "      <td>Pirates of the Caribbean: On Stranger Tides</td>\n",
              "      <td>136 minutes</td>\n",
              "      <td>Based on Theme Park Ride</td>\n",
              "      <td>Adventure</td>\n",
              "      <td>Live Action</td>\n",
              "      <td>Historical Fiction</td>\n",
              "      <td>Walt Disney Pictures</td>\n",
              "      <td>United States</td>\n",
              "      <td>English</td>\n",
              "      <td>379000000</td>\n",
              "      <td>241071802</td>\n",
              "      <td>1045713802</td>\n",
              "    </tr>\n",
              "    <tr>\n",
              "      <th>2</th>\n",
              "      <td>3</td>\n",
              "      <td>Apr 22 2015</td>\n",
              "      <td>Avengers: Age of Ultron</td>\n",
              "      <td>141 minutes</td>\n",
              "      <td>Based on Comic/Graphic Novel</td>\n",
              "      <td>Action</td>\n",
              "      <td>Animation/Live Action</td>\n",
              "      <td>Super Hero</td>\n",
              "      <td>Marvel Studios</td>\n",
              "      <td>United States</td>\n",
              "      <td>English</td>\n",
              "      <td>365000000</td>\n",
              "      <td>459005868</td>\n",
              "      <td>1395316979</td>\n",
              "    </tr>\n",
              "    <tr>\n",
              "      <th>3</th>\n",
              "      <td>4</td>\n",
              "      <td>Dec 16 2015</td>\n",
              "      <td>Star Wars Ep. VII: The Force Awakens</td>\n",
              "      <td>136 minutes</td>\n",
              "      <td>Original Screenplay</td>\n",
              "      <td>Adventure</td>\n",
              "      <td>Animation/Live Action</td>\n",
              "      <td>Science Fiction</td>\n",
              "      <td>Lucasfilm, Bad Robot</td>\n",
              "      <td>United States</td>\n",
              "      <td>English</td>\n",
              "      <td>306000000</td>\n",
              "      <td>936662225</td>\n",
              "      <td>2064615817</td>\n",
              "    </tr>\n",
              "    <tr>\n",
              "      <th>4</th>\n",
              "      <td>5</td>\n",
              "      <td>Apr 25 2018</td>\n",
              "      <td>Avengers: Infinity War</td>\n",
              "      <td>156 minutes</td>\n",
              "      <td>Based on Comic/Graphic Novel</td>\n",
              "      <td>Action</td>\n",
              "      <td>Animation/Live Action</td>\n",
              "      <td>Super Hero</td>\n",
              "      <td>Marvel Studios</td>\n",
              "      <td>United States</td>\n",
              "      <td>English</td>\n",
              "      <td>300000000</td>\n",
              "      <td>678815482</td>\n",
              "      <td>2048359754</td>\n",
              "    </tr>\n",
              "  </tbody>\n",
              "</table>\n",
              "</div>"
            ],
            "text/plain": [
              "   Unnamed: 0  ReleaseDate                                        Movie  \\\n",
              "0           1  Apr 23 2019                            Avengers: Endgame   \n",
              "1           2  May 20 2011  Pirates of the Caribbean: On Stranger Tides   \n",
              "2           3  Apr 22 2015                      Avengers: Age of Ultron   \n",
              "3           4  Dec 16 2015         Star Wars Ep. VII: The Force Awakens   \n",
              "4           5  Apr 25 2018                       Avengers: Infinity War   \n",
              "\n",
              "   RunningTime                        Source      Genre  \\\n",
              "0  181 minutes  Based on Comic/Graphic Novel     Action   \n",
              "1  136 minutes      Based on Theme Park Ride  Adventure   \n",
              "2  141 minutes  Based on Comic/Graphic Novel     Action   \n",
              "3  136 minutes           Original Screenplay  Adventure   \n",
              "4  156 minutes  Based on Comic/Graphic Novel     Action   \n",
              "\n",
              "        ProductionMethod        CreativeType   ProductionCompanies  \\\n",
              "0  Animation/Live Action          Super Hero        Marvel Studios   \n",
              "1            Live Action  Historical Fiction  Walt Disney Pictures   \n",
              "2  Animation/Live Action          Super Hero        Marvel Studios   \n",
              "3  Animation/Live Action     Science Fiction  Lucasfilm, Bad Robot   \n",
              "4  Animation/Live Action          Super Hero        Marvel Studios   \n",
              "\n",
              "  ProductionCountries Languages  ProductionBudget  DomesticGross  \\\n",
              "0       United States   English         400000000      858373000   \n",
              "1       United States   English         379000000      241071802   \n",
              "2       United States   English         365000000      459005868   \n",
              "3       United States   English         306000000      936662225   \n",
              "4       United States   English         300000000      678815482   \n",
              "\n",
              "   WorldwideGross  \n",
              "0      2797800564  \n",
              "1      1045713802  \n",
              "2      1395316979  \n",
              "3      2064615817  \n",
              "4      2048359754  "
            ]
          },
          "execution_count": 666,
          "metadata": {},
          "output_type": "execute_result"
        }
      ],
      "source": [
        "df = pd.read_csv('https://raw.githubusercontent.com/huynhthiailinh/data/main/test.csv')\n",
        "df.head()"
      ]
    },
    {
      "cell_type": "code",
      "execution_count": 667,
      "metadata": {
        "colab": {
          "base_uri": "https://localhost:8080/"
        },
        "id": "o1EjtNLXWEN3",
        "outputId": "7254a54c-ab0e-4348-d4e5-ebda68a246fb"
      },
      "outputs": [
        {
          "data": {
            "text/plain": [
              "(6286, 14)"
            ]
          },
          "execution_count": 667,
          "metadata": {},
          "output_type": "execute_result"
        }
      ],
      "source": [
        "df.shape"
      ]
    },
    {
      "cell_type": "markdown",
      "metadata": {
        "id": "0oaZmyROmbtF"
      },
      "source": [
        "## Check missing value"
      ]
    },
    {
      "cell_type": "code",
      "execution_count": 668,
      "metadata": {
        "id": "NKOZ3jl3rC3o"
      },
      "outputs": [],
      "source": [
        "df.rename(columns={'Unnamed: 0': 'Id'}, inplace=True)"
      ]
    },
    {
      "cell_type": "code",
      "execution_count": 669,
      "metadata": {
        "id": "CsYkPgmXnaKO"
      },
      "outputs": [],
      "source": [
        "df['ReleaseDate'] = df['ReleaseDate'].replace('Unknown', np.nan)"
      ]
    },
    {
      "cell_type": "code",
      "execution_count": 670,
      "metadata": {
        "id": "xECA8nUehSbj"
      },
      "outputs": [],
      "source": [
        "df['DomesticGross'] = df['DomesticGross'].replace(0, np.nan)"
      ]
    },
    {
      "cell_type": "code",
      "execution_count": 671,
      "metadata": {
        "id": "3e4tqSltieBg"
      },
      "outputs": [],
      "source": [
        "df['WorldwideGross'] = df['WorldwideGross'].replace(0, np.nan)"
      ]
    },
    {
      "cell_type": "code",
      "execution_count": 672,
      "metadata": {
        "colab": {
          "base_uri": "https://localhost:8080/"
        },
        "id": "j1XVd1rwldW1",
        "outputId": "ee1e4252-6320-4b23-c37c-de740a163357"
      },
      "outputs": [
        {
          "data": {
            "text/plain": [
              "Id                        0\n",
              "ReleaseDate             114\n",
              "Movie                     0\n",
              "RunningTime            1075\n",
              "Source                  253\n",
              "Genre                   160\n",
              "ProductionMethod        176\n",
              "CreativeType            303\n",
              "ProductionCompanies    2334\n",
              "ProductionCountries     498\n",
              "Languages              1021\n",
              "ProductionBudget          0\n",
              "DomesticGross           679\n",
              "WorldwideGross          412\n",
              "dtype: int64"
            ]
          },
          "execution_count": 672,
          "metadata": {},
          "output_type": "execute_result"
        }
      ],
      "source": [
        "df.isnull().sum()"
      ]
    },
    {
      "cell_type": "markdown",
      "metadata": {
        "id": "Vv2ZcuoqmhWC"
      },
      "source": [
        "## Check data type"
      ]
    },
    {
      "cell_type": "code",
      "execution_count": 673,
      "metadata": {
        "id": "t8kTfw5NuQJL"
      },
      "outputs": [],
      "source": [
        "df['ReleaseDate'] = df['ReleaseDate'].transform(lambda x: str(x).split(' ')[-1])\n",
        "df['ReleaseDate'] = df['ReleaseDate'].apply(pd.to_numeric, args=('coerce',))"
      ]
    },
    {
      "cell_type": "code",
      "execution_count": 674,
      "metadata": {
        "id": "q1dRESK0vC3I"
      },
      "outputs": [],
      "source": [
        "df['RunningTime'] = df['RunningTime'].transform(lambda x: str(x).split(' ')[0])\n",
        "df['RunningTime'] = df['RunningTime'].apply(pd.to_numeric, args=('coerce',))"
      ]
    },
    {
      "cell_type": "code",
      "execution_count": 675,
      "metadata": {
        "colab": {
          "base_uri": "https://localhost:8080/"
        },
        "id": "kHTqCrFGpUk4",
        "outputId": "611589fc-4200-439c-e160-7ae87b5337c4"
      },
      "outputs": [
        {
          "name": "stdout",
          "output_type": "stream",
          "text": [
            "<class 'pandas.core.frame.DataFrame'>\n",
            "RangeIndex: 6286 entries, 0 to 6285\n",
            "Data columns (total 14 columns):\n",
            " #   Column               Non-Null Count  Dtype  \n",
            "---  ------               --------------  -----  \n",
            " 0   Id                   6286 non-null   int64  \n",
            " 1   ReleaseDate          6172 non-null   float64\n",
            " 2   Movie                6286 non-null   object \n",
            " 3   RunningTime          5211 non-null   float64\n",
            " 4   Source               6033 non-null   object \n",
            " 5   Genre                6126 non-null   object \n",
            " 6   ProductionMethod     6110 non-null   object \n",
            " 7   CreativeType         5983 non-null   object \n",
            " 8   ProductionCompanies  3952 non-null   object \n",
            " 9   ProductionCountries  5788 non-null   object \n",
            " 10  Languages            5265 non-null   object \n",
            " 11  ProductionBudget     6286 non-null   int64  \n",
            " 12  DomesticGross        5607 non-null   float64\n",
            " 13  WorldwideGross       5874 non-null   float64\n",
            "dtypes: float64(4), int64(2), object(8)\n",
            "memory usage: 687.7+ KB\n"
          ]
        }
      ],
      "source": [
        "df.info()"
      ]
    },
    {
      "cell_type": "markdown",
      "metadata": {
        "id": "uWulvb1wmp-D"
      },
      "source": [
        "## Describe"
      ]
    },
    {
      "cell_type": "code",
      "execution_count": 676,
      "metadata": {
        "colab": {
          "base_uri": "https://localhost:8080/",
          "height": 300
        },
        "id": "KDqocvPa4iFU",
        "outputId": "d136abda-5eb4-48ea-e238-3151afc83999"
      },
      "outputs": [
        {
          "data": {
            "text/html": [
              "<div>\n",
              "<style scoped>\n",
              "    .dataframe tbody tr th:only-of-type {\n",
              "        vertical-align: middle;\n",
              "    }\n",
              "\n",
              "    .dataframe tbody tr th {\n",
              "        vertical-align: top;\n",
              "    }\n",
              "\n",
              "    .dataframe thead th {\n",
              "        text-align: right;\n",
              "    }\n",
              "</style>\n",
              "<table border=\"1\" class=\"dataframe\">\n",
              "  <thead>\n",
              "    <tr style=\"text-align: right;\">\n",
              "      <th></th>\n",
              "      <th>Id</th>\n",
              "      <th>ReleaseDate</th>\n",
              "      <th>RunningTime</th>\n",
              "      <th>ProductionBudget</th>\n",
              "      <th>DomesticGross</th>\n",
              "      <th>WorldwideGross</th>\n",
              "    </tr>\n",
              "  </thead>\n",
              "  <tbody>\n",
              "    <tr>\n",
              "      <th>count</th>\n",
              "      <td>6286.000000</td>\n",
              "      <td>6172.000000</td>\n",
              "      <td>5211.000000</td>\n",
              "      <td>6.286000e+03</td>\n",
              "      <td>5.607000e+03</td>\n",
              "      <td>5.874000e+03</td>\n",
              "    </tr>\n",
              "    <tr>\n",
              "      <th>mean</th>\n",
              "      <td>3143.500000</td>\n",
              "      <td>2004.727317</td>\n",
              "      <td>108.412397</td>\n",
              "      <td>3.197317e+07</td>\n",
              "      <td>4.631910e+07</td>\n",
              "      <td>9.808887e+07</td>\n",
              "    </tr>\n",
              "    <tr>\n",
              "      <th>std</th>\n",
              "      <td>1814.756228</td>\n",
              "      <td>13.088285</td>\n",
              "      <td>20.188501</td>\n",
              "      <td>4.259353e+07</td>\n",
              "      <td>7.241485e+07</td>\n",
              "      <td>1.855515e+08</td>\n",
              "    </tr>\n",
              "    <tr>\n",
              "      <th>min</th>\n",
              "      <td>1.000000</td>\n",
              "      <td>1915.000000</td>\n",
              "      <td>9.000000</td>\n",
              "      <td>8.600000e+01</td>\n",
              "      <td>2.640000e+02</td>\n",
              "      <td>1.700000e+01</td>\n",
              "    </tr>\n",
              "    <tr>\n",
              "      <th>25%</th>\n",
              "      <td>1572.250000</td>\n",
              "      <td>2000.000000</td>\n",
              "      <td>95.000000</td>\n",
              "      <td>5.000000e+06</td>\n",
              "      <td>4.210792e+06</td>\n",
              "      <td>6.662037e+06</td>\n",
              "    </tr>\n",
              "    <tr>\n",
              "      <th>50%</th>\n",
              "      <td>3143.500000</td>\n",
              "      <td>2007.000000</td>\n",
              "      <td>105.000000</td>\n",
              "      <td>1.680000e+07</td>\n",
              "      <td>2.141636e+07</td>\n",
              "      <td>3.224374e+07</td>\n",
              "    </tr>\n",
              "    <tr>\n",
              "      <th>75%</th>\n",
              "      <td>4714.750000</td>\n",
              "      <td>2014.000000</td>\n",
              "      <td>119.000000</td>\n",
              "      <td>4.000000e+07</td>\n",
              "      <td>5.698408e+07</td>\n",
              "      <td>1.029795e+08</td>\n",
              "    </tr>\n",
              "    <tr>\n",
              "      <th>max</th>\n",
              "      <td>6286.000000</td>\n",
              "      <td>2025.000000</td>\n",
              "      <td>260.000000</td>\n",
              "      <td>4.000000e+08</td>\n",
              "      <td>9.366622e+08</td>\n",
              "      <td>2.845900e+09</td>\n",
              "    </tr>\n",
              "  </tbody>\n",
              "</table>\n",
              "</div>"
            ],
            "text/plain": [
              "                Id  ReleaseDate  RunningTime  ProductionBudget  DomesticGross  \\\n",
              "count  6286.000000  6172.000000  5211.000000      6.286000e+03   5.607000e+03   \n",
              "mean   3143.500000  2004.727317   108.412397      3.197317e+07   4.631910e+07   \n",
              "std    1814.756228    13.088285    20.188501      4.259353e+07   7.241485e+07   \n",
              "min       1.000000  1915.000000     9.000000      8.600000e+01   2.640000e+02   \n",
              "25%    1572.250000  2000.000000    95.000000      5.000000e+06   4.210792e+06   \n",
              "50%    3143.500000  2007.000000   105.000000      1.680000e+07   2.141636e+07   \n",
              "75%    4714.750000  2014.000000   119.000000      4.000000e+07   5.698408e+07   \n",
              "max    6286.000000  2025.000000   260.000000      4.000000e+08   9.366622e+08   \n",
              "\n",
              "       WorldwideGross  \n",
              "count    5.874000e+03  \n",
              "mean     9.808887e+07  \n",
              "std      1.855515e+08  \n",
              "min      1.700000e+01  \n",
              "25%      6.662037e+06  \n",
              "50%      3.224374e+07  \n",
              "75%      1.029795e+08  \n",
              "max      2.845900e+09  "
            ]
          },
          "execution_count": 676,
          "metadata": {},
          "output_type": "execute_result"
        }
      ],
      "source": [
        "df.describe()"
      ]
    },
    {
      "cell_type": "markdown",
      "metadata": {
        "id": "KPBnH0MGmt3S"
      },
      "source": [
        "## Plot"
      ]
    },
    {
      "cell_type": "code",
      "execution_count": 677,
      "metadata": {
        "colab": {
          "base_uri": "https://localhost:8080/",
          "height": 869
        },
        "id": "GMnsrAWdqa2N",
        "outputId": "dc193985-30a4-479e-e9fd-d346521fcc58"
      },
      "outputs": [
        {
          "data": {
            "image/png": "[encoded data removed]",
            "text/plain": [
              "<Figure size 720x864 with 5 Axes>"
            ]
          },
          "metadata": {},
          "output_type": "display_data"
        }
      ],
      "source": [
        "fig, ax = plt.subplots(3, 2, figsize=(10, 12))\n",
        "\n",
        "ax1 = plt.subplot(321)\n",
        "ax1 = sns.histplot(df['ReleaseDate'], bins=9)\n",
        "ax1.set_title(\"Release Date Distribution\")\n",
        "\n",
        "ax3 = plt.subplot(322)\n",
        "ax3 = sns.histplot(df['ProductionBudget'], bins=9)\n",
        "ax3.set_title(\"Production Budget Distribution\")\n",
        "\n",
        "ax4 = plt.subplot(323)\n",
        "ax4 = sns.histplot(df['DomesticGross'], bins=9)\n",
        "ax4.set_title(\"DomesticGross Distribution\")\n",
        "\n",
        "ax5 = plt.subplot(324)\n",
        "ax5 = sns.histplot(df['WorldwideGross'], bins=9)\n",
        "ax5.set_title(\"WorldwideGross Distribution\")\n",
        "\n",
        "ax2 = plt.subplot(313)\n",
        "ax2 = sns.histplot(df['RunningTime'], bins=9)\n",
        "ax2.set_title(\"Running Time Distribution\")\n",
        "\n",
        "plt.tight_layout()"
      ]
    },
    {
      "cell_type": "code",
      "execution_count": 678,
      "metadata": {
        "colab": {
          "base_uri": "https://localhost:8080/",
          "height": 627
        },
        "id": "GdrbCcFuh7eN",
        "outputId": "5479e169-3ae5-4103-dbe6-0edb4db1cd6d"
      },
      "outputs": [
        {
          "data": {
            "image/png": "[encoded data removed]",
            "text/plain": [
              "<Figure size 720x720 with 1 Axes>"
            ]
          },
          "metadata": {},
          "output_type": "display_data"
        }
      ],
      "source": [
        "plt.figure(figsize=(10, 10))\n",
        "sns.set(color_codes=True)\n",
        "ax = sns.scatterplot(x=df['ProductionBudget'], y=df['WorldwideGross'], data=df['WorldwideGross'])\n",
        "plt.title('Scatterplot between WorldwideGross and ProductionBudget')\n",
        "plt.show()"
      ]
    },
    {
      "cell_type": "code",
      "execution_count": 679,
      "metadata": {
        "colab": {
          "base_uri": "https://localhost:8080/",
          "height": 655
        },
        "id": "vx9d0QxUeS0p",
        "outputId": "1e70e7f2-c962-4340-813f-2c68931ec3fd"
      },
      "outputs": [
        {
          "data": {
            "text/plain": [
              "Text(0.5, 1.0, 'Correlation between numeric features')"
            ]
          },
          "execution_count": 679,
          "metadata": {},
          "output_type": "execute_result"
        },
        {
          "data": {
            "image/png": "[encoded data removed]",
            "text/plain": [
              "<Figure size 720x720 with 2 Axes>"
            ]
          },
          "metadata": {},
          "output_type": "display_data"
        }
      ],
      "source": [
        "corr = df.corr()\n",
        "plt.figure(figsize=(10, 10))\n",
        "sns.heatmap(corr, vmax=.8, linewidths=0.01,\n",
        "            square=True, annot=True, cmap='YlGnBu', linecolor=\"white\")\n",
        "plt.title('Correlation between numeric features')"
      ]
    },
    {
      "cell_type": "code",
      "execution_count": 680,
      "metadata": {
        "colab": {
          "base_uri": "https://localhost:8080/"
        },
        "id": "T_6Ir35ntUY1",
        "outputId": "790d15f6-676b-4a15-adcb-1d6b59af8fcb"
      },
      "outputs": [
        {
          "data": {
            "text/plain": [
              "Id                 -0.519830\n",
              "ReleaseDate         0.120878\n",
              "RunningTime         0.261487\n",
              "ProductionBudget    0.737119\n",
              "DomesticGross       0.939153\n",
              "WorldwideGross      1.000000\n",
              "Name: WorldwideGross, dtype: float64"
            ]
          },
          "execution_count": 680,
          "metadata": {},
          "output_type": "execute_result"
        }
      ],
      "source": [
        "df.corr()[\"WorldwideGross\"]"
      ]
    },
    {
      "cell_type": "markdown",
      "metadata": {
        "id": "3it__1Hh1XBI"
      },
      "source": [
        "# Feature engineering\n"
      ]
    },
    {
      "cell_type": "code",
      "execution_count": 681,
      "metadata": {
        "id": "8qySScrNLTM8"
      },
      "outputs": [],
      "source": [
        "colors = sns.color_palette('pastel')"
      ]
    },
    {
      "cell_type": "markdown",
      "metadata": {
        "id": "kN2SD9Et1dlg"
      },
      "source": [
        "## Data cleaning"
      ]
    },
    {
      "cell_type": "markdown",
      "metadata": {
        "id": "okNrSwYX1m_L"
      },
      "source": [
        "### missing data"
      ]
    },
    {
      "cell_type": "code",
      "execution_count": 682,
      "metadata": {
        "colab": {
          "base_uri": "https://localhost:8080/"
        },
        "id": "BEodvWh2zDna",
        "outputId": "a5951f4e-fb26-4785-c1d9-161f048e6f39"
      },
      "outputs": [
        {
          "name": "stdout",
          "output_type": "stream",
          "text": [
            "Percentage Of Missing Values\n"
          ]
        },
        {
          "data": {
            "text/plain": [
              "ReleaseDate             1.81\n",
              "RunningTime            17.10\n",
              "Source                  4.02\n",
              "Genre                   2.55\n",
              "ProductionMethod        2.80\n",
              "CreativeType            4.82\n",
              "ProductionCompanies    37.13\n",
              "ProductionCountries     7.92\n",
              "Languages              16.24\n",
              "DomesticGross          10.80\n",
              "WorldwideGross          6.55\n",
              "dtype: float64"
            ]
          },
          "execution_count": 682,
          "metadata": {},
          "output_type": "execute_result"
        }
      ],
      "source": [
        "print(\"Percentage Of Missing Values\")\n",
        "Perc_Of_Missing_Values = round(df.isna().sum()/len(df)*100, 2)\n",
        "Perc_Of_Missing_Values[Perc_Of_Missing_Values!=0]"
      ]
    },
    {
      "cell_type": "code",
      "execution_count": 683,
      "metadata": {
        "colab": {
          "base_uri": "https://localhost:8080/",
          "height": 612
        },
        "id": "6Qxl8Zj2zKui",
        "outputId": "9666d5c6-d230-40ff-efdc-e9932ad5d728"
      },
      "outputs": [
        {
          "data": {
            "image/png": "[encoded data removed]",
            "text/plain": [
              "<Figure size 720x576 with 1 Axes>"
            ]
          },
          "metadata": {},
          "output_type": "display_data"
        }
      ],
      "source": [
        "only_missing=Perc_Of_Missing_Values[Perc_Of_Missing_Values!=0]\n",
        "plt.figure(figsize=(10, 8))\n",
        "only_missing.plot(kind=\"bar\")\n",
        "plt.title(\"% Missing Values\")\n",
        "plt.show()"
      ]
    },
    {
      "cell_type": "code",
      "execution_count": 684,
      "metadata": {
        "colab": {
          "base_uri": "https://localhost:8080/"
        },
        "id": "_FDi_TGV6QD7",
        "outputId": "2fe1c1a4-f766-4853-f167-08d15fa624ae"
      },
      "outputs": [
        {
          "data": {
            "text/plain": [
              "(3548, 14)"
            ]
          },
          "execution_count": 684,
          "metadata": {},
          "output_type": "execute_result"
        }
      ],
      "source": [
        "complete_df = df[~pd.isna(df).any(axis=1)].reset_index(drop=True)\n",
        "complete_df.shape"
      ]
    },
    {
      "cell_type": "markdown",
      "metadata": {
        "id": "rVaG-OOFXohU"
      },
      "source": [
        "#### Id"
      ]
    },
    {
      "cell_type": "code",
      "execution_count": 685,
      "metadata": {
        "id": "Kfna1w7dXqKw"
      },
      "outputs": [],
      "source": [
        "del df['Id']"
      ]
    },
    {
      "cell_type": "markdown",
      "metadata": {
        "id": "m5IginAMT8Ao"
      },
      "source": [
        "#### DomesticGross & WorldwideGross"
      ]
    },
    {
      "cell_type": "markdown",
      "metadata": {
        "id": "2eybBD0i85nu"
      },
      "source": [
        "Xoá các dòng có phần tử dữ liệu ở cột **DomesticGross**, **WorldwideGross** bị bỏ trống, vì đây là target."
      ]
    },
    {
      "cell_type": "code",
      "execution_count": 686,
      "metadata": {
        "colab": {
          "base_uri": "https://localhost:8080/"
        },
        "id": "yhpkrbP08n5X",
        "outputId": "162820f8-9038-4610-ac85-65afba733b7c"
      },
      "outputs": [
        {
          "data": {
            "text/plain": [
              "(5607, 13)"
            ]
          },
          "execution_count": 686,
          "metadata": {},
          "output_type": "execute_result"
        }
      ],
      "source": [
        "df = df[df['DomesticGross'].notna()]\n",
        "df = df[df['WorldwideGross'].notna()]\n",
        "df.shape"
      ]
    },
    {
      "cell_type": "code",
      "execution_count": 687,
      "metadata": {
        "colab": {
          "base_uri": "https://localhost:8080/"
        },
        "id": "C37yO8HnE6Q9",
        "outputId": "3b6de3f4-1559-44e0-c1af-e5c8e9b44d33"
      },
      "outputs": [
        {
          "data": {
            "text/plain": [
              "ReleaseDate               1\n",
              "Movie                     0\n",
              "RunningTime             867\n",
              "Source                  189\n",
              "Genre                   117\n",
              "ProductionMethod        127\n",
              "CreativeType            247\n",
              "ProductionCompanies    1924\n",
              "ProductionCountries     441\n",
              "Languages               939\n",
              "ProductionBudget          0\n",
              "DomesticGross             0\n",
              "WorldwideGross            0\n",
              "dtype: int64"
            ]
          },
          "execution_count": 687,
          "metadata": {},
          "output_type": "execute_result"
        }
      ],
      "source": [
        "df.isnull().sum()"
      ]
    },
    {
      "cell_type": "code",
      "execution_count": 688,
      "metadata": {
        "colab": {
          "base_uri": "https://localhost:8080/"
        },
        "id": "ihBwoXt_FFgB",
        "outputId": "27a25f6b-9adc-4fdb-c9dc-42c605b7505a"
      },
      "outputs": [
        {
          "name": "stdout",
          "output_type": "stream",
          "text": [
            "Percentage Of Missing Values\n"
          ]
        },
        {
          "data": {
            "text/plain": [
              "ReleaseDate             0.02\n",
              "RunningTime            15.46\n",
              "Source                  3.37\n",
              "Genre                   2.09\n",
              "ProductionMethod        2.27\n",
              "CreativeType            4.41\n",
              "ProductionCompanies    34.31\n",
              "ProductionCountries     7.87\n",
              "Languages              16.75\n",
              "dtype: float64"
            ]
          },
          "execution_count": 688,
          "metadata": {},
          "output_type": "execute_result"
        }
      ],
      "source": [
        "print(\"Percentage Of Missing Values\")\n",
        "Perc_Of_Missing_Values = round(df.isna().sum()/len(df)*100, 2)\n",
        "Perc_Of_Missing_Values[Perc_Of_Missing_Values!=0]"
      ]
    },
    {
      "cell_type": "markdown",
      "metadata": {
        "id": "QocWFgNQUC_k"
      },
      "source": [
        "#### ReleaseDate"
      ]
    },
    {
      "cell_type": "code",
      "execution_count": 689,
      "metadata": {
        "colab": {
          "base_uri": "https://localhost:8080/"
        },
        "id": "tG551ZMtEHFd",
        "outputId": "b8843f35-9412-4637-b605-7cfceadcb058"
      },
      "outputs": [
        {
          "data": {
            "text/plain": [
              "(5606, 13)"
            ]
          },
          "execution_count": 689,
          "metadata": {},
          "output_type": "execute_result"
        }
      ],
      "source": [
        "df = df[df['ReleaseDate'].notna()]\n",
        "df.shape"
      ]
    },
    {
      "cell_type": "markdown",
      "metadata": {
        "id": "11xbzugyB7GM"
      },
      "source": [
        "#### RunningTime"
      ]
    },
    {
      "cell_type": "code",
      "execution_count": 690,
      "metadata": {
        "id": "2PzBGHerJvdo"
      },
      "outputs": [],
      "source": [
        "class MissingDataHandler:\n",
        "  @staticmethod\n",
        "  def fill_nan_by_median(df: pd.DataFrame, col: str, new_col:str):\n",
        "    dt = df.copy()\n",
        "    median = dt[col].dropna().median()\n",
        "    print(f\"Median of {col} = {median}\")\n",
        "\n",
        "    dt[new_col] = dt[col]\n",
        "    dt[new_col].fillna(median, inplace=True)\n",
        "    return dt\n",
        "  \n",
        "  @staticmethod\n",
        "  def fill_nan_by_mean(df: pd.DataFrame, col: str, new_col: str):\n",
        "    dt = df.copy()\n",
        "    mean = dt[col].dropna().mean()\n",
        "    print(f\"Mean of {col} = {mean}\")\n",
        "\n",
        "    dt[new_col] = dt[col]\n",
        "    dt[new_col].fillna(mean, inplace=True)\n",
        "    return dt\n",
        "\n",
        "  @staticmethod\n",
        "  def fill_nan_by_mode(df: pd.DataFrame, col: str, new_col: str):\n",
        "    dt = df.copy()\n",
        "    mode_age = dt.mode()[col].values[0]\n",
        "    print(f\"Mode of {col} = {mode_age}\")\n",
        "\n",
        "    dt[new_col] = dt[col]\n",
        "    dt[new_col].fillna(mode_age, inplace=True)\n",
        "    return dt\n",
        "\n",
        "  @staticmethod\n",
        "  def fill_nan_by_end_distribution(df: pd.DataFrame, col: str, new_col: str):\n",
        "    dt = df.copy()\n",
        "    extreme = dt[col].mean() + 3 * dt[col].std()\n",
        "    print(f'End of distribution of {col}: {extreme}')\n",
        "\n",
        "    dt[new_col] = dt[col].fillna(extreme)\n",
        "    return dt\n",
        "\n",
        "  @staticmethod\n",
        "  def fill_nan_by_random(df: pd.DataFrame, col: str, new_col: str):\n",
        "    dt = df.copy()\n",
        "    number_null_row = dt[col].isnull().sum()\n",
        "    random_samples = dt[col].dropna().sample(n=number_null_row, random_state=0)\n",
        "\n",
        "    dt[new_col] = dt[col]\n",
        "    random_samples.index = dt[dt[col].isnull()].index\n",
        "    dt.loc[dt[col].isnull(), new_col] = random_samples\n",
        "    return dt\n",
        "\n",
        "  @staticmethod\n",
        "  def fill_nan_by_arbitrary(df: pd.DataFrame, col: str, new_col: str, start: int, end: int):\n",
        "    dt = df.copy()\n",
        "    dt[new_col] = dt[col].fillna(np.random.randint(start, end))\n",
        "    return dt"
      ]
    },
    {
      "cell_type": "code",
      "execution_count": 691,
      "metadata": {
        "colab": {
          "base_uri": "https://localhost:8080/"
        },
        "id": "lRXaE6cCJz2t",
        "outputId": "66239599-8648-4a1c-b2a0-8db4d175f78e"
      },
      "outputs": [
        {
          "name": "stdout",
          "output_type": "stream",
          "text": [
            "Median of RunningTime = 106.0\n",
            "Mean of RunningTime = 109.39599156118143\n",
            "Mode of RunningTime = 100.0\n",
            "End of distribution of RunningTime: 169.34725458791968\n"
          ]
        }
      ],
      "source": [
        "df['RunningTime_NAN'] = np.where(df['RunningTime'].isnull(), 1, 0)\n",
        "df = MissingDataHandler.fill_nan_by_median(df, 'RunningTime', 'RunningTime_median')\n",
        "df = MissingDataHandler.fill_nan_by_mean(df, 'RunningTime', 'RunningTime_mean')\n",
        "df = MissingDataHandler.fill_nan_by_mode(df, 'RunningTime', 'RunningTime_mode')\n",
        "df = MissingDataHandler.fill_nan_by_end_distribution(df, 'RunningTime', 'RunningTime_end_dist')\n",
        "df = MissingDataHandler.fill_nan_by_random(df, 'RunningTime', 'RunningTime_random')\n",
        "df = MissingDataHandler.fill_nan_by_arbitrary(df, 'RunningTime', 'RunningTime_arbitrary', start=0, end=127)"
      ]
    },
    {
      "cell_type": "code",
      "execution_count": 692,
      "metadata": {
        "colab": {
          "base_uri": "https://localhost:8080/"
        },
        "id": "9_hI32o4Kl8x",
        "outputId": "b4a53347-bef4-4c8f-98dd-420921d93aed"
      },
      "outputs": [
        {
          "name": "stdout",
          "output_type": "stream",
          "text": [
            "Std of RunningTime = 19.983754342246083\n",
            "Std of RunningTime_median = 18.41617346915039\n",
            "Std of RunningTime_mean = 18.375223417793325\n",
            "Std of RunningTime_mode = 18.68641521605531\n",
            "Std of RunningTime_end_dist = 28.410909102097314\n",
            "Std of RunningTime_random = 19.834493554006947\n",
            "Std of RunningTime_arbitrary = 19.199340475656932\n"
          ]
        }
      ],
      "source": [
        "print(f\"Std of RunningTime = {df['RunningTime'].std()}\")\n",
        "print(f\"Std of RunningTime_median = {df['RunningTime_median'].std()}\")\n",
        "print(f\"Std of RunningTime_mean = {df['RunningTime_mean'].std()}\")\n",
        "print(f\"Std of RunningTime_mode = {df['RunningTime_mode'].std()}\")\n",
        "print(f\"Std of RunningTime_end_dist = {df['RunningTime_end_dist'].std()}\")\n",
        "print(f\"Std of RunningTime_random = {df['RunningTime_random'].std()}\")\n",
        "print(f\"Std of RunningTime_arbitrary = {df['RunningTime_arbitrary'].std()}\")"
      ]
    },
    {
      "cell_type": "code",
      "execution_count": 693,
      "metadata": {
        "colab": {
          "base_uri": "https://localhost:8080/"
        },
        "id": "0PLhNzwDQ69d",
        "outputId": "9f8e21e5-e0da-4155-ecad-cf10aebc8fa5"
      },
      "outputs": [
        {
          "data": {
            "text/plain": [
              "<matplotlib.legend.Legend at 0x2246c4cc040>"
            ]
          },
          "execution_count": 693,
          "metadata": {},
          "output_type": "execute_result"
        },
        {
          "data": {
            "image/png": "[encoded data removed]",
            "text/plain": [
              "<Figure size 1296x432 with 1 Axes>"
            ]
          },
          "metadata": {},
          "output_type": "display_data"
        }
      ],
      "source": [
        "fig, ax = plt.subplots(figsize=(18, 6))\n",
        "df.RunningTime.plot(kind='kde')\n",
        "df.RunningTime_median.plot(kind='kde')\n",
        "df.RunningTime_mean.plot(kind='kde')\n",
        "df.RunningTime_mode.plot(kind='kde')\n",
        "df.RunningTime_end_dist.plot(kind='kde')\n",
        "df.RunningTime_random.plot(kind='kde')\n",
        "df.RunningTime_arbitrary.plot(kind='kde')\n",
        "plt.xlabel(\"Minutes\")\n",
        "plt.title(\"Running Time Distribution\")\n",
        "lines, labels = ax.get_legend_handles_labels()\n",
        "plt.legend(lines, labels, loc='best')"
      ]
    },
    {
      "cell_type": "code",
      "execution_count": 694,
      "metadata": {
        "id": "mCv-hse5FMmg"
      },
      "outputs": [],
      "source": [
        "del df['RunningTime_NAN']\n",
        "del df['RunningTime_median']\n",
        "del df['RunningTime_mean']\n",
        "del df['RunningTime_mode']\n",
        "del df['RunningTime_end_dist']\n",
        "del df['RunningTime_random']\n",
        "del df['RunningTime_arbitrary']"
      ]
    },
    {
      "cell_type": "code",
      "execution_count": 695,
      "metadata": {
        "id": "8LlbGoSyEnHY"
      },
      "outputs": [],
      "source": [
        "random_samples = df['RunningTime'].dropna().sample(n=df['RunningTime'].isnull().sum(),random_state=0)\n",
        "df[df['RunningTime'].isnull()].index\n",
        "random_samples.index = df[df['RunningTime'].isnull()].index\n",
        "df['RunningTime_random']=df['RunningTime']\n",
        "df.loc[df['RunningTime'].isnull(), 'RunningTime_random']=random_samples\n",
        "del df['RunningTime']\n",
        "df.rename(columns={'RunningTime_random': 'RunningTime'}, inplace=True)"
      ]
    },
    {
      "cell_type": "code",
      "execution_count": 696,
      "metadata": {
        "colab": {
          "base_uri": "https://localhost:8080/"
        },
        "id": "PlFDFdp8ByeQ",
        "outputId": "6c60692a-943a-449c-8bda-c509b4b066d8"
      },
      "outputs": [
        {
          "data": {
            "text/plain": [
              "ReleaseDate               0\n",
              "Movie                     0\n",
              "Source                  189\n",
              "Genre                   117\n",
              "ProductionMethod        127\n",
              "CreativeType            246\n",
              "ProductionCompanies    1923\n",
              "ProductionCountries     440\n",
              "Languages               938\n",
              "ProductionBudget          0\n",
              "DomesticGross             0\n",
              "WorldwideGross            0\n",
              "RunningTime               0\n",
              "dtype: int64"
            ]
          },
          "execution_count": 696,
          "metadata": {},
          "output_type": "execute_result"
        }
      ],
      "source": [
        "df.isnull().sum()"
      ]
    },
    {
      "cell_type": "markdown",
      "metadata": {
        "id": "pGP8ZxBcUNP3"
      },
      "source": [
        "#### Source"
      ]
    },
    {
      "cell_type": "code",
      "execution_count": 697,
      "metadata": {
        "colab": {
          "base_uri": "https://localhost:8080/"
        },
        "id": "EMkeMEcsHMAu",
        "outputId": "1650fd83-2450-4644-b586-cc9ff4f344e3"
      },
      "outputs": [
        {
          "data": {
            "text/plain": [
              "Original Screenplay           2874\n",
              "Fiction Book/Short Story      1064\n",
              "Real Life Events               442\n",
              "Remake                         208\n",
              "Others                         189\n",
              "Comic/Graphic Novel            180\n",
              "TV                             165\n",
              "Factual Book/Article           151\n",
              "Play                            97\n",
              "Game                            45\n",
              "Folk Tale/Legend/Fairytale      43\n",
              "Spin-Off                        29\n",
              "Short Film                      25\n",
              "Religious Text                  20\n",
              "Musical or Opera                19\n",
              "Movie                           17\n",
              "Toy                             16\n",
              "Theme Park Ride                  8\n",
              "Compilation                      5\n",
              "Musical Group                    3\n",
              "Ballet                           3\n",
              "Web Series                       1\n",
              "Song                             1\n",
              "Poem                             1\n",
              "Name: Source, dtype: int64"
            ]
          },
          "execution_count": 697,
          "metadata": {},
          "output_type": "execute_result"
        }
      ],
      "source": [
        "df['Source'].fillna('Others', inplace=True)\n",
        "df['Source'] = df['Source'].transform(lambda x: str(x).replace('Based on ', ''))\n",
        "df['Source'].value_counts()"
      ]
    },
    {
      "cell_type": "code",
      "execution_count": 698,
      "metadata": {},
      "outputs": [],
      "source": [
        "df['Source'] = df['Source'].transform(lambda x: 'Others' if str(x) not in ['Original Screenplay', 'Fiction Book/Short Story', 'Real Life Events'] else x)"
      ]
    },
    {
      "cell_type": "code",
      "execution_count": 699,
      "metadata": {},
      "outputs": [
        {
          "data": {
            "text/plain": [
              "Original Screenplay         2874\n",
              "Others                      1226\n",
              "Fiction Book/Short Story    1064\n",
              "Real Life Events             442\n",
              "Name: Source, dtype: int64"
            ]
          },
          "execution_count": 699,
          "metadata": {},
          "output_type": "execute_result"
        }
      ],
      "source": [
        "df['Source'].value_counts()"
      ]
    },
    {
      "cell_type": "markdown",
      "metadata": {
        "id": "Pxq_xK2jUTBs"
      },
      "source": [
        "#### Genre"
      ]
    },
    {
      "cell_type": "code",
      "execution_count": 700,
      "metadata": {
        "colab": {
          "base_uri": "https://localhost:8080/"
        },
        "id": "yJDQrs1Licdy",
        "outputId": "4a465512-85cc-4320-b798-71a666f252ab"
      },
      "outputs": [
        {
          "data": {
            "text/plain": [
              "Drama                  1515\n",
              "Comedy                  939\n",
              "Action                  718\n",
              "Adventure               671\n",
              "Thriller/Suspense       556\n",
              "Horror                  444\n",
              "Romantic Comedy         250\n",
              "Others                  117\n",
              "Documentary             110\n",
              "Musical                 100\n",
              "Black Comedy             99\n",
              "Western                  72\n",
              "Concert/Performance      14\n",
              "Multiple Genres           1\n",
              "Name: Genre, dtype: int64"
            ]
          },
          "execution_count": 700,
          "metadata": {},
          "output_type": "execute_result"
        }
      ],
      "source": [
        "df['Genre'].fillna('Others', inplace=True)\n",
        "df['Genre'].value_counts()"
      ]
    },
    {
      "cell_type": "code",
      "execution_count": 701,
      "metadata": {},
      "outputs": [
        {
          "data": {
            "text/plain": [
              "Drama                1515\n",
              "Comedy                939\n",
              "Others                763\n",
              "Action                718\n",
              "Adventure             671\n",
              "Thriller/Suspense     556\n",
              "Horror                444\n",
              "Name: Genre, dtype: int64"
            ]
          },
          "execution_count": 701,
          "metadata": {},
          "output_type": "execute_result"
        }
      ],
      "source": [
        "df['Genre'] = df['Genre'].transform(lambda x: 'Others' if str(x) not in ['Drama', 'Comedy', 'Action', 'Adventure', 'Thriller/Suspense', 'Horror'] else x)\n",
        "df['Genre'].value_counts()"
      ]
    },
    {
      "cell_type": "markdown",
      "metadata": {
        "id": "5QNZd1JUUX4k"
      },
      "source": [
        "#### ProductionMethod"
      ]
    },
    {
      "cell_type": "code",
      "execution_count": 702,
      "metadata": {
        "colab": {
          "base_uri": "https://localhost:8080/"
        },
        "id": "QIMUzZ_wZjIo",
        "outputId": "29d383bd-f860-48c6-a433-1cc82d486824"
      },
      "outputs": [
        {
          "data": {
            "text/plain": [
              "Live Action                    5036\n",
              "Digital Animation               184\n",
              "Animation/Live Action           173\n",
              "Others                          127\n",
              "Hand Animation                   69\n",
              "Stop-Motion Animation            14\n",
              "Rotoscoping                       2\n",
              "Multiple Production Methods       1\n",
              "Name: ProductionMethod, dtype: int64"
            ]
          },
          "execution_count": 702,
          "metadata": {},
          "output_type": "execute_result"
        }
      ],
      "source": [
        "df['ProductionMethod'].fillna('Others', inplace=True)\n",
        "df['ProductionMethod'].value_counts()"
      ]
    },
    {
      "cell_type": "code",
      "execution_count": 703,
      "metadata": {},
      "outputs": [
        {
          "data": {
            "text/plain": [
              "Live Action    5036\n",
              "Others          570\n",
              "Name: ProductionMethod, dtype: int64"
            ]
          },
          "execution_count": 703,
          "metadata": {},
          "output_type": "execute_result"
        }
      ],
      "source": [
        "df['ProductionMethod'] = df['ProductionMethod'].transform(lambda x: 'Others' if str(x) not in ['Live Action'] else x)\n",
        "df['ProductionMethod'].value_counts()"
      ]
    },
    {
      "cell_type": "markdown",
      "metadata": {
        "id": "c_9MxiGEUdl-"
      },
      "source": [
        "#### CreativeType"
      ]
    },
    {
      "cell_type": "code",
      "execution_count": 704,
      "metadata": {
        "colab": {
          "base_uri": "https://localhost:8080/"
        },
        "id": "bG5CrFU-zRbr",
        "outputId": "d0d66d28-29dc-488c-c980-c90906b2d8d9"
      },
      "outputs": [
        {
          "data": {
            "text/plain": [
              "Contemporary Fiction       2810\n",
              "Historical Fiction          637\n",
              "Dramatization               489\n",
              "Science Fiction             476\n",
              "Fantasy                     382\n",
              "Kids Fiction                323\n",
              "Others                      246\n",
              "Factual                     123\n",
              "Super Hero                  114\n",
              "Multiple Creative Types       6\n",
              "Name: CreativeType, dtype: int64"
            ]
          },
          "execution_count": 704,
          "metadata": {},
          "output_type": "execute_result"
        }
      ],
      "source": [
        "df['CreativeType'].fillna('Others', inplace=True)\n",
        "df['CreativeType'].value_counts()"
      ]
    },
    {
      "cell_type": "code",
      "execution_count": 705,
      "metadata": {},
      "outputs": [
        {
          "data": {
            "text/plain": [
              "Contemporary Fiction    2810\n",
              "Others                  1194\n",
              "Historical Fiction       637\n",
              "Dramatization            489\n",
              "Science Fiction          476\n",
              "Name: CreativeType, dtype: int64"
            ]
          },
          "execution_count": 705,
          "metadata": {},
          "output_type": "execute_result"
        }
      ],
      "source": [
        "df['CreativeType'] = df['CreativeType'].transform(lambda x: 'Others' if str(x) not in ['Contemporary Fiction', 'Historical Fiction', 'Dramatization', 'Science Fiction'] else x)\n",
        "df['CreativeType'].value_counts()"
      ]
    },
    {
      "cell_type": "markdown",
      "metadata": {
        "id": "9Wpm4zCOUhPw"
      },
      "source": [
        "#### ProductionCompanies"
      ]
    },
    {
      "cell_type": "code",
      "execution_count": 706,
      "metadata": {
        "colab": {
          "base_uri": "https://localhost:8080/"
        },
        "id": "TiFTk7M8Ofj6",
        "outputId": "d63d9a8f-590c-418d-849b-b3123c794404"
      },
      "outputs": [
        {
          "data": {
            "text/plain": [
              "Others                                                                            1923\n",
              "Warner Bros.                                                                        28\n",
              "Columbia Pictures                                                                   21\n",
              "Universal Pictures                                                                  20\n",
              "Walt Disney Pictures                                                                19\n",
              "                                                                                  ... \n",
              "Universal Pictures, Anonymous Content, Working Title Films                           1\n",
              "Summit Entertainment, Mediaset Espana, Apaches Entertainment, Telecinco Cinema       1\n",
              "DreamWorks Pictures, Work After Midnight, Saturn Films                               1\n",
              "Annapurna Pictures, First Light                                                      1\n",
              "THINKFilm                                                                            1\n",
              "Name: ProductionCompanies, Length: 3039, dtype: int64"
            ]
          },
          "execution_count": 706,
          "metadata": {},
          "output_type": "execute_result"
        }
      ],
      "source": [
        "df['ProductionCompanies'].fillna('Others', inplace=True)\n",
        "df['ProductionCompanies'].value_counts()"
      ]
    },
    {
      "cell_type": "code",
      "execution_count": 707,
      "metadata": {
        "colab": {
          "base_uri": "https://localhost:8080/"
        },
        "id": "9RWE91TlcTiX",
        "outputId": "324bd16f-9c21-4f49-f985-e04b194f4229"
      },
      "outputs": [
        {
          "data": {
            "text/plain": [
              "OrderedDict([(' Haven Entertainment', 1),\n",
              "             ('02 Filmes', 1),\n",
              "             ('10 West Studios', 2),\n",
              "             ('10 by 10 Entertainment', 1),\n",
              "             ('1000 Eyes', 1),\n",
              "             ('1019 Entertainment', 1),\n",
              "             ('1211 Entertainment', 1),\n",
              "             ('1212 Entertainment', 1),\n",
              "             ('127 Wall', 1),\n",
              "             ('1405 Communications', 1),\n",
              "             ('1492 Pictures', 20),\n",
              "             ('16:14 Entertainment', 1),\n",
              "             ('1821 Pictures', 3),\n",
              "             ('1978 Films', 1),\n",
              "             ('1984 PDC', 1),\n",
              "             ('1984 Private Defense Contractors', 2),\n",
              "             ('2 Entertain', 1),\n",
              "             ('2.0 Entertainment', 4),\n",
              "             ('2.4.7. Films', 1),\n",
              "             ('20th Century Fox', 95),\n",
              "             ('20th Century Fox Animation', 8),\n",
              "             ('20th Century Fox Television', 1),\n",
              "             ('20th Century Studios', 3),\n",
              "             ('21 Laps Entertainment', 17),\n",
              "             ('21st Century Film Corporation', 1),\n",
              "             ('22nd & Indiana ', 1),\n",
              "             ('26 Films', 1),\n",
              "             ('26 Keys', 1),\n",
              "             ('260 Degrees', 1),\n",
              "             ('2929 Productions', 4),\n",
              "             ('2Dux2', 2),\n",
              "             ('2S Films', 1),\n",
              "             ('3 Arts Entertainment', 12),\n",
              "             ('3 In The Box Productions', 3),\n",
              "             ('30 West', 4),\n",
              "             ('3311 Productions', 2),\n",
              "             ('34th Street Films', 2),\n",
              "             ('3B Productions', 1),\n",
              "             ('3Blackdot', 1),\n",
              "             ('3D Entertainment Films', 2),\n",
              "             ('3DTK Inc.', 1),\n",
              "             ('3Pas Studios', 2),\n",
              "             ('3dot Productions', 1),\n",
              "             ('4 1/2 Film', 1),\n",
              "             ('40 Acres and a Mule Filmworks', 9),\n",
              "             ('42/Fire Axe Pictures', 1),\n",
              "             ('4DH Films', 1),\n",
              "             ('606 Films', 1),\n",
              "             ('6TER', 1),\n",
              "             ('6th and Idaho', 1),\n",
              "             ('7 Bucks Productions', 2),\n",
              "             ('74850', 1),\n",
              "             ('75 Year Plan', 1),\n",
              "             ('87Eleven Inc.', 5),\n",
              "             ('87North', 1),\n",
              "             ('8:38 Productions', 1),\n",
              "             ('A Band Apart', 7),\n",
              "             ('A Bigger Boat Productions', 3),\n",
              "             ('A Company', 1),\n",
              "             ('A Keith Barish', 1),\n",
              "             ('A Likely Story', 1),\n",
              "             ('A Mark Entertainment', 1),\n",
              "             ('A Monster Calls AIE', 1),\n",
              "             ('A Very Good Production', 1),\n",
              "             ('A&E Indiefilms', 1),\n",
              "             ('A&M Films', 1),\n",
              "             ('A-Line Pictures', 1),\n",
              "             ('A-Team', 1),\n",
              "             ('A. Kitman Ho', 1),\n",
              "             ('A. Kitman Ho & Ixlan', 1),\n",
              "             ('A.I.E', 1),\n",
              "             ('A.I.E. ', 1),\n",
              "             ('A.V.V. Worldwide', 1),\n",
              "             ('A/Middleton Project', 1),\n",
              "             ('A113', 1),\n",
              "             ('A24', 12),\n",
              "             ('A3 Films', 1),\n",
              "             ('AA Films', 1),\n",
              "             (\"AB'-Strakt Pictures\", 1),\n",
              "             ('AB2 Digital Pictures', 1),\n",
              "             ('AEG Live', 2),\n",
              "             ('AGBO', 1),\n",
              "             ('AGC', 3),\n",
              "             ('AI Film', 3),\n",
              "             ('AIC Movie Inc', 1),\n",
              "             ('AMG', 1),\n",
              "             ('AR Films', 2),\n",
              "             ('ARC Entertainment', 1),\n",
              "             ('ARD/Degeto', 3),\n",
              "             ('ARP Selection', 1),\n",
              "             ('ARTE France', 8),\n",
              "             ('ASAP Films', 2),\n",
              "             ('AV Club', 1),\n",
              "             ('Aamir Khan Productions', 1),\n",
              "             ('Aardman Animations', 7),\n",
              "             ('Abishag Producitons', 1),\n",
              "             ('Abramorama', 1),\n",
              "             ('Absinthe Productions', 1),\n",
              "             ('Abso Lutely Productions', 1),\n",
              "             ('Acacia Entertainment', 2),\n",
              "             ('Access Entertainment', 2),\n",
              "             ('Access Motion Pictures', 1),\n",
              "             ('Ace Bone', 1),\n",
              "             ('Achte Babelsberg Film', 1),\n",
              "             ('Act III Productions', 3),\n",
              "             ('Ad Hominem Enterpises', 3),\n",
              "             ('AdScott', 1),\n",
              "             ('Adam McKay', 1),\n",
              "             ('Adam Shankman', 1),\n",
              "             ('Addis Wechsler', 2),\n",
              "             ('Addison Street Films', 1),\n",
              "             ('Adelaide Film Festival', 1),\n",
              "             ('Adlabs Films', 2),\n",
              "             ('Aegis Film Fund', 2),\n",
              "             ('Affinity', 2),\n",
              "             ('Affirm Films', 11),\n",
              "             ('Africa Filmes', 1),\n",
              "             ('After Dark Films', 3),\n",
              "             ('Afterworks Limited', 1),\n",
              "             ('Aggregate Films', 3),\n",
              "             ('Ahimsa Films', 1),\n",
              "             ('Aide aux Cinemas du Monde', 1),\n",
              "             ('Aja/Levasseur Productions', 1),\n",
              "             ('Akil Productions', 1),\n",
              "             ('Alain Sarde', 1),\n",
              "             ('Alan Greisman', 1),\n",
              "             ('Alan Ladd', 1),\n",
              "             ('Albert Prevost', 1),\n",
              "             ('Alberto Grimaldi', 1),\n",
              "             ('Alcatraz Films', 1),\n",
              "             ('Alchemy', 1),\n",
              "             ('Alcon Entertainment', 19),\n",
              "             ('Alcor Films', 2),\n",
              "             ('Aldamisa Entertainment', 1),\n",
              "             ('Aldamisa Films', 1),\n",
              "             ('Alexander/Mitchell', 1),\n",
              "             ('Alexandre Films', 1),\n",
              "             ('Alfama Films', 1),\n",
              "             ('Alibaba Pictures', 1),\n",
              "             ('Alive Entertainment', 1),\n",
              "             ('Alive Films', 1),\n",
              "             ('Allan Zeman Productions', 1),\n",
              "             ('Allegiance Theater', 1),\n",
              "             ('Allen Hughes', 1),\n",
              "             ('Alliance Atlantis', 1),\n",
              "             ('Alliance Communications', 1),\n",
              "             ('Alliance Films', 6),\n",
              "             ('Allied', 1),\n",
              "             ('Allied Film Makers', 1),\n",
              "             ('Allied Stars Ltd.', 2),\n",
              "             ('Allison Shearmur', 4),\n",
              "             ('Alloy Entertainment', 4),\n",
              "             ('Allspark Pictures', 3),\n",
              "             ('Alpha Pictures Investment Co.', 1),\n",
              "             ('Alphacore', 1),\n",
              "             ('Alphaville', 7),\n",
              "             ('Alta Loma Entertainment', 2),\n",
              "             ('Altus Media', 1),\n",
              "             ('Alvernia Studios', 1),\n",
              "             ('Amasia Entertainment', 1),\n",
              "             ('Amazon Prime Instant Video', 1),\n",
              "             ('Amazon Studios', 13),\n",
              "             ('Ambi Media Group', 1),\n",
              "             ('Ambience Entertainment', 1),\n",
              "             ('Amblin Entertainment', 45),\n",
              "             ('Amblin Partners', 2),\n",
              "             ('Ambush Entertainment', 2),\n",
              "             ('Ameena Sky Media', 1),\n",
              "             ('Amen Ra Films', 2),\n",
              "             ('American Empirical', 2),\n",
              "             ('American Express', 1),\n",
              "             ('American Family Studios', 1),\n",
              "             ('American Work Inc.', 1),\n",
              "             ('American Zoetrope', 11),\n",
              "             ('Amusement Park', 3),\n",
              "             ('Amy Robinson', 1),\n",
              "             ('An Egg Pictures Production', 1),\n",
              "             ('Ana Media', 1),\n",
              "             ('Anabasis Investments', 1),\n",
              "             ('Analysis Film Corporation', 1),\n",
              "             ('Anarchos Productions', 3),\n",
              "             ('Anchor Bay Films', 4),\n",
              "             ('Andale Pictures', 1),\n",
              "             ('Andamar Entertianment', 1),\n",
              "             ('Andre Rouleau', 1),\n",
              "             ('Andrea Leone Films', 1),\n",
              "             ('Andy Paterson', 1),\n",
              "             ('Andycat', 1),\n",
              "             ('Angel City', 1),\n",
              "             ('Angoa Intl', 1),\n",
              "             ('Animal Kingdom', 3),\n",
              "             ('Animal Logic', 5),\n",
              "             ('Animationsfabrik', 1),\n",
              "             ('Animus Films', 2),\n",
              "             ('Ankle Socks and Baseball Pants', 1),\n",
              "             ('AnnaBell Pictures', 1),\n",
              "             ('Annapurna Films', 1),\n",
              "             ('Annapurna Pictures', 22),\n",
              "             ('Anomally Entertainment', 1),\n",
              "             ('Anonymous Content', 16),\n",
              "             ('Another Park Film', 1),\n",
              "             ('Antena 3 Films', 2),\n",
              "             ('Antena 3 TV', 1),\n",
              "             ('Anthem Productions', 1),\n",
              "             ('Anthem Ventures', 1),\n",
              "             ('Anthony Bregman', 1),\n",
              "             ('Antidote Films', 1),\n",
              "             ('Anton Capital Entertainment', 7),\n",
              "             ('Anton Capital Investors', 1),\n",
              "             ('Anvil Films', 2),\n",
              "             ('Apaches Entertainment', 2),\n",
              "             ('Apatow Productions', 6),\n",
              "             ('Apatow/Stoller Global Solutions', 1),\n",
              "             ('Apelles Entertainment', 1),\n",
              "             ('Aperture Media Partners', 3),\n",
              "             ('Apipoulai Productions', 2),\n",
              "             ('Apocalypse Pictures', 1),\n",
              "             ('Apocalypso Pictures', 1),\n",
              "             ('ApolloProscreen', 1),\n",
              "             ('Apostle', 1),\n",
              "             ('Apotheosis Media Group', 1),\n",
              "             ('Apparatus', 1),\n",
              "             ('Appian Way', 12),\n",
              "             ('Applebox Entertainment', 1),\n",
              "             ('Applecross', 1),\n",
              "             ('Applehead Pictures', 1),\n",
              "             ('Aquarius Films', 1),\n",
              "             ('Arad Productions', 4),\n",
              "             ('Aramid Entertainment', 3),\n",
              "             ('Arcade Pictures', 2),\n",
              "             ('Arcadia Motion Pictures', 2),\n",
              "             ('Archer Gray Productions', 3),\n",
              "             ('Archer Street', 1),\n",
              "             ('Archery Pictures', 1),\n",
              "             ('Arches Films', 1),\n",
              "             ('Archimede    ', 1),\n",
              "             ('Arclight Films', 2),\n",
              "             ('Area 23a', 1),\n",
              "             ('Argent Pictures', 2),\n",
              "             ('Argonaut Pictures', 1),\n",
              "             ('Arka Media Works', 1),\n",
              "             ('Armada Films', 1),\n",
              "             ('Armando Iannucci Productions', 1),\n",
              "             ('Armory Films', 1),\n",
              "             ('Arnold Productions', 1),\n",
              "             ('Arrival Entertainment', 1),\n",
              "             ('Arte', 4),\n",
              "             ('Arte France Cinema', 7),\n",
              "             ('Artemis Prods', 3),\n",
              "             ('Arthur Sarkissian', 3),\n",
              "             ('Artina Films', 2),\n",
              "             ('Artisan Entertainment', 1),\n",
              "             ('Artists First', 1),\n",
              "             ('Artists Production Group', 1),\n",
              "             ('Artists Public Domain', 1),\n",
              "             ('Arts Council of England', 3),\n",
              "             ('As Is Productions', 1),\n",
              "             ('Ascendant Pictures', 3),\n",
              "             ('Asghar Farhadi', 1),\n",
              "             ('Ashok Amritraj', 3),\n",
              "             ('Asia Pacific Screen Awards', 1),\n",
              "             ('Asia Production Fund One Limited', 1),\n",
              "             ('Asia Union Film and Entertainment LTD', 1),\n",
              "             ('Assassin Films', 1),\n",
              "             ('Assemblage Entertainment ', 2),\n",
              "             ('Astrakan Films AB', 1),\n",
              "             ('Astral Media', 2),\n",
              "             ('Astute Films', 2),\n",
              "             ('Atlantic Entertainment Group', 1),\n",
              "             ('Atlantic Pictures', 2),\n",
              "             ('Atlas Entertainment', 13),\n",
              "             ('Atlas Productions', 1),\n",
              "             ('Atomic Monster', 10),\n",
              "             ('Attitude Studio', 1),\n",
              "             ('Atwater Capital', 1),\n",
              "             ('Aubin Pictures', 1),\n",
              "             ('Audax Films', 1),\n",
              "             ('Audiovisual SGR', 1),\n",
              "             ('Audiovisuelle du Grand-Duche de Luxembourg', 1),\n",
              "             ('Audley Films', 3),\n",
              "             ('Augusta Films', 1),\n",
              "             ('Aurora Film', 1),\n",
              "             ('Authentic Management Project', 1),\n",
              "             ('Autobahn Film Gmbh', 1),\n",
              "             ('Automat Pictures', 1),\n",
              "             ('Automatik', 13),\n",
              "             ('Autonomous', 1),\n",
              "             ('Avalon Studio Productions', 1),\n",
              "             ('Avenue Pictures Productions', 2),\n",
              "             ('Aversano Films', 3),\n",
              "             ('Avi Arad', 1),\n",
              "             ('Aviron Pictures', 4),\n",
              "             ('Avis-Davis', 1),\n",
              "             ('Avnet Kerner Productions', 1),\n",
              "             ('Awesomeness Films', 1),\n",
              "             ('Axon Films', 1),\n",
              "             ('Azoff Entertainment', 1),\n",
              "             ('B Media 2012', 1),\n",
              "             ('B Story', 1),\n",
              "             ('B-Reel Films', 1),\n",
              "             ('B23', 1),\n",
              "             ('BAM Film', 1),\n",
              "             ('BBC Earth Films', 1),\n",
              "             ('BBC Films', 40),\n",
              "             ('BBC Natural History Unit', 1),\n",
              "             ('BBC Storyville', 1),\n",
              "             ('BBC Two Films', 1),\n",
              "             ('BBC Worldwide', 1),\n",
              "             ('BCDF Pictures', 2),\n",
              "             ('BCL Finance Group', 1),\n",
              "             ('BDI Films Inc', 1),\n",
              "             ('BET Films', 2),\n",
              "             ('BETV', 1),\n",
              "             ('BFI', 10),\n",
              "             ('BH Tilt', 7),\n",
              "             ('BMP', 1),\n",
              "             ('BMP Inc', 1),\n",
              "             ('BMS Finance', 1),\n",
              "             ('BN Films', 1),\n",
              "             ('BNP Paribas Film Fund', 2),\n",
              "             ('BOOM! Studios', 1),\n",
              "             ('BPER Banca', 1),\n",
              "             ('BR Group', 1),\n",
              "             ('BUF', 1),\n",
              "             ('BZ Entertainment', 1),\n",
              "             ('Babe Films', 1),\n",
              "             ('Babel Films', 1),\n",
              "             ('Babelsberg Film', 1),\n",
              "             ('Baby Cow', 3),\n",
              "             ('Baby Way', 3),\n",
              "             ('Babylon A.D.', 1),\n",
              "             ('Babylon Films', 1),\n",
              "             ('Back 40 Pictures Inc', 1),\n",
              "             ('Bad Boy Films', 1),\n",
              "             ('Bad Cop / Bad Cop Productions', 1),\n",
              "             ('Bad Hat Harry Productions', 7),\n",
              "             ('Bad Robot', 13),\n",
              "             ('Badwill Entertainment ', 1),\n",
              "             ('Bagdasarian Company', 4),\n",
              "             ('Bai Rte', 1),\n",
              "             ('Baker Street', 1),\n",
              "             ('Balboa Productions', 1),\n",
              "             ('Baldwin Entertainment Group', 1),\n",
              "             ('Baltimore Spring Creek Pictures', 2),\n",
              "             ('Bandito Brothers', 2),\n",
              "             ('Bank Leumi', 1),\n",
              "             ('Banter Films', 1),\n",
              "             ('Barajoun Entertainment', 1),\n",
              "             ('Barbary Films', 1),\n",
              "             ('Barry Mendel', 1),\n",
              "             ('Barry Sonnenfeld', 1),\n",
              "             ('Bart/Palevsky', 1),\n",
              "             ('Barunson E&A', 1),\n",
              "             ('Barwood', 1),\n",
              "             ('Basketball Future Foundation', 1),\n",
              "             ('Battle Mountain Films', 3),\n",
              "             ('Battleplan', 2),\n",
              "             ('Bauer Martinez Studios', 1),\n",
              "             ('Bavaria Film Intl.', 1),\n",
              "             ('Bay Films', 3),\n",
              "             ('Bayahibe Films Production', 1),\n",
              "             ('Baytal Shawareb', 1),\n",
              "             ('Bazelevs Company', 7),\n",
              "             ('Bazmark', 3),\n",
              "             ('Bazmark Film 2 Pty Ltd', 1),\n",
              "             ('Beachside', 1),\n",
              "             ('Beacon Pictures', 9),\n",
              "             ('Beaglepug', 2),\n",
              "             ('Beanca Films', 1),\n",
              "             ('Beatnik Films', 1),\n",
              "             ('Becker Films International', 1),\n",
              "             ('Bedford Falls', 4),\n",
              "             ('Bedlam', 1),\n",
              "             ('Before The Door', 3),\n",
              "             ('Beijing Alnair Culture & Media', 1),\n",
              "             ('Beijing Enlight Pictures', 1),\n",
              "             ('Beijing Jingxi Culture and Tourism Company', 1),\n",
              "             ('Beijing New Pictures Film Co', 2),\n",
              "             ('Beijing Silver Moon Productions', 1),\n",
              "             ('Beijing Universe Starlight Culture Media Company', 2),\n",
              "             ('Bekmambetov Projects', 1),\n",
              "             ('Bel-Air Entertainment', 2),\n",
              "             ('Belfius Zielke Strat Et Go International', 1),\n",
              "             ('Belga Films', 2),\n",
              "             ('Belgian Scope Invest', 1),\n",
              "             ('Believe Entertainment', 2),\n",
              "             ('Belle Pictures', 1),\n",
              "             ('Bellevue Productions', 1),\n",
              "             ('Bellmer Pictures', 1),\n",
              "             ('Belvision', 1),\n",
              "             ('Benaroya Pictures', 3),\n",
              "             ('Bend It Films', 2),\n",
              "             ('Benderspink Productions', 10),\n",
              "             ('Berg Mandel', 1),\n",
              "             ('Bergman Lustig Productions', 1),\n",
              "             ('Berlanti Productions', 1),\n",
              "             ('Berliner 76 Entertainment', 1),\n",
              "             ('Bernard Gayle Productions', 1),\n",
              "             ('Bernd Eichinger', 3),\n",
              "             ('Bernd Schaeffers', 1),\n",
              "             ('Bersin Pictures', 1),\n",
              "             ('Best Boy Entertainment', 1),\n",
              "             ('Big Arty Productions', 1),\n",
              "             ('Big Beach', 5),\n",
              "             ('Big Book Media', 1),\n",
              "             ('Big City Pictures', 1),\n",
              "             ('Big Ed Picture Company', 1),\n",
              "             ('Big Feet Productions', 1),\n",
              "             ('Big Idea', 1),\n",
              "             ('Big Indie Pictures', 3),\n",
              "             ('Big Kid Pictures', 4),\n",
              "             ('Big Screen Prods', 11),\n",
              "             ('Big Talk Pictures', 9),\n",
              "             ('Bill Block Media', 1),\n",
              "             ('Bill Gerber', 1),\n",
              "             ('Bill Graham Films', 1),\n",
              "             ('Bill Mechanic', 1),\n",
              "             ('BillBlock Media', 1),\n",
              "             ('Bim Distribuzione', 3),\n",
              "             ('Bingo Movie Development', 1),\n",
              "             ('Birchwood Pictures', 1),\n",
              "             ('Birdie', 1),\n",
              "             ('Birnbaum/Barber', 5),\n",
              "             ('Black & White', 1),\n",
              "             ('Black Bear', 7),\n",
              "             ('Black Bicycle', 2),\n",
              "             ('Black Label Media', 5),\n",
              "             (\"BlackFriar's Bridge\", 2),\n",
              "             ('Blackbird', 1),\n",
              "             ('Blackened', 1),\n",
              "             ('Blackjack Films', 1),\n",
              "             ('Blacklab', 1),\n",
              "             ('Blackmaled', 1),\n",
              "             ('Blair Partnership', 1),\n",
              "             ('Blank Tape', 1),\n",
              "             ('Blazepoint Limited', 1),\n",
              "             ('Bleecker Street', 1),\n",
              "             ('Bleecker Street ', 4),\n",
              "             ('Blind Wink', 1),\n",
              "             ('BlindWink', 1),\n",
              "             ('Blinder Films', 1),\n",
              "             ('Blinding Edge Pictures', 10),\n",
              "             ('Blizzard Entertainment', 1),\n",
              "             ('Block 2 Pictures', 1),\n",
              "             ('Block/Hanson', 1),\n",
              "             ('Blockade', 1),\n",
              "             ('Bloom   ', 2),\n",
              "             ('Blossom Films', 1),\n",
              "             ('Blue Flower', 1),\n",
              "             ('Blue Ice Film Fund', 1),\n",
              "             ('Blue Lake Media Fund', 2),\n",
              "             ('Blue Light', 1),\n",
              "             ('Blue Rider Pictures', 1),\n",
              "             ('Blue Sky Studios', 12),\n",
              "             ('Blue Spirit Productions', 1),\n",
              "             ('Blue Star Entertainment', 3),\n",
              "             ('Blue Star Pictures', 1),\n",
              "             ('Blue Tongue Films', 3),\n",
              "             ('Blue Tulip', 1),\n",
              "             ('Blue Wolf', 1),\n",
              "             ('Blueeyes', 1),\n",
              "             ('Bluegrass Films', 12),\n",
              "             ('Blueprint Films', 7),\n",
              "             ('Blumhansonallen Films', 1),\n",
              "             ('Blumhouse', 60),\n",
              "             ('Blur Studio', 2),\n",
              "             ('Bob Yari Productions', 1),\n",
              "             ('Bobker/Kruger Films', 1),\n",
              "             ('Body Image Movement', 1),\n",
              "             ('Boies/Schiller', 4),\n",
              "             ('Bold Films', 7),\n",
              "             ('Bolex Brothers', 1),\n",
              "             ('Boll KG Productions ', 1),\n",
              "             ('Bona Fide', 4),\n",
              "             ('Bona Film Group', 5),\n",
              "             ('Bona International Film Group', 1),\n",
              "             ('Bonafide', 1),\n",
              "             ('Bonaparte Films', 1),\n",
              "             ('Bondit', 1),\n",
              "             ('Bonnie Arnold', 2),\n",
              "             ('Boram Entertainment', 1),\n",
              "             ('Bord Scannan na hEireann', 5),\n",
              "             ('Borden and Rosenbush Entertainment', 1),\n",
              "             ('BorderLine Films', 2),\n",
              "             ('Bow & Arrow', 1),\n",
              "             ('Boxing Cat', 2),\n",
              "             ('Boy of the Year', 1),\n",
              "             ('Brace Cove Productions', 1),\n",
              "             ('Brad Grey', 2),\n",
              "             ('Brandywine', 2),\n",
              "             ('Brazil Productions', 1),\n",
              "             ('Breakthru Films', 1),\n",
              "             ('Breakup', 1),\n",
              "             ('Brian Grazer Productions', 18),\n",
              "             ('Brian Helgeland', 1),\n",
              "             ('Briarcliff Entertainment', 5),\n",
              "             ('Brightlight Pictures', 1),\n",
              "             ('Brightside Entertainment', 1),\n",
              "             ('Brillstein Entertianment Partners', 2),\n",
              "             ('Bristol Automotive', 1),\n",
              "             ('Bristol Bay Productions', 2),\n",
              "             ('British Film Institute', 1),\n",
              "             ('Brittany House Pictures', 2),\n",
              "             ('Broad Green Pictures', 4),\n",
              "             ('Broadway Video', 1),\n",
              "             ('Broken Chair Flickz', 1),\n",
              "             ('Broken Lizard Industries', 2),\n",
              "             ('Broken Road', 13),\n",
              "             ('Bron Creative', 14),\n",
              "             ('Bron Studios', 3),\n",
              "             ('Brooklyn Films II', 1),\n",
              "             ('Brooks Media', 1),\n",
              "             ('BrooksFilms Limited', 3),\n",
              "             ('Brookwell McNamara Entertainment', 1),\n",
              "             ('Brothers Dowdle', 2),\n",
              "             (\"Brothers' Inc.\", 1),\n",
              "             ('Brownstone', 4),\n",
              "             ('Bruce Cohen Productions', 1),\n",
              "             ('Bryan Singer', 1),\n",
              "             ('Bud Yorkin', 1),\n",
              "             ('Buena Vista Home Entertainment', 1),\n",
              "             ('Buena Vista Intl', 2),\n",
              "             ('Buffalo Film Company', 1),\n",
              "             ('Buffalo Gal Pictures', 1),\n",
              "             ('Bulls Eye Entertainment', 1),\n",
              "             ('Bullwinkle Studios', 1),\n",
              "             ('Burg-Knoules', 7),\n",
              "             ('Burn Later', 2),\n",
              "             ('Burr! Productions', 1),\n",
              "             ('Busboy', 1),\n",
              "             ('Busted Shark', 1),\n",
              "             ('Butchers Run Films', 1),\n",
              "             ('By Storm Films', 1),\n",
              "             ('C-2 Pictures', 2),\n",
              "             ('C-Films', 1),\n",
              "             ('C/W Productions', 1),\n",
              "             ('C3 Entertainmnet', 1),\n",
              "             ('C41 Media', 1),\n",
              "             ('CBS Films', 16),\n",
              "             ('CD2 Pictures', 1),\n",
              "             ('CG Films', 1),\n",
              "             ('CJ Entertainment', 2),\n",
              "             ('CL Cinema Line Films Corporation', 1),\n",
              "             ('CN4 Productions', 1),\n",
              "             ('CNACC', 1),\n",
              "             ('CNC', 5),\n",
              "             ('CODEBLACK Entertainment', 1),\n",
              "             ('CRF Productions', 1),\n",
              "             ('CRRAV Nord-Pas de Calais', 1),\n",
              "             ('Cafe Pictures', 1),\n",
              "             ('Calamity Films', 1),\n",
              "             ('Callahan Filmworks', 3),\n",
              "             ('Calvary Pictures', 2),\n",
              "             ('Camelot Pictures', 2),\n",
              "             ('Cameron Mackintosh', 1),\n",
              "             ('Cameron/Pace Group', 1),\n",
              "             ('Camp Greay Productions', 1),\n",
              "             ('Camp Sugar', 1),\n",
              "             ('Camp/Thompson Productions', 1),\n",
              "             ('Campbell Grobman Films', 4),\n",
              "             ('Canadian Broadcasting Corp', 1),\n",
              "             ('Canal Plus', 54),\n",
              "             ('Canana', 1),\n",
              "             ('Caneo Films', 2),\n",
              "             ('Cannell Studios', 2),\n",
              "             ('Cannon International', 1),\n",
              "             ('Cantillon Company', 3),\n",
              "             ('Canton Company', 2),\n",
              "             ('Capcom', 2),\n",
              "             ('Capella', 1),\n",
              "             ('Capitol Christian Distribution', 1),\n",
              "             ('Cappa', 1),\n",
              "             ('Captivate Entertainment', 1),\n",
              "             ('Cara Films', 1),\n",
              "             ('Caracol Television', 1),\n",
              "             ('Caramel Film', 1),\n",
              "             ('Carlo Ponti Production', 1),\n",
              "             ('Carmel Entertainment', 1),\n",
              "             ('Caro-McLeod', 1),\n",
              "             ('Carolco Pictures', 2),\n",
              "             ('Carousel Films', 2),\n",
              "             ('Casa Kafka Pictures', 1),\n",
              "             ('Casey Silver', 1),\n",
              "             ('Castelao Producciones', 1),\n",
              "             ('Castle Rock Entertainment', 35),\n",
              "             ('Cataland Films', 1),\n",
              "             ('Catchplay', 2),\n",
              "             ('Catfish', 1),\n",
              "             ('Causeway Films', 1),\n",
              "             ('Cave 76', 1),\n",
              "             ('Cave 76 ', 1),\n",
              "             ('Caviar', 1),\n",
              "             ('Cayenne Pepper Productions', 1),\n",
              "             ('Cedar Park Entertainment', 1),\n",
              "             ('Celador Films', 3),\n",
              "             ('Celluloid Dreams', 2),\n",
              "             ('Celluloid Nightmares', 1),\n",
              "             ('Central Films', 1),\n",
              "             ('Central Motion Picture Co.', 1),\n",
              "             ('Centre National de la Cinematographie', 2),\n",
              "             ('Centre National du Cinema', 1),\n",
              "             ('Centre National du Cinema et de L Image Animee', 3),\n",
              "             ('Centropolis Entertainment', 13),\n",
              "             ('Chambara Pictures', 1),\n",
              "             ('Changchun Film Studio Group', 1),\n",
              "             ('Channel 4', 1),\n",
              "             ('Channel Four Films', 2),\n",
              "             ('Chaocorp', 2),\n",
              "             ('Chapter 2', 1),\n",
              "             ('Charles B. Wessler Entertainment', 4),\n",
              "             ('Charles H. Schneer Productions', 1),\n",
              "             ('Charles Shyer', 1),\n",
              "             ('Charles Solomon Jr.', 1),\n",
              "             ('Charles Weinstock', 1),\n",
              "             ('Charlotte Huggins', 1),\n",
              "             ('Chartoff Productions', 1),\n",
              "             ('Chartoff Winkler Productions', 6),\n",
              "             ('Chartoff/Hendee', 1),\n",
              "             ('Chase Films', 1),\n",
              "             ('Chernin Entertainment', 20),\n",
              "             ('Cherry Road Films', 1),\n",
              "             ('Chestnut Ridge Productions', 1),\n",
              "             ('Cheyenne Enterprises LLC', 2),\n",
              "             ('Chic Films', 1),\n",
              "             ('Chickie The Cop', 1),\n",
              "             ('Child Hoods', 1),\n",
              "             ('China Dream Film Culture Industry', 1),\n",
              "             ('China Film & TV Capital Alibaba Co. LTD.', 1),\n",
              "             ('China Film Co. LTD', 3),\n",
              "             ('China Film Company', 4),\n",
              "             ('China Film Group', 2),\n",
              "             ('Chislehurst Entertainment', 1),\n",
              "             ('Chockstone Pictures', 3),\n",
              "             ('Chris Meledandri', 6),\n",
              "             ('Chris Morgan Productions', 1),\n",
              "             ('Christina Steinberg', 1),\n",
              "             ('Chromewood', 1),\n",
              "             ('Chrysler', 1),\n",
              "             ('Chu Studios', 1),\n",
              "             ('Chubbco', 1),\n",
              "             ('Chunchu Media', 1),\n",
              "             ('Ciby 2000', 1),\n",
              "             ('Cima Productions', 1),\n",
              "             ('Cindy Cowan Entertainment', 1),\n",
              "             ('Cine B', 1),\n",
              "             ('Cine Canibal', 1),\n",
              "             ('Cine Cinema', 1),\n",
              "             ('Cine Mosaic', 3),\n",
              "             ('Cine Plus', 19),\n",
              "             ('Cine Tamaris', 1),\n",
              "             ('Cineart', 1),\n",
              "             ('Cinebeta', 1),\n",
              "             ('Cinecap 2', 2),\n",
              "             ('Cinecinema', 13),\n",
              "             ('Cinecom', 1),\n",
              "             ('Cinefeel 3', 1),\n",
              "             ('Cineforom', 1),\n",
              "             ('Cineimage 10', 1),\n",
              "             ('Cinelou Films', 4),\n",
              "             ('Cinema Four', 1),\n",
              "             ('Cinema Guild', 1),\n",
              "             ('Cinema Seven Productions', 1),\n",
              "             ('CinemaNX', 1),\n",
              "             ('Cinemage 4', 1),\n",
              "             ('Cinemage 9', 1),\n",
              "             ('Cinemarque Entertainment BV', 1),\n",
              "             ('Cinephile Academy', 1),\n",
              "             ('Cinereach Films', 3),\n",
              "             ('Cinerenta', 2),\n",
              "             ('Cinerenta Medienbeteilgungs KG', 1),\n",
              "             ('Cinergi Pictures Entertainment', 4),\n",
              "             ('Cinesite', 1),\n",
              "             ('Cinetel Films', 1),\n",
              "             ('Cinetic', 2),\n",
              "             ('Circle of Confusion', 2),\n",
              "             ('Cirque du Soleil', 1),\n",
              "             ('Cite Films', 1),\n",
              "             ('City on a Hill Studio', 1),\n",
              "             ('Ciudad Lunar', 1),\n",
              "             ('Claims Conference', 1),\n",
              "             ('Clarius Entertainment', 1),\n",
              "             ('Clark Spencer', 1),\n",
              "             ('Class 5 Films', 1),\n",
              "             ('Classico Productions', 1),\n",
              "             ('Claudeismydog', 1),\n",
              "             ('Clayton Productions', 1),\n",
              "             ('Climax Films', 1),\n",
              "             ('Clinica Estetico', 3),\n",
              "             ('Clockwork Pictures', 1),\n",
              "             ('Closed on Mondays', 1),\n",
              "             ('Closest to the Hole', 10),\n",
              "             ('Cloud Atlas X-Filme Creative Pool Anarchos', 1),\n",
              "             ('Cloud Eight', 1),\n",
              "             ('Cloud Eight  ', 1),\n",
              "             ('Cloudy ', 1),\n",
              "             ('Clubhouse Pictures', 2),\n",
              "             ('Cobalt Media Group', 1),\n",
              "             ('Cobo Fund', 1),\n",
              "             ('Cocktail Productions', 1),\n",
              "             ('Code Entertainment', 1),\n",
              "             ('Code Red', 2),\n",
              "             ('Codeblack Films', 4),\n",
              "             ('Codi SpA', 1),\n",
              "             ('Cofimage 16', 1),\n",
              "             ('Cofinova     ', 1),\n",
              "             ('Cofinova 1 ', 1),\n",
              "             ('Cofinova 10', 1),\n",
              "             ('Cofinova 13', 1),\n",
              "             ('Cofinova 6', 2),\n",
              "             ('Cofinova 7', 1),\n",
              "             ('Cogeco Program Development Fund', 1),\n",
              "             ('Cohen Media Group', 5),\n",
              "             ('Cold Iron Pictures', 5),\n",
              "             ('Cold Springs Pictures', 4),\n",
              "             ('Collective', 1),\n",
              "             ('Color Force', 12),\n",
              "             ('Columbia Pictures', 222),\n",
              "             ('Columbus 81 Productions', 1),\n",
              "             ('Compagnie Cinematographer Europeenne', 1),\n",
              "             ('Company Films', 2),\n",
              "             ('Conan Properties International', 1),\n",
              "             ('Conde Nast', 2),\n",
              "             ('Conman & Izzy', 1),\n",
              "             ('Conspiracy Factory', 1),\n",
              "             ('Constance Marks Productions', 1),\n",
              "             ('Constantin Film', 16),\n",
              "             ('Constantin Film International', 1),\n",
              "             ('Constellation', 1),\n",
              "             ('Content Film', 1),\n",
              "             ('Contrafilm', 9),\n",
              "             ('Conundrum Entertainment', 3),\n",
              "             ('Cooper Layne', 1),\n",
              "             ('Coopers Town Productions', 1),\n",
              "             ('Copag V', 1),\n",
              "             ('Copperheart Entertainment', 1),\n",
              "             ('Coppola Company', 1),\n",
              "             ('Cor Cordium Productions', 1),\n",
              "             ('Coracao da Selva', 1),\n",
              "             ('Coram Deo Studios', 1),\n",
              "             ('Corduroy Films', 1),\n",
              "             ('Corner Store Entertainment', 2),\n",
              "             ('Corrino', 1),\n",
              "             ('Corsan', 1),\n",
              "             ('Corus Entertainment', 1),\n",
              "             ('Corvus Corax Productions', 1),\n",
              "             ('Cott Productions', 1),\n",
              "             ('Cott Productions    ', 1),\n",
              "             ('Cottage Industries', 1),\n",
              "             ('Cougar Films', 1),\n",
              "             ('Court 13', 1),\n",
              "             ('Cowboy Films', 1),\n",
              "             ('Crave Films', 4),\n",
              "             ('Craven', 4),\n",
              "             ('Cre Films', 1),\n",
              "             ('Creative Andina', 1),\n",
              "             ('Creative Scotland', 3),\n",
              "             ('Creative Wealth Media Finance', 3),\n",
              "             ('Crescendo Productions', 2),\n",
              "             ('Crest Animation', 1),\n",
              "             ('Cristal Pictures', 1),\n",
              "             ('Crosby Films', 1),\n",
              "             ('Cross Creek Pictures', 15),\n",
              "             ('Cross Street Films', 1),\n",
              "             ('CrossDay Productions', 1),\n",
              "             ('Crown Vic Productions', 1),\n",
              "             ('Crucial Films', 1),\n",
              "             ('Cruel and Unusual Films', 6),\n",
              "             ('Cruise-Wagner', 7),\n",
              "             ('Crunk Pictures', 1),\n",
              "             ('Crystal Sky Pictures', 2),\n",
              "             ('Cuatro Plus Films', 1),\n",
              "             ('Cube Vision', 7),\n",
              "             ('Cubevision', 1),\n",
              "             ('Cunningham', 1),\n",
              "             ('Curious Films', 1),\n",
              "             ('Curiously Bright Entertainment', 1),\n",
              "             ('Current Entertainment', 4),\n",
              "             ('Curtis Hanson', 1),\n",
              "             ('Curtis-Donen Productions', 1),\n",
              "             ('Czech Sirena Film', 1),\n",
              "             ('DAR Motion Pictures', 1),\n",
              "             ('DB Entertainment', 1),\n",
              "             ('DC Films', 2),\n",
              "             ('DCM Productions', 1),\n",
              "             ('DDY', 2),\n",
              "             ('DEJ Productions', 2),\n",
              "             ('DFFF', 1),\n",
              "             ('DFI', 1),\n",
              "             ('DHX Media', 1),\n",
              "             ('DIG Audio', 1),\n",
              "             ('DJ Films', 1),\n",
              "             ('DMC Film', 2),\n",
              "             ('DMG Entertainment', 7),\n",
              "             ('DNA Films', 12),\n",
              "             ('DNP Studios', 1),\n",
              "             ('DR', 3),\n",
              "             ('DRO Entertainment', 1),\n",
              "             ('DW Studios', 1),\n",
              "             ('DY Media Partners', 1),\n",
              "             ('DZE', 1),\n",
              "             ('Dada Films', 1),\n",
              "             ('Dadi Film Production', 1),\n",
              "             ('Dago Garcia', 1),\n",
              "             ('Dahlstar LLC', 1),\n",
              "             ('Dama Filmes', 1),\n",
              "             ('Dan Films', 1),\n",
              "             ('Dancing Girl', 1),\n",
              "             ('Daniel Bobker', 1),\n",
              "             ('Danish Broadcasting Corporation', 1),\n",
              "             ('Danish Film Institute', 2),\n",
              "             ('Danny the Dog Ltd', 1),\n",
              "             ('Dark Arts', 2),\n",
              "             ('Dark Castle Entertainment', 15),\n",
              "             ('Dark Harbor Stories', 2),\n",
              "             ('Dark Horse Entertainment', 5),\n",
              "             ('Dark Sky Films', 2),\n",
              "             ('Dark Trick Films', 1),\n",
              "             ('Darko Entertainment', 2),\n",
              "             ('Darkwoods', 2),\n",
              "             ('Darlow Smithson', 1),\n",
              "             ('Darren Star', 2),\n",
              "             ('Daryl Prince Productions', 1),\n",
              "             ('David Brown', 6),\n",
              "             ('David Entertainment Company', 2),\n",
              "             ('David Foster', 2),\n",
              "             ('David Hoberman', 1),\n",
              "             ('David Kirschner', 1),\n",
              "             ('David Kirschner Productions', 2),\n",
              "             ('David Ladd Films', 1),\n",
              "             ('David M. Matthews Film', 1),\n",
              "             ('David O. Sacks', 1),\n",
              "             ('David Permut', 2),\n",
              "             ('David T. Friendly', 1),\n",
              "             ('Davis Entertainment', 36),\n",
              "             ('Davis Films', 6),\n",
              "             ('Dawn Parouse', 1),\n",
              "             ('DayDay Films', 3),\n",
              "             ('Daybreak Pictures', 1),\n",
              "             ('De Fina', 1),\n",
              "             ('De La Revolucion Films', 1),\n",
              "             ('De Line Pictures', 11),\n",
              "             ('De Milo', 1),\n",
              "             ('Dean River', 1),\n",
              "             ('Deborah Schindler Productions', 1),\n",
              "             ('Debra Hill Productions', 1),\n",
              "             ('Debra Martin Chase', 3),\n",
              "             ('Decca', 1),\n",
              "             ('Decibel Films', 4),\n",
              "             ('Deep Blue', 1),\n",
              "             ('Deep Blue Pictures', 1),\n",
              "             ('Deep River Films', 2),\n",
              "             ('Deep Underground Films', 1),\n",
              "             ('Deepak Nayar', 2),\n",
              "             ('Defender Films', 2),\n",
              "             ('Defiant Pictures', 1),\n",
              "             ('Defynite Films', 1),\n",
              "             ('Degeto Film', 1),\n",
              "             ('Delante Films', 1),\n",
              "             ('Delirio Films', 1),\n",
              "             ('Delux Productions', 1),\n",
              "             ('Deluxe Entertainment Services Group', 1),\n",
              "             ('Demarest Films', 9),\n",
              "             ('Dentsu Inc.', 13),\n",
              "             ('Dentsu Music and Entertainment', 1),\n",
              "             ('Denver & Delilah Films', 4),\n",
              "             ('Deon Taylor Enterprises', 2),\n",
              "             ('Department de la Charente', 1),\n",
              "             ('Department of Motion Pictures', 1),\n",
              "             ('Depth Entertainment', 1),\n",
              "             ('Depth of Field', 6),\n",
              "             ('Desert Wolf Productions', 1),\n",
              "             ('Destination Films', 3),\n",
              "             ('Destro Films', 1),\n",
              "             ('Detailfilm', 1),\n",
              "             ('Detective Agency', 1),\n",
              "             ('Detour Filmproduction', 4),\n",
              "             ('Detroit Pictures', 1),\n",
              "             ('Deuce Three Productions', 2),\n",
              "             ('Deux Chevaux', 1),\n",
              "             ('Dharma Productions', 2),\n",
              "             ('Di Novi Pictures', 12),\n",
              "             ('Diablo Entertainment', 1),\n",
              "             ('Diamond Film Productions', 2),\n",
              "             ('Diaphana', 3),\n",
              "             ('Dickhouse', 4),\n",
              "             ('Digiodreams Studios', 1),\n",
              "             ('Digital Anvil', 1),\n",
              "             ('Digital Domain', 2),\n",
              "             ('Digital Filmz International', 1),\n",
              "             ('Dimension Films', 26),\n",
              "             ('Dino De Laurentiis', 5),\n",
              "             ('Dippermouth', 1),\n",
              "             ('Direct Management Group', 1),\n",
              "             ('Direzione Generale Cinema', 1),\n",
              "             ('Dirty Films', 2),\n",
              "             ('Dirty Hands', 1),\n",
              "             ('Discovery Films', 1),\n",
              "             ('Discovery Productions', 1),\n",
              "             ('Disney Nature', 2),\n",
              "             ('Disney-Pixar', 23),\n",
              "             ('DisneyToon Studios', 2),\n",
              "             ('Disruption Pictures', 2),\n",
              "             ('Divide/Conquer', 2),\n",
              "             ('Django Films', 1),\n",
              "             ('Do Productions', 1),\n",
              "             ('Dog Eat Dog', 2),\n",
              "             ('Dog Pond', 1),\n",
              "             ('Dogfish Pictures', 1),\n",
              "             ('Dolphins Films', 1),\n",
              "             ('Don Murphy', 2),\n",
              "             ('Don Simpson', 6),\n",
              "             ('Don Simpson and Jerry Bruckheimer', 1),\n",
              "             ('Donners’ Company', 16),\n",
              "             ('Dos Corazones', 1),\n",
              "             ('Dot Dot Dot Productions', 1),\n",
              "             ('Double Dare You', 4),\n",
              "             ('Double Dream', 1),\n",
              "             ('Double Edge Entertainment', 1),\n",
              "             ('Double Feature Films', 10),\n",
              "             ('Double Guess', 1),\n",
              "             ('Double Negative Films', 1),\n",
              "             ('Double Nickel Entertainment', 1),\n",
              "             ('DoubleYou', 1),\n",
              "             ('Douglas Wick', 3),\n",
              "             ('Douglas/Reuther', 2),\n",
              "             ('Dovemead Ltd.', 1),\n",
              "             ('Down Prods', 1),\n",
              "             ('Downes Brothers Productions', 1),\n",
              "             ('Dox Productions', 1),\n",
              "             ('Draco Films', 1),\n",
              "             ('Dragon Root', 1),\n",
              "             ('Dragonfly Entertainment', 2),\n",
              "             ('Dragonfly Pictures', 1),\n",
              "             ('Dream Factory Group', 1),\n",
              "             ('Dream Sky Pictures', 1),\n",
              "             ('DreamWorks Animation', 40),\n",
              "             ('DreamWorks Pictures', 76),\n",
              "             ('DreamWorks SKG', 2),\n",
              "             ('Dreamagine Entertainment', 1),\n",
              "             ('Dreambridge Films', 1),\n",
              "             ('Dreamline Pictures LLC', 1),\n",
              "             ('Dreams Salon Entertainment Culture', 1),\n",
              "             ('Dreamworks LLC', 3),\n",
              "             ('Dror Moreh Productions', 1),\n",
              "             ('Dubiecki', 1),\n",
              "             ('Dugan Entertainment', 1),\n",
              "             ('Duly Noted', 1),\n",
              "             ('Duncan Henderson Productions', 1),\n",
              "             ('Dune Entertainment', 68),\n",
              "             ('Dune Vision', 1),\n",
              "             ('Duperele Films', 1),\n",
              "             ('Duplass Brothers', 3),\n",
              "             ('Dylan Clark Productions', 1),\n",
              "             ('D’Souza Media', 1),\n",
              "             ('E Stars Distribution', 1),\n",
              "             ('EFF-Hedge Fund Films', 1),\n",
              "             ('EFO Films', 1),\n",
              "             ('EFTI', 1),\n",
              "             ('EM Media', 7),\n",
              "             ('EMA Films', 1),\n",
              "             ('EMC Produktion', 1),\n",
              "             ('EMI', 1),\n",
              "             ('EMI Films', 2),\n",
              "             ('EMI Music North America', 1),\n",
              "             ('EMedia Films   ', 1),\n",
              "             ('EON Enterprises', 1),\n",
              "             ('ESPN Films', 1),\n",
              "             ('ETIC Films', 1),\n",
              "             ('Ealing Studios', 4),\n",
              "             ('East Light Film', 1),\n",
              "             ('Easy There Tiger', 1),\n",
              "             ('Ecelectic Pictures', 1),\n",
              "             ('Echo Films', 1),\n",
              "             ('Echo Lake Entertainment', 2),\n",
              "             ('Echolight Studios', 1),\n",
              "             ('Eclipse Films', 1),\n",
              "             ('Ecosse Films', 4),\n",
              "             ('Eddie Murphy Production', 4),\n",
              "             ('Eden Rock Media', 2),\n",
              "             ('Edge City', 1),\n",
              "             ('Edition Video', 1),\n",
              "             ('Edko Films', 2),\n",
              "             ('Edmonds Entertainment', 1),\n",
              "             ('Edward R. Pressman', 3),\n",
              "             ('Ego Film Arts', 1),\n",
              "             ('Egoli Tossell Film', 2),\n",
              "             ('Ehud Bleiberg', 1),\n",
              "             ('Eidos Interactive', 2),\n",
              "             ('Eighty Two Films', 1),\n",
              "             ('El Deseo', 2),\n",
              "             ('El Dorado Pictures', 1),\n",
              "             ('Electric City Entertainment', 5),\n",
              "             ('Electric Dynamite', 1),\n",
              "             ('Electric Entertainment', 4),\n",
              "             ('Electric Eye Entertainment', 1),\n",
              "             ('Electric Pictures ', 1),\n",
              "             ('Electric Republic', 1),\n",
              "             ('Electric Shadow Company', 1),\n",
              "             ('Electric Shepherd', 1),\n",
              "             ('Electric Somewhere', 1),\n",
              "             ...])"
            ]
          },
          "execution_count": 707,
          "metadata": {},
          "output_type": "execute_result"
        }
      ],
      "source": [
        "data = []\n",
        "\n",
        "df['ProductionCompanies_split'] = df['ProductionCompanies'].str.split(', ')\n",
        "\n",
        "for i in df['ProductionCompanies_split']:\n",
        "  if isinstance(i, list):\n",
        "    data += i\n",
        "\n",
        "d = OrderedDict(sorted(collections.Counter(data).items()))\n",
        "d"
      ]
    },
    {
      "cell_type": "code",
      "execution_count": 708,
      "metadata": {
        "id": "6SOwdNK2MS5X"
      },
      "outputs": [],
      "source": [
        "del df['ProductionCompanies_split']\n",
        "del df['ProductionCompanies']"
      ]
    },
    {
      "cell_type": "markdown",
      "metadata": {
        "id": "K_rM738UUlcY"
      },
      "source": [
        "#### ProductionCountries"
      ]
    },
    {
      "cell_type": "code",
      "execution_count": 709,
      "metadata": {
        "colab": {
          "base_uri": "https://localhost:8080/"
        },
        "id": "9q3pBtYMJESo",
        "outputId": "1e8f7db0-00b2-46b7-e3bc-79acb9cb9076"
      },
      "outputs": [
        {
          "data": {
            "text/plain": [
              "United States                                   3908\n",
              "United Kingdom                                   174\n",
              "United Kingdom, United States                    168\n",
              "France                                            70\n",
              "Canada, United States                             50\n",
              "                                                ... \n",
              "Costa Rica, United States                          1\n",
              "Australia, China, Germany                          1\n",
              "Canada, Czech Republic, France                     1\n",
              "Czech Republic, France, Germany                    1\n",
              "Islamic Republic of Iran, Italy, Switzerland       1\n",
              "Name: ProductionCountries, Length: 292, dtype: int64"
            ]
          },
          "execution_count": 709,
          "metadata": {},
          "output_type": "execute_result"
        }
      ],
      "source": [
        "df['ProductionCountries'].value_counts()"
      ]
    },
    {
      "cell_type": "code",
      "execution_count": 710,
      "metadata": {
        "colab": {
          "base_uri": "https://localhost:8080/"
        },
        "id": "KCrxMBupUNAk",
        "outputId": "48c283f8-8b71-420c-c08e-473ef6c7ea14"
      },
      "outputs": [
        {
          "data": {
            "text/plain": [
              "[('United States', 4483),\n",
              " ('United Kingdom', 508),\n",
              " ('France', 243),\n",
              " ('Germany', 151),\n",
              " ('Canada', 146)]"
            ]
          },
          "execution_count": 710,
          "metadata": {},
          "output_type": "execute_result"
        }
      ],
      "source": [
        "data = []\n",
        "\n",
        "df['ProductionCountries_split'] = df['ProductionCountries'].str.split(', ')\n",
        "\n",
        "for i in df['ProductionCountries_split']:\n",
        "  if isinstance(i, list):\n",
        "    data += i\n",
        "\n",
        "del df['ProductionCountries_split']\n",
        "sorted(collections.Counter(data).items(), key=lambda item: item[1], reverse = True)[:5]"
      ]
    },
    {
      "cell_type": "code",
      "execution_count": 711,
      "metadata": {
        "colab": {
          "base_uri": "https://localhost:8080/"
        },
        "id": "tAslpGAbTuPL",
        "outputId": "0954b3e1-09ef-4200-d3e7-aa1f81414d7c"
      },
      "outputs": [
        {
          "data": {
            "text/plain": [
              "United States     3908\n",
              "Others            1524\n",
              "United Kingdom     174\n",
              "Name: ProductionCountries, dtype: int64"
            ]
          },
          "execution_count": 711,
          "metadata": {},
          "output_type": "execute_result"
        }
      ],
      "source": [
        "df['ProductionCountries'].fillna('Others', inplace=True)\n",
        "df['ProductionCountries'] = df['ProductionCountries'].transform(lambda x: 'Others' if str(x) not in ['United States', 'United Kingdom'] else x)\n",
        "df['ProductionCountries'].value_counts()"
      ]
    },
    {
      "cell_type": "markdown",
      "metadata": {
        "id": "W0E_uKIAUnpT"
      },
      "source": [
        "#### Languages"
      ]
    },
    {
      "cell_type": "code",
      "execution_count": 712,
      "metadata": {
        "colab": {
          "base_uri": "https://localhost:8080/"
        },
        "id": "Uo0g7ZW2JI0t",
        "outputId": "b5b75288-ee8d-41e4-b126-7549a258a6a8"
      },
      "outputs": [
        {
          "data": {
            "text/plain": [
              "English                                                                   4060\n",
              "English, Spanish                                                            61\n",
              "French                                                                      46\n",
              "English, French                                                             39\n",
              "Spanish                                                                     21\n",
              "                                                                          ... \n",
              "Mandarin, Mongolian                                                          1\n",
              "Arabic, English, German                                                      1\n",
              "Arabic, English, French, German, Hungarian, Japanese, Russian, Spanish       1\n",
              "English, German, Mandarin, Tibetan                                           1\n",
              "Tamil                                                                        1\n",
              "Name: Languages, Length: 228, dtype: int64"
            ]
          },
          "execution_count": 712,
          "metadata": {},
          "output_type": "execute_result"
        }
      ],
      "source": [
        "df['Languages'].value_counts()"
      ]
    },
    {
      "cell_type": "code",
      "execution_count": 713,
      "metadata": {
        "colab": {
          "base_uri": "https://localhost:8080/"
        },
        "id": "QUg6tYVRUX0N",
        "outputId": "b0d9c142-d1aa-4dd4-db24-4d881934aec1"
      },
      "outputs": [
        {
          "data": {
            "text/plain": [
              "[('English', 4465),\n",
              " ('French', 164),\n",
              " ('Spanish', 126),\n",
              " ('German', 74),\n",
              " ('Japanese', 52)]"
            ]
          },
          "execution_count": 713,
          "metadata": {},
          "output_type": "execute_result"
        }
      ],
      "source": [
        "data = []\n",
        "\n",
        "df['Languages_split'] = df['Languages'].str.split(', ')\n",
        "\n",
        "for i in df['Languages_split']:\n",
        "  if isinstance(i, list):\n",
        "    data += i\n",
        "\n",
        "del df['Languages_split']\n",
        "sorted(collections.Counter(data).items(), key=lambda item: item[1], reverse = True)[:5]"
      ]
    },
    {
      "cell_type": "code",
      "execution_count": 714,
      "metadata": {
        "colab": {
          "base_uri": "https://localhost:8080/"
        },
        "id": "X13Z1qEjTF0f",
        "outputId": "a08db6b2-6b47-468a-87d1-31fac07f9c57"
      },
      "outputs": [
        {
          "data": {
            "text/plain": [
              "English    4459\n",
              "Others     1147\n",
              "Name: Languages, dtype: int64"
            ]
          },
          "execution_count": 714,
          "metadata": {},
          "output_type": "execute_result"
        }
      ],
      "source": [
        "df['Languages'].fillna('Others', inplace=True)\n",
        "df['Languages'] = df['Languages'].transform(lambda x: 'English' if 'English' in str(x).split(', ') else 'Others')\n",
        "df['Languages'].value_counts()"
      ]
    },
    {
      "cell_type": "code",
      "execution_count": 715,
      "metadata": {
        "colab": {
          "base_uri": "https://localhost:8080/"
        },
        "id": "JY-kvYReG-Cp",
        "outputId": "010e4f23-6efe-4b83-eeb6-d40602b18186"
      },
      "outputs": [
        {
          "data": {
            "text/plain": [
              "ReleaseDate            0\n",
              "Movie                  0\n",
              "Source                 0\n",
              "Genre                  0\n",
              "ProductionMethod       0\n",
              "CreativeType           0\n",
              "ProductionCountries    0\n",
              "Languages              0\n",
              "ProductionBudget       0\n",
              "DomesticGross          0\n",
              "WorldwideGross         0\n",
              "RunningTime            0\n",
              "dtype: int64"
            ]
          },
          "execution_count": 715,
          "metadata": {},
          "output_type": "execute_result"
        }
      ],
      "source": [
        "df.isnull().sum()"
      ]
    },
    {
      "cell_type": "markdown",
      "metadata": {},
      "source": [
        "### Export to clean-data.csv"
      ]
    },
    {
      "cell_type": "code",
      "execution_count": 716,
      "metadata": {},
      "outputs": [],
      "source": [
        "df.to_csv('clean-data.csv')"
      ]
    },
    {
      "cell_type": "markdown",
      "metadata": {},
      "source": [
        "### Encode"
      ]
    },
    {
      "cell_type": "code",
      "execution_count": 717,
      "metadata": {},
      "outputs": [],
      "source": [
        "df = df.drop(columns=['Movie', 'DomesticGross'])\n",
        "df = pd.get_dummies(df)"
      ]
    },
    {
      "cell_type": "markdown",
      "metadata": {
        "id": "zgta6q56mQLe"
      },
      "source": [
        "### split train and test"
      ]
    },
    {
      "cell_type": "code",
      "execution_count": 718,
      "metadata": {
        "colab": {
          "base_uri": "https://localhost:8080/",
          "height": 206
        },
        "id": "dq5wFgo2pjsp",
        "outputId": "a8992d73-afd9-412a-9c55-cede151eccbe"
      },
      "outputs": [
        {
          "data": {
            "text/html": [
              "<div>\n",
              "<style scoped>\n",
              "    .dataframe tbody tr th:only-of-type {\n",
              "        vertical-align: middle;\n",
              "    }\n",
              "\n",
              "    .dataframe tbody tr th {\n",
              "        vertical-align: top;\n",
              "    }\n",
              "\n",
              "    .dataframe thead th {\n",
              "        text-align: right;\n",
              "    }\n",
              "</style>\n",
              "<table border=\"1\" class=\"dataframe\">\n",
              "  <thead>\n",
              "    <tr style=\"text-align: right;\">\n",
              "      <th></th>\n",
              "      <th>ReleaseDate</th>\n",
              "      <th>ProductionBudget</th>\n",
              "      <th>WorldwideGross</th>\n",
              "      <th>RunningTime</th>\n",
              "      <th>Source_Fiction Book/Short Story</th>\n",
              "      <th>Source_Original Screenplay</th>\n",
              "      <th>Source_Others</th>\n",
              "      <th>Source_Real Life Events</th>\n",
              "      <th>Genre_Action</th>\n",
              "      <th>Genre_Adventure</th>\n",
              "      <th>...</th>\n",
              "      <th>CreativeType_Contemporary Fiction</th>\n",
              "      <th>CreativeType_Dramatization</th>\n",
              "      <th>CreativeType_Historical Fiction</th>\n",
              "      <th>CreativeType_Others</th>\n",
              "      <th>CreativeType_Science Fiction</th>\n",
              "      <th>ProductionCountries_Others</th>\n",
              "      <th>ProductionCountries_United Kingdom</th>\n",
              "      <th>ProductionCountries_United States</th>\n",
              "      <th>Languages_English</th>\n",
              "      <th>Languages_Others</th>\n",
              "    </tr>\n",
              "  </thead>\n",
              "  <tbody>\n",
              "    <tr>\n",
              "      <th>0</th>\n",
              "      <td>2019.0</td>\n",
              "      <td>400000000</td>\n",
              "      <td>2.797801e+09</td>\n",
              "      <td>181.0</td>\n",
              "      <td>0</td>\n",
              "      <td>0</td>\n",
              "      <td>1</td>\n",
              "      <td>0</td>\n",
              "      <td>1</td>\n",
              "      <td>0</td>\n",
              "      <td>...</td>\n",
              "      <td>0</td>\n",
              "      <td>0</td>\n",
              "      <td>0</td>\n",
              "      <td>1</td>\n",
              "      <td>0</td>\n",
              "      <td>0</td>\n",
              "      <td>0</td>\n",
              "      <td>1</td>\n",
              "      <td>1</td>\n",
              "      <td>0</td>\n",
              "    </tr>\n",
              "    <tr>\n",
              "      <th>1</th>\n",
              "      <td>2011.0</td>\n",
              "      <td>379000000</td>\n",
              "      <td>1.045714e+09</td>\n",
              "      <td>136.0</td>\n",
              "      <td>0</td>\n",
              "      <td>0</td>\n",
              "      <td>1</td>\n",
              "      <td>0</td>\n",
              "      <td>0</td>\n",
              "      <td>1</td>\n",
              "      <td>...</td>\n",
              "      <td>0</td>\n",
              "      <td>0</td>\n",
              "      <td>1</td>\n",
              "      <td>0</td>\n",
              "      <td>0</td>\n",
              "      <td>0</td>\n",
              "      <td>0</td>\n",
              "      <td>1</td>\n",
              "      <td>1</td>\n",
              "      <td>0</td>\n",
              "    </tr>\n",
              "    <tr>\n",
              "      <th>2</th>\n",
              "      <td>2015.0</td>\n",
              "      <td>365000000</td>\n",
              "      <td>1.395317e+09</td>\n",
              "      <td>141.0</td>\n",
              "      <td>0</td>\n",
              "      <td>0</td>\n",
              "      <td>1</td>\n",
              "      <td>0</td>\n",
              "      <td>1</td>\n",
              "      <td>0</td>\n",
              "      <td>...</td>\n",
              "      <td>0</td>\n",
              "      <td>0</td>\n",
              "      <td>0</td>\n",
              "      <td>1</td>\n",
              "      <td>0</td>\n",
              "      <td>0</td>\n",
              "      <td>0</td>\n",
              "      <td>1</td>\n",
              "      <td>1</td>\n",
              "      <td>0</td>\n",
              "    </tr>\n",
              "    <tr>\n",
              "      <th>3</th>\n",
              "      <td>2015.0</td>\n",
              "      <td>306000000</td>\n",
              "      <td>2.064616e+09</td>\n",
              "      <td>136.0</td>\n",
              "      <td>0</td>\n",
              "      <td>1</td>\n",
              "      <td>0</td>\n",
              "      <td>0</td>\n",
              "      <td>0</td>\n",
              "      <td>1</td>\n",
              "      <td>...</td>\n",
              "      <td>0</td>\n",
              "      <td>0</td>\n",
              "      <td>0</td>\n",
              "      <td>0</td>\n",
              "      <td>1</td>\n",
              "      <td>0</td>\n",
              "      <td>0</td>\n",
              "      <td>1</td>\n",
              "      <td>1</td>\n",
              "      <td>0</td>\n",
              "    </tr>\n",
              "    <tr>\n",
              "      <th>4</th>\n",
              "      <td>2018.0</td>\n",
              "      <td>300000000</td>\n",
              "      <td>2.048360e+09</td>\n",
              "      <td>156.0</td>\n",
              "      <td>0</td>\n",
              "      <td>0</td>\n",
              "      <td>1</td>\n",
              "      <td>0</td>\n",
              "      <td>1</td>\n",
              "      <td>0</td>\n",
              "      <td>...</td>\n",
              "      <td>0</td>\n",
              "      <td>0</td>\n",
              "      <td>0</td>\n",
              "      <td>1</td>\n",
              "      <td>0</td>\n",
              "      <td>0</td>\n",
              "      <td>0</td>\n",
              "      <td>1</td>\n",
              "      <td>1</td>\n",
              "      <td>0</td>\n",
              "    </tr>\n",
              "    <tr>\n",
              "      <th>5</th>\n",
              "      <td>2007.0</td>\n",
              "      <td>300000000</td>\n",
              "      <td>9.609965e+08</td>\n",
              "      <td>167.0</td>\n",
              "      <td>0</td>\n",
              "      <td>0</td>\n",
              "      <td>1</td>\n",
              "      <td>0</td>\n",
              "      <td>0</td>\n",
              "      <td>1</td>\n",
              "      <td>...</td>\n",
              "      <td>0</td>\n",
              "      <td>0</td>\n",
              "      <td>1</td>\n",
              "      <td>0</td>\n",
              "      <td>0</td>\n",
              "      <td>0</td>\n",
              "      <td>0</td>\n",
              "      <td>1</td>\n",
              "      <td>1</td>\n",
              "      <td>0</td>\n",
              "    </tr>\n",
              "    <tr>\n",
              "      <th>6</th>\n",
              "      <td>2017.0</td>\n",
              "      <td>300000000</td>\n",
              "      <td>6.559452e+08</td>\n",
              "      <td>121.0</td>\n",
              "      <td>0</td>\n",
              "      <td>0</td>\n",
              "      <td>1</td>\n",
              "      <td>0</td>\n",
              "      <td>1</td>\n",
              "      <td>0</td>\n",
              "      <td>...</td>\n",
              "      <td>0</td>\n",
              "      <td>0</td>\n",
              "      <td>0</td>\n",
              "      <td>1</td>\n",
              "      <td>0</td>\n",
              "      <td>0</td>\n",
              "      <td>0</td>\n",
              "      <td>1</td>\n",
              "      <td>1</td>\n",
              "      <td>0</td>\n",
              "    </tr>\n",
              "    <tr>\n",
              "      <th>7</th>\n",
              "      <td>2015.0</td>\n",
              "      <td>300000000</td>\n",
              "      <td>8.795008e+08</td>\n",
              "      <td>148.0</td>\n",
              "      <td>1</td>\n",
              "      <td>0</td>\n",
              "      <td>0</td>\n",
              "      <td>0</td>\n",
              "      <td>1</td>\n",
              "      <td>0</td>\n",
              "      <td>...</td>\n",
              "      <td>1</td>\n",
              "      <td>0</td>\n",
              "      <td>0</td>\n",
              "      <td>0</td>\n",
              "      <td>0</td>\n",
              "      <td>1</td>\n",
              "      <td>0</td>\n",
              "      <td>0</td>\n",
              "      <td>1</td>\n",
              "      <td>0</td>\n",
              "    </tr>\n",
              "    <tr>\n",
              "      <th>9</th>\n",
              "      <td>2019.0</td>\n",
              "      <td>275000000</td>\n",
              "      <td>1.072848e+09</td>\n",
              "      <td>142.0</td>\n",
              "      <td>0</td>\n",
              "      <td>1</td>\n",
              "      <td>0</td>\n",
              "      <td>0</td>\n",
              "      <td>0</td>\n",
              "      <td>1</td>\n",
              "      <td>...</td>\n",
              "      <td>0</td>\n",
              "      <td>0</td>\n",
              "      <td>0</td>\n",
              "      <td>0</td>\n",
              "      <td>1</td>\n",
              "      <td>0</td>\n",
              "      <td>0</td>\n",
              "      <td>1</td>\n",
              "      <td>1</td>\n",
              "      <td>0</td>\n",
              "    </tr>\n",
              "    <tr>\n",
              "      <th>10</th>\n",
              "      <td>2018.0</td>\n",
              "      <td>275000000</td>\n",
              "      <td>3.931513e+08</td>\n",
              "      <td>135.0</td>\n",
              "      <td>0</td>\n",
              "      <td>0</td>\n",
              "      <td>1</td>\n",
              "      <td>0</td>\n",
              "      <td>0</td>\n",
              "      <td>1</td>\n",
              "      <td>...</td>\n",
              "      <td>0</td>\n",
              "      <td>0</td>\n",
              "      <td>0</td>\n",
              "      <td>0</td>\n",
              "      <td>1</td>\n",
              "      <td>0</td>\n",
              "      <td>0</td>\n",
              "      <td>1</td>\n",
              "      <td>1</td>\n",
              "      <td>0</td>\n",
              "    </tr>\n",
              "    <tr>\n",
              "      <th>11</th>\n",
              "      <td>2012.0</td>\n",
              "      <td>263700000</td>\n",
              "      <td>2.827781e+08</td>\n",
              "      <td>132.0</td>\n",
              "      <td>1</td>\n",
              "      <td>0</td>\n",
              "      <td>0</td>\n",
              "      <td>0</td>\n",
              "      <td>0</td>\n",
              "      <td>1</td>\n",
              "      <td>...</td>\n",
              "      <td>0</td>\n",
              "      <td>0</td>\n",
              "      <td>0</td>\n",
              "      <td>0</td>\n",
              "      <td>1</td>\n",
              "      <td>0</td>\n",
              "      <td>0</td>\n",
              "      <td>1</td>\n",
              "      <td>1</td>\n",
              "      <td>0</td>\n",
              "    </tr>\n",
              "    <tr>\n",
              "      <th>12</th>\n",
              "      <td>2016.0</td>\n",
              "      <td>263000000</td>\n",
              "      <td>8.723951e+08</td>\n",
              "      <td>151.0</td>\n",
              "      <td>0</td>\n",
              "      <td>0</td>\n",
              "      <td>1</td>\n",
              "      <td>0</td>\n",
              "      <td>1</td>\n",
              "      <td>0</td>\n",
              "      <td>...</td>\n",
              "      <td>0</td>\n",
              "      <td>0</td>\n",
              "      <td>0</td>\n",
              "      <td>1</td>\n",
              "      <td>0</td>\n",
              "      <td>0</td>\n",
              "      <td>0</td>\n",
              "      <td>1</td>\n",
              "      <td>1</td>\n",
              "      <td>0</td>\n",
              "    </tr>\n",
              "    <tr>\n",
              "      <th>13</th>\n",
              "      <td>2017.0</td>\n",
              "      <td>262000000</td>\n",
              "      <td>1.331635e+09</td>\n",
              "      <td>150.0</td>\n",
              "      <td>0</td>\n",
              "      <td>1</td>\n",
              "      <td>0</td>\n",
              "      <td>0</td>\n",
              "      <td>0</td>\n",
              "      <td>1</td>\n",
              "      <td>...</td>\n",
              "      <td>0</td>\n",
              "      <td>0</td>\n",
              "      <td>0</td>\n",
              "      <td>0</td>\n",
              "      <td>1</td>\n",
              "      <td>0</td>\n",
              "      <td>0</td>\n",
              "      <td>1</td>\n",
              "      <td>1</td>\n",
              "      <td>0</td>\n",
              "    </tr>\n",
              "    <tr>\n",
              "      <th>14</th>\n",
              "      <td>2019.0</td>\n",
              "      <td>260000000</td>\n",
              "      <td>1.651023e+09</td>\n",
              "      <td>118.0</td>\n",
              "      <td>0</td>\n",
              "      <td>0</td>\n",
              "      <td>1</td>\n",
              "      <td>0</td>\n",
              "      <td>0</td>\n",
              "      <td>1</td>\n",
              "      <td>...</td>\n",
              "      <td>0</td>\n",
              "      <td>0</td>\n",
              "      <td>0</td>\n",
              "      <td>1</td>\n",
              "      <td>0</td>\n",
              "      <td>0</td>\n",
              "      <td>0</td>\n",
              "      <td>1</td>\n",
              "      <td>1</td>\n",
              "      <td>0</td>\n",
              "    </tr>\n",
              "    <tr>\n",
              "      <th>15</th>\n",
              "      <td>2010.0</td>\n",
              "      <td>260000000</td>\n",
              "      <td>5.848998e+08</td>\n",
              "      <td>101.0</td>\n",
              "      <td>0</td>\n",
              "      <td>0</td>\n",
              "      <td>1</td>\n",
              "      <td>0</td>\n",
              "      <td>0</td>\n",
              "      <td>0</td>\n",
              "      <td>...</td>\n",
              "      <td>0</td>\n",
              "      <td>0</td>\n",
              "      <td>0</td>\n",
              "      <td>1</td>\n",
              "      <td>0</td>\n",
              "      <td>0</td>\n",
              "      <td>0</td>\n",
              "      <td>1</td>\n",
              "      <td>1</td>\n",
              "      <td>0</td>\n",
              "    </tr>\n",
              "    <tr>\n",
              "      <th>16</th>\n",
              "      <td>2007.0</td>\n",
              "      <td>258000000</td>\n",
              "      <td>8.948602e+08</td>\n",
              "      <td>139.0</td>\n",
              "      <td>0</td>\n",
              "      <td>0</td>\n",
              "      <td>1</td>\n",
              "      <td>0</td>\n",
              "      <td>0</td>\n",
              "      <td>1</td>\n",
              "      <td>...</td>\n",
              "      <td>0</td>\n",
              "      <td>0</td>\n",
              "      <td>0</td>\n",
              "      <td>1</td>\n",
              "      <td>0</td>\n",
              "      <td>0</td>\n",
              "      <td>0</td>\n",
              "      <td>1</td>\n",
              "      <td>1</td>\n",
              "      <td>0</td>\n",
              "    </tr>\n",
              "    <tr>\n",
              "      <th>17</th>\n",
              "      <td>2016.0</td>\n",
              "      <td>250000000</td>\n",
              "      <td>1.151919e+09</td>\n",
              "      <td>146.0</td>\n",
              "      <td>0</td>\n",
              "      <td>0</td>\n",
              "      <td>1</td>\n",
              "      <td>0</td>\n",
              "      <td>1</td>\n",
              "      <td>0</td>\n",
              "      <td>...</td>\n",
              "      <td>0</td>\n",
              "      <td>0</td>\n",
              "      <td>0</td>\n",
              "      <td>1</td>\n",
              "      <td>0</td>\n",
              "      <td>0</td>\n",
              "      <td>0</td>\n",
              "      <td>1</td>\n",
              "      <td>1</td>\n",
              "      <td>0</td>\n",
              "    </tr>\n",
              "    <tr>\n",
              "      <th>18</th>\n",
              "      <td>2009.0</td>\n",
              "      <td>250000000</td>\n",
              "      <td>9.294111e+08</td>\n",
              "      <td>153.0</td>\n",
              "      <td>1</td>\n",
              "      <td>0</td>\n",
              "      <td>0</td>\n",
              "      <td>0</td>\n",
              "      <td>0</td>\n",
              "      <td>1</td>\n",
              "      <td>...</td>\n",
              "      <td>0</td>\n",
              "      <td>0</td>\n",
              "      <td>0</td>\n",
              "      <td>1</td>\n",
              "      <td>0</td>\n",
              "      <td>1</td>\n",
              "      <td>0</td>\n",
              "      <td>0</td>\n",
              "      <td>1</td>\n",
              "      <td>0</td>\n",
              "    </tr>\n",
              "    <tr>\n",
              "      <th>19</th>\n",
              "      <td>2013.0</td>\n",
              "      <td>250000000</td>\n",
              "      <td>9.593584e+08</td>\n",
              "      <td>201.0</td>\n",
              "      <td>1</td>\n",
              "      <td>0</td>\n",
              "      <td>0</td>\n",
              "      <td>0</td>\n",
              "      <td>0</td>\n",
              "      <td>1</td>\n",
              "      <td>...</td>\n",
              "      <td>0</td>\n",
              "      <td>0</td>\n",
              "      <td>0</td>\n",
              "      <td>1</td>\n",
              "      <td>0</td>\n",
              "      <td>1</td>\n",
              "      <td>0</td>\n",
              "      <td>0</td>\n",
              "      <td>1</td>\n",
              "      <td>0</td>\n",
              "    </tr>\n",
              "    <tr>\n",
              "      <th>20</th>\n",
              "      <td>2014.0</td>\n",
              "      <td>250000000</td>\n",
              "      <td>9.403896e+08</td>\n",
              "      <td>144.0</td>\n",
              "      <td>1</td>\n",
              "      <td>0</td>\n",
              "      <td>0</td>\n",
              "      <td>0</td>\n",
              "      <td>0</td>\n",
              "      <td>1</td>\n",
              "      <td>...</td>\n",
              "      <td>0</td>\n",
              "      <td>0</td>\n",
              "      <td>0</td>\n",
              "      <td>1</td>\n",
              "      <td>0</td>\n",
              "      <td>1</td>\n",
              "      <td>0</td>\n",
              "      <td>0</td>\n",
              "      <td>1</td>\n",
              "      <td>0</td>\n",
              "    </tr>\n",
              "  </tbody>\n",
              "</table>\n",
              "<p>20 rows × 27 columns</p>\n",
              "</div>"
            ],
            "text/plain": [
              "    ReleaseDate  ProductionBudget  WorldwideGross  RunningTime  \\\n",
              "0        2019.0         400000000    2.797801e+09        181.0   \n",
              "1        2011.0         379000000    1.045714e+09        136.0   \n",
              "2        2015.0         365000000    1.395317e+09        141.0   \n",
              "3        2015.0         306000000    2.064616e+09        136.0   \n",
              "4        2018.0         300000000    2.048360e+09        156.0   \n",
              "5        2007.0         300000000    9.609965e+08        167.0   \n",
              "6        2017.0         300000000    6.559452e+08        121.0   \n",
              "7        2015.0         300000000    8.795008e+08        148.0   \n",
              "9        2019.0         275000000    1.072848e+09        142.0   \n",
              "10       2018.0         275000000    3.931513e+08        135.0   \n",
              "11       2012.0         263700000    2.827781e+08        132.0   \n",
              "12       2016.0         263000000    8.723951e+08        151.0   \n",
              "13       2017.0         262000000    1.331635e+09        150.0   \n",
              "14       2019.0         260000000    1.651023e+09        118.0   \n",
              "15       2010.0         260000000    5.848998e+08        101.0   \n",
              "16       2007.0         258000000    8.948602e+08        139.0   \n",
              "17       2016.0         250000000    1.151919e+09        146.0   \n",
              "18       2009.0         250000000    9.294111e+08        153.0   \n",
              "19       2013.0         250000000    9.593584e+08        201.0   \n",
              "20       2014.0         250000000    9.403896e+08        144.0   \n",
              "\n",
              "    Source_Fiction Book/Short Story  Source_Original Screenplay  \\\n",
              "0                                 0                           0   \n",
              "1                                 0                           0   \n",
              "2                                 0                           0   \n",
              "3                                 0                           1   \n",
              "4                                 0                           0   \n",
              "5                                 0                           0   \n",
              "6                                 0                           0   \n",
              "7                                 1                           0   \n",
              "9                                 0                           1   \n",
              "10                                0                           0   \n",
              "11                                1                           0   \n",
              "12                                0                           0   \n",
              "13                                0                           1   \n",
              "14                                0                           0   \n",
              "15                                0                           0   \n",
              "16                                0                           0   \n",
              "17                                0                           0   \n",
              "18                                1                           0   \n",
              "19                                1                           0   \n",
              "20                                1                           0   \n",
              "\n",
              "    Source_Others  Source_Real Life Events  Genre_Action  Genre_Adventure  \\\n",
              "0               1                        0             1                0   \n",
              "1               1                        0             0                1   \n",
              "2               1                        0             1                0   \n",
              "3               0                        0             0                1   \n",
              "4               1                        0             1                0   \n",
              "5               1                        0             0                1   \n",
              "6               1                        0             1                0   \n",
              "7               0                        0             1                0   \n",
              "9               0                        0             0                1   \n",
              "10              1                        0             0                1   \n",
              "11              0                        0             0                1   \n",
              "12              1                        0             1                0   \n",
              "13              0                        0             0                1   \n",
              "14              1                        0             0                1   \n",
              "15              1                        0             0                0   \n",
              "16              1                        0             0                1   \n",
              "17              1                        0             1                0   \n",
              "18              0                        0             0                1   \n",
              "19              0                        0             0                1   \n",
              "20              0                        0             0                1   \n",
              "\n",
              "    ...  CreativeType_Contemporary Fiction  CreativeType_Dramatization  \\\n",
              "0   ...                                  0                           0   \n",
              "1   ...                                  0                           0   \n",
              "2   ...                                  0                           0   \n",
              "3   ...                                  0                           0   \n",
              "4   ...                                  0                           0   \n",
              "5   ...                                  0                           0   \n",
              "6   ...                                  0                           0   \n",
              "7   ...                                  1                           0   \n",
              "9   ...                                  0                           0   \n",
              "10  ...                                  0                           0   \n",
              "11  ...                                  0                           0   \n",
              "12  ...                                  0                           0   \n",
              "13  ...                                  0                           0   \n",
              "14  ...                                  0                           0   \n",
              "15  ...                                  0                           0   \n",
              "16  ...                                  0                           0   \n",
              "17  ...                                  0                           0   \n",
              "18  ...                                  0                           0   \n",
              "19  ...                                  0                           0   \n",
              "20  ...                                  0                           0   \n",
              "\n",
              "    CreativeType_Historical Fiction  CreativeType_Others  \\\n",
              "0                                 0                    1   \n",
              "1                                 1                    0   \n",
              "2                                 0                    1   \n",
              "3                                 0                    0   \n",
              "4                                 0                    1   \n",
              "5                                 1                    0   \n",
              "6                                 0                    1   \n",
              "7                                 0                    0   \n",
              "9                                 0                    0   \n",
              "10                                0                    0   \n",
              "11                                0                    0   \n",
              "12                                0                    1   \n",
              "13                                0                    0   \n",
              "14                                0                    1   \n",
              "15                                0                    1   \n",
              "16                                0                    1   \n",
              "17                                0                    1   \n",
              "18                                0                    1   \n",
              "19                                0                    1   \n",
              "20                                0                    1   \n",
              "\n",
              "    CreativeType_Science Fiction  ProductionCountries_Others  \\\n",
              "0                              0                           0   \n",
              "1                              0                           0   \n",
              "2                              0                           0   \n",
              "3                              1                           0   \n",
              "4                              0                           0   \n",
              "5                              0                           0   \n",
              "6                              0                           0   \n",
              "7                              0                           1   \n",
              "9                              1                           0   \n",
              "10                             1                           0   \n",
              "11                             1                           0   \n",
              "12                             0                           0   \n",
              "13                             1                           0   \n",
              "14                             0                           0   \n",
              "15                             0                           0   \n",
              "16                             0                           0   \n",
              "17                             0                           0   \n",
              "18                             0                           1   \n",
              "19                             0                           1   \n",
              "20                             0                           1   \n",
              "\n",
              "    ProductionCountries_United Kingdom  ProductionCountries_United States  \\\n",
              "0                                    0                                  1   \n",
              "1                                    0                                  1   \n",
              "2                                    0                                  1   \n",
              "3                                    0                                  1   \n",
              "4                                    0                                  1   \n",
              "5                                    0                                  1   \n",
              "6                                    0                                  1   \n",
              "7                                    0                                  0   \n",
              "9                                    0                                  1   \n",
              "10                                   0                                  1   \n",
              "11                                   0                                  1   \n",
              "12                                   0                                  1   \n",
              "13                                   0                                  1   \n",
              "14                                   0                                  1   \n",
              "15                                   0                                  1   \n",
              "16                                   0                                  1   \n",
              "17                                   0                                  1   \n",
              "18                                   0                                  0   \n",
              "19                                   0                                  0   \n",
              "20                                   0                                  0   \n",
              "\n",
              "    Languages_English  Languages_Others  \n",
              "0                   1                 0  \n",
              "1                   1                 0  \n",
              "2                   1                 0  \n",
              "3                   1                 0  \n",
              "4                   1                 0  \n",
              "5                   1                 0  \n",
              "6                   1                 0  \n",
              "7                   1                 0  \n",
              "9                   1                 0  \n",
              "10                  1                 0  \n",
              "11                  1                 0  \n",
              "12                  1                 0  \n",
              "13                  1                 0  \n",
              "14                  1                 0  \n",
              "15                  1                 0  \n",
              "16                  1                 0  \n",
              "17                  1                 0  \n",
              "18                  1                 0  \n",
              "19                  1                 0  \n",
              "20                  1                 0  \n",
              "\n",
              "[20 rows x 27 columns]"
            ]
          },
          "execution_count": 718,
          "metadata": {},
          "output_type": "execute_result"
        }
      ],
      "source": [
        "df.head(20)"
      ]
    },
    {
      "cell_type": "code",
      "execution_count": 719,
      "metadata": {
        "colab": {
          "base_uri": "https://localhost:8080/"
        },
        "id": "HsEIzWNhSIX3",
        "outputId": "3bcb45a3-f494-421f-b68f-a39874f5cf8f"
      },
      "outputs": [
        {
          "data": {
            "text/plain": [
              "(5606, 27)"
            ]
          },
          "execution_count": 719,
          "metadata": {},
          "output_type": "execute_result"
        }
      ],
      "source": [
        "df.shape"
      ]
    },
    {
      "cell_type": "code",
      "execution_count": 720,
      "metadata": {
        "id": "GEP8k16RnzcG"
      },
      "outputs": [],
      "source": [
        "df_train, df_test = train_test_split(df, test_size = 0.20, random_state=42)"
      ]
    },
    {
      "cell_type": "markdown",
      "metadata": {
        "id": "MDP1qYTgtrvT"
      },
      "source": [
        "### Ouliers"
      ]
    },
    {
      "cell_type": "code",
      "execution_count": 721,
      "metadata": {
        "colab": {
          "base_uri": "https://localhost:8080/"
        },
        "id": "NlBrNlUDW6wA",
        "outputId": "cde32470-0197-4a05-de56-6babf81addfe"
      },
      "outputs": [
        {
          "name": "stdout",
          "output_type": "stream",
          "text": [
            "<class 'pandas.core.frame.DataFrame'>\n",
            "Int64Index: 4484 entries, 5307 to 887\n",
            "Data columns (total 27 columns):\n",
            " #   Column                              Non-Null Count  Dtype  \n",
            "---  ------                              --------------  -----  \n",
            " 0   ReleaseDate                         4484 non-null   float64\n",
            " 1   ProductionBudget                    4484 non-null   int64  \n",
            " 2   WorldwideGross                      4484 non-null   float64\n",
            " 3   RunningTime                         4484 non-null   float64\n",
            " 4   Source_Fiction Book/Short Story     4484 non-null   uint8  \n",
            " 5   Source_Original Screenplay          4484 non-null   uint8  \n",
            " 6   Source_Others                       4484 non-null   uint8  \n",
            " 7   Source_Real Life Events             4484 non-null   uint8  \n",
            " 8   Genre_Action                        4484 non-null   uint8  \n",
            " 9   Genre_Adventure                     4484 non-null   uint8  \n",
            " 10  Genre_Comedy                        4484 non-null   uint8  \n",
            " 11  Genre_Drama                         4484 non-null   uint8  \n",
            " 12  Genre_Horror                        4484 non-null   uint8  \n",
            " 13  Genre_Others                        4484 non-null   uint8  \n",
            " 14  Genre_Thriller/Suspense             4484 non-null   uint8  \n",
            " 15  ProductionMethod_Live Action        4484 non-null   uint8  \n",
            " 16  ProductionMethod_Others             4484 non-null   uint8  \n",
            " 17  CreativeType_Contemporary Fiction   4484 non-null   uint8  \n",
            " 18  CreativeType_Dramatization          4484 non-null   uint8  \n",
            " 19  CreativeType_Historical Fiction     4484 non-null   uint8  \n",
            " 20  CreativeType_Others                 4484 non-null   uint8  \n",
            " 21  CreativeType_Science Fiction        4484 non-null   uint8  \n",
            " 22  ProductionCountries_Others          4484 non-null   uint8  \n",
            " 23  ProductionCountries_United Kingdom  4484 non-null   uint8  \n",
            " 24  ProductionCountries_United States   4484 non-null   uint8  \n",
            " 25  Languages_English                   4484 non-null   uint8  \n",
            " 26  Languages_Others                    4484 non-null   uint8  \n",
            "dtypes: float64(3), int64(1), uint8(23)\n",
            "memory usage: 275.9 KB\n"
          ]
        }
      ],
      "source": [
        "df_train.info()"
      ]
    },
    {
      "cell_type": "code",
      "execution_count": 722,
      "metadata": {
        "colab": {
          "base_uri": "https://localhost:8080/",
          "height": 356
        },
        "id": "Vpru_9z8ePtZ",
        "outputId": "5411731f-ccdd-4c08-fc87-846deecd927d"
      },
      "outputs": [
        {
          "data": {
            "text/plain": [
              "<AxesSubplot:xlabel='ReleaseDate'>"
            ]
          },
          "execution_count": 722,
          "metadata": {},
          "output_type": "execute_result"
        },
        {
          "data": {
            "image/png": "[encoded data removed]",
            "text/plain": [
              "<Figure size 864x360 with 2 Axes>"
            ]
          },
          "metadata": {},
          "output_type": "display_data"
        }
      ],
      "source": [
        "fig, axes = plt.subplots(nrows=1, ncols=2, figsize=(12, 5))\n",
        "sns.histplot(df_train['ReleaseDate'], bins=50, ax=axes[0])\n",
        "sns.boxplot(data=df_train, x='ReleaseDate', ax=axes[1])"
      ]
    },
    {
      "cell_type": "code",
      "execution_count": 723,
      "metadata": {
        "colab": {
          "base_uri": "https://localhost:8080/",
          "height": 356
        },
        "id": "7rBIBE3cqndy",
        "outputId": "96373c0e-2e98-4a21-e0b0-0f8100260c91"
      },
      "outputs": [
        {
          "data": {
            "text/plain": [
              "<AxesSubplot:xlabel='ProductionBudget'>"
            ]
          },
          "execution_count": 723,
          "metadata": {},
          "output_type": "execute_result"
        },
        {
          "data": {
            "image/png": "[encoded data removed]",
            "text/plain": [
              "<Figure size 864x360 with 2 Axes>"
            ]
          },
          "metadata": {},
          "output_type": "display_data"
        }
      ],
      "source": [
        "fig, axes = plt.subplots(nrows=1, ncols=2, figsize=(12, 5))\n",
        "sns.histplot(df_train['ProductionBudget'], bins=50, ax=axes[0])\n",
        "sns.boxplot(data=df_train, x='ProductionBudget', ax=axes[1])"
      ]
    },
    {
      "cell_type": "code",
      "execution_count": 724,
      "metadata": {
        "id": "eQt8NJkhqryN"
      },
      "outputs": [
        {
          "data": {
            "text/plain": [
              "<AxesSubplot:xlabel='RunningTime'>"
            ]
          },
          "execution_count": 724,
          "metadata": {},
          "output_type": "execute_result"
        },
        {
          "data": {
            "image/png": "[encoded data removed]",
            "text/plain": [
              "<Figure size 864x360 with 2 Axes>"
            ]
          },
          "metadata": {},
          "output_type": "display_data"
        }
      ],
      "source": [
        "fig, axes = plt.subplots(nrows=1, ncols=2, figsize=(12, 5))\n",
        "sns.histplot(df_train['RunningTime'], bins=50, ax=axes[0])\n",
        "sns.boxplot(data=df_train, x='RunningTime', ax=axes[1])"
      ]
    },
    {
      "cell_type": "code",
      "execution_count": 725,
      "metadata": {
        "id": "M7CWzKxrZBNl"
      },
      "outputs": [],
      "source": [
        "# xử lý ngoại lệ cho phân bố lệch\n",
        "def outliers_for_skewed_distribution(df, col):\n",
        "    res = df.copy()\n",
        "    q3 , q1 = np.percentile(res[col], [75,25])\n",
        "    IQR = q3 - q1\n",
        "    upper_boundary = q3 + 1.5 * IQR\n",
        "    lower_boundary = q1 - 1.5 * IQR\n",
        "    res[col][res[col] >= upper_boundary] = upper_boundary\n",
        "    res[col][res[col] <= lower_boundary] = lower_boundary\n",
        "    return res"
      ]
    },
    {
      "cell_type": "code",
      "execution_count": 726,
      "metadata": {
        "id": "nrbpFLXSHvNk"
      },
      "outputs": [],
      "source": [
        "# xử lý ngoại lệ cho phân bố chuẩn\n",
        "def outliers_for_normal_distribution(df, col):\n",
        "  res = df.copy()\n",
        "  q3 , q1 = np.percentile(res[col], [75,25])\n",
        "  IQR = q3 - q1\n",
        "  mean = res[col].mean()\n",
        "  upper_boundary = mean + 1.5 * IQR\n",
        "  lower_boundary = mean - 1.5 * IQR\n",
        "  res[col][res[col] >= upper_boundary] = upper_boundary\n",
        "  res[col][res[col] <= lower_boundary] = lower_boundary\n",
        "  return res"
      ]
    },
    {
      "cell_type": "code",
      "execution_count": 727,
      "metadata": {
        "id": "PqwjHPJ8bfdZ"
      },
      "outputs": [],
      "source": [
        "def handle_outlier(df):\n",
        "  res = df.copy()\n",
        "  res = outliers_for_skewed_distribution(res, 'ProductionBudget')\n",
        "  res = outliers_for_normal_distribution(res, 'RunningTime')\n",
        "  res = outliers_for_skewed_distribution(res, 'ReleaseDate')\n",
        "  return res"
      ]
    },
    {
      "cell_type": "code",
      "execution_count": 728,
      "metadata": {
        "id": "0L3ZcYUYhdMW"
      },
      "outputs": [
        {
          "name": "stderr",
          "output_type": "stream",
          "text": [
            "C:\\Users\\ADMIN\\AppData\\Local\\Temp/ipykernel_19840/1594862520.py:8: SettingWithCopyWarning: \n",
            "A value is trying to be set on a copy of a slice from a DataFrame\n",
            "\n",
            "See the caveats in the documentation: https://pandas.pydata.org/pandas-docs/stable/user_guide/indexing.html#returning-a-view-versus-a-copy\n",
            "  res[col][res[col] >= upper_boundary] = upper_boundary\n",
            "C:\\Users\\ADMIN\\AppData\\Local\\Temp/ipykernel_19840/1594862520.py:9: SettingWithCopyWarning: \n",
            "A value is trying to be set on a copy of a slice from a DataFrame\n",
            "\n",
            "See the caveats in the documentation: https://pandas.pydata.org/pandas-docs/stable/user_guide/indexing.html#returning-a-view-versus-a-copy\n",
            "  res[col][res[col] <= lower_boundary] = lower_boundary\n",
            "C:\\Users\\ADMIN\\AppData\\Local\\Temp/ipykernel_19840/3133033384.py:9: SettingWithCopyWarning: \n",
            "A value is trying to be set on a copy of a slice from a DataFrame\n",
            "\n",
            "See the caveats in the documentation: https://pandas.pydata.org/pandas-docs/stable/user_guide/indexing.html#returning-a-view-versus-a-copy\n",
            "  res[col][res[col] >= upper_boundary] = upper_boundary\n",
            "C:\\Users\\ADMIN\\AppData\\Local\\Temp/ipykernel_19840/3133033384.py:10: SettingWithCopyWarning: \n",
            "A value is trying to be set on a copy of a slice from a DataFrame\n",
            "\n",
            "See the caveats in the documentation: https://pandas.pydata.org/pandas-docs/stable/user_guide/indexing.html#returning-a-view-versus-a-copy\n",
            "  res[col][res[col] <= lower_boundary] = lower_boundary\n",
            "C:\\Users\\ADMIN\\AppData\\Local\\Temp/ipykernel_19840/1594862520.py:8: SettingWithCopyWarning: \n",
            "A value is trying to be set on a copy of a slice from a DataFrame\n",
            "\n",
            "See the caveats in the documentation: https://pandas.pydata.org/pandas-docs/stable/user_guide/indexing.html#returning-a-view-versus-a-copy\n",
            "  res[col][res[col] >= upper_boundary] = upper_boundary\n",
            "C:\\Users\\ADMIN\\AppData\\Local\\Temp/ipykernel_19840/1594862520.py:9: SettingWithCopyWarning: \n",
            "A value is trying to be set on a copy of a slice from a DataFrame\n",
            "\n",
            "See the caveats in the documentation: https://pandas.pydata.org/pandas-docs/stable/user_guide/indexing.html#returning-a-view-versus-a-copy\n",
            "  res[col][res[col] <= lower_boundary] = lower_boundary\n"
          ]
        }
      ],
      "source": [
        "df_train = handle_outlier(df_train)"
      ]
    },
    {
      "cell_type": "code",
      "execution_count": 729,
      "metadata": {
        "id": "QsPBUbClquMP"
      },
      "outputs": [
        {
          "data": {
            "text/plain": [
              "<AxesSubplot:xlabel='ReleaseDate'>"
            ]
          },
          "execution_count": 729,
          "metadata": {},
          "output_type": "execute_result"
        },
        {
          "data": {
            "image/png": "[encoded data removed]",
            "text/plain": [
              "<Figure size 864x360 with 2 Axes>"
            ]
          },
          "metadata": {},
          "output_type": "display_data"
        }
      ],
      "source": [
        "fig, axes = plt.subplots(nrows=1, ncols=2, figsize=(12, 5))\n",
        "sns.histplot(df_train['ReleaseDate'], bins=50, ax=axes[0])\n",
        "sns.boxplot(data=df_train, x='ReleaseDate', ax=axes[1])"
      ]
    },
    {
      "cell_type": "code",
      "execution_count": 730,
      "metadata": {
        "id": "cWtO5Mr0qvl_"
      },
      "outputs": [
        {
          "data": {
            "text/plain": [
              "<AxesSubplot:xlabel='ProductionBudget'>"
            ]
          },
          "execution_count": 730,
          "metadata": {},
          "output_type": "execute_result"
        },
        {
          "data": {
            "image/png": "[encoded data removed]",
            "text/plain": [
              "<Figure size 864x360 with 2 Axes>"
            ]
          },
          "metadata": {},
          "output_type": "display_data"
        }
      ],
      "source": [
        "fig, axes = plt.subplots(nrows=1, ncols=2, figsize=(12, 5))\n",
        "sns.histplot(df_train['ProductionBudget'], bins=50, ax=axes[0])\n",
        "sns.boxplot(data=df_train, x='ProductionBudget', ax=axes[1])"
      ]
    },
    {
      "cell_type": "code",
      "execution_count": 731,
      "metadata": {
        "id": "30c9OCQMqy5P"
      },
      "outputs": [
        {
          "data": {
            "text/plain": [
              "<AxesSubplot:xlabel='RunningTime'>"
            ]
          },
          "execution_count": 731,
          "metadata": {},
          "output_type": "execute_result"
        },
        {
          "data": {
            "image/png": "[encoded data removed]",
            "text/plain": [
              "<Figure size 864x360 with 2 Axes>"
            ]
          },
          "metadata": {},
          "output_type": "display_data"
        }
      ],
      "source": [
        "fig, axes = plt.subplots(nrows=1, ncols=2, figsize=(12, 5))\n",
        "sns.histplot(df_train['RunningTime'], bins=50, ax=axes[0])\n",
        "sns.boxplot(data=df_train, x='RunningTime', ax=axes[1])"
      ]
    },
    {
      "cell_type": "code",
      "execution_count": 732,
      "metadata": {
        "id": "QeYtA1kYKr8N"
      },
      "outputs": [
        {
          "data": {
            "text/html": [
              "<div>\n",
              "<style scoped>\n",
              "    .dataframe tbody tr th:only-of-type {\n",
              "        vertical-align: middle;\n",
              "    }\n",
              "\n",
              "    .dataframe tbody tr th {\n",
              "        vertical-align: top;\n",
              "    }\n",
              "\n",
              "    .dataframe thead th {\n",
              "        text-align: right;\n",
              "    }\n",
              "</style>\n",
              "<table border=\"1\" class=\"dataframe\">\n",
              "  <thead>\n",
              "    <tr style=\"text-align: right;\">\n",
              "      <th></th>\n",
              "      <th>ReleaseDate</th>\n",
              "      <th>ProductionBudget</th>\n",
              "      <th>WorldwideGross</th>\n",
              "      <th>RunningTime</th>\n",
              "      <th>Source_Fiction Book/Short Story</th>\n",
              "      <th>Source_Original Screenplay</th>\n",
              "      <th>Source_Others</th>\n",
              "      <th>Source_Real Life Events</th>\n",
              "      <th>Genre_Action</th>\n",
              "      <th>Genre_Adventure</th>\n",
              "      <th>...</th>\n",
              "      <th>CreativeType_Contemporary Fiction</th>\n",
              "      <th>CreativeType_Dramatization</th>\n",
              "      <th>CreativeType_Historical Fiction</th>\n",
              "      <th>CreativeType_Others</th>\n",
              "      <th>CreativeType_Science Fiction</th>\n",
              "      <th>ProductionCountries_Others</th>\n",
              "      <th>ProductionCountries_United Kingdom</th>\n",
              "      <th>ProductionCountries_United States</th>\n",
              "      <th>Languages_English</th>\n",
              "      <th>Languages_Others</th>\n",
              "    </tr>\n",
              "  </thead>\n",
              "  <tbody>\n",
              "    <tr>\n",
              "      <th>5307</th>\n",
              "      <td>2007.0</td>\n",
              "      <td>2200000</td>\n",
              "      <td>388390.0</td>\n",
              "      <td>117.000000</td>\n",
              "      <td>1</td>\n",
              "      <td>0</td>\n",
              "      <td>0</td>\n",
              "      <td>0</td>\n",
              "      <td>0</td>\n",
              "      <td>0</td>\n",
              "      <td>...</td>\n",
              "      <td>0</td>\n",
              "      <td>0</td>\n",
              "      <td>1</td>\n",
              "      <td>0</td>\n",
              "      <td>0</td>\n",
              "      <td>0</td>\n",
              "      <td>0</td>\n",
              "      <td>1</td>\n",
              "      <td>1</td>\n",
              "      <td>0</td>\n",
              "    </tr>\n",
              "    <tr>\n",
              "      <th>927</th>\n",
              "      <td>2015.0</td>\n",
              "      <td>62000000</td>\n",
              "      <td>152366784.0</td>\n",
              "      <td>146.853702</td>\n",
              "      <td>0</td>\n",
              "      <td>1</td>\n",
              "      <td>0</td>\n",
              "      <td>0</td>\n",
              "      <td>0</td>\n",
              "      <td>0</td>\n",
              "      <td>...</td>\n",
              "      <td>0</td>\n",
              "      <td>0</td>\n",
              "      <td>1</td>\n",
              "      <td>0</td>\n",
              "      <td>0</td>\n",
              "      <td>0</td>\n",
              "      <td>0</td>\n",
              "      <td>1</td>\n",
              "      <td>1</td>\n",
              "      <td>0</td>\n",
              "    </tr>\n",
              "    <tr>\n",
              "      <th>440</th>\n",
              "      <td>2010.0</td>\n",
              "      <td>96812500</td>\n",
              "      <td>139716717.0</td>\n",
              "      <td>90.000000</td>\n",
              "      <td>1</td>\n",
              "      <td>0</td>\n",
              "      <td>0</td>\n",
              "      <td>0</td>\n",
              "      <td>0</td>\n",
              "      <td>1</td>\n",
              "      <td>...</td>\n",
              "      <td>0</td>\n",
              "      <td>0</td>\n",
              "      <td>0</td>\n",
              "      <td>1</td>\n",
              "      <td>0</td>\n",
              "      <td>1</td>\n",
              "      <td>0</td>\n",
              "      <td>0</td>\n",
              "      <td>1</td>\n",
              "      <td>0</td>\n",
              "    </tr>\n",
              "    <tr>\n",
              "      <th>5901</th>\n",
              "      <td>2014.0</td>\n",
              "      <td>550000</td>\n",
              "      <td>9111.0</td>\n",
              "      <td>115.000000</td>\n",
              "      <td>0</td>\n",
              "      <td>0</td>\n",
              "      <td>0</td>\n",
              "      <td>1</td>\n",
              "      <td>0</td>\n",
              "      <td>0</td>\n",
              "      <td>...</td>\n",
              "      <td>0</td>\n",
              "      <td>0</td>\n",
              "      <td>0</td>\n",
              "      <td>1</td>\n",
              "      <td>0</td>\n",
              "      <td>1</td>\n",
              "      <td>0</td>\n",
              "      <td>0</td>\n",
              "      <td>0</td>\n",
              "      <td>1</td>\n",
              "    </tr>\n",
              "    <tr>\n",
              "      <th>3396</th>\n",
              "      <td>1996.0</td>\n",
              "      <td>15000000</td>\n",
              "      <td>76382.0</td>\n",
              "      <td>93.000000</td>\n",
              "      <td>0</td>\n",
              "      <td>0</td>\n",
              "      <td>1</td>\n",
              "      <td>0</td>\n",
              "      <td>0</td>\n",
              "      <td>0</td>\n",
              "      <td>...</td>\n",
              "      <td>0</td>\n",
              "      <td>0</td>\n",
              "      <td>0</td>\n",
              "      <td>1</td>\n",
              "      <td>0</td>\n",
              "      <td>1</td>\n",
              "      <td>0</td>\n",
              "      <td>0</td>\n",
              "      <td>1</td>\n",
              "      <td>0</td>\n",
              "    </tr>\n",
              "    <tr>\n",
              "      <th>4220</th>\n",
              "      <td>2015.0</td>\n",
              "      <td>8000000</td>\n",
              "      <td>9266180.0</td>\n",
              "      <td>105.000000</td>\n",
              "      <td>1</td>\n",
              "      <td>0</td>\n",
              "      <td>0</td>\n",
              "      <td>0</td>\n",
              "      <td>0</td>\n",
              "      <td>0</td>\n",
              "      <td>...</td>\n",
              "      <td>1</td>\n",
              "      <td>0</td>\n",
              "      <td>0</td>\n",
              "      <td>0</td>\n",
              "      <td>0</td>\n",
              "      <td>0</td>\n",
              "      <td>0</td>\n",
              "      <td>1</td>\n",
              "      <td>1</td>\n",
              "      <td>0</td>\n",
              "    </tr>\n",
              "    <tr>\n",
              "      <th>1794</th>\n",
              "      <td>2012.0</td>\n",
              "      <td>35000000</td>\n",
              "      <td>90221182.0</td>\n",
              "      <td>134.000000</td>\n",
              "      <td>0</td>\n",
              "      <td>0</td>\n",
              "      <td>1</td>\n",
              "      <td>0</td>\n",
              "      <td>0</td>\n",
              "      <td>0</td>\n",
              "      <td>...</td>\n",
              "      <td>1</td>\n",
              "      <td>0</td>\n",
              "      <td>0</td>\n",
              "      <td>0</td>\n",
              "      <td>0</td>\n",
              "      <td>0</td>\n",
              "      <td>0</td>\n",
              "      <td>1</td>\n",
              "      <td>1</td>\n",
              "      <td>0</td>\n",
              "    </tr>\n",
              "    <tr>\n",
              "      <th>1253</th>\n",
              "      <td>1990.0</td>\n",
              "      <td>50000000</td>\n",
              "      <td>41476097.0</td>\n",
              "      <td>106.000000</td>\n",
              "      <td>0</td>\n",
              "      <td>1</td>\n",
              "      <td>0</td>\n",
              "      <td>0</td>\n",
              "      <td>0</td>\n",
              "      <td>0</td>\n",
              "      <td>...</td>\n",
              "      <td>0</td>\n",
              "      <td>0</td>\n",
              "      <td>0</td>\n",
              "      <td>1</td>\n",
              "      <td>0</td>\n",
              "      <td>0</td>\n",
              "      <td>0</td>\n",
              "      <td>1</td>\n",
              "      <td>1</td>\n",
              "      <td>0</td>\n",
              "    </tr>\n",
              "    <tr>\n",
              "      <th>5698</th>\n",
              "      <td>2014.0</td>\n",
              "      <td>1000000</td>\n",
              "      <td>3324070.0</td>\n",
              "      <td>83.000000</td>\n",
              "      <td>0</td>\n",
              "      <td>0</td>\n",
              "      <td>1</td>\n",
              "      <td>0</td>\n",
              "      <td>0</td>\n",
              "      <td>0</td>\n",
              "      <td>...</td>\n",
              "      <td>1</td>\n",
              "      <td>0</td>\n",
              "      <td>0</td>\n",
              "      <td>0</td>\n",
              "      <td>0</td>\n",
              "      <td>0</td>\n",
              "      <td>0</td>\n",
              "      <td>1</td>\n",
              "      <td>1</td>\n",
              "      <td>0</td>\n",
              "    </tr>\n",
              "    <tr>\n",
              "      <th>2145</th>\n",
              "      <td>2004.0</td>\n",
              "      <td>30000000</td>\n",
              "      <td>10419084.0</td>\n",
              "      <td>106.000000</td>\n",
              "      <td>0</td>\n",
              "      <td>1</td>\n",
              "      <td>0</td>\n",
              "      <td>0</td>\n",
              "      <td>0</td>\n",
              "      <td>0</td>\n",
              "      <td>...</td>\n",
              "      <td>1</td>\n",
              "      <td>0</td>\n",
              "      <td>0</td>\n",
              "      <td>0</td>\n",
              "      <td>0</td>\n",
              "      <td>1</td>\n",
              "      <td>0</td>\n",
              "      <td>0</td>\n",
              "      <td>1</td>\n",
              "      <td>0</td>\n",
              "    </tr>\n",
              "  </tbody>\n",
              "</table>\n",
              "<p>10 rows × 27 columns</p>\n",
              "</div>"
            ],
            "text/plain": [
              "      ReleaseDate  ProductionBudget  WorldwideGross  RunningTime  \\\n",
              "5307       2007.0           2200000        388390.0   117.000000   \n",
              "927        2015.0          62000000     152366784.0   146.853702   \n",
              "440        2010.0          96812500     139716717.0    90.000000   \n",
              "5901       2014.0            550000          9111.0   115.000000   \n",
              "3396       1996.0          15000000         76382.0    93.000000   \n",
              "4220       2015.0           8000000       9266180.0   105.000000   \n",
              "1794       2012.0          35000000      90221182.0   134.000000   \n",
              "1253       1990.0          50000000      41476097.0   106.000000   \n",
              "5698       2014.0           1000000       3324070.0    83.000000   \n",
              "2145       2004.0          30000000      10419084.0   106.000000   \n",
              "\n",
              "      Source_Fiction Book/Short Story  Source_Original Screenplay  \\\n",
              "5307                                1                           0   \n",
              "927                                 0                           1   \n",
              "440                                 1                           0   \n",
              "5901                                0                           0   \n",
              "3396                                0                           0   \n",
              "4220                                1                           0   \n",
              "1794                                0                           0   \n",
              "1253                                0                           1   \n",
              "5698                                0                           0   \n",
              "2145                                0                           1   \n",
              "\n",
              "      Source_Others  Source_Real Life Events  Genre_Action  Genre_Adventure  \\\n",
              "5307              0                        0             0                0   \n",
              "927               0                        0             0                0   \n",
              "440               0                        0             0                1   \n",
              "5901              0                        1             0                0   \n",
              "3396              1                        0             0                0   \n",
              "4220              0                        0             0                0   \n",
              "1794              1                        0             0                0   \n",
              "1253              0                        0             0                0   \n",
              "5698              1                        0             0                0   \n",
              "2145              0                        0             0                0   \n",
              "\n",
              "      ...  CreativeType_Contemporary Fiction  CreativeType_Dramatization  \\\n",
              "5307  ...                                  0                           0   \n",
              "927   ...                                  0                           0   \n",
              "440   ...                                  0                           0   \n",
              "5901  ...                                  0                           0   \n",
              "3396  ...                                  0                           0   \n",
              "4220  ...                                  1                           0   \n",
              "1794  ...                                  1                           0   \n",
              "1253  ...                                  0                           0   \n",
              "5698  ...                                  1                           0   \n",
              "2145  ...                                  1                           0   \n",
              "\n",
              "      CreativeType_Historical Fiction  CreativeType_Others  \\\n",
              "5307                                1                    0   \n",
              "927                                 1                    0   \n",
              "440                                 0                    1   \n",
              "5901                                0                    1   \n",
              "3396                                0                    1   \n",
              "4220                                0                    0   \n",
              "1794                                0                    0   \n",
              "1253                                0                    1   \n",
              "5698                                0                    0   \n",
              "2145                                0                    0   \n",
              "\n",
              "      CreativeType_Science Fiction  ProductionCountries_Others  \\\n",
              "5307                             0                           0   \n",
              "927                              0                           0   \n",
              "440                              0                           1   \n",
              "5901                             0                           1   \n",
              "3396                             0                           1   \n",
              "4220                             0                           0   \n",
              "1794                             0                           0   \n",
              "1253                             0                           0   \n",
              "5698                             0                           0   \n",
              "2145                             0                           1   \n",
              "\n",
              "      ProductionCountries_United Kingdom  ProductionCountries_United States  \\\n",
              "5307                                   0                                  1   \n",
              "927                                    0                                  1   \n",
              "440                                    0                                  0   \n",
              "5901                                   0                                  0   \n",
              "3396                                   0                                  0   \n",
              "4220                                   0                                  1   \n",
              "1794                                   0                                  1   \n",
              "1253                                   0                                  1   \n",
              "5698                                   0                                  1   \n",
              "2145                                   0                                  0   \n",
              "\n",
              "      Languages_English  Languages_Others  \n",
              "5307                  1                 0  \n",
              "927                   1                 0  \n",
              "440                   1                 0  \n",
              "5901                  0                 1  \n",
              "3396                  1                 0  \n",
              "4220                  1                 0  \n",
              "1794                  1                 0  \n",
              "1253                  1                 0  \n",
              "5698                  1                 0  \n",
              "2145                  1                 0  \n",
              "\n",
              "[10 rows x 27 columns]"
            ]
          },
          "execution_count": 732,
          "metadata": {},
          "output_type": "execute_result"
        }
      ],
      "source": [
        "df_train.head(10)"
      ]
    },
    {
      "cell_type": "markdown",
      "metadata": {},
      "source": [
        "## Scaler"
      ]
    },
    {
      "cell_type": "code",
      "execution_count": 733,
      "metadata": {},
      "outputs": [],
      "source": [
        "df_train_normal_distri = df_train.copy()\n",
        "for column in ['ReleaseDate', 'ProductionBudget', 'RunningTime', 'WorldwideGross']:\n",
        "  df_train_normal_distri[column] = np.log1p(df_train_normal_distri[column])"
      ]
    },
    {
      "cell_type": "markdown",
      "metadata": {},
      "source": [
        "# Model"
      ]
    },
    {
      "cell_type": "code",
      "execution_count": 734,
      "metadata": {},
      "outputs": [],
      "source": [
        "def mae(y_true, predictions):\n",
        "    y_true, predictions = np.array(y_true), np.array(predictions)\n",
        "    return np.mean(np.abs(y_true - predictions))"
      ]
    },
    {
      "cell_type": "markdown",
      "metadata": {},
      "source": [
        "## Linear regression"
      ]
    },
    {
      "cell_type": "code",
      "execution_count": 735,
      "metadata": {},
      "outputs": [],
      "source": [
        "y_train = df_train_normal_distri['WorldwideGross']\n",
        "X_train = df_train_normal_distri.copy().drop(columns=['WorldwideGross'])"
      ]
    },
    {
      "cell_type": "code",
      "execution_count": 736,
      "metadata": {},
      "outputs": [
        {
          "data": {
            "text/plain": [
              "LinearRegression()"
            ]
          },
          "execution_count": 736,
          "metadata": {},
          "output_type": "execute_result"
        }
      ],
      "source": [
        "lin_reg = LinearRegression()\n",
        "lin_reg.fit(X_train, y_train)"
      ]
    },
    {
      "cell_type": "code",
      "execution_count": 737,
      "metadata": {},
      "outputs": [],
      "source": [
        "df_test_normal_distri = df_test.copy()\n",
        "for column in ['ReleaseDate', 'ProductionBudget', 'RunningTime', 'WorldwideGross']:\n",
        "  df_test_normal_distri[column] = np.log1p(df_test_normal_distri[column])"
      ]
    },
    {
      "cell_type": "code",
      "execution_count": 738,
      "metadata": {},
      "outputs": [],
      "source": [
        "y_test = df_test_normal_distri['WorldwideGross']\n",
        "X_test = df_test_normal_distri.copy().drop(columns=['WorldwideGross'])"
      ]
    },
    {
      "cell_type": "code",
      "execution_count": 739,
      "metadata": {},
      "outputs": [
        {
          "data": {
            "text/plain": [
              "0.5622757781346088"
            ]
          },
          "execution_count": 739,
          "metadata": {},
          "output_type": "execute_result"
        }
      ],
      "source": [
        "lin_reg.score(X_test, y_test)"
      ]
    },
    {
      "cell_type": "code",
      "execution_count": 740,
      "metadata": {},
      "outputs": [
        {
          "name": "stdout",
          "output_type": "stream",
          "text": [
            "Model Linear Regression: \n",
            "MAE : 1.1211078198978397\n",
            "MSE : 2.360051124826861\n",
            "R2  : 0.5622757781346088\n"
          ]
        }
      ],
      "source": [
        "MAE_score_LN = MAE(y_test, lin_reg.predict(X_test))\n",
        "MSE_score_LN = MSE(y_test, lin_reg.predict(X_test))\n",
        "R2_score_LN = R2(y_test, lin_reg.predict(X_test))\n",
        "print('Model Linear Regression: ')\n",
        "print('MAE :', MAE_score_LN)\n",
        "print('MSE :', MSE_score_LN)\n",
        "print('R2  :', R2_score_LN)"
      ]
    },
    {
      "cell_type": "markdown",
      "metadata": {},
      "source": [
        "## SVR"
      ]
    },
    {
      "cell_type": "code",
      "execution_count": 741,
      "metadata": {},
      "outputs": [
        {
          "data": {
            "text/plain": [
              "SVR()"
            ]
          },
          "execution_count": 741,
          "metadata": {},
          "output_type": "execute_result"
        }
      ],
      "source": [
        "regressor = SVR(kernel='rbf')\n",
        "regressor.fit(X_train, y_train)"
      ]
    },
    {
      "cell_type": "code",
      "execution_count": 742,
      "metadata": {},
      "outputs": [
        {
          "data": {
            "text/plain": [
              "0.5535008929548648"
            ]
          },
          "execution_count": 742,
          "metadata": {},
          "output_type": "execute_result"
        }
      ],
      "source": [
        "regressor.score(X_test, y_test)"
      ]
    },
    {
      "cell_type": "code",
      "execution_count": 743,
      "metadata": {},
      "outputs": [
        {
          "name": "stdout",
          "output_type": "stream",
          "text": [
            "Model SVR: \n",
            "MAE : 1.0952993443048025\n",
            "MSE : 2.407362140768423\n",
            "R2  : 0.5535008929548648\n"
          ]
        }
      ],
      "source": [
        "MAE_score_SVR = MAE(y_test, regressor.predict(X_test))\n",
        "MSE_score_SVR = MSE(y_test, regressor.predict(X_test))\n",
        "R2_score_SVR = R2(y_test, regressor.predict(X_test))\n",
        "print('Model SVR: ')\n",
        "print('MAE :', MAE_score_SVR)\n",
        "print('MSE :', MSE_score_SVR)\n",
        "print('R2  :', R2_score_SVR)"
      ]
    }
  ],
  "metadata": {
    "colab": {
      "collapsed_sections": [
        "rVaG-OOFXohU",
        "m5IginAMT8Ao",
        "QocWFgNQUC_k",
        "11xbzugyB7GM",
        "Pxq_xK2jUTBs",
        "5QNZd1JUUX4k",
        "c_9MxiGEUdl-",
        "9Wpm4zCOUhPw",
        "K_rM738UUlcY",
        "W0E_uKIAUnpT"
      ],
      "name": "main.ipynb",
      "provenance": []
    },
    "kernelspec": {
      "display_name": "Python 3.9.9 64-bit",
      "language": "python",
      "name": "python3"
    },
    "language_info": {
      "codemirror_mode": {
        "name": "ipython",
        "version": 3
      },
      "file_extension": ".py",
      "mimetype": "text/x-python",
      "name": "python",
      "nbconvert_exporter": "python",
      "pygments_lexer": "ipython3",
      "version": "3.9.9"
    },
    "vscode": {
      "interpreter": {
        "hash": "c081257499a92776a7ff5343ee4d85420a7950a6ae97b0cb2aee7a7ddd41b7f2"
      }
    }
  },
  "nbformat": 4,
  "nbformat_minor": 0
}
